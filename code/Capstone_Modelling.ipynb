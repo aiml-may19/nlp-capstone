{
  "nbformat": 4,
  "nbformat_minor": 0,
  "metadata": {
    "colab": {
      "name": "Capstone_Modelling.ipynb",
      "provenance": [],
      "collapsed_sections": [],
      "machine_shape": "hm"
    },
    "kernelspec": {
      "name": "python3",
      "display_name": "Python 3"
    }
  },
  "cells": [
    {
      "cell_type": "code",
      "metadata": {
        "id": "vCFfYLD4i1oD",
        "colab_type": "code",
        "colab": {}
      },
      "source": [
        "#!!pip uninstall tensorflow\n",
        "#!pip install tensorflow==2.1.0"
      ],
      "execution_count": 0,
      "outputs": []
    },
    {
      "cell_type": "code",
      "metadata": {
        "id": "rd5sjw4GVJnR",
        "colab_type": "code",
        "outputId": "3ce0a4ec-7da0-4f48-b9cf-58c108e6fc76",
        "colab": {
          "base_uri": "https://localhost:8080/",
          "height": 122
        }
      },
      "source": [
        "from google.colab import drive\n",
        "drive.mount('/content/drive/')"
      ],
      "execution_count": 2,
      "outputs": [
        {
          "output_type": "stream",
          "text": [
            "Go to this URL in a browser: https://accounts.google.com/o/oauth2/auth?client_id=947318989803-6bn6qk8qdgf4n4g3pfee6491hc0brc4i.apps.googleusercontent.com&redirect_uri=urn%3aietf%3awg%3aoauth%3a2.0%3aoob&response_type=code&scope=email%20https%3a%2f%2fwww.googleapis.com%2fauth%2fdocs.test%20https%3a%2f%2fwww.googleapis.com%2fauth%2fdrive%20https%3a%2f%2fwww.googleapis.com%2fauth%2fdrive.photos.readonly%20https%3a%2f%2fwww.googleapis.com%2fauth%2fpeopleapi.readonly\n",
            "\n",
            "Enter your authorization code:\n",
            "··········\n",
            "Mounted at /content/drive/\n"
          ],
          "name": "stdout"
        }
      ]
    },
    {
      "cell_type": "code",
      "metadata": {
        "id": "UwJALxC5VUxq",
        "colab_type": "code",
        "colab": {}
      },
      "source": [
        "PROJECT_DIR = \"/content/drive/My Drive/MachineLearning/Capstone/\"\n",
        "DATA_FILE_NAME = 'Data/Input Data Synthetic.xlsx'\n",
        "CLEANSED_FILE_DIR = 'Data/processed/'"
      ],
      "execution_count": 0,
      "outputs": []
    },
    {
      "cell_type": "code",
      "metadata": {
        "id": "NdN0mEzuVgR4",
        "colab_type": "code",
        "colab": {
          "base_uri": "https://localhost:8080/",
          "height": 71
        },
        "outputId": "97922dc8-23d7-4a4c-adfb-6b52f4371cc6"
      },
      "source": [
        "#import basic libraies\n",
        "import pandas as pd\n",
        "import numpy as np\n",
        "import matplotlib.pyplot as plt\n",
        "import seaborn as sns\n",
        "import string\n",
        "from sklearn.preprocessing import LabelEncoder\n",
        "from sklearn.model_selection import train_test_split\n",
        "from sklearn.feature_extraction.text import CountVectorizer,TfidfVectorizer\n",
        "\n",
        "import warnings\n",
        "warnings.filterwarnings('ignore')"
      ],
      "execution_count": 4,
      "outputs": [
        {
          "output_type": "stream",
          "text": [
            "/usr/local/lib/python3.6/dist-packages/statsmodels/tools/_testing.py:19: FutureWarning: pandas.util.testing is deprecated. Use the functions in the public API at pandas.testing instead.\n",
            "  import pandas.util.testing as tm\n"
          ],
          "name": "stderr"
        }
      ]
    },
    {
      "cell_type": "code",
      "metadata": {
        "id": "AlyS7sYfVkag",
        "colab_type": "code",
        "colab": {
          "base_uri": "https://localhost:8080/",
          "height": 34
        },
        "outputId": "26b720bf-f3e2-478c-ca76-81b205f8b0ca"
      },
      "source": [
        "import keras\n",
        "from tensorflow.keras import backend as K\n",
        "from tensorflow.keras.preprocessing.text import Tokenizer\n",
        "from tensorflow.keras.preprocessing.sequence import pad_sequences\n",
        "from tensorflow.keras.layers import Dense, LSTM, Embedding, Dropout, Activation, Bidirectional, Flatten, BatchNormalization\n",
        "from tensorflow.keras.models import Model, Sequential"
      ],
      "execution_count": 5,
      "outputs": [
        {
          "output_type": "stream",
          "text": [
            "Using TensorFlow backend.\n"
          ],
          "name": "stderr"
        }
      ]
    },
    {
      "cell_type": "code",
      "metadata": {
        "id": "Pel-5HyFV6AL",
        "colab_type": "code",
        "colab": {}
      },
      "source": [
        "def load_doc(filename):\n",
        "  if(filename.endswith('.xlsx')):\n",
        "    data_df = pd.read_excel(filename, lines=True)\n",
        "  elif(filename.endswith('.csv')):\n",
        "    data_df = pd.read_csv(filename, keep_default_na = False)\n",
        "  return data_df"
      ],
      "execution_count": 0,
      "outputs": []
    },
    {
      "cell_type": "code",
      "metadata": {
        "id": "DfpAjSjDcB6n",
        "colab_type": "code",
        "colab": {}
      },
      "source": [
        "def encode_target(target):\n",
        "  le = LabelEncoder()\n",
        "  return le.fit_transform(target), le\n",
        "\n",
        "def decode_prediction(pred, encoder):\n",
        "  return encoder.inverse_transform(pred) "
      ],
      "execution_count": 0,
      "outputs": []
    },
    {
      "cell_type": "code",
      "metadata": {
        "id": "xynMp03sVlv6",
        "colab_type": "code",
        "outputId": "9a0c1643-a950-4e69-bc60-fbbcac102931",
        "colab": {
          "base_uri": "https://localhost:8080/",
          "height": 34
        }
      },
      "source": [
        "cleansed_data_df = load_doc(PROJECT_DIR+CLEANSED_FILE_DIR+'cleansed_data.csv')\n",
        "print('shape of Data : ', cleansed_data_df.shape)"
      ],
      "execution_count": 8,
      "outputs": [
        {
          "output_type": "stream",
          "text": [
            "shape of Data :  (5419, 5)\n"
          ],
          "name": "stdout"
        }
      ]
    },
    {
      "cell_type": "code",
      "metadata": {
        "id": "bjRgMN4Bd9Eq",
        "colab_type": "code",
        "outputId": "8bd6c352-29e7-41dc-9ad8-850195286975",
        "colab": {
          "base_uri": "https://localhost:8080/",
          "height": 173
        }
      },
      "source": [
        "cleansed_data_df.describe()"
      ],
      "execution_count": 9,
      "outputs": [
        {
          "output_type": "execute_result",
          "data": {
            "text/html": [
              "<div>\n",
              "<style scoped>\n",
              "    .dataframe tbody tr th:only-of-type {\n",
              "        vertical-align: middle;\n",
              "    }\n",
              "\n",
              "    .dataframe tbody tr th {\n",
              "        vertical-align: top;\n",
              "    }\n",
              "\n",
              "    .dataframe thead th {\n",
              "        text-align: right;\n",
              "    }\n",
              "</style>\n",
              "<table border=\"1\" class=\"dataframe\">\n",
              "  <thead>\n",
              "    <tr style=\"text-align: right;\">\n",
              "      <th></th>\n",
              "      <th>short_description</th>\n",
              "      <th>description</th>\n",
              "      <th>combined_desc</th>\n",
              "      <th>caller</th>\n",
              "      <th>assignment_group</th>\n",
              "    </tr>\n",
              "  </thead>\n",
              "  <tbody>\n",
              "    <tr>\n",
              "      <th>count</th>\n",
              "      <td>5419</td>\n",
              "      <td>5419</td>\n",
              "      <td>5419</td>\n",
              "      <td>5419</td>\n",
              "      <td>5419</td>\n",
              "    </tr>\n",
              "    <tr>\n",
              "      <th>unique</th>\n",
              "      <td>3976</td>\n",
              "      <td>5419</td>\n",
              "      <td>5419</td>\n",
              "      <td>2351</td>\n",
              "      <td>52</td>\n",
              "    </tr>\n",
              "    <tr>\n",
              "      <th>top</th>\n",
              "      <td></td>\n",
              "      <td>received help frequent slow also checked</td>\n",
              "      <td>not able save not able save saved</td>\n",
              "      <td>rbozivdq gmlhrtvp</td>\n",
              "      <td>GRP_0</td>\n",
              "    </tr>\n",
              "    <tr>\n",
              "      <th>freq</th>\n",
              "      <td>306</td>\n",
              "      <td>1</td>\n",
              "      <td>1</td>\n",
              "      <td>46</td>\n",
              "      <td>2619</td>\n",
              "    </tr>\n",
              "  </tbody>\n",
              "</table>\n",
              "</div>"
            ],
            "text/plain": [
              "       short_description  ... assignment_group\n",
              "count               5419  ...             5419\n",
              "unique              3976  ...               52\n",
              "top                       ...            GRP_0\n",
              "freq                 306  ...             2619\n",
              "\n",
              "[4 rows x 5 columns]"
            ]
          },
          "metadata": {
            "tags": []
          },
          "execution_count": 9
        }
      ]
    },
    {
      "cell_type": "code",
      "metadata": {
        "id": "_YlfOD-S45Fc",
        "colab_type": "code",
        "outputId": "16a34564-e01a-4cd4-9ca1-b205d7f149fb",
        "colab": {
          "base_uri": "https://localhost:8080/",
          "height": 204
        }
      },
      "source": [
        "cleansed_data_df.head()"
      ],
      "execution_count": 10,
      "outputs": [
        {
          "output_type": "execute_result",
          "data": {
            "text/html": [
              "<div>\n",
              "<style scoped>\n",
              "    .dataframe tbody tr th:only-of-type {\n",
              "        vertical-align: middle;\n",
              "    }\n",
              "\n",
              "    .dataframe tbody tr th {\n",
              "        vertical-align: top;\n",
              "    }\n",
              "\n",
              "    .dataframe thead th {\n",
              "        text-align: right;\n",
              "    }\n",
              "</style>\n",
              "<table border=\"1\" class=\"dataframe\">\n",
              "  <thead>\n",
              "    <tr style=\"text-align: right;\">\n",
              "      <th></th>\n",
              "      <th>short_description</th>\n",
              "      <th>description</th>\n",
              "      <th>combined_desc</th>\n",
              "      <th>caller</th>\n",
              "      <th>assignment_group</th>\n",
              "    </tr>\n",
              "  </thead>\n",
              "  <tbody>\n",
              "    <tr>\n",
              "      <th>0</th>\n",
              "      <td>login issue</td>\n",
              "      <td>user manager checked user ad reset password ad...</td>\n",
              "      <td>login issue user manager checked user ad reset...</td>\n",
              "      <td>spxjnwir pjlcoqds</td>\n",
              "      <td>GRP_0</td>\n",
              "    </tr>\n",
              "    <tr>\n",
              "      <th>1</th>\n",
              "      <td>outlook</td>\n",
              "      <td>received team not outlook calendar somebody ad...</td>\n",
              "      <td>outlook received team not outlook calendar som...</td>\n",
              "      <td>hmjdrvpb komuaywn</td>\n",
              "      <td>GRP_0</td>\n",
              "    </tr>\n",
              "    <tr>\n",
              "      <th>2</th>\n",
              "      <td>cant log</td>\n",
              "      <td>received cannot log</td>\n",
              "      <td>cant log received cannot log</td>\n",
              "      <td>eylqgodm ybqkwiam</td>\n",
              "      <td>GRP_0</td>\n",
              "    </tr>\n",
              "    <tr>\n",
              "      <th>3</th>\n",
              "      <td>unable access page</td>\n",
              "      <td>unable access page</td>\n",
              "      <td>unable access page unable access page</td>\n",
              "      <td>xbkucsvz gcpydteq</td>\n",
              "      <td>GRP_0</td>\n",
              "    </tr>\n",
              "    <tr>\n",
              "      <th>4</th>\n",
              "      <td>error</td>\n",
              "      <td>error</td>\n",
              "      <td>error error</td>\n",
              "      <td>owlgqjme qhcozdfx</td>\n",
              "      <td>GRP_0</td>\n",
              "    </tr>\n",
              "  </tbody>\n",
              "</table>\n",
              "</div>"
            ],
            "text/plain": [
              "    short_description  ... assignment_group\n",
              "0         login issue  ...            GRP_0\n",
              "1             outlook  ...            GRP_0\n",
              "2            cant log  ...            GRP_0\n",
              "3  unable access page  ...            GRP_0\n",
              "4               error  ...            GRP_0\n",
              "\n",
              "[5 rows x 5 columns]"
            ]
          },
          "metadata": {
            "tags": []
          },
          "execution_count": 10
        }
      ]
    },
    {
      "cell_type": "code",
      "metadata": {
        "id": "u29Z3KeNZUZx",
        "colab_type": "code",
        "outputId": "a7635cba-1629-4d06-cd69-8bcf259e7c7e",
        "colab": {
          "base_uri": "https://localhost:8080/",
          "height": 918
        }
      },
      "source": [
        "cleansed_data_df['assignment_group'].value_counts()"
      ],
      "execution_count": 11,
      "outputs": [
        {
          "output_type": "execute_result",
          "data": {
            "text/plain": [
              "GRP_0         2619\n",
              "GRP_2          218\n",
              "GRP_12         196\n",
              "GRP_19         195\n",
              "GRP_3          190\n",
              "GRP_8          137\n",
              "GRP_13         136\n",
              "GRP_14         110\n",
              "GRP_25         103\n",
              "GRP_29          93\n",
              "GRP_16          83\n",
              "GRP_18          82\n",
              "GRP_24          81\n",
              "GRP_4           78\n",
              "GRP_10          75\n",
              "GRP_33          71\n",
              "GRP_9           66\n",
              "GRP_7           65\n",
              "GRP_6           58\n",
              "GRP_26          54\n",
              "GRP_COMMON      52\n",
              "GRP_34          50\n",
              "GRP_40          45\n",
              "GRP_28          42\n",
              "GRP_41          39\n",
              "GRP_15          38\n",
              "GRP_20          36\n",
              "GRP_22          31\n",
              "GRP_11          30\n",
              "GRP_31          30\n",
              "GRP_21          28\n",
              "GRP_45          27\n",
              "GRP_42          25\n",
              "GRP_23          24\n",
              "GRP_62          23\n",
              "GRP_5           21\n",
              "GRP_1           17\n",
              "GRP_37          16\n",
              "GRP_27          15\n",
              "GRP_44          13\n",
              "GRP_50          13\n",
              "GRP_47          12\n",
              "GRP_39          11\n",
              "GRP_36          10\n",
              "GRP_65          10\n",
              "GRP_53           9\n",
              "GRP_52           9\n",
              "GRP_55           8\n",
              "GRP_51           7\n",
              "GRP_46           6\n",
              "GRP_30           6\n",
              "GRP_59           6\n",
              "Name: assignment_group, dtype: int64"
            ]
          },
          "metadata": {
            "tags": []
          },
          "execution_count": 11
        }
      ]
    },
    {
      "cell_type": "code",
      "metadata": {
        "id": "-EbgDRKWjZXe",
        "colab_type": "code",
        "outputId": "491c5d06-25f6-4864-bf57-c7cee8eb01cf",
        "colab": {
          "base_uri": "https://localhost:8080/",
          "height": 71
        }
      },
      "source": [
        "cleansed_data_df['description_length'] = cleansed_data_df['description'].str.len()\n",
        "desc_max_length = cleansed_data_df['description_length'].max()\n",
        "maxlen_desc_idx = cleansed_data_df['description_length'].idxmax()\n",
        "print('Desc with max length ({}) at index {}:\\n{}'.format(desc_max_length,maxlen_desc_idx,cleansed_data_df['description'].loc[maxlen_desc_idx]))"
      ],
      "execution_count": 12,
      "outputs": [
        {
          "output_type": "stream",
          "text": [
            "Desc with max length (2900) at index 2662:\n",
            "source system user location unknown status field user no event log incident overview seeing device generating server response sinkhole set probable infected asset traffic not blocked port port device host likely infected return traffic likely visit domain give false information order prevent use domain address resolution sinkhole traffic possible indicator infected computer reaching controller taken law enforcement research organization part mitigation effort traffic sinkhole activity administrator may curious particular domain browse signature repeated sinkhole however clear indication infection incident via high priority ticket per default would like us handle differently future see handling let us know either corresponding us via ticket ticket back soc calling us ticket sinkhole domain explicit notification via medium priority ticket no phone call sinkhole domain directly portal no explicit notification available portal sincerely soc technical domain system hierarchical naming system resource connected private network primary purpose various information domain assigned primarily used domain purpose service network domain system responsibility domain authoritative domain authoritative assigned responsible may delegate authority domain system also technical functionality service protocol detailed specification data data communication used part protocol suite give incorrect information order prevent use domain address resolution client resolve address hole domain sinkhole address address except real address client connection target host method easily found sinkhole another method used command control taken law enforcement part mitigation effort traffic sinkhole activity administrator may curious particular domain browse signature repeated sinkhole clear indication infection sort may seem somewhat benign certainly include information leakage extent although sinkhole unlikely use personally identifiable information may capture communication may become public knowledge company infected may lead damage additionally feeding may impede access certain like sending finally may connect multiple controller even though may may not leading possibility remote code execution information leakage malicious event data related event id event summary server response sinkhole set probable infected asset occurrence count event count host connection information source source port source destination destination destination port destination mac address connection incoming protocol status code device information device device log time action not blocked vendor score vendor priority vendor version event information sherlock rule id inspector event id ontology id event type id agent id event detail server response sinkhole set probable infected asset classification none priority action accept impact blocked label sensor id id win via relay renew ascii ascii ascii hex hex hex\n"
          ],
          "name": "stdout"
        }
      ]
    },
    {
      "cell_type": "markdown",
      "metadata": {
        "id": "aHkycW10Y6Vk",
        "colab_type": "text"
      },
      "source": [
        "**Train & Test Data:**"
      ]
    },
    {
      "cell_type": "code",
      "metadata": {
        "id": "1kA4Zjw7ax8t",
        "colab_type": "code",
        "colab": {}
      },
      "source": [
        "X = cleansed_data_df['description']\n",
        "y = cleansed_data_df.assignment_group\n",
        "y, le = encode_target(y)"
      ],
      "execution_count": 0,
      "outputs": []
    },
    {
      "cell_type": "code",
      "metadata": {
        "id": "5YN3cAm-Y5ph",
        "colab_type": "code",
        "colab": {}
      },
      "source": [
        "X_train, X_test, y_train, y_test = train_test_split(X,y, test_size = 0.1, stratify=y, random_state = 10)"
      ],
      "execution_count": 0,
      "outputs": []
    },
    {
      "cell_type": "code",
      "metadata": {
        "id": "lKtmXnwv84NI",
        "colab_type": "code",
        "outputId": "90cb3cac-e36e-4175-c869-ed6e37719053",
        "colab": {
          "base_uri": "https://localhost:8080/",
          "height": 119
        }
      },
      "source": [
        "X_train.head()"
      ],
      "execution_count": 15,
      "outputs": [
        {
          "output_type": "execute_result",
          "data": {
            "text/plain": [
              "5233                                   patch installation\n",
              "258     type outage network power specify type outage ...\n",
              "4807                              access engineering tool\n",
              "4817               received tried showing error fix issue\n",
              "4692                                        showing since\n",
              "Name: description, dtype: object"
            ]
          },
          "metadata": {
            "tags": []
          },
          "execution_count": 15
        }
      ]
    },
    {
      "cell_type": "code",
      "metadata": {
        "id": "0M-4t5Pb6PyZ",
        "colab_type": "code",
        "outputId": "2b894718-baea-4463-dabb-480d75512155",
        "colab": {
          "base_uri": "https://localhost:8080/",
          "height": 85
        }
      },
      "source": [
        "print('Shape of X_train : ',X_train.shape)\n",
        "print('Shape of X_test : ',X_test.shape)\n",
        "print('Shape of y_train : ',y_train.shape)\n",
        "print('Shape of y_test : ',y_test.shape)"
      ],
      "execution_count": 16,
      "outputs": [
        {
          "output_type": "stream",
          "text": [
            "Shape of X_train :  (4877,)\n",
            "Shape of X_test :  (542,)\n",
            "Shape of y_train :  (4877,)\n",
            "Shape of y_test :  (542,)\n"
          ],
          "name": "stdout"
        }
      ]
    },
    {
      "cell_type": "code",
      "metadata": {
        "id": "U018Gc6WULbN",
        "colab_type": "code",
        "colab": {}
      },
      "source": [
        "#pd.DataFrame(data = y_test.assignment_group.value_counts())"
      ],
      "execution_count": 0,
      "outputs": []
    },
    {
      "cell_type": "markdown",
      "metadata": {
        "id": "QKbcHMgfFCra",
        "colab_type": "text"
      },
      "source": [
        "**TF-IDF Vectors as features :**"
      ]
    },
    {
      "cell_type": "code",
      "metadata": {
        "id": "HSshwFnAaSJs",
        "colab_type": "code",
        "colab": {}
      },
      "source": [
        "unigram_vocab = load_doc(PROJECT_DIR+CLEANSED_FILE_DIR+'tfidf_based_unigram_tokens.csv')\n",
        "bigram_vocab = load_doc(PROJECT_DIR+CLEANSED_FILE_DIR+'tfidf_based_bigram_tokens.csv')\n",
        "trigram_vocab = load_doc(PROJECT_DIR+CLEANSED_FILE_DIR+'tfidf_based_trigram_tokens.csv')"
      ],
      "execution_count": 0,
      "outputs": []
    },
    {
      "cell_type": "code",
      "metadata": {
        "id": "Jt4hFQZZaXgU",
        "colab_type": "code",
        "outputId": "507ebff6-8435-4556-8681-d179e8df3d0f",
        "colab": {
          "base_uri": "https://localhost:8080/",
          "height": 68
        }
      },
      "source": [
        "print('unigram vocab : ', unigram_vocab.shape)\n",
        "print('bigram vocab : ', bigram_vocab.shape)\n",
        "print('trigram vocab : ', trigram_vocab.shape)"
      ],
      "execution_count": 19,
      "outputs": [
        {
          "output_type": "stream",
          "text": [
            "unigram vocab :  (2659, 2)\n",
            "bigram vocab :  (26692, 2)\n",
            "trigram vocab :  (36155, 2)\n"
          ],
          "name": "stdout"
        }
      ]
    },
    {
      "cell_type": "code",
      "metadata": {
        "id": "16yzB2h_acvC",
        "colab_type": "code",
        "colab": {}
      },
      "source": [
        "unigram_bigram_vocab = unigram_vocab.append(bigram_vocab)\n",
        "unigram_bigram_trigram_vocab = unigram_bigram_vocab.append(trigram_vocab)"
      ],
      "execution_count": 0,
      "outputs": []
    },
    {
      "cell_type": "code",
      "metadata": {
        "id": "rRKocK9OaoV_",
        "colab_type": "code",
        "outputId": "c77e60b1-79db-4913-bc37-8467de56d45e",
        "colab": {
          "base_uri": "https://localhost:8080/",
          "height": 68
        }
      },
      "source": [
        "print('unigram vocab : ', unigram_vocab.shape)\n",
        "print('unigram + bigram vocab : ', unigram_bigram_vocab.shape)\n",
        "print('unigram + bigram + trigram vocab : ', unigram_bigram_trigram_vocab.shape)"
      ],
      "execution_count": 21,
      "outputs": [
        {
          "output_type": "stream",
          "text": [
            "unigram vocab :  (2659, 2)\n",
            "unigram + bigram vocab :  (29351, 2)\n",
            "unigram + bigram + trigram vocab :  (65506, 2)\n"
          ],
          "name": "stdout"
        }
      ]
    },
    {
      "cell_type": "code",
      "metadata": {
        "id": "XoKlK-FFat2b",
        "colab_type": "code",
        "colab": {}
      },
      "source": [
        "unigram_max_features = 5000\n",
        "bigram_max_features = 20000\n",
        "trigram_max_features = 40000\n",
        "\n",
        "maxlen = cleansed_data_df['description_length'].max()\n",
        "embedding_size = 200"
      ],
      "execution_count": 0,
      "outputs": []
    },
    {
      "cell_type": "code",
      "metadata": {
        "id": "Xj25EBrB6Tmh",
        "colab_type": "code",
        "outputId": "e68ca13c-c0a2-4024-9eb2-fd8377e29929",
        "colab": {
          "base_uri": "https://localhost:8080/",
          "height": 68
        }
      },
      "source": [
        "unigram_tokenizer = TfidfVectorizer(ngram_range=(1,1), max_features = unigram_max_features, vocabulary=unigram_vocab['words']).fit(X)\n",
        "X_train_unigram_seq = unigram_tokenizer.transform(X_train)\n",
        "X_test_unigram_seq = unigram_tokenizer.transform(X_test)\n",
        "print('Vocabulary size of unigram :', len(unigram_tokenizer.vocabulary_))\n",
        "\n",
        "bigram_tokenizer = TfidfVectorizer(ngram_range=(1,2), max_features = bigram_max_features, vocabulary=unigram_bigram_vocab['words']).fit(X)\n",
        "X_train_bigram_seq = bigram_tokenizer.transform(X_train)\n",
        "X_test_bigram_seq = bigram_tokenizer.transform(X_test)\n",
        "print('Vocabulary size of bigram :', len(bigram_tokenizer.vocabulary_))\n",
        "\n",
        "trigram_tokenizer = TfidfVectorizer(ngram_range=(1,3), max_features = trigram_max_features, vocabulary=unigram_bigram_trigram_vocab['words']).fit(X)\n",
        "X_train_trigram_seq = trigram_tokenizer.transform(X_train)\n",
        "X_test_trigram_seq = trigram_tokenizer.transform(X_test)\n",
        "print('Vocabulary size of trigram :', len(trigram_tokenizer.vocabulary_))"
      ],
      "execution_count": 23,
      "outputs": [
        {
          "output_type": "stream",
          "text": [
            "Vocabulary size of unigram : 2659\n",
            "Vocabulary size of bigram : 29351\n",
            "Vocabulary size of trigram : 65506\n"
          ],
          "name": "stdout"
        }
      ]
    },
    {
      "cell_type": "code",
      "metadata": {
        "id": "sM8N-PFx6r4d",
        "colab_type": "code",
        "outputId": "ad464628-d8e7-4f53-d994-5890fd551135",
        "colab": {
          "base_uri": "https://localhost:8080/",
          "height": 119
        }
      },
      "source": [
        "print('Shape of X_train_unigram_seq : ',X_train_unigram_seq.shape)\n",
        "print('Shape of X_test_unigram_seq : ',X_test_unigram_seq.shape)\n",
        "print('Shape of X_train_bigram_seq : ',X_train_bigram_seq.shape)\n",
        "print('Shape of X_test_bigram_seq : ',X_test_bigram_seq.shape)\n",
        "print('Shape of X_train_trigram_seq : ',X_train_trigram_seq.shape)\n",
        "print('Shape of X_test_trigram_seq : ',X_test_trigram_seq.shape)"
      ],
      "execution_count": 24,
      "outputs": [
        {
          "output_type": "stream",
          "text": [
            "Shape of X_train_unigram_seq :  (4877, 2659)\n",
            "Shape of X_test_unigram_seq :  (542, 2659)\n",
            "Shape of X_train_bigram_seq :  (4877, 29351)\n",
            "Shape of X_test_bigram_seq :  (542, 29351)\n",
            "Shape of X_train_trigram_seq :  (4877, 65506)\n",
            "Shape of X_test_trigram_seq :  (542, 65506)\n"
          ],
          "name": "stdout"
        }
      ]
    },
    {
      "cell_type": "code",
      "metadata": {
        "id": "IWEPlEwWoUi6",
        "colab_type": "code",
        "colab": {}
      },
      "source": [
        "#X_train_unigram_seq_pad = pad_sequences(X_train_seq, maxlen = 4164)\n",
        "#X_test_unigram_seq_pad = pad_sequences(X_train_seq, maxlen = 4164)"
      ],
      "execution_count": 0,
      "outputs": []
    },
    {
      "cell_type": "markdown",
      "metadata": {
        "id": "Bi18pym11OoS",
        "colab_type": "text"
      },
      "source": [
        "**Model :**"
      ]
    },
    {
      "cell_type": "code",
      "metadata": {
        "id": "8XTkfUy44sh_",
        "colab_type": "code",
        "colab": {}
      },
      "source": [
        "from sklearn import model_selection, preprocessing, linear_model, naive_bayes, metrics, svm, neighbors\n",
        "from sklearn.feature_extraction.text import TfidfVectorizer, CountVectorizer\n",
        "from sklearn import decomposition, ensemble\n",
        "\n",
        "import xgboost, numpy, textblob, string\n",
        "from keras.preprocessing import text, sequence\n",
        "from keras import layers, models, optimizers, regularizers\n",
        "from keras.callbacks import EarlyStopping, ReduceLROnPlateau"
      ],
      "execution_count": 0,
      "outputs": []
    },
    {
      "cell_type": "code",
      "metadata": {
        "id": "W-icf9oU1NzI",
        "colab_type": "code",
        "colab": {}
      },
      "source": [
        "def train_model(model, feature_train, target_train, feature_validate, target_validate, is_neural_net=False):\n",
        "    # fit the training dataset on the classifier\n",
        "    model.fit(feature_train, target_train)\n",
        "    # predict the labels on validation dataset\n",
        "    predictions = model.predict(feature_validate)\n",
        "    if is_neural_net:\n",
        "        predictions = predictions.argmax(axis=-1)\n",
        "    return (metrics.accuracy_score(predictions, target_validate)*100).round(3)"
      ],
      "execution_count": 0,
      "outputs": []
    },
    {
      "cell_type": "code",
      "metadata": {
        "id": "JjtIcfzxH_9T",
        "colab_type": "code",
        "colab": {}
      },
      "source": [
        "accuracy_result = 'Train Acc : {}\\nTest Acc : {}'"
      ],
      "execution_count": 0,
      "outputs": []
    },
    {
      "cell_type": "code",
      "metadata": {
        "id": "G66hnW4cLoMH",
        "colab_type": "code",
        "colab": {}
      },
      "source": [
        "accuracy_df = pd.DataFrame(columns = ['Model' , 'unigram-tfidf Accuracy', 'bigram-tfidf Accuracy' , 'trigram-tfidf Accuracy']) "
      ],
      "execution_count": 0,
      "outputs": []
    },
    {
      "cell_type": "code",
      "metadata": {
        "id": "w0VlXpCDMZHd",
        "colab_type": "code",
        "outputId": "8b5ff1d4-182d-43d4-a08a-dbf81f1284a4",
        "colab": {
          "base_uri": "https://localhost:8080/",
          "height": 34
        }
      },
      "source": [
        "accuracy_df.shape"
      ],
      "execution_count": 30,
      "outputs": [
        {
          "output_type": "execute_result",
          "data": {
            "text/plain": [
              "(0, 4)"
            ]
          },
          "metadata": {
            "tags": []
          },
          "execution_count": 30
        }
      ]
    },
    {
      "cell_type": "markdown",
      "metadata": {
        "id": "u_5-l0CT3TN5",
        "colab_type": "text"
      },
      "source": [
        "**Naive Bayes :**"
      ]
    },
    {
      "cell_type": "code",
      "metadata": {
        "id": "Doj6A1IZ3Sev",
        "colab_type": "code",
        "outputId": "37afa1b5-7f08-467d-cd57-5f3556d478ff",
        "colab": {
          "base_uri": "https://localhost:8080/",
          "height": 80
        }
      },
      "source": [
        "# Naive Bayes on tfidf Vectors\n",
        "accuracy1 = train_model(naive_bayes.MultinomialNB(), X_train_unigram_seq, y_train, X_test_unigram_seq, y_test)\n",
        "accuracy2 = train_model(naive_bayes.MultinomialNB(), X_train_bigram_seq,  y_train, X_test_bigram_seq,  y_test)\n",
        "accuracy3 = train_model(naive_bayes.MultinomialNB(), X_train_trigram_seq, y_train, X_test_trigram_seq, y_test)\n",
        "\n",
        "accuracy_df = accuracy_df.append(pd.Series(['Naive Bayes', accuracy1,accuracy2,accuracy3],index=accuracy_df.columns), ignore_index=True)\n",
        "accuracy_df"
      ],
      "execution_count": 31,
      "outputs": [
        {
          "output_type": "execute_result",
          "data": {
            "text/html": [
              "<div>\n",
              "<style scoped>\n",
              "    .dataframe tbody tr th:only-of-type {\n",
              "        vertical-align: middle;\n",
              "    }\n",
              "\n",
              "    .dataframe tbody tr th {\n",
              "        vertical-align: top;\n",
              "    }\n",
              "\n",
              "    .dataframe thead th {\n",
              "        text-align: right;\n",
              "    }\n",
              "</style>\n",
              "<table border=\"1\" class=\"dataframe\">\n",
              "  <thead>\n",
              "    <tr style=\"text-align: right;\">\n",
              "      <th></th>\n",
              "      <th>Model</th>\n",
              "      <th>unigram-tfidf Accuracy</th>\n",
              "      <th>bigram-tfidf Accuracy</th>\n",
              "      <th>trigram-tfidf Accuracy</th>\n",
              "    </tr>\n",
              "  </thead>\n",
              "  <tbody>\n",
              "    <tr>\n",
              "      <th>0</th>\n",
              "      <td>Naive Bayes</td>\n",
              "      <td>51.292</td>\n",
              "      <td>50.0</td>\n",
              "      <td>49.815</td>\n",
              "    </tr>\n",
              "  </tbody>\n",
              "</table>\n",
              "</div>"
            ],
            "text/plain": [
              "         Model  ...  trigram-tfidf Accuracy\n",
              "0  Naive Bayes  ...                  49.815\n",
              "\n",
              "[1 rows x 4 columns]"
            ]
          },
          "metadata": {
            "tags": []
          },
          "execution_count": 31
        }
      ]
    },
    {
      "cell_type": "markdown",
      "metadata": {
        "id": "qH139k2yGTUp",
        "colab_type": "text"
      },
      "source": [
        "**Linear Classifier :**"
      ]
    },
    {
      "cell_type": "code",
      "metadata": {
        "id": "Mvb1mua91N_9",
        "colab_type": "code",
        "outputId": "ddc233c8-cc11-44ca-d6c6-4e3d041e357d",
        "colab": {
          "base_uri": "https://localhost:8080/",
          "height": 111
        }
      },
      "source": [
        "# Logistic Regression on tfidf Vectors\n",
        "accuracy1 = train_model(linear_model.LogisticRegression(), X_train_unigram_seq, y_train, X_test_unigram_seq, y_test)\n",
        "accuracy2 = train_model(linear_model.LogisticRegression(), X_train_bigram_seq,  y_train, X_test_bigram_seq,  y_test)\n",
        "accuracy3 = train_model(linear_model.LogisticRegression(), X_train_trigram_seq, y_train, X_test_trigram_seq, y_test)\n",
        "\n",
        "accuracy_df = accuracy_df.append(pd.Series(['Linear-Logistic Regression', accuracy1,accuracy2,accuracy3],index=accuracy_df.columns), ignore_index=True)\n",
        "accuracy_df"
      ],
      "execution_count": 32,
      "outputs": [
        {
          "output_type": "execute_result",
          "data": {
            "text/html": [
              "<div>\n",
              "<style scoped>\n",
              "    .dataframe tbody tr th:only-of-type {\n",
              "        vertical-align: middle;\n",
              "    }\n",
              "\n",
              "    .dataframe tbody tr th {\n",
              "        vertical-align: top;\n",
              "    }\n",
              "\n",
              "    .dataframe thead th {\n",
              "        text-align: right;\n",
              "    }\n",
              "</style>\n",
              "<table border=\"1\" class=\"dataframe\">\n",
              "  <thead>\n",
              "    <tr style=\"text-align: right;\">\n",
              "      <th></th>\n",
              "      <th>Model</th>\n",
              "      <th>unigram-tfidf Accuracy</th>\n",
              "      <th>bigram-tfidf Accuracy</th>\n",
              "      <th>trigram-tfidf Accuracy</th>\n",
              "    </tr>\n",
              "  </thead>\n",
              "  <tbody>\n",
              "    <tr>\n",
              "      <th>0</th>\n",
              "      <td>Naive Bayes</td>\n",
              "      <td>51.292</td>\n",
              "      <td>50.000</td>\n",
              "      <td>49.815</td>\n",
              "    </tr>\n",
              "    <tr>\n",
              "      <th>1</th>\n",
              "      <td>Linear-Logistic Regression</td>\n",
              "      <td>53.506</td>\n",
              "      <td>51.292</td>\n",
              "      <td>51.107</td>\n",
              "    </tr>\n",
              "  </tbody>\n",
              "</table>\n",
              "</div>"
            ],
            "text/plain": [
              "                        Model  ...  trigram-tfidf Accuracy\n",
              "0                 Naive Bayes  ...                  49.815\n",
              "1  Linear-Logistic Regression  ...                  51.107\n",
              "\n",
              "[2 rows x 4 columns]"
            ]
          },
          "metadata": {
            "tags": []
          },
          "execution_count": 32
        }
      ]
    },
    {
      "cell_type": "markdown",
      "metadata": {
        "id": "84MpqUdaGlWw",
        "colab_type": "text"
      },
      "source": [
        "**Support Vector Machines :**"
      ]
    },
    {
      "cell_type": "code",
      "metadata": {
        "id": "MiMzmeH0Glrq",
        "colab_type": "code",
        "outputId": "644ebe78-3c3b-49a4-ab07-943c75c49eef",
        "colab": {
          "base_uri": "https://localhost:8080/",
          "height": 142
        }
      },
      "source": [
        "# SVM on tfidf Vectors\n",
        "accuracy1 = train_model(svm.SVC(), X_train_unigram_seq, y_train, X_test_unigram_seq, y_test)\n",
        "accuracy2 = train_model(svm.SVC(), X_train_bigram_seq,  y_train, X_test_bigram_seq,  y_test)\n",
        "accuracy3 = train_model(svm.SVC(), X_train_trigram_seq, y_train, X_test_trigram_seq, y_test)\n",
        "\n",
        "accuracy_df = accuracy_df.append(pd.Series(['SVM Classifier', accuracy1,accuracy2,accuracy3],index=accuracy_df.columns), ignore_index=True)\n",
        "accuracy_df"
      ],
      "execution_count": 33,
      "outputs": [
        {
          "output_type": "execute_result",
          "data": {
            "text/html": [
              "<div>\n",
              "<style scoped>\n",
              "    .dataframe tbody tr th:only-of-type {\n",
              "        vertical-align: middle;\n",
              "    }\n",
              "\n",
              "    .dataframe tbody tr th {\n",
              "        vertical-align: top;\n",
              "    }\n",
              "\n",
              "    .dataframe thead th {\n",
              "        text-align: right;\n",
              "    }\n",
              "</style>\n",
              "<table border=\"1\" class=\"dataframe\">\n",
              "  <thead>\n",
              "    <tr style=\"text-align: right;\">\n",
              "      <th></th>\n",
              "      <th>Model</th>\n",
              "      <th>unigram-tfidf Accuracy</th>\n",
              "      <th>bigram-tfidf Accuracy</th>\n",
              "      <th>trigram-tfidf Accuracy</th>\n",
              "    </tr>\n",
              "  </thead>\n",
              "  <tbody>\n",
              "    <tr>\n",
              "      <th>0</th>\n",
              "      <td>Naive Bayes</td>\n",
              "      <td>51.292</td>\n",
              "      <td>50.000</td>\n",
              "      <td>49.815</td>\n",
              "    </tr>\n",
              "    <tr>\n",
              "      <th>1</th>\n",
              "      <td>Linear-Logistic Regression</td>\n",
              "      <td>53.506</td>\n",
              "      <td>51.292</td>\n",
              "      <td>51.107</td>\n",
              "    </tr>\n",
              "    <tr>\n",
              "      <th>2</th>\n",
              "      <td>SVM Classifier</td>\n",
              "      <td>52.952</td>\n",
              "      <td>51.292</td>\n",
              "      <td>51.107</td>\n",
              "    </tr>\n",
              "  </tbody>\n",
              "</table>\n",
              "</div>"
            ],
            "text/plain": [
              "                        Model  ...  trigram-tfidf Accuracy\n",
              "0                 Naive Bayes  ...                  49.815\n",
              "1  Linear-Logistic Regression  ...                  51.107\n",
              "2              SVM Classifier  ...                  51.107\n",
              "\n",
              "[3 rows x 4 columns]"
            ]
          },
          "metadata": {
            "tags": []
          },
          "execution_count": 33
        }
      ]
    },
    {
      "cell_type": "markdown",
      "metadata": {
        "id": "Dr2SPhzJHe7h",
        "colab_type": "text"
      },
      "source": [
        "**RandomForest Classifier :**"
      ]
    },
    {
      "cell_type": "code",
      "metadata": {
        "id": "E2QSieh38mPb",
        "colab_type": "code",
        "colab": {}
      },
      "source": [
        "def randomforest_model(n_estimators,criterion,max_depth,min_samples_split):\n",
        "  rf_model = ensemble.RandomForestClassifier(n_estimators=n_estimators, n_jobs=2, criterion = criterion,\n",
        "                                          max_depth = max_depth, min_samples_split = min_samples_split, random_state=0)\n",
        "  return rf_model"
      ],
      "execution_count": 0,
      "outputs": []
    },
    {
      "cell_type": "code",
      "metadata": {
        "id": "FdBn3nyi_Wak",
        "colab_type": "code",
        "colab": {}
      },
      "source": [
        "from sklearn.model_selection import RandomizedSearchCV\n",
        "# Number of trees in random forest\n",
        "n_estimators = [int(x) for x in np.linspace(start = 200, stop = 2000, num = 10)]\n",
        "# Maximum number of levels in tree\n",
        "max_depth = [int(x) for x in np.linspace(100, 1000, num = 11)]\n",
        "max_depth.append(None)\n",
        "# Minimum number of samples required to split a node\n",
        "min_samples_split = [6, 10, 15]\n",
        "\n",
        "# Create the random grid\n",
        "random_grid = {'n_estimators': n_estimators,\n",
        "               'max_depth': max_depth,\n",
        "               'min_samples_split': min_samples_split}\n",
        "\n",
        "# Use the random grid to search for best hyperparameters\n",
        "rf = ensemble.RandomForestClassifier()\n",
        "# Random search of parameters, using 3 fold cross validation, \n",
        "rf_random = RandomizedSearchCV(estimator = rf, param_distributions = random_grid, n_iter = 50, cv = 3, verbose=2, random_state=42, n_jobs = 2)"
      ],
      "execution_count": 0,
      "outputs": []
    },
    {
      "cell_type": "code",
      "metadata": {
        "id": "sEjzmGayB_wL",
        "colab_type": "code",
        "colab": {}
      },
      "source": [
        "# Fit the random search model\n",
        "#rf_random.fit(X_train_trigram_seq, y_train)"
      ],
      "execution_count": 0,
      "outputs": []
    },
    {
      "cell_type": "code",
      "metadata": {
        "id": "f_7kAy4KABqH",
        "colab_type": "code",
        "colab": {}
      },
      "source": [
        "#rf_random.best_params_"
      ],
      "execution_count": 0,
      "outputs": []
    },
    {
      "cell_type": "code",
      "metadata": {
        "id": "1qJLmLqEGlx1",
        "colab_type": "code",
        "outputId": "fc0f7ba5-1ffd-4c92-d959-893a9e556eee",
        "colab": {
          "base_uri": "https://localhost:8080/",
          "height": 173
        }
      },
      "source": [
        "# RandomForest on tfidf Vectors\n",
        "n_estimators = 600\n",
        "criterion = 'gini'\n",
        "max_depth = 100\n",
        "min_samples_split = 6\n",
        "\n",
        "unigram_rf_model = randomforest_model(n_estimators,criterion,100,6)\n",
        "bigram_rf_model = randomforest_model(n_estimators,criterion,None,10)\n",
        "trigram_rf_model = randomforest_model(n_estimators,criterion,None,10)\n",
        "\n",
        "accuracy1 = train_model(unigram_rf_model, X_train_unigram_seq, y_train, X_test_unigram_seq, y_test)\n",
        "accuracy2 = train_model(bigram_rf_model, X_train_bigram_seq,  y_train, X_test_bigram_seq,  y_test)\n",
        "accuracy3 = train_model(trigram_rf_model, X_train_trigram_seq, y_train, X_test_trigram_seq, y_test)\n",
        "\n",
        "accuracy_df = accuracy_df.append(pd.Series(['RandomForest: Esti={},Cri={},max_depth={})'.format(n_estimators,criterion,max_depth), \n",
        "                                           accuracy1,accuracy2,accuracy3],index=accuracy_df.columns), ignore_index=True)\n",
        "\n",
        "accuracy_df"
      ],
      "execution_count": 38,
      "outputs": [
        {
          "output_type": "execute_result",
          "data": {
            "text/html": [
              "<div>\n",
              "<style scoped>\n",
              "    .dataframe tbody tr th:only-of-type {\n",
              "        vertical-align: middle;\n",
              "    }\n",
              "\n",
              "    .dataframe tbody tr th {\n",
              "        vertical-align: top;\n",
              "    }\n",
              "\n",
              "    .dataframe thead th {\n",
              "        text-align: right;\n",
              "    }\n",
              "</style>\n",
              "<table border=\"1\" class=\"dataframe\">\n",
              "  <thead>\n",
              "    <tr style=\"text-align: right;\">\n",
              "      <th></th>\n",
              "      <th>Model</th>\n",
              "      <th>unigram-tfidf Accuracy</th>\n",
              "      <th>bigram-tfidf Accuracy</th>\n",
              "      <th>trigram-tfidf Accuracy</th>\n",
              "    </tr>\n",
              "  </thead>\n",
              "  <tbody>\n",
              "    <tr>\n",
              "      <th>0</th>\n",
              "      <td>Naive Bayes</td>\n",
              "      <td>51.292</td>\n",
              "      <td>50.000</td>\n",
              "      <td>49.815</td>\n",
              "    </tr>\n",
              "    <tr>\n",
              "      <th>1</th>\n",
              "      <td>Linear-Logistic Regression</td>\n",
              "      <td>53.506</td>\n",
              "      <td>51.292</td>\n",
              "      <td>51.107</td>\n",
              "    </tr>\n",
              "    <tr>\n",
              "      <th>2</th>\n",
              "      <td>SVM Classifier</td>\n",
              "      <td>52.952</td>\n",
              "      <td>51.292</td>\n",
              "      <td>51.107</td>\n",
              "    </tr>\n",
              "    <tr>\n",
              "      <th>3</th>\n",
              "      <td>RandomForest \\n Esti = 600,Cri=gini,max_depth=...</td>\n",
              "      <td>54.982</td>\n",
              "      <td>56.273</td>\n",
              "      <td>55.535</td>\n",
              "    </tr>\n",
              "  </tbody>\n",
              "</table>\n",
              "</div>"
            ],
            "text/plain": [
              "                                               Model  ...  trigram-tfidf Accuracy\n",
              "0                                        Naive Bayes  ...                  49.815\n",
              "1                         Linear-Logistic Regression  ...                  51.107\n",
              "2                                     SVM Classifier  ...                  51.107\n",
              "3  RandomForest \\n Esti = 600,Cri=gini,max_depth=...  ...                  55.535\n",
              "\n",
              "[4 rows x 4 columns]"
            ]
          },
          "metadata": {
            "tags": []
          },
          "execution_count": 38
        }
      ]
    },
    {
      "cell_type": "markdown",
      "metadata": {
        "id": "S6LQPfCWIBKR",
        "colab_type": "text"
      },
      "source": [
        "**XGBoost Classifier :**"
      ]
    },
    {
      "cell_type": "code",
      "metadata": {
        "id": "4i3FAVwzGlvt",
        "colab_type": "code",
        "colab": {}
      },
      "source": [
        "# XGBoost on tfidf Vectors\n",
        "accuracy1 = train_model(xgboost.XGBClassifier(), X_train_unigram_seq, y_train, X_test_unigram_seq, y_test)\n",
        "accuracy2 = train_model(xgboost.XGBClassifier(), X_train_bigram_seq, y_train, X_test_bigram_seq, y_test)\n",
        "accuracy3 = train_model(xgboost.XGBClassifier(), X_train_trigram_seq, y_train, X_test_trigram_seq, y_test)"
      ],
      "execution_count": 0,
      "outputs": []
    },
    {
      "cell_type": "code",
      "metadata": {
        "id": "gMDShm_VRi8-",
        "colab_type": "code",
        "outputId": "ad50a3b1-5b86-4d08-bd5e-23b6c9334c63",
        "colab": {
          "base_uri": "https://localhost:8080/",
          "height": 204
        }
      },
      "source": [
        "accuracy_df = accuracy_df.append(pd.Series(['XGBoost', accuracy1,accuracy2,accuracy3],index=accuracy_df.columns), ignore_index=True)\n",
        "accuracy_df"
      ],
      "execution_count": 40,
      "outputs": [
        {
          "output_type": "execute_result",
          "data": {
            "text/html": [
              "<div>\n",
              "<style scoped>\n",
              "    .dataframe tbody tr th:only-of-type {\n",
              "        vertical-align: middle;\n",
              "    }\n",
              "\n",
              "    .dataframe tbody tr th {\n",
              "        vertical-align: top;\n",
              "    }\n",
              "\n",
              "    .dataframe thead th {\n",
              "        text-align: right;\n",
              "    }\n",
              "</style>\n",
              "<table border=\"1\" class=\"dataframe\">\n",
              "  <thead>\n",
              "    <tr style=\"text-align: right;\">\n",
              "      <th></th>\n",
              "      <th>Model</th>\n",
              "      <th>unigram-tfidf Accuracy</th>\n",
              "      <th>bigram-tfidf Accuracy</th>\n",
              "      <th>trigram-tfidf Accuracy</th>\n",
              "    </tr>\n",
              "  </thead>\n",
              "  <tbody>\n",
              "    <tr>\n",
              "      <th>0</th>\n",
              "      <td>Naive Bayes</td>\n",
              "      <td>51.292</td>\n",
              "      <td>50.000</td>\n",
              "      <td>49.815</td>\n",
              "    </tr>\n",
              "    <tr>\n",
              "      <th>1</th>\n",
              "      <td>Linear-Logistic Regression</td>\n",
              "      <td>53.506</td>\n",
              "      <td>51.292</td>\n",
              "      <td>51.107</td>\n",
              "    </tr>\n",
              "    <tr>\n",
              "      <th>2</th>\n",
              "      <td>SVM Classifier</td>\n",
              "      <td>52.952</td>\n",
              "      <td>51.292</td>\n",
              "      <td>51.107</td>\n",
              "    </tr>\n",
              "    <tr>\n",
              "      <th>3</th>\n",
              "      <td>RandomForest \\n Esti = 600,Cri=gini,max_depth=...</td>\n",
              "      <td>54.982</td>\n",
              "      <td>56.273</td>\n",
              "      <td>55.535</td>\n",
              "    </tr>\n",
              "    <tr>\n",
              "      <th>4</th>\n",
              "      <td>XGBoost</td>\n",
              "      <td>54.244</td>\n",
              "      <td>53.506</td>\n",
              "      <td>54.059</td>\n",
              "    </tr>\n",
              "  </tbody>\n",
              "</table>\n",
              "</div>"
            ],
            "text/plain": [
              "                                               Model  ...  trigram-tfidf Accuracy\n",
              "0                                        Naive Bayes  ...                  49.815\n",
              "1                         Linear-Logistic Regression  ...                  51.107\n",
              "2                                     SVM Classifier  ...                  51.107\n",
              "3  RandomForest \\n Esti = 600,Cri=gini,max_depth=...  ...                  55.535\n",
              "4                                            XGBoost  ...                  54.059\n",
              "\n",
              "[5 rows x 4 columns]"
            ]
          },
          "metadata": {
            "tags": []
          },
          "execution_count": 40
        }
      ]
    },
    {
      "cell_type": "markdown",
      "metadata": {
        "id": "wozsNc_T7kZG",
        "colab_type": "text"
      },
      "source": [
        "**KNN Classifier:**"
      ]
    },
    {
      "cell_type": "code",
      "metadata": {
        "id": "CBu6JThq7jb6",
        "colab_type": "code",
        "colab": {}
      },
      "source": [
        "# KNN Classifier on tfidf Vectors\n",
        "accuracy1 = train_model(neighbors.KNeighborsClassifier(n_neighbors=5, algorithm='brute'), X_train_unigram_seq, y_train, X_test_unigram_seq, y_test)\n",
        "accuracy2 = train_model(neighbors.KNeighborsClassifier(n_neighbors=5, algorithm='brute'), X_train_bigram_seq, y_train, X_test_bigram_seq, y_test)\n",
        "accuracy3 = train_model(neighbors.KNeighborsClassifier(n_neighbors=5, algorithm='brute'), X_train_trigram_seq, y_train, X_test_trigram_seq, y_test)"
      ],
      "execution_count": 0,
      "outputs": []
    },
    {
      "cell_type": "code",
      "metadata": {
        "id": "Xs4OwCxQ8iyr",
        "colab_type": "code",
        "outputId": "95b80fa2-b4d5-43eb-a9a7-08345532de42",
        "colab": {
          "base_uri": "https://localhost:8080/",
          "height": 235
        }
      },
      "source": [
        "accuracy_df = accuracy_df.append(pd.Series(['KNN Classifier (k=5)', accuracy1,accuracy2,accuracy3],index=accuracy_df.columns), ignore_index=True)\n",
        "accuracy_df"
      ],
      "execution_count": 42,
      "outputs": [
        {
          "output_type": "execute_result",
          "data": {
            "text/html": [
              "<div>\n",
              "<style scoped>\n",
              "    .dataframe tbody tr th:only-of-type {\n",
              "        vertical-align: middle;\n",
              "    }\n",
              "\n",
              "    .dataframe tbody tr th {\n",
              "        vertical-align: top;\n",
              "    }\n",
              "\n",
              "    .dataframe thead th {\n",
              "        text-align: right;\n",
              "    }\n",
              "</style>\n",
              "<table border=\"1\" class=\"dataframe\">\n",
              "  <thead>\n",
              "    <tr style=\"text-align: right;\">\n",
              "      <th></th>\n",
              "      <th>Model</th>\n",
              "      <th>unigram-tfidf Accuracy</th>\n",
              "      <th>bigram-tfidf Accuracy</th>\n",
              "      <th>trigram-tfidf Accuracy</th>\n",
              "    </tr>\n",
              "  </thead>\n",
              "  <tbody>\n",
              "    <tr>\n",
              "      <th>0</th>\n",
              "      <td>Naive Bayes</td>\n",
              "      <td>51.292</td>\n",
              "      <td>50.000</td>\n",
              "      <td>49.815</td>\n",
              "    </tr>\n",
              "    <tr>\n",
              "      <th>1</th>\n",
              "      <td>Linear-Logistic Regression</td>\n",
              "      <td>53.506</td>\n",
              "      <td>51.292</td>\n",
              "      <td>51.107</td>\n",
              "    </tr>\n",
              "    <tr>\n",
              "      <th>2</th>\n",
              "      <td>SVM Classifier</td>\n",
              "      <td>52.952</td>\n",
              "      <td>51.292</td>\n",
              "      <td>51.107</td>\n",
              "    </tr>\n",
              "    <tr>\n",
              "      <th>3</th>\n",
              "      <td>RandomForest \\n Esti = 600,Cri=gini,max_depth=...</td>\n",
              "      <td>54.982</td>\n",
              "      <td>56.273</td>\n",
              "      <td>55.535</td>\n",
              "    </tr>\n",
              "    <tr>\n",
              "      <th>4</th>\n",
              "      <td>XGBoost</td>\n",
              "      <td>54.244</td>\n",
              "      <td>53.506</td>\n",
              "      <td>54.059</td>\n",
              "    </tr>\n",
              "    <tr>\n",
              "      <th>5</th>\n",
              "      <td>KNN Classifier (k=5)</td>\n",
              "      <td>52.214</td>\n",
              "      <td>50.738</td>\n",
              "      <td>50.185</td>\n",
              "    </tr>\n",
              "  </tbody>\n",
              "</table>\n",
              "</div>"
            ],
            "text/plain": [
              "                                               Model  ...  trigram-tfidf Accuracy\n",
              "0                                        Naive Bayes  ...                  49.815\n",
              "1                         Linear-Logistic Regression  ...                  51.107\n",
              "2                                     SVM Classifier  ...                  51.107\n",
              "3  RandomForest \\n Esti = 600,Cri=gini,max_depth=...  ...                  55.535\n",
              "4                                            XGBoost  ...                  54.059\n",
              "5                               KNN Classifier (k=5)  ...                  50.185\n",
              "\n",
              "[6 rows x 4 columns]"
            ]
          },
          "metadata": {
            "tags": []
          },
          "execution_count": 42
        }
      ]
    },
    {
      "cell_type": "markdown",
      "metadata": {
        "id": "Ox6gUo1YIjRz",
        "colab_type": "text"
      },
      "source": [
        "**Simple NN Model :**"
      ]
    },
    {
      "cell_type": "code",
      "metadata": {
        "id": "Owsoep3HIhTL",
        "colab_type": "code",
        "colab": {}
      },
      "source": [
        "def create_nn_model(input_size, output_size):\n",
        "    model = models.Sequential()\n",
        "    \n",
        "    model.add(layers.Dense(512,input_dim=input_size, kernel_initializer='random_uniform', kernel_regularizer=regularizers.l2(Lambda)))\n",
        "    model.add(layers.BatchNormalization())\n",
        "    model.add(layers.Activation('relu'))\n",
        "    model.add(layers.Dropout(0.5))\n",
        "\n",
        "    model.add(layers.Dense(256,kernel_initializer='random_uniform',kernel_regularizer=regularizers.l2(Lambda)))\n",
        "    model.add(layers.BatchNormalization())\n",
        "    model.add(layers.Activation('relu'))\n",
        "    model.add(layers.Dropout(0.5))\n",
        "\n",
        "    model.add(layers.Dense(128,kernel_initializer='random_uniform',kernel_regularizer=regularizers.l2(Lambda)))\n",
        "    model.add(layers.BatchNormalization())\n",
        "    model.add(layers.Activation('relu'))\n",
        "    model.add(layers.Dropout(0.3))\n",
        "\n",
        "    model.add(layers.Dense(64, kernel_initializer='random_uniform',kernel_regularizer=regularizers.l2(Lambda)))\n",
        "    model.add(layers.BatchNormalization())\n",
        "    model.add(layers.Activation('relu'))\n",
        "\n",
        "    model.add(layers.Dense(output_size, activation='softmax'))\n",
        "    return model\n"
      ],
      "execution_count": 0,
      "outputs": []
    },
    {
      "cell_type": "code",
      "metadata": {
        "id": "vNnyBrRv1Zc1",
        "colab_type": "code",
        "colab": {}
      },
      "source": [
        "def train_deep_model(model, feature_train, target_train, feature_validate, target_validate, epochs, batch_size, lr, Lambda, callbacks):\n",
        "  model.compile(optimizer=optimizers.Adam(learning_rate=lr),\n",
        "                loss='categorical_crossentropy', metrics=['accuracy'])\n",
        "  history = model.fit(feature_train, target_train, validation_split=0.2, \n",
        "                      epochs=epochs, batch_size=batch_size, verbose=1,\n",
        "                      callbacks = callbacks)\n",
        "  predict = model.predict_classes(feature_validate)\n",
        "  return (metrics.accuracy_score(predict, target_validate)*100).round(3)\n"
      ],
      "execution_count": 0,
      "outputs": []
    },
    {
      "cell_type": "code",
      "metadata": {
        "id": "o-nfN0xbcvlN",
        "colab_type": "code",
        "colab": {}
      },
      "source": [
        "#X_train_unigram_seq = X_train_unigram_seq.todense()\n",
        "#X_test_unigram_seq =X_test_unigram_seq.todense()\n",
        "#X_train_bigram_seq = X_train_bigram_seq.todense()\n",
        "#X_test_bigram_seq =X_test_bigram_seq.todense()\n",
        "#X_train_trigram_seq = X_train_trigram_seq.todense()\n",
        "#X_test_trigram_seq =X_test_trigram_seq.todense()"
      ],
      "execution_count": 0,
      "outputs": []
    },
    {
      "cell_type": "code",
      "metadata": {
        "id": "wdtpjMCNulY2",
        "colab_type": "code",
        "colab": {}
      },
      "source": [
        "y_train_cate = keras.utils.to_categorical(y_train)\n",
        "y_test_cate = keras.utils.to_categorical(y_test)"
      ],
      "execution_count": 0,
      "outputs": []
    },
    {
      "cell_type": "code",
      "metadata": {
        "id": "-FuQ8J3iIz19",
        "colab_type": "code",
        "colab": {
          "base_uri": "https://localhost:8080/",
          "height": 1000
        },
        "outputId": "2f36d579-d53b-4fc9-f5b3-f7b8ee2dbbe0"
      },
      "source": [
        "# Simple NN with own embedding on tfidf Vectors\n",
        "epochs = 50\n",
        "batch_size = 128\n",
        "lr = 1e-2\n",
        "Lambda = 1e-5\n",
        "stop = EarlyStopping(monitor=\"loss\", patience=10, mode=\"min\")\n",
        "reduce_lr = ReduceLROnPlateau(monitor=\"loss\", factor=0.1, patience=3, min_lr=1e-8, verbose=1, mode=\"min\")\n",
        "callback = [reduce_lr,stop]\n",
        "\n",
        "model1 = create_nn_model(X_train_unigram_seq.shape[1], y_train_cate.shape[1])\n",
        "accuracy1 = train_deep_model(model1, X_train_unigram_seq, y_train_cate, X_test_unigram_seq, y_test, epochs, batch_size, lr, Lambda, callback)\n",
        "\n",
        "model2 = create_nn_model(X_train_bigram_seq.shape[1], y_train_cate.shape[1])\n",
        "accuracy2 = train_deep_model(model2, X_train_bigram_seq, y_train_cate, X_test_bigram_seq, y_test, epochs, batch_size, lr, Lambda, callback)\n",
        "\n",
        "model3 = create_nn_model(X_train_trigram_seq.shape[1], y_train_cate.shape[1])\n",
        "accuracy3 = train_deep_model(model3, X_train_trigram_seq, y_train_cate, X_test_trigram_seq, y_test, epochs, batch_size, lr, Lambda, callback)\n"
      ],
      "execution_count": 47,
      "outputs": [
        {
          "output_type": "stream",
          "text": [
            "Train on 3901 samples, validate on 976 samples\n",
            "Epoch 1/50\n",
            "3901/3901 [==============================] - 2s 397us/step - loss: 2.7734 - accuracy: 0.4371 - val_loss: 3.0713 - val_accuracy: 0.5000\n",
            "Epoch 2/50\n",
            "3901/3901 [==============================] - 1s 189us/step - loss: 2.3058 - accuracy: 0.5040 - val_loss: 2.6218 - val_accuracy: 0.5000\n",
            "Epoch 3/50\n",
            "3901/3901 [==============================] - 1s 191us/step - loss: 2.0874 - accuracy: 0.5345 - val_loss: 2.5103 - val_accuracy: 0.4908\n",
            "Epoch 4/50\n",
            "3901/3901 [==============================] - 1s 190us/step - loss: 1.8792 - accuracy: 0.5678 - val_loss: 2.4693 - val_accuracy: 0.5061\n",
            "Epoch 5/50\n",
            "3901/3901 [==============================] - 1s 192us/step - loss: 1.7127 - accuracy: 0.6016 - val_loss: 2.5225 - val_accuracy: 0.4990\n",
            "Epoch 6/50\n",
            "3901/3901 [==============================] - 1s 191us/step - loss: 1.5711 - accuracy: 0.6409 - val_loss: 2.6140 - val_accuracy: 0.5133\n",
            "Epoch 7/50\n",
            "3901/3901 [==============================] - 1s 192us/step - loss: 1.4266 - accuracy: 0.6775 - val_loss: 2.4880 - val_accuracy: 0.5184\n",
            "Epoch 8/50\n",
            "3901/3901 [==============================] - 1s 189us/step - loss: 1.3300 - accuracy: 0.6937 - val_loss: 2.5829 - val_accuracy: 0.5225\n",
            "Epoch 9/50\n",
            "3901/3901 [==============================] - 1s 191us/step - loss: 1.2599 - accuracy: 0.7226 - val_loss: 2.5695 - val_accuracy: 0.5236\n",
            "Epoch 10/50\n",
            "3901/3901 [==============================] - 1s 195us/step - loss: 1.2077 - accuracy: 0.7311 - val_loss: 2.6147 - val_accuracy: 0.5215\n",
            "Epoch 11/50\n",
            "3901/3901 [==============================] - 1s 190us/step - loss: 1.1480 - accuracy: 0.7521 - val_loss: 2.7188 - val_accuracy: 0.5143\n",
            "Epoch 12/50\n",
            "3901/3901 [==============================] - 1s 188us/step - loss: 1.1119 - accuracy: 0.7611 - val_loss: 2.9267 - val_accuracy: 0.5359\n",
            "Epoch 13/50\n",
            "3901/3901 [==============================] - 1s 189us/step - loss: 1.0436 - accuracy: 0.7775 - val_loss: 2.9513 - val_accuracy: 0.5266\n",
            "Epoch 14/50\n",
            "3901/3901 [==============================] - 1s 192us/step - loss: 1.0298 - accuracy: 0.7906 - val_loss: 3.0787 - val_accuracy: 0.5246\n",
            "Epoch 15/50\n",
            "3901/3901 [==============================] - 1s 193us/step - loss: 0.9945 - accuracy: 0.8052 - val_loss: 3.1902 - val_accuracy: 0.5246\n",
            "Epoch 16/50\n",
            "3901/3901 [==============================] - 1s 190us/step - loss: 1.0143 - accuracy: 0.7975 - val_loss: 3.0629 - val_accuracy: 0.5318\n",
            "Epoch 17/50\n",
            "3901/3901 [==============================] - 1s 193us/step - loss: 0.9743 - accuracy: 0.8131 - val_loss: 3.1037 - val_accuracy: 0.5328\n",
            "Epoch 18/50\n",
            "3901/3901 [==============================] - 1s 190us/step - loss: 0.9445 - accuracy: 0.8167 - val_loss: 3.3350 - val_accuracy: 0.5184\n",
            "Epoch 19/50\n",
            "3901/3901 [==============================] - 1s 190us/step - loss: 0.9157 - accuracy: 0.8265 - val_loss: 3.4424 - val_accuracy: 0.5092\n",
            "Epoch 20/50\n",
            "3901/3901 [==============================] - 1s 193us/step - loss: 0.9390 - accuracy: 0.8259 - val_loss: 3.3815 - val_accuracy: 0.5113\n",
            "Epoch 21/50\n",
            "3901/3901 [==============================] - 1s 191us/step - loss: 0.9151 - accuracy: 0.8324 - val_loss: 3.4469 - val_accuracy: 0.5133\n",
            "Epoch 22/50\n",
            "3901/3901 [==============================] - 1s 187us/step - loss: 0.9166 - accuracy: 0.8298 - val_loss: 3.4181 - val_accuracy: 0.5092\n",
            "Epoch 23/50\n",
            "3901/3901 [==============================] - 1s 191us/step - loss: 0.8899 - accuracy: 0.8388 - val_loss: 3.4814 - val_accuracy: 0.5041\n",
            "Epoch 24/50\n",
            "3901/3901 [==============================] - 1s 193us/step - loss: 0.8833 - accuracy: 0.8418 - val_loss: 3.4458 - val_accuracy: 0.5143\n",
            "Epoch 25/50\n",
            "3901/3901 [==============================] - 1s 192us/step - loss: 0.8607 - accuracy: 0.8472 - val_loss: 3.5409 - val_accuracy: 0.5297\n",
            "Epoch 26/50\n",
            "3901/3901 [==============================] - 1s 191us/step - loss: 0.8968 - accuracy: 0.8398 - val_loss: 3.4047 - val_accuracy: 0.5205\n",
            "Epoch 27/50\n",
            "3901/3901 [==============================] - 1s 189us/step - loss: 0.8844 - accuracy: 0.8472 - val_loss: 3.5300 - val_accuracy: 0.5246\n",
            "Epoch 28/50\n",
            "3901/3901 [==============================] - 1s 189us/step - loss: 0.8640 - accuracy: 0.8526 - val_loss: 3.4759 - val_accuracy: 0.5277\n",
            "\n",
            "Epoch 00028: ReduceLROnPlateau reducing learning rate to 0.0009999999776482583.\n",
            "Epoch 29/50\n",
            "3901/3901 [==============================] - 1s 192us/step - loss: 0.8228 - accuracy: 0.8618 - val_loss: 3.4066 - val_accuracy: 0.5246\n",
            "Epoch 30/50\n",
            "3901/3901 [==============================] - 1s 190us/step - loss: 0.8080 - accuracy: 0.8631 - val_loss: 3.3630 - val_accuracy: 0.5266\n",
            "Epoch 31/50\n",
            "3901/3901 [==============================] - 1s 206us/step - loss: 0.7870 - accuracy: 0.8690 - val_loss: 3.3486 - val_accuracy: 0.5277\n",
            "Epoch 32/50\n",
            "3901/3901 [==============================] - 1s 194us/step - loss: 0.7786 - accuracy: 0.8700 - val_loss: 3.3351 - val_accuracy: 0.5256\n",
            "Epoch 33/50\n",
            "3901/3901 [==============================] - 1s 195us/step - loss: 0.7781 - accuracy: 0.8711 - val_loss: 3.3239 - val_accuracy: 0.5307\n",
            "Epoch 34/50\n",
            "3901/3901 [==============================] - 1s 195us/step - loss: 0.7745 - accuracy: 0.8731 - val_loss: 3.3259 - val_accuracy: 0.5277\n",
            "Epoch 35/50\n",
            "3901/3901 [==============================] - 1s 198us/step - loss: 0.7465 - accuracy: 0.8811 - val_loss: 3.3242 - val_accuracy: 0.5297\n",
            "Epoch 36/50\n",
            "3901/3901 [==============================] - 1s 194us/step - loss: 0.7579 - accuracy: 0.8793 - val_loss: 3.3330 - val_accuracy: 0.5287\n",
            "Epoch 37/50\n",
            "3901/3901 [==============================] - 1s 198us/step - loss: 0.7230 - accuracy: 0.8885 - val_loss: 3.3369 - val_accuracy: 0.5277\n",
            "Epoch 38/50\n",
            "3901/3901 [==============================] - 1s 192us/step - loss: 0.7382 - accuracy: 0.8859 - val_loss: 3.3439 - val_accuracy: 0.5266\n",
            "Epoch 39/50\n",
            "3901/3901 [==============================] - 1s 194us/step - loss: 0.7168 - accuracy: 0.8893 - val_loss: 3.3520 - val_accuracy: 0.5287\n",
            "Epoch 40/50\n",
            "3901/3901 [==============================] - 1s 196us/step - loss: 0.7314 - accuracy: 0.8887 - val_loss: 3.3515 - val_accuracy: 0.5277\n",
            "Epoch 41/50\n",
            "3901/3901 [==============================] - 1s 192us/step - loss: 0.7191 - accuracy: 0.8870 - val_loss: 3.3484 - val_accuracy: 0.5307\n",
            "Epoch 42/50\n",
            "3901/3901 [==============================] - 1s 190us/step - loss: 0.7272 - accuracy: 0.8836 - val_loss: 3.3605 - val_accuracy: 0.5287\n",
            "\n",
            "Epoch 00042: ReduceLROnPlateau reducing learning rate to 9.999999310821295e-05.\n",
            "Epoch 43/50\n",
            "3901/3901 [==============================] - 1s 195us/step - loss: 0.7139 - accuracy: 0.8864 - val_loss: 3.3601 - val_accuracy: 0.5297\n",
            "Epoch 44/50\n",
            "3901/3901 [==============================] - 1s 191us/step - loss: 0.7223 - accuracy: 0.8854 - val_loss: 3.3561 - val_accuracy: 0.5307\n",
            "Epoch 45/50\n",
            "3901/3901 [==============================] - 1s 194us/step - loss: 0.7102 - accuracy: 0.8887 - val_loss: 3.3592 - val_accuracy: 0.5297\n",
            "Epoch 46/50\n",
            "3901/3901 [==============================] - 1s 191us/step - loss: 0.7114 - accuracy: 0.8898 - val_loss: 3.3599 - val_accuracy: 0.5297\n",
            "Epoch 47/50\n",
            "3901/3901 [==============================] - 1s 192us/step - loss: 0.7185 - accuracy: 0.8821 - val_loss: 3.3604 - val_accuracy: 0.5297\n",
            "Epoch 48/50\n",
            "3901/3901 [==============================] - 1s 192us/step - loss: 0.7230 - accuracy: 0.8857 - val_loss: 3.3569 - val_accuracy: 0.5297\n",
            "\n",
            "Epoch 00048: ReduceLROnPlateau reducing learning rate to 9.999999019782991e-06.\n",
            "Epoch 49/50\n",
            "3901/3901 [==============================] - 1s 191us/step - loss: 0.7225 - accuracy: 0.8846 - val_loss: 3.3545 - val_accuracy: 0.5307\n",
            "Epoch 50/50\n",
            "3901/3901 [==============================] - 1s 189us/step - loss: 0.6958 - accuracy: 0.8885 - val_loss: 3.3512 - val_accuracy: 0.5297\n",
            "Train on 3901 samples, validate on 976 samples\n",
            "Epoch 1/50\n",
            "3901/3901 [==============================] - 7s 2ms/step - loss: 2.8680 - accuracy: 0.4304 - val_loss: 3.2484 - val_accuracy: 0.5041\n",
            "Epoch 2/50\n",
            "3901/3901 [==============================] - 6s 1ms/step - loss: 2.5378 - accuracy: 0.5019 - val_loss: 2.8705 - val_accuracy: 0.5072\n",
            "Epoch 3/50\n",
            "3901/3901 [==============================] - 6s 1ms/step - loss: 2.2218 - accuracy: 0.5450 - val_loss: 2.9184 - val_accuracy: 0.5072\n",
            "Epoch 4/50\n",
            "3901/3901 [==============================] - 6s 1ms/step - loss: 1.9233 - accuracy: 0.6124 - val_loss: 2.9952 - val_accuracy: 0.5092\n",
            "Epoch 5/50\n",
            "3901/3901 [==============================] - 6s 2ms/step - loss: 1.6885 - accuracy: 0.6603 - val_loss: 3.2550 - val_accuracy: 0.5082\n",
            "Epoch 6/50\n",
            "3901/3901 [==============================] - 6s 2ms/step - loss: 1.5289 - accuracy: 0.7137 - val_loss: 3.4167 - val_accuracy: 0.5113\n",
            "Epoch 7/50\n",
            "3901/3901 [==============================] - 6s 2ms/step - loss: 1.4020 - accuracy: 0.7513 - val_loss: 3.4157 - val_accuracy: 0.5184\n",
            "Epoch 8/50\n",
            "3901/3901 [==============================] - 6s 2ms/step - loss: 1.3058 - accuracy: 0.7893 - val_loss: 3.3475 - val_accuracy: 0.5256\n",
            "Epoch 9/50\n",
            "3901/3901 [==============================] - 6s 2ms/step - loss: 1.2272 - accuracy: 0.8200 - val_loss: 3.2907 - val_accuracy: 0.5297\n",
            "Epoch 10/50\n",
            "3901/3901 [==============================] - 6s 2ms/step - loss: 1.1823 - accuracy: 0.8359 - val_loss: 3.3680 - val_accuracy: 0.5348\n",
            "Epoch 11/50\n",
            "3901/3901 [==============================] - 6s 2ms/step - loss: 1.1631 - accuracy: 0.8444 - val_loss: 3.2910 - val_accuracy: 0.5328\n",
            "Epoch 12/50\n",
            "3901/3901 [==============================] - 6s 2ms/step - loss: 1.0993 - accuracy: 0.8634 - val_loss: 3.3647 - val_accuracy: 0.5400\n",
            "Epoch 13/50\n",
            "3901/3901 [==============================] - 6s 2ms/step - loss: 1.0492 - accuracy: 0.8849 - val_loss: 3.4061 - val_accuracy: 0.5359\n",
            "Epoch 14/50\n",
            "3901/3901 [==============================] - 6s 1ms/step - loss: 1.0456 - accuracy: 0.8849 - val_loss: 3.5685 - val_accuracy: 0.5369\n",
            "Epoch 15/50\n",
            "3901/3901 [==============================] - 6s 1ms/step - loss: 1.0411 - accuracy: 0.8908 - val_loss: 3.4232 - val_accuracy: 0.5430\n",
            "Epoch 16/50\n",
            "3901/3901 [==============================] - 6s 2ms/step - loss: 1.0187 - accuracy: 0.8957 - val_loss: 3.4803 - val_accuracy: 0.5400\n",
            "Epoch 17/50\n",
            "3901/3901 [==============================] - 6s 1ms/step - loss: 0.9836 - accuracy: 0.8990 - val_loss: 3.4723 - val_accuracy: 0.5502\n",
            "Epoch 18/50\n",
            "3901/3901 [==============================] - 6s 2ms/step - loss: 0.9834 - accuracy: 0.9064 - val_loss: 3.5137 - val_accuracy: 0.5461\n",
            "Epoch 19/50\n",
            "3901/3901 [==============================] - 6s 1ms/step - loss: 0.9962 - accuracy: 0.9005 - val_loss: 3.5864 - val_accuracy: 0.5420\n",
            "Epoch 20/50\n",
            "3901/3901 [==============================] - 6s 1ms/step - loss: 0.9880 - accuracy: 0.9067 - val_loss: 3.4699 - val_accuracy: 0.5400\n",
            "Epoch 21/50\n",
            "3901/3901 [==============================] - 6s 1ms/step - loss: 0.9638 - accuracy: 0.9141 - val_loss: 3.6445 - val_accuracy: 0.5400\n",
            "Epoch 22/50\n",
            "3901/3901 [==============================] - 6s 1ms/step - loss: 0.9612 - accuracy: 0.9193 - val_loss: 3.7134 - val_accuracy: 0.5430\n",
            "Epoch 23/50\n",
            "3901/3901 [==============================] - 6s 1ms/step - loss: 0.9547 - accuracy: 0.9185 - val_loss: 3.8248 - val_accuracy: 0.5430\n",
            "Epoch 24/50\n",
            "3901/3901 [==============================] - 6s 1ms/step - loss: 0.9886 - accuracy: 0.9100 - val_loss: 3.9805 - val_accuracy: 0.5430\n",
            "Epoch 25/50\n",
            "3901/3901 [==============================] - 6s 1ms/step - loss: 0.9781 - accuracy: 0.9213 - val_loss: 3.7629 - val_accuracy: 0.5369\n",
            "Epoch 26/50\n",
            "3901/3901 [==============================] - 6s 1ms/step - loss: 0.9702 - accuracy: 0.9177 - val_loss: 3.8727 - val_accuracy: 0.5430\n",
            "\n",
            "Epoch 00026: ReduceLROnPlateau reducing learning rate to 0.0009999999776482583.\n",
            "Epoch 27/50\n",
            "3901/3901 [==============================] - 6s 1ms/step - loss: 0.9543 - accuracy: 0.9231 - val_loss: 3.8073 - val_accuracy: 0.5410\n",
            "Epoch 28/50\n",
            "3901/3901 [==============================] - 6s 1ms/step - loss: 0.8959 - accuracy: 0.9323 - val_loss: 3.7549 - val_accuracy: 0.5410\n",
            "Epoch 29/50\n",
            "3901/3901 [==============================] - 6s 1ms/step - loss: 0.8841 - accuracy: 0.9349 - val_loss: 3.7377 - val_accuracy: 0.5420\n",
            "Epoch 30/50\n",
            "3901/3901 [==============================] - 6s 1ms/step - loss: 0.8380 - accuracy: 0.9428 - val_loss: 3.7082 - val_accuracy: 0.5400\n",
            "Epoch 31/50\n",
            "3901/3901 [==============================] - 6s 1ms/step - loss: 0.8389 - accuracy: 0.9421 - val_loss: 3.6783 - val_accuracy: 0.5410\n",
            "Epoch 32/50\n",
            "3901/3901 [==============================] - 6s 1ms/step - loss: 0.8321 - accuracy: 0.9423 - val_loss: 3.6541 - val_accuracy: 0.5410\n",
            "Epoch 33/50\n",
            "3901/3901 [==============================] - 6s 1ms/step - loss: 0.7993 - accuracy: 0.9474 - val_loss: 3.6335 - val_accuracy: 0.5420\n",
            "Epoch 34/50\n",
            "3901/3901 [==============================] - 6s 1ms/step - loss: 0.7775 - accuracy: 0.9487 - val_loss: 3.6068 - val_accuracy: 0.5410\n",
            "Epoch 35/50\n",
            "3901/3901 [==============================] - 6s 1ms/step - loss: 0.7756 - accuracy: 0.9528 - val_loss: 3.5746 - val_accuracy: 0.5430\n",
            "Epoch 36/50\n",
            "3901/3901 [==============================] - 6s 1ms/step - loss: 0.7624 - accuracy: 0.9528 - val_loss: 3.5654 - val_accuracy: 0.5441\n",
            "Epoch 37/50\n",
            "3901/3901 [==============================] - 6s 1ms/step - loss: 0.7561 - accuracy: 0.9490 - val_loss: 3.5606 - val_accuracy: 0.5420\n",
            "Epoch 38/50\n",
            "3901/3901 [==============================] - 6s 1ms/step - loss: 0.7297 - accuracy: 0.9536 - val_loss: 3.5499 - val_accuracy: 0.5420\n",
            "Epoch 39/50\n",
            "3901/3901 [==============================] - 6s 1ms/step - loss: 0.7339 - accuracy: 0.9498 - val_loss: 3.5586 - val_accuracy: 0.5441\n",
            "Epoch 40/50\n",
            "3901/3901 [==============================] - 6s 2ms/step - loss: 0.7157 - accuracy: 0.9521 - val_loss: 3.5497 - val_accuracy: 0.5410\n",
            "Epoch 41/50\n",
            "3901/3901 [==============================] - 6s 1ms/step - loss: 0.7101 - accuracy: 0.9533 - val_loss: 3.5699 - val_accuracy: 0.5410\n",
            "Epoch 42/50\n",
            "3901/3901 [==============================] - 6s 1ms/step - loss: 0.6945 - accuracy: 0.9539 - val_loss: 3.5510 - val_accuracy: 0.5420\n",
            "Epoch 43/50\n",
            "3901/3901 [==============================] - 6s 1ms/step - loss: 0.6781 - accuracy: 0.9603 - val_loss: 3.5397 - val_accuracy: 0.5410\n",
            "Epoch 44/50\n",
            "3901/3901 [==============================] - 6s 1ms/step - loss: 0.6767 - accuracy: 0.9580 - val_loss: 3.5157 - val_accuracy: 0.5389\n",
            "Epoch 45/50\n",
            "3901/3901 [==============================] - 6s 1ms/step - loss: 0.6666 - accuracy: 0.9564 - val_loss: 3.5225 - val_accuracy: 0.5389\n",
            "Epoch 46/50\n",
            "3901/3901 [==============================] - 6s 1ms/step - loss: 0.6562 - accuracy: 0.9574 - val_loss: 3.5222 - val_accuracy: 0.5389\n",
            "Epoch 47/50\n",
            "3901/3901 [==============================] - 6s 1ms/step - loss: 0.6539 - accuracy: 0.9574 - val_loss: 3.5186 - val_accuracy: 0.5400\n",
            "Epoch 48/50\n",
            "3901/3901 [==============================] - 6s 1ms/step - loss: 0.6491 - accuracy: 0.9567 - val_loss: 3.5145 - val_accuracy: 0.5400\n",
            "Epoch 49/50\n",
            "3901/3901 [==============================] - 6s 1ms/step - loss: 0.6405 - accuracy: 0.9549 - val_loss: 3.5144 - val_accuracy: 0.5410\n",
            "Epoch 50/50\n",
            "3901/3901 [==============================] - 6s 1ms/step - loss: 0.6279 - accuracy: 0.9574 - val_loss: 3.5107 - val_accuracy: 0.5420\n",
            "Train on 3901 samples, validate on 976 samples\n",
            "Epoch 1/50\n",
            "3901/3901 [==============================] - 14s 3ms/step - loss: 3.1101 - accuracy: 0.3996 - val_loss: 3.2339 - val_accuracy: 0.5061\n",
            "Epoch 2/50\n",
            "3901/3901 [==============================] - 13s 3ms/step - loss: 2.7568 - accuracy: 0.4999 - val_loss: 3.0334 - val_accuracy: 0.5072\n",
            "Epoch 3/50\n",
            "3901/3901 [==============================] - 12s 3ms/step - loss: 2.4274 - accuracy: 0.5581 - val_loss: 3.2463 - val_accuracy: 0.5133\n",
            "Epoch 4/50\n",
            "3901/3901 [==============================] - 13s 3ms/step - loss: 2.1419 - accuracy: 0.6073 - val_loss: 3.4037 - val_accuracy: 0.5113\n",
            "Epoch 5/50\n",
            "3901/3901 [==============================] - 12s 3ms/step - loss: 1.8969 - accuracy: 0.6721 - val_loss: 3.6917 - val_accuracy: 0.5123\n",
            "Epoch 6/50\n",
            "3901/3901 [==============================] - 12s 3ms/step - loss: 1.7220 - accuracy: 0.7198 - val_loss: 4.0000 - val_accuracy: 0.5102\n",
            "Epoch 7/50\n",
            "3901/3901 [==============================] - 12s 3ms/step - loss: 1.5993 - accuracy: 0.7637 - val_loss: 3.8168 - val_accuracy: 0.5092\n",
            "Epoch 8/50\n",
            "3901/3901 [==============================] - 13s 3ms/step - loss: 1.5413 - accuracy: 0.7918 - val_loss: 3.8056 - val_accuracy: 0.5123\n",
            "Epoch 9/50\n",
            "3901/3901 [==============================] - 12s 3ms/step - loss: 1.5105 - accuracy: 0.8083 - val_loss: 3.9103 - val_accuracy: 0.5225\n",
            "Epoch 10/50\n",
            "3901/3901 [==============================] - 12s 3ms/step - loss: 1.4474 - accuracy: 0.8331 - val_loss: 4.3673 - val_accuracy: 0.5225\n",
            "Epoch 11/50\n",
            "3901/3901 [==============================] - 12s 3ms/step - loss: 1.4331 - accuracy: 0.8393 - val_loss: 4.0485 - val_accuracy: 0.5246\n",
            "Epoch 12/50\n",
            "3901/3901 [==============================] - 12s 3ms/step - loss: 1.4009 - accuracy: 0.8531 - val_loss: 4.0642 - val_accuracy: 0.5328\n",
            "Epoch 13/50\n",
            "3901/3901 [==============================] - 12s 3ms/step - loss: 1.3537 - accuracy: 0.8757 - val_loss: 4.1097 - val_accuracy: 0.5410\n",
            "Epoch 14/50\n",
            "3901/3901 [==============================] - 12s 3ms/step - loss: 1.3450 - accuracy: 0.8767 - val_loss: 3.9847 - val_accuracy: 0.5297\n",
            "Epoch 15/50\n",
            "3901/3901 [==============================] - 12s 3ms/step - loss: 1.3257 - accuracy: 0.8829 - val_loss: 4.2524 - val_accuracy: 0.5318\n",
            "Epoch 16/50\n",
            "3901/3901 [==============================] - 12s 3ms/step - loss: 1.3364 - accuracy: 0.8846 - val_loss: 3.9751 - val_accuracy: 0.5389\n",
            "Epoch 17/50\n",
            "3901/3901 [==============================] - 12s 3ms/step - loss: 1.3056 - accuracy: 0.8967 - val_loss: 3.9435 - val_accuracy: 0.5369\n",
            "Epoch 18/50\n",
            "3901/3901 [==============================] - 12s 3ms/step - loss: 1.3137 - accuracy: 0.8962 - val_loss: 3.9743 - val_accuracy: 0.5420\n",
            "Epoch 19/50\n",
            "3901/3901 [==============================] - 12s 3ms/step - loss: 1.2978 - accuracy: 0.9095 - val_loss: 4.1249 - val_accuracy: 0.5441\n",
            "Epoch 20/50\n",
            "3901/3901 [==============================] - 12s 3ms/step - loss: 1.2714 - accuracy: 0.9090 - val_loss: 4.0992 - val_accuracy: 0.5430\n",
            "Epoch 21/50\n",
            "3901/3901 [==============================] - 12s 3ms/step - loss: 1.2917 - accuracy: 0.9113 - val_loss: 4.2424 - val_accuracy: 0.5389\n",
            "Epoch 22/50\n",
            "3901/3901 [==============================] - 12s 3ms/step - loss: 1.2677 - accuracy: 0.9185 - val_loss: 4.1793 - val_accuracy: 0.5389\n",
            "Epoch 23/50\n",
            "3901/3901 [==============================] - 12s 3ms/step - loss: 1.2502 - accuracy: 0.9198 - val_loss: 4.3263 - val_accuracy: 0.5410\n",
            "Epoch 24/50\n",
            "3901/3901 [==============================] - 12s 3ms/step - loss: 1.2823 - accuracy: 0.9195 - val_loss: 4.4403 - val_accuracy: 0.5389\n",
            "Epoch 25/50\n",
            "3901/3901 [==============================] - 12s 3ms/step - loss: 1.2966 - accuracy: 0.9182 - val_loss: 4.4609 - val_accuracy: 0.5328\n",
            "Epoch 26/50\n",
            "3901/3901 [==============================] - 12s 3ms/step - loss: 1.3111 - accuracy: 0.9141 - val_loss: 4.2511 - val_accuracy: 0.5379\n",
            "\n",
            "Epoch 00026: ReduceLROnPlateau reducing learning rate to 0.0009999999776482583.\n",
            "Epoch 27/50\n",
            "3901/3901 [==============================] - 12s 3ms/step - loss: 1.2910 - accuracy: 0.9241 - val_loss: 4.1950 - val_accuracy: 0.5389\n",
            "Epoch 28/50\n",
            "3901/3901 [==============================] - 12s 3ms/step - loss: 1.2280 - accuracy: 0.9310 - val_loss: 4.1312 - val_accuracy: 0.5389\n",
            "Epoch 29/50\n",
            "3901/3901 [==============================] - 12s 3ms/step - loss: 1.1923 - accuracy: 0.9377 - val_loss: 4.1127 - val_accuracy: 0.5369\n",
            "Epoch 30/50\n",
            "3901/3901 [==============================] - 12s 3ms/step - loss: 1.1343 - accuracy: 0.9459 - val_loss: 4.0213 - val_accuracy: 0.5389\n",
            "Epoch 31/50\n",
            "3901/3901 [==============================] - 12s 3ms/step - loss: 1.1019 - accuracy: 0.9490 - val_loss: 3.9987 - val_accuracy: 0.5379\n",
            "Epoch 32/50\n",
            "3901/3901 [==============================] - 12s 3ms/step - loss: 1.0492 - accuracy: 0.9580 - val_loss: 3.9772 - val_accuracy: 0.5369\n",
            "Epoch 33/50\n",
            "3901/3901 [==============================] - 12s 3ms/step - loss: 1.0257 - accuracy: 0.9539 - val_loss: 3.9556 - val_accuracy: 0.5379\n",
            "Epoch 34/50\n",
            "3901/3901 [==============================] - 12s 3ms/step - loss: 1.0058 - accuracy: 0.9533 - val_loss: 3.9158 - val_accuracy: 0.5389\n",
            "Epoch 35/50\n",
            "3901/3901 [==============================] - 12s 3ms/step - loss: 0.9727 - accuracy: 0.9595 - val_loss: 3.9022 - val_accuracy: 0.5400\n",
            "Epoch 36/50\n",
            "3901/3901 [==============================] - 12s 3ms/step - loss: 0.9591 - accuracy: 0.9551 - val_loss: 3.8686 - val_accuracy: 0.5400\n",
            "Epoch 37/50\n",
            "3901/3901 [==============================] - 12s 3ms/step - loss: 0.9381 - accuracy: 0.9577 - val_loss: 3.8525 - val_accuracy: 0.5400\n",
            "Epoch 38/50\n",
            "3901/3901 [==============================] - 12s 3ms/step - loss: 0.9011 - accuracy: 0.9628 - val_loss: 3.8566 - val_accuracy: 0.5400\n",
            "Epoch 39/50\n",
            "3901/3901 [==============================] - 12s 3ms/step - loss: 0.8930 - accuracy: 0.9618 - val_loss: 3.8350 - val_accuracy: 0.5410\n",
            "Epoch 40/50\n",
            "3901/3901 [==============================] - 12s 3ms/step - loss: 0.8649 - accuracy: 0.9649 - val_loss: 3.8155 - val_accuracy: 0.5400\n",
            "Epoch 41/50\n",
            "3901/3901 [==============================] - 12s 3ms/step - loss: 0.8514 - accuracy: 0.9628 - val_loss: 3.8075 - val_accuracy: 0.5410\n",
            "Epoch 42/50\n",
            "3901/3901 [==============================] - 12s 3ms/step - loss: 0.8334 - accuracy: 0.9649 - val_loss: 3.7890 - val_accuracy: 0.5410\n",
            "Epoch 43/50\n",
            "3901/3901 [==============================] - 12s 3ms/step - loss: 0.8203 - accuracy: 0.9633 - val_loss: 3.7668 - val_accuracy: 0.5420\n",
            "Epoch 44/50\n",
            "3901/3901 [==============================] - 12s 3ms/step - loss: 0.7964 - accuracy: 0.9664 - val_loss: 3.7580 - val_accuracy: 0.5420\n",
            "Epoch 45/50\n",
            "3901/3901 [==============================] - 12s 3ms/step - loss: 0.7772 - accuracy: 0.9664 - val_loss: 3.7441 - val_accuracy: 0.5420\n",
            "Epoch 46/50\n",
            "3901/3901 [==============================] - 12s 3ms/step - loss: 0.7526 - accuracy: 0.9682 - val_loss: 3.7134 - val_accuracy: 0.5430\n",
            "Epoch 47/50\n",
            "3901/3901 [==============================] - 12s 3ms/step - loss: 0.7435 - accuracy: 0.9698 - val_loss: 3.7153 - val_accuracy: 0.5441\n",
            "Epoch 48/50\n",
            "3901/3901 [==============================] - 12s 3ms/step - loss: 0.7282 - accuracy: 0.9695 - val_loss: 3.7041 - val_accuracy: 0.5451\n",
            "Epoch 49/50\n",
            "3901/3901 [==============================] - 12s 3ms/step - loss: 0.7240 - accuracy: 0.9664 - val_loss: 3.6951 - val_accuracy: 0.5441\n",
            "Epoch 50/50\n",
            "3901/3901 [==============================] - 12s 3ms/step - loss: 0.6994 - accuracy: 0.9690 - val_loss: 3.7046 - val_accuracy: 0.5471\n"
          ],
          "name": "stdout"
        }
      ]
    },
    {
      "cell_type": "code",
      "metadata": {
        "id": "OLOoLk2rcbKt",
        "colab_type": "code",
        "colab": {
          "base_uri": "https://localhost:8080/",
          "height": 266
        },
        "outputId": "b31943f1-7927-463e-8815-d5807987fa62"
      },
      "source": [
        "accuracy_df = accuracy_df.append(pd.Series(['Simple NN', accuracy1,accuracy2,accuracy3],index=accuracy_df.columns), ignore_index=True)\n",
        "accuracy_df"
      ],
      "execution_count": 48,
      "outputs": [
        {
          "output_type": "execute_result",
          "data": {
            "text/html": [
              "<div>\n",
              "<style scoped>\n",
              "    .dataframe tbody tr th:only-of-type {\n",
              "        vertical-align: middle;\n",
              "    }\n",
              "\n",
              "    .dataframe tbody tr th {\n",
              "        vertical-align: top;\n",
              "    }\n",
              "\n",
              "    .dataframe thead th {\n",
              "        text-align: right;\n",
              "    }\n",
              "</style>\n",
              "<table border=\"1\" class=\"dataframe\">\n",
              "  <thead>\n",
              "    <tr style=\"text-align: right;\">\n",
              "      <th></th>\n",
              "      <th>Model</th>\n",
              "      <th>unigram-tfidf Accuracy</th>\n",
              "      <th>bigram-tfidf Accuracy</th>\n",
              "      <th>trigram-tfidf Accuracy</th>\n",
              "    </tr>\n",
              "  </thead>\n",
              "  <tbody>\n",
              "    <tr>\n",
              "      <th>0</th>\n",
              "      <td>Naive Bayes</td>\n",
              "      <td>51.292</td>\n",
              "      <td>50.000</td>\n",
              "      <td>49.815</td>\n",
              "    </tr>\n",
              "    <tr>\n",
              "      <th>1</th>\n",
              "      <td>Linear-Logistic Regression</td>\n",
              "      <td>53.506</td>\n",
              "      <td>51.292</td>\n",
              "      <td>51.107</td>\n",
              "    </tr>\n",
              "    <tr>\n",
              "      <th>2</th>\n",
              "      <td>SVM Classifier</td>\n",
              "      <td>52.952</td>\n",
              "      <td>51.292</td>\n",
              "      <td>51.107</td>\n",
              "    </tr>\n",
              "    <tr>\n",
              "      <th>3</th>\n",
              "      <td>RandomForest \\n Esti = 600,Cri=gini,max_depth=...</td>\n",
              "      <td>54.982</td>\n",
              "      <td>56.273</td>\n",
              "      <td>55.535</td>\n",
              "    </tr>\n",
              "    <tr>\n",
              "      <th>4</th>\n",
              "      <td>XGBoost</td>\n",
              "      <td>54.244</td>\n",
              "      <td>53.506</td>\n",
              "      <td>54.059</td>\n",
              "    </tr>\n",
              "    <tr>\n",
              "      <th>5</th>\n",
              "      <td>KNN Classifier (k=5)</td>\n",
              "      <td>52.214</td>\n",
              "      <td>50.738</td>\n",
              "      <td>50.185</td>\n",
              "    </tr>\n",
              "    <tr>\n",
              "      <th>6</th>\n",
              "      <td>Simple NN</td>\n",
              "      <td>53.875</td>\n",
              "      <td>55.351</td>\n",
              "      <td>54.613</td>\n",
              "    </tr>\n",
              "  </tbody>\n",
              "</table>\n",
              "</div>"
            ],
            "text/plain": [
              "                                               Model  ...  trigram-tfidf Accuracy\n",
              "0                                        Naive Bayes  ...                  49.815\n",
              "1                         Linear-Logistic Regression  ...                  51.107\n",
              "2                                     SVM Classifier  ...                  51.107\n",
              "3  RandomForest \\n Esti = 600,Cri=gini,max_depth=...  ...                  55.535\n",
              "4                                            XGBoost  ...                  54.059\n",
              "5                               KNN Classifier (k=5)  ...                  50.185\n",
              "6                                          Simple NN  ...                  54.613\n",
              "\n",
              "[7 rows x 4 columns]"
            ]
          },
          "metadata": {
            "tags": []
          },
          "execution_count": 48
        }
      ]
    }
  ]
}