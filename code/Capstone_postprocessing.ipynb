{
  "nbformat": 4,
  "nbformat_minor": 0,
  "metadata": {
    "colab": {
      "name": "Capstone_postprocessing.ipynb",
      "provenance": [],
      "collapsed_sections": [
        "S2-Kw1x1VfB9",
        "aHkycW10Y6Vk",
        "QKbcHMgfFCra",
        "Bi18pym11OoS",
        "-0IVQFQeUK4C",
        "u_5-l0CT3TN5",
        "qH139k2yGTUp",
        "84MpqUdaGlWw",
        "Dr2SPhzJHe7h",
        "S6LQPfCWIBKR",
        "2bvNaqA0bK5o",
        "zb5xXWf8dxhC",
        "HWWZlN91eyhk",
        "cAUeAkSQfgQu",
        "FabIOOqQiyO2",
        "llZweWj2Gya-",
        "L8Y5t1qDO5TX",
        "8_XXd1XPO8Z9",
        "vJpZmxhKiiBc",
        "KJzP0ibKsYyG",
        "6m5DvqYisV_A",
        "Cqz35n3Tpxtn",
        "SUuLcWne1qCM",
        "9XAqxfwQ1N9g",
        "7LsEWuHa0WE6",
        "yex4l0Gt4lv8",
        "JCI4JiUx4lzk",
        "9KBDRB0UwBcI",
        "CzKBp3lG6GWU",
        "EhDc2vHm6GWr"
      ],
      "machine_shape": "hm"
    },
    "kernelspec": {
      "name": "python3",
      "display_name": "Python 3"
    }
  },
  "cells": [
    {
      "cell_type": "markdown",
      "metadata": {
        "id": "S2-Kw1x1VfB9",
        "colab_type": "text"
      },
      "source": [
        "###**Import Libraries**"
      ]
    },
    {
      "cell_type": "code",
      "metadata": {
        "id": "vCFfYLD4i1oD",
        "colab_type": "code",
        "colab": {}
      },
      "source": [
        "#!!pip uninstall tensorflow\n",
        "#!pip install tensorflow==2.1.0\n",
        "#!pip install -U gensim"
      ],
      "execution_count": 0,
      "outputs": []
    },
    {
      "cell_type": "code",
      "metadata": {
        "id": "rd5sjw4GVJnR",
        "colab_type": "code",
        "outputId": "7cd8006b-4a29-4f53-ed09-50a5b8c1a890",
        "colab": {
          "base_uri": "https://localhost:8080/",
          "height": 34
        }
      },
      "source": [
        "from google.colab import drive\n",
        "drive.mount('/content/drive/')"
      ],
      "execution_count": 5,
      "outputs": [
        {
          "output_type": "stream",
          "text": [
            "Drive already mounted at /content/drive/; to attempt to forcibly remount, call drive.mount(\"/content/drive/\", force_remount=True).\n"
          ],
          "name": "stdout"
        }
      ]
    },
    {
      "cell_type": "code",
      "metadata": {
        "id": "UwJALxC5VUxq",
        "colab_type": "code",
        "colab": {}
      },
      "source": [
        "PROJECT_DIR = \"/content/drive/My Drive/MachineLearning/Capstone/\"\n",
        "DATA_FILE_NAME = 'Data/Input Data Synthetic.xlsx'\n",
        "CLEANSED_FILE_DIR = 'Data/processed/'"
      ],
      "execution_count": 0,
      "outputs": []
    },
    {
      "cell_type": "code",
      "metadata": {
        "id": "NdN0mEzuVgR4",
        "colab_type": "code",
        "outputId": "f8bc6715-ef0c-4dd0-e1e4-2a8b4772971f",
        "colab": {
          "base_uri": "https://localhost:8080/",
          "height": 71
        }
      },
      "source": [
        "#import basic libraies\n",
        "import pandas as pd\n",
        "import numpy as np\n",
        "import matplotlib.pyplot as plt\n",
        "import seaborn as sns\n",
        "import string\n",
        "from sklearn.preprocessing import LabelEncoder\n",
        "from sklearn.model_selection import train_test_split\n",
        "from sklearn.feature_extraction.text import CountVectorizer,TfidfVectorizer\n",
        "\n",
        "import warnings\n",
        "warnings.filterwarnings('ignore')"
      ],
      "execution_count": 7,
      "outputs": [
        {
          "output_type": "stream",
          "text": [
            "/usr/local/lib/python3.6/dist-packages/statsmodels/tools/_testing.py:19: FutureWarning: pandas.util.testing is deprecated. Use the functions in the public API at pandas.testing instead.\n",
            "  import pandas.util.testing as tm\n"
          ],
          "name": "stderr"
        }
      ]
    },
    {
      "cell_type": "code",
      "metadata": {
        "id": "AlyS7sYfVkag",
        "colab_type": "code",
        "outputId": "bda8977a-b3d0-4e8a-9106-5d54450abe8d",
        "colab": {
          "base_uri": "https://localhost:8080/",
          "height": 34
        }
      },
      "source": [
        "import keras\n",
        "from tensorflow.keras import backend as K\n",
        "from tensorflow.keras.preprocessing.text import Tokenizer\n",
        "from tensorflow.keras.preprocessing.sequence import pad_sequences\n",
        "from tensorflow.keras.layers import Input, Concatenate, Dense, LSTM, Embedding, Dropout, Activation, SpatialDropout1D\n",
        "from tensorflow.keras.layers import Bidirectional, Flatten, BatchNormalization, Conv1D, MaxPooling1D, SimpleRNN\n",
        "from tensorflow.keras.models import Model, Sequential\n",
        "from tensorflow.keras.callbacks import EarlyStopping, ReduceLROnPlateau\n",
        "import tensorflow.keras.regularizers as regularizers\n",
        "import tensorflow.keras.optimizers as optimizers\n",
        "#from tensorflow.keras.layers.merge import concatenate\n",
        "from keras.utils.vis_utils import plot_model\n"
      ],
      "execution_count": 8,
      "outputs": [
        {
          "output_type": "stream",
          "text": [
            "Using TensorFlow backend.\n"
          ],
          "name": "stderr"
        }
      ]
    },
    {
      "cell_type": "markdown",
      "metadata": {
        "id": "mbgWcNnvRRvW",
        "colab_type": "text"
      },
      "source": [
        "###**Load Document**"
      ]
    },
    {
      "cell_type": "code",
      "metadata": {
        "id": "Pel-5HyFV6AL",
        "colab_type": "code",
        "colab": {}
      },
      "source": [
        "def load_doc(filename):\n",
        "  if(filename.endswith('.xlsx')):\n",
        "    data_df = pd.read_excel(filename, lines=True)\n",
        "  elif(filename.endswith('.csv')):\n",
        "    data_df = pd.read_csv(filename, keep_default_na = False)\n",
        "  return data_df"
      ],
      "execution_count": 0,
      "outputs": []
    },
    {
      "cell_type": "code",
      "metadata": {
        "id": "DfpAjSjDcB6n",
        "colab_type": "code",
        "colab": {}
      },
      "source": [
        "def encode_target(target):\n",
        "  le = LabelEncoder()\n",
        "  return le.fit_transform(target), le\n",
        "\n",
        "def decode_prediction(pred, encoder):\n",
        "  return encoder.inverse_transform(pred) "
      ],
      "execution_count": 0,
      "outputs": []
    },
    {
      "cell_type": "code",
      "metadata": {
        "id": "xynMp03sVlv6",
        "colab_type": "code",
        "outputId": "bf9217a1-5506-4f1e-9604-01311c722ca6",
        "colab": {
          "base_uri": "https://localhost:8080/",
          "height": 34
        }
      },
      "source": [
        "cleansed_data_df = load_doc(PROJECT_DIR+CLEANSED_FILE_DIR+'cleansed_data.csv')\n",
        "print('shape of Data : ', cleansed_data_df.shape)"
      ],
      "execution_count": 11,
      "outputs": [
        {
          "output_type": "stream",
          "text": [
            "shape of Data :  (5419, 5)\n"
          ],
          "name": "stdout"
        }
      ]
    },
    {
      "cell_type": "code",
      "metadata": {
        "id": "bjRgMN4Bd9Eq",
        "colab_type": "code",
        "outputId": "327dbfc6-509f-464b-b841-a183c7940a40",
        "colab": {
          "base_uri": "https://localhost:8080/",
          "height": 173
        }
      },
      "source": [
        "cleansed_data_df.describe()"
      ],
      "execution_count": 12,
      "outputs": [
        {
          "output_type": "execute_result",
          "data": {
            "text/html": [
              "<div>\n",
              "<style scoped>\n",
              "    .dataframe tbody tr th:only-of-type {\n",
              "        vertical-align: middle;\n",
              "    }\n",
              "\n",
              "    .dataframe tbody tr th {\n",
              "        vertical-align: top;\n",
              "    }\n",
              "\n",
              "    .dataframe thead th {\n",
              "        text-align: right;\n",
              "    }\n",
              "</style>\n",
              "<table border=\"1\" class=\"dataframe\">\n",
              "  <thead>\n",
              "    <tr style=\"text-align: right;\">\n",
              "      <th></th>\n",
              "      <th>short_description</th>\n",
              "      <th>description</th>\n",
              "      <th>combined_desc</th>\n",
              "      <th>caller</th>\n",
              "      <th>assignment_group</th>\n",
              "    </tr>\n",
              "  </thead>\n",
              "  <tbody>\n",
              "    <tr>\n",
              "      <th>count</th>\n",
              "      <td>5419</td>\n",
              "      <td>5419</td>\n",
              "      <td>5419</td>\n",
              "      <td>5419</td>\n",
              "      <td>5419</td>\n",
              "    </tr>\n",
              "    <tr>\n",
              "      <th>unique</th>\n",
              "      <td>3976</td>\n",
              "      <td>5419</td>\n",
              "      <td>5419</td>\n",
              "      <td>2351</td>\n",
              "      <td>52</td>\n",
              "    </tr>\n",
              "    <tr>\n",
              "      <th>top</th>\n",
              "      <td></td>\n",
              "      <td>install project</td>\n",
              "      <td>password locked password manager password lock...</td>\n",
              "      <td>rbozivdq gmlhrtvp</td>\n",
              "      <td>GRP_0</td>\n",
              "    </tr>\n",
              "    <tr>\n",
              "      <th>freq</th>\n",
              "      <td>306</td>\n",
              "      <td>1</td>\n",
              "      <td>1</td>\n",
              "      <td>46</td>\n",
              "      <td>2619</td>\n",
              "    </tr>\n",
              "  </tbody>\n",
              "</table>\n",
              "</div>"
            ],
            "text/plain": [
              "       short_description      description  ...             caller assignment_group\n",
              "count               5419             5419  ...               5419             5419\n",
              "unique              3976             5419  ...               2351               52\n",
              "top                       install project  ...  rbozivdq gmlhrtvp            GRP_0\n",
              "freq                 306                1  ...                 46             2619\n",
              "\n",
              "[4 rows x 5 columns]"
            ]
          },
          "metadata": {
            "tags": []
          },
          "execution_count": 12
        }
      ]
    },
    {
      "cell_type": "code",
      "metadata": {
        "id": "_YlfOD-S45Fc",
        "colab_type": "code",
        "outputId": "a145cb93-1409-417b-cfee-15af92bfc7f4",
        "colab": {
          "base_uri": "https://localhost:8080/",
          "height": 204
        }
      },
      "source": [
        "cleansed_data_df.head()"
      ],
      "execution_count": 13,
      "outputs": [
        {
          "output_type": "execute_result",
          "data": {
            "text/html": [
              "<div>\n",
              "<style scoped>\n",
              "    .dataframe tbody tr th:only-of-type {\n",
              "        vertical-align: middle;\n",
              "    }\n",
              "\n",
              "    .dataframe tbody tr th {\n",
              "        vertical-align: top;\n",
              "    }\n",
              "\n",
              "    .dataframe thead th {\n",
              "        text-align: right;\n",
              "    }\n",
              "</style>\n",
              "<table border=\"1\" class=\"dataframe\">\n",
              "  <thead>\n",
              "    <tr style=\"text-align: right;\">\n",
              "      <th></th>\n",
              "      <th>short_description</th>\n",
              "      <th>description</th>\n",
              "      <th>combined_desc</th>\n",
              "      <th>caller</th>\n",
              "      <th>assignment_group</th>\n",
              "    </tr>\n",
              "  </thead>\n",
              "  <tbody>\n",
              "    <tr>\n",
              "      <th>0</th>\n",
              "      <td>login issue</td>\n",
              "      <td>user manager checked user ad reset password ad...</td>\n",
              "      <td>login issue user manager checked user ad reset...</td>\n",
              "      <td>spxjnwir pjlcoqds</td>\n",
              "      <td>GRP_0</td>\n",
              "    </tr>\n",
              "    <tr>\n",
              "      <th>1</th>\n",
              "      <td>outlook</td>\n",
              "      <td>received team not outlook calendar somebody ad...</td>\n",
              "      <td>outlook received team not outlook calendar som...</td>\n",
              "      <td>hmjdrvpb komuaywn</td>\n",
              "      <td>GRP_0</td>\n",
              "    </tr>\n",
              "    <tr>\n",
              "      <th>2</th>\n",
              "      <td>cant log</td>\n",
              "      <td>received cannot log</td>\n",
              "      <td>cant log received cannot log</td>\n",
              "      <td>eylqgodm ybqkwiam</td>\n",
              "      <td>GRP_0</td>\n",
              "    </tr>\n",
              "    <tr>\n",
              "      <th>3</th>\n",
              "      <td>unable access page</td>\n",
              "      <td>unable access page</td>\n",
              "      <td>unable access page unable access page</td>\n",
              "      <td>xbkucsvz gcpydteq</td>\n",
              "      <td>GRP_0</td>\n",
              "    </tr>\n",
              "    <tr>\n",
              "      <th>4</th>\n",
              "      <td>error</td>\n",
              "      <td>error</td>\n",
              "      <td>error error</td>\n",
              "      <td>owlgqjme qhcozdfx</td>\n",
              "      <td>GRP_0</td>\n",
              "    </tr>\n",
              "  </tbody>\n",
              "</table>\n",
              "</div>"
            ],
            "text/plain": [
              "    short_description  ... assignment_group\n",
              "0         login issue  ...            GRP_0\n",
              "1             outlook  ...            GRP_0\n",
              "2            cant log  ...            GRP_0\n",
              "3  unable access page  ...            GRP_0\n",
              "4               error  ...            GRP_0\n",
              "\n",
              "[5 rows x 5 columns]"
            ]
          },
          "metadata": {
            "tags": []
          },
          "execution_count": 13
        }
      ]
    },
    {
      "cell_type": "code",
      "metadata": {
        "id": "u29Z3KeNZUZx",
        "colab_type": "code",
        "outputId": "1029d243-564f-4913-d59d-45e0ebd58d97",
        "colab": {
          "base_uri": "https://localhost:8080/",
          "height": 918
        }
      },
      "source": [
        "cleansed_data_df['assignment_group'].value_counts()"
      ],
      "execution_count": 14,
      "outputs": [
        {
          "output_type": "execute_result",
          "data": {
            "text/plain": [
              "GRP_0         2619\n",
              "GRP_2          218\n",
              "GRP_12         196\n",
              "GRP_19         195\n",
              "GRP_3          190\n",
              "GRP_8          137\n",
              "GRP_13         136\n",
              "GRP_14         110\n",
              "GRP_25         103\n",
              "GRP_29          93\n",
              "GRP_16          83\n",
              "GRP_18          82\n",
              "GRP_24          81\n",
              "GRP_4           78\n",
              "GRP_10          75\n",
              "GRP_33          71\n",
              "GRP_9           66\n",
              "GRP_7           65\n",
              "GRP_6           58\n",
              "GRP_26          54\n",
              "GRP_COMMON      52\n",
              "GRP_34          50\n",
              "GRP_40          45\n",
              "GRP_28          42\n",
              "GRP_41          39\n",
              "GRP_15          38\n",
              "GRP_20          36\n",
              "GRP_22          31\n",
              "GRP_31          30\n",
              "GRP_11          30\n",
              "GRP_21          28\n",
              "GRP_45          27\n",
              "GRP_42          25\n",
              "GRP_23          24\n",
              "GRP_62          23\n",
              "GRP_5           21\n",
              "GRP_1           17\n",
              "GRP_37          16\n",
              "GRP_27          15\n",
              "GRP_50          13\n",
              "GRP_44          13\n",
              "GRP_47          12\n",
              "GRP_39          11\n",
              "GRP_65          10\n",
              "GRP_36          10\n",
              "GRP_53           9\n",
              "GRP_52           9\n",
              "GRP_55           8\n",
              "GRP_51           7\n",
              "GRP_59           6\n",
              "GRP_46           6\n",
              "GRP_30           6\n",
              "Name: assignment_group, dtype: int64"
            ]
          },
          "metadata": {
            "tags": []
          },
          "execution_count": 14
        }
      ]
    },
    {
      "cell_type": "code",
      "metadata": {
        "id": "-EbgDRKWjZXe",
        "colab_type": "code",
        "outputId": "974c9429-6dfc-4813-9c56-33cf8fc5b1b1",
        "colab": {
          "base_uri": "https://localhost:8080/",
          "height": 71
        }
      },
      "source": [
        "cleansed_data_df['description_length'] = cleansed_data_df['description'].str.len()\n",
        "desc_max_length = cleansed_data_df['description_length'].max()\n",
        "maxlen_desc_idx = cleansed_data_df['description_length'].idxmax()\n",
        "print('Desc with max length ({}) at index {}:\\n{}'.format(desc_max_length,maxlen_desc_idx,cleansed_data_df['description'].loc[maxlen_desc_idx]))"
      ],
      "execution_count": 15,
      "outputs": [
        {
          "output_type": "stream",
          "text": [
            "Desc with max length (2900) at index 2662:\n",
            "source system user location unknown status field user no event log incident overview seeing device generating server response sinkhole set probable infected asset traffic not blocked port port device host likely infected return traffic likely visit domain give false information order prevent use domain address resolution sinkhole traffic possible indicator infected computer reaching controller taken law enforcement research organization part mitigation effort traffic sinkhole activity administrator may curious particular domain browse signature repeated sinkhole however clear indication infection incident via high priority ticket per default would like us handle differently future see handling let us know either corresponding us via ticket ticket back soc calling us ticket sinkhole domain explicit notification via medium priority ticket no phone call sinkhole domain directly portal no explicit notification available portal sincerely soc technical domain system hierarchical naming system resource connected private network primary purpose various information domain assigned primarily used domain purpose service network domain system responsibility domain authoritative domain authoritative assigned responsible may delegate authority domain system also technical functionality service protocol detailed specification data data communication used part protocol suite give incorrect information order prevent use domain address resolution client resolve address hole domain sinkhole address address except real address client connection target host method easily found sinkhole another method used command control taken law enforcement part mitigation effort traffic sinkhole activity administrator may curious particular domain browse signature repeated sinkhole clear indication infection sort may seem somewhat benign certainly include information leakage extent although sinkhole unlikely use personally identifiable information may capture communication may become public knowledge company infected may lead damage additionally feeding may impede access certain like sending finally may connect multiple controller even though may may not leading possibility remote code execution information leakage malicious event data related event id event summary server response sinkhole set probable infected asset occurrence count event count host connection information source source port source destination destination destination port destination mac address connection incoming protocol status code device information device device log time action not blocked vendor score vendor priority vendor version event information sherlock rule id inspector event id ontology id event type id agent id event detail server response sinkhole set probable infected asset classification none priority action accept impact blocked label sensor id id win via relay renew ascii ascii ascii hex hex hex\n"
          ],
          "name": "stdout"
        }
      ]
    },
    {
      "cell_type": "markdown",
      "metadata": {
        "id": "aHkycW10Y6Vk",
        "colab_type": "text"
      },
      "source": [
        "###**Train & Test Data:**"
      ]
    },
    {
      "cell_type": "code",
      "metadata": {
        "id": "1kA4Zjw7ax8t",
        "colab_type": "code",
        "colab": {}
      },
      "source": [
        "#X = cleansed_data_df['description']\n",
        "X = cleansed_data_df['combined_desc']\n",
        "y = cleansed_data_df.assignment_group\n",
        "y, le = encode_target(y)"
      ],
      "execution_count": 0,
      "outputs": []
    },
    {
      "cell_type": "code",
      "metadata": {
        "id": "5YN3cAm-Y5ph",
        "colab_type": "code",
        "colab": {}
      },
      "source": [
        "X_train, X_test, y_train, y_test = train_test_split(X,y, test_size = 0.1, stratify=y, random_state = 10)"
      ],
      "execution_count": 0,
      "outputs": []
    },
    {
      "cell_type": "code",
      "metadata": {
        "id": "0M-4t5Pb6PyZ",
        "colab_type": "code",
        "outputId": "ba3c6f4d-df1a-4f99-a2b9-7099a3014718",
        "colab": {
          "base_uri": "https://localhost:8080/",
          "height": 85
        }
      },
      "source": [
        "print('Shape of X_train : ',X_train.shape)\n",
        "print('Shape of X_test : ',X_test.shape)\n",
        "print('Shape of y_train : ',y_train.shape)\n",
        "print('Shape of y_test : ',y_test.shape)"
      ],
      "execution_count": 18,
      "outputs": [
        {
          "output_type": "stream",
          "text": [
            "Shape of X_train :  (4877,)\n",
            "Shape of X_test :  (542,)\n",
            "Shape of y_train :  (4877,)\n",
            "Shape of y_test :  (542,)\n"
          ],
          "name": "stdout"
        }
      ]
    },
    {
      "cell_type": "code",
      "metadata": {
        "id": "U018Gc6WULbN",
        "colab_type": "code",
        "colab": {}
      },
      "source": [
        "#pd.DataFrame(data = y_test.assignment_group.value_counts())"
      ],
      "execution_count": 0,
      "outputs": []
    },
    {
      "cell_type": "markdown",
      "metadata": {
        "id": "QKbcHMgfFCra",
        "colab_type": "text"
      },
      "source": [
        "###**TF-IDF Vectors as features :**"
      ]
    },
    {
      "cell_type": "code",
      "metadata": {
        "id": "HSshwFnAaSJs",
        "colab_type": "code",
        "colab": {}
      },
      "source": [
        "unigram_vocab = load_doc(PROJECT_DIR+CLEANSED_FILE_DIR+'tfidf_based_unigram_tokens.csv')\n",
        "bigram_vocab = load_doc(PROJECT_DIR+CLEANSED_FILE_DIR+'tfidf_based_bigram_tokens.csv')\n",
        "trigram_vocab = load_doc(PROJECT_DIR+CLEANSED_FILE_DIR+'tfidf_based_trigram_tokens.csv')"
      ],
      "execution_count": 0,
      "outputs": []
    },
    {
      "cell_type": "code",
      "metadata": {
        "id": "Jt4hFQZZaXgU",
        "colab_type": "code",
        "outputId": "653a1903-f634-4b64-e583-a78c02ad4aff",
        "colab": {
          "base_uri": "https://localhost:8080/",
          "height": 68
        }
      },
      "source": [
        "print('unigram vocab : ', unigram_vocab.shape)\n",
        "print('bigram vocab : ', bigram_vocab.shape)\n",
        "print('trigram vocab : ', trigram_vocab.shape)"
      ],
      "execution_count": 21,
      "outputs": [
        {
          "output_type": "stream",
          "text": [
            "unigram vocab :  (2659, 2)\n",
            "bigram vocab :  (26692, 2)\n",
            "trigram vocab :  (36155, 2)\n"
          ],
          "name": "stdout"
        }
      ]
    },
    {
      "cell_type": "code",
      "metadata": {
        "id": "16yzB2h_acvC",
        "colab_type": "code",
        "colab": {}
      },
      "source": [
        "unigram_bigram_vocab = unigram_vocab.append(bigram_vocab)\n",
        "unigram_bigram_trigram_vocab = unigram_bigram_vocab.append(trigram_vocab)"
      ],
      "execution_count": 0,
      "outputs": []
    },
    {
      "cell_type": "code",
      "metadata": {
        "id": "rRKocK9OaoV_",
        "colab_type": "code",
        "outputId": "2a029d1d-8608-495f-f90a-8de43a0cd2ed",
        "colab": {
          "base_uri": "https://localhost:8080/",
          "height": 68
        }
      },
      "source": [
        "print('unigram vocab : ', unigram_vocab.shape)\n",
        "print('unigram + bigram vocab : ', unigram_bigram_vocab.shape)\n",
        "print('unigram + bigram + trigram vocab : ', unigram_bigram_trigram_vocab.shape)"
      ],
      "execution_count": 23,
      "outputs": [
        {
          "output_type": "stream",
          "text": [
            "unigram vocab :  (2659, 2)\n",
            "unigram + bigram vocab :  (29351, 2)\n",
            "unigram + bigram + trigram vocab :  (65506, 2)\n"
          ],
          "name": "stdout"
        }
      ]
    },
    {
      "cell_type": "code",
      "metadata": {
        "id": "XoKlK-FFat2b",
        "colab_type": "code",
        "colab": {}
      },
      "source": [
        "unigram_max_features = 5000\n",
        "bigram_max_features = 20000\n",
        "trigram_max_features = 40000\n",
        "\n",
        "maxlen = cleansed_data_df['description_length'].max()\n",
        "embedding_size = 200"
      ],
      "execution_count": 0,
      "outputs": []
    },
    {
      "cell_type": "code",
      "metadata": {
        "id": "Xj25EBrB6Tmh",
        "colab_type": "code",
        "outputId": "ee252fdc-e57e-4614-84d6-6bf8807e3f7c",
        "colab": {
          "base_uri": "https://localhost:8080/",
          "height": 68
        }
      },
      "source": [
        "unigram_tokenizer = TfidfVectorizer(ngram_range=(1,1), max_features = unigram_max_features, vocabulary=unigram_vocab['words']).fit(X)\n",
        "X_train_unigram_seq = unigram_tokenizer.transform(X_train)\n",
        "X_test_unigram_seq = unigram_tokenizer.transform(X_test)\n",
        "print('Vocabulary size of unigram :', len(unigram_tokenizer.vocabulary_))\n",
        "\n",
        "bigram_tokenizer = TfidfVectorizer(ngram_range=(1,2), max_features = bigram_max_features, vocabulary=unigram_bigram_vocab['words']).fit(X)\n",
        "X_train_bigram_seq = bigram_tokenizer.transform(X_train)\n",
        "X_test_bigram_seq = bigram_tokenizer.transform(X_test)\n",
        "print('Vocabulary size of bigram :', len(bigram_tokenizer.vocabulary_))\n",
        "\n",
        "trigram_tokenizer = TfidfVectorizer(ngram_range=(1,3), max_features = trigram_max_features, vocabulary=unigram_bigram_trigram_vocab['words']).fit(X)\n",
        "X_train_trigram_seq = trigram_tokenizer.transform(X_train)\n",
        "X_test_trigram_seq = trigram_tokenizer.transform(X_test)\n",
        "print('Vocabulary size of trigram :', len(trigram_tokenizer.vocabulary_))"
      ],
      "execution_count": 25,
      "outputs": [
        {
          "output_type": "stream",
          "text": [
            "Vocabulary size of unigram : 2659\n",
            "Vocabulary size of bigram : 29351\n",
            "Vocabulary size of trigram : 65506\n"
          ],
          "name": "stdout"
        }
      ]
    },
    {
      "cell_type": "code",
      "metadata": {
        "id": "sM8N-PFx6r4d",
        "colab_type": "code",
        "outputId": "2d082dec-35b9-498e-e3b5-fa3c3fce1de8",
        "colab": {
          "base_uri": "https://localhost:8080/",
          "height": 119
        }
      },
      "source": [
        "print('Shape of X_train_unigram_seq : ',X_train_unigram_seq.shape)\n",
        "print('Shape of X_test_unigram_seq : ',X_test_unigram_seq.shape)\n",
        "print('Shape of X_train_bigram_seq : ',X_train_bigram_seq.shape)\n",
        "print('Shape of X_test_bigram_seq : ',X_test_bigram_seq.shape)\n",
        "print('Shape of X_train_trigram_seq : ',X_train_trigram_seq.shape)\n",
        "print('Shape of X_test_trigram_seq : ',X_test_trigram_seq.shape)"
      ],
      "execution_count": 26,
      "outputs": [
        {
          "output_type": "stream",
          "text": [
            "Shape of X_train_unigram_seq :  (4877, 2659)\n",
            "Shape of X_test_unigram_seq :  (542, 2659)\n",
            "Shape of X_train_bigram_seq :  (4877, 29351)\n",
            "Shape of X_test_bigram_seq :  (542, 29351)\n",
            "Shape of X_train_trigram_seq :  (4877, 65506)\n",
            "Shape of X_test_trigram_seq :  (542, 65506)\n"
          ],
          "name": "stdout"
        }
      ]
    },
    {
      "cell_type": "markdown",
      "metadata": {
        "id": "Bi18pym11OoS",
        "colab_type": "text"
      },
      "source": [
        "###**Machine Learning Models :**"
      ]
    },
    {
      "cell_type": "markdown",
      "metadata": {
        "id": "-0IVQFQeUK4C",
        "colab_type": "text"
      },
      "source": [
        "#####Pre-Requiste"
      ]
    },
    {
      "cell_type": "code",
      "metadata": {
        "id": "8XTkfUy44sh_",
        "colab_type": "code",
        "colab": {}
      },
      "source": [
        "from sklearn import model_selection, preprocessing, linear_model, naive_bayes, metrics, svm, neighbors\n",
        "from sklearn.feature_extraction.text import TfidfVectorizer, CountVectorizer\n",
        "from sklearn import decomposition, ensemble\n",
        "\n",
        "import xgboost, numpy, textblob, string\n",
        "from keras.preprocessing import text, sequence\n",
        "from keras import layers, models, optimizers, regularizers\n",
        "from keras.callbacks import EarlyStopping, ReduceLROnPlateau"
      ],
      "execution_count": 0,
      "outputs": []
    },
    {
      "cell_type": "code",
      "metadata": {
        "id": "W-icf9oU1NzI",
        "colab_type": "code",
        "colab": {}
      },
      "source": [
        "def train_model(model, feature_train, target_train, feature_validate, target_validate):\n",
        "    # fit the training dataset on the classifier\n",
        "    fitted_model = model.fit(feature_train, target_train)\n",
        "    # predict the labels on validation dataset\n",
        "    predictions = model.predict(feature_validate)\n",
        "    return (fitted_model.score(feature_train, target_train)*100).round(3),(metrics.accuracy_score(predictions, target_validate)*100).round(3)"
      ],
      "execution_count": 0,
      "outputs": []
    },
    {
      "cell_type": "code",
      "metadata": {
        "id": "YMETRb8KmvZ1",
        "colab_type": "code",
        "colab": {}
      },
      "source": [
        "accuracy_text = '| Train : {} ~~ Test: {} |'"
      ],
      "execution_count": 0,
      "outputs": []
    },
    {
      "cell_type": "code",
      "metadata": {
        "id": "G66hnW4cLoMH",
        "colab_type": "code",
        "colab": {}
      },
      "source": [
        "accuracy_df = pd.DataFrame(columns = ['Model' , 'unigram-tfidf Accuracy', 'bigram-tfidf Accuracy' , 'trigram-tfidf Accuracy']) "
      ],
      "execution_count": 0,
      "outputs": []
    },
    {
      "cell_type": "code",
      "metadata": {
        "id": "w0VlXpCDMZHd",
        "colab_type": "code",
        "outputId": "0f495a20-50e3-41d1-8ca1-89928d72ed48",
        "colab": {
          "base_uri": "https://localhost:8080/",
          "height": 34
        }
      },
      "source": [
        "accuracy_df.shape"
      ],
      "execution_count": 0,
      "outputs": [
        {
          "output_type": "execute_result",
          "data": {
            "text/plain": [
              "(0, 4)"
            ]
          },
          "metadata": {
            "tags": []
          },
          "execution_count": 127
        }
      ]
    },
    {
      "cell_type": "markdown",
      "metadata": {
        "id": "u_5-l0CT3TN5",
        "colab_type": "text"
      },
      "source": [
        "####**Naive Bayes :**"
      ]
    },
    {
      "cell_type": "code",
      "metadata": {
        "id": "Doj6A1IZ3Sev",
        "colab_type": "code",
        "outputId": "359879c7-19dc-4aa1-aa59-b51cd92c6971",
        "colab": {
          "base_uri": "https://localhost:8080/",
          "height": 80
        }
      },
      "source": [
        "# Naive Bayes on tfidf Vectors\n",
        "train_acc1, test_acc1 = train_model(naive_bayes.MultinomialNB(), X_train_unigram_seq, y_train, X_test_unigram_seq, y_test)\n",
        "train_acc2, test_acc2 = train_model(naive_bayes.MultinomialNB(), X_train_bigram_seq,  y_train, X_test_bigram_seq,  y_test)\n",
        "train_acc3, test_acc3 = train_model(naive_bayes.MultinomialNB(), X_train_trigram_seq, y_train, X_test_trigram_seq, y_test)\n",
        "\n",
        "accuracy_df = accuracy_df.append(pd.Series(['Naive Bayes', accuracy_text.format(train_acc1, test_acc1),\n",
        "                                            accuracy_text.format(train_acc2, test_acc2),\n",
        "                                            accuracy_text.format(train_acc3, test_acc3),],\n",
        "                                           index=accuracy_df.columns), ignore_index=True)\n",
        "accuracy_df"
      ],
      "execution_count": 0,
      "outputs": [
        {
          "output_type": "execute_result",
          "data": {
            "text/html": [
              "<div>\n",
              "<style scoped>\n",
              "    .dataframe tbody tr th:only-of-type {\n",
              "        vertical-align: middle;\n",
              "    }\n",
              "\n",
              "    .dataframe tbody tr th {\n",
              "        vertical-align: top;\n",
              "    }\n",
              "\n",
              "    .dataframe thead th {\n",
              "        text-align: right;\n",
              "    }\n",
              "</style>\n",
              "<table border=\"1\" class=\"dataframe\">\n",
              "  <thead>\n",
              "    <tr style=\"text-align: right;\">\n",
              "      <th></th>\n",
              "      <th>Model</th>\n",
              "      <th>unigram-tfidf Accuracy</th>\n",
              "      <th>bigram-tfidf Accuracy</th>\n",
              "      <th>trigram-tfidf Accuracy</th>\n",
              "    </tr>\n",
              "  </thead>\n",
              "  <tbody>\n",
              "    <tr>\n",
              "      <th>0</th>\n",
              "      <td>Naive Bayes</td>\n",
              "      <td>| Train : 51.323 ~~ Test: 51.292 |</td>\n",
              "      <td>| Train : 50.072 ~~ Test: 50.0 |</td>\n",
              "      <td>| Train : 49.846 ~~ Test: 49.815 |</td>\n",
              "    </tr>\n",
              "  </tbody>\n",
              "</table>\n",
              "</div>"
            ],
            "text/plain": [
              "         Model  ...              trigram-tfidf Accuracy\n",
              "0  Naive Bayes  ...  | Train : 49.846 ~~ Test: 49.815 |\n",
              "\n",
              "[1 rows x 4 columns]"
            ]
          },
          "metadata": {
            "tags": []
          },
          "execution_count": 31
        }
      ]
    },
    {
      "cell_type": "markdown",
      "metadata": {
        "id": "qH139k2yGTUp",
        "colab_type": "text"
      },
      "source": [
        "####**Linear Classifier :**"
      ]
    },
    {
      "cell_type": "code",
      "metadata": {
        "id": "Mvb1mua91N_9",
        "colab_type": "code",
        "outputId": "99975b33-a1b9-4985-a89f-1939ef2c7eda",
        "colab": {
          "base_uri": "https://localhost:8080/",
          "height": 111
        }
      },
      "source": [
        "# Logistic Regression on tfidf Vectors\n",
        "train_acc1, test_acc1 = train_model(linear_model.LogisticRegression(), X_train_unigram_seq, y_train, X_test_unigram_seq, y_test)\n",
        "train_acc2, test_acc2 = train_model(linear_model.LogisticRegression(), X_train_bigram_seq,  y_train, X_test_bigram_seq,  y_test)\n",
        "train_acc3, test_acc3 = train_model(linear_model.LogisticRegression(), X_train_trigram_seq, y_train, X_test_trigram_seq, y_test)\n",
        "\n",
        "accuracy_df = accuracy_df.append(pd.Series(['Linear-Logistic Regression', accuracy_text.format(train_acc1, test_acc1),\n",
        "                                            accuracy_text.format(train_acc2, test_acc2),\n",
        "                                            accuracy_text.format(train_acc3, test_acc3),],\n",
        "                                           index=accuracy_df.columns), ignore_index=True)\n",
        "accuracy_df"
      ],
      "execution_count": 0,
      "outputs": [
        {
          "output_type": "execute_result",
          "data": {
            "text/html": [
              "<div>\n",
              "<style scoped>\n",
              "    .dataframe tbody tr th:only-of-type {\n",
              "        vertical-align: middle;\n",
              "    }\n",
              "\n",
              "    .dataframe tbody tr th {\n",
              "        vertical-align: top;\n",
              "    }\n",
              "\n",
              "    .dataframe thead th {\n",
              "        text-align: right;\n",
              "    }\n",
              "</style>\n",
              "<table border=\"1\" class=\"dataframe\">\n",
              "  <thead>\n",
              "    <tr style=\"text-align: right;\">\n",
              "      <th></th>\n",
              "      <th>Model</th>\n",
              "      <th>unigram-tfidf Accuracy</th>\n",
              "      <th>bigram-tfidf Accuracy</th>\n",
              "      <th>trigram-tfidf Accuracy</th>\n",
              "    </tr>\n",
              "  </thead>\n",
              "  <tbody>\n",
              "    <tr>\n",
              "      <th>0</th>\n",
              "      <td>Naive Bayes</td>\n",
              "      <td>| Train : 51.323 ~~ Test: 51.292 |</td>\n",
              "      <td>| Train : 50.072 ~~ Test: 50.0 |</td>\n",
              "      <td>| Train : 49.846 ~~ Test: 49.815 |</td>\n",
              "    </tr>\n",
              "    <tr>\n",
              "      <th>1</th>\n",
              "      <td>Linear-Logistic Regression</td>\n",
              "      <td>| Train : 54.398 ~~ Test: 53.506 |</td>\n",
              "      <td>| Train : 52.204 ~~ Test: 51.292 |</td>\n",
              "      <td>| Train : 51.425 ~~ Test: 51.107 |</td>\n",
              "    </tr>\n",
              "  </tbody>\n",
              "</table>\n",
              "</div>"
            ],
            "text/plain": [
              "                        Model  ...              trigram-tfidf Accuracy\n",
              "0                 Naive Bayes  ...  | Train : 49.846 ~~ Test: 49.815 |\n",
              "1  Linear-Logistic Regression  ...  | Train : 51.425 ~~ Test: 51.107 |\n",
              "\n",
              "[2 rows x 4 columns]"
            ]
          },
          "metadata": {
            "tags": []
          },
          "execution_count": 32
        }
      ]
    },
    {
      "cell_type": "markdown",
      "metadata": {
        "id": "84MpqUdaGlWw",
        "colab_type": "text"
      },
      "source": [
        "####**Support Vector Machines :**"
      ]
    },
    {
      "cell_type": "code",
      "metadata": {
        "id": "MiMzmeH0Glrq",
        "colab_type": "code",
        "outputId": "2f531fb0-8a54-4cd3-818c-9e1b674b0c66",
        "colab": {
          "base_uri": "https://localhost:8080/",
          "height": 142
        }
      },
      "source": [
        "# SVM on tfidf Vectors\n",
        "train_acc1, test_acc1 = train_model(svm.SVC(), X_train_unigram_seq, y_train, X_test_unigram_seq, y_test)\n",
        "train_acc2, test_acc2 = train_model(svm.SVC(), X_train_bigram_seq,  y_train, X_test_bigram_seq,  y_test)\n",
        "train_acc3, test_acc3 = train_model(svm.SVC(), X_train_trigram_seq, y_train, X_test_trigram_seq, y_test)\n",
        "\n",
        "accuracy_df = accuracy_df.append(pd.Series(['SVM Classifier', \n",
        "                                            accuracy_text.format(train_acc1, test_acc1),\n",
        "                                            accuracy_text.format(train_acc2, test_acc2),\n",
        "                                            accuracy_text.format(train_acc3, test_acc3),],\n",
        "                                           index=accuracy_df.columns), ignore_index=True)\n",
        "accuracy_df"
      ],
      "execution_count": 0,
      "outputs": [
        {
          "output_type": "execute_result",
          "data": {
            "text/html": [
              "<div>\n",
              "<style scoped>\n",
              "    .dataframe tbody tr th:only-of-type {\n",
              "        vertical-align: middle;\n",
              "    }\n",
              "\n",
              "    .dataframe tbody tr th {\n",
              "        vertical-align: top;\n",
              "    }\n",
              "\n",
              "    .dataframe thead th {\n",
              "        text-align: right;\n",
              "    }\n",
              "</style>\n",
              "<table border=\"1\" class=\"dataframe\">\n",
              "  <thead>\n",
              "    <tr style=\"text-align: right;\">\n",
              "      <th></th>\n",
              "      <th>Model</th>\n",
              "      <th>unigram-tfidf Accuracy</th>\n",
              "      <th>bigram-tfidf Accuracy</th>\n",
              "      <th>trigram-tfidf Accuracy</th>\n",
              "    </tr>\n",
              "  </thead>\n",
              "  <tbody>\n",
              "    <tr>\n",
              "      <th>0</th>\n",
              "      <td>Naive Bayes</td>\n",
              "      <td>| Train : 51.323 ~~ Test: 51.292 |</td>\n",
              "      <td>| Train : 50.072 ~~ Test: 50.0 |</td>\n",
              "      <td>| Train : 49.846 ~~ Test: 49.815 |</td>\n",
              "    </tr>\n",
              "    <tr>\n",
              "      <th>1</th>\n",
              "      <td>Linear-Logistic Regression</td>\n",
              "      <td>| Train : 54.398 ~~ Test: 53.506 |</td>\n",
              "      <td>| Train : 52.204 ~~ Test: 51.292 |</td>\n",
              "      <td>| Train : 51.425 ~~ Test: 51.107 |</td>\n",
              "    </tr>\n",
              "    <tr>\n",
              "      <th>2</th>\n",
              "      <td>SVM Classifier</td>\n",
              "      <td>| Train : 66.701 ~~ Test: 52.952 |</td>\n",
              "      <td>| Train : 65.737 ~~ Test: 51.292 |</td>\n",
              "      <td>| Train : 62.108 ~~ Test: 51.107 |</td>\n",
              "    </tr>\n",
              "  </tbody>\n",
              "</table>\n",
              "</div>"
            ],
            "text/plain": [
              "                        Model  ...              trigram-tfidf Accuracy\n",
              "0                 Naive Bayes  ...  | Train : 49.846 ~~ Test: 49.815 |\n",
              "1  Linear-Logistic Regression  ...  | Train : 51.425 ~~ Test: 51.107 |\n",
              "2              SVM Classifier  ...  | Train : 62.108 ~~ Test: 51.107 |\n",
              "\n",
              "[3 rows x 4 columns]"
            ]
          },
          "metadata": {
            "tags": []
          },
          "execution_count": 33
        }
      ]
    },
    {
      "cell_type": "markdown",
      "metadata": {
        "id": "Dr2SPhzJHe7h",
        "colab_type": "text"
      },
      "source": [
        "####**RandomForest Classifier :**"
      ]
    },
    {
      "cell_type": "code",
      "metadata": {
        "id": "E2QSieh38mPb",
        "colab_type": "code",
        "colab": {}
      },
      "source": [
        "def randomforest_model(n_estimators,criterion,max_depth,min_samples_split):\n",
        "  rf_model = ensemble.RandomForestClassifier(n_estimators=n_estimators, n_jobs=2, criterion = criterion,\n",
        "                                          max_depth = max_depth, min_samples_split = min_samples_split, random_state=0)\n",
        "  return rf_model"
      ],
      "execution_count": 0,
      "outputs": []
    },
    {
      "cell_type": "code",
      "metadata": {
        "id": "FdBn3nyi_Wak",
        "colab_type": "code",
        "colab": {}
      },
      "source": [
        "from sklearn.model_selection import RandomizedSearchCV\n",
        "# Number of trees in random forest\n",
        "n_estimators = [int(x) for x in np.linspace(start = 200, stop = 2000, num = 10)]\n",
        "# Maximum number of levels in tree\n",
        "max_depth = [int(x) for x in np.linspace(100, 1000, num = 11)]\n",
        "max_depth.append(None)\n",
        "# Minimum number of samples required to split a node\n",
        "min_samples_split = [6, 10, 15]\n",
        "\n",
        "# Create the random grid\n",
        "random_grid = {'n_estimators': n_estimators,\n",
        "               'max_depth': max_depth,\n",
        "               'min_samples_split': min_samples_split}\n",
        "\n",
        "# Use the random grid to search for best hyperparameters\n",
        "rf = ensemble.RandomForestClassifier()\n",
        "# Random search of parameters, using 3 fold cross validation, \n",
        "rf_random = RandomizedSearchCV(estimator = rf, param_distributions = random_grid, n_iter = 50, cv = 3, verbose=2, random_state=42, n_jobs = 2)"
      ],
      "execution_count": 0,
      "outputs": []
    },
    {
      "cell_type": "code",
      "metadata": {
        "id": "sEjzmGayB_wL",
        "colab_type": "code",
        "colab": {}
      },
      "source": [
        "# Fit the random search model\n",
        "#rf_random.fit(X_train_trigram_seq, y_train)"
      ],
      "execution_count": 0,
      "outputs": []
    },
    {
      "cell_type": "code",
      "metadata": {
        "id": "f_7kAy4KABqH",
        "colab_type": "code",
        "colab": {}
      },
      "source": [
        "#rf_random.best_params_"
      ],
      "execution_count": 0,
      "outputs": []
    },
    {
      "cell_type": "code",
      "metadata": {
        "id": "1qJLmLqEGlx1",
        "colab_type": "code",
        "outputId": "fdf3da8f-ae97-46d5-c4c3-ccb96f89b48c",
        "colab": {
          "base_uri": "https://localhost:8080/",
          "height": 173
        }
      },
      "source": [
        "# RandomForest on tfidf Vectors\n",
        "n_estimators = 600\n",
        "criterion = 'gini'\n",
        "max_depth = 100\n",
        "min_samples_split = 6\n",
        "\n",
        "unigram_rf_model = randomforest_model(n_estimators,criterion,100,6)\n",
        "bigram_rf_model = randomforest_model(n_estimators,criterion,None,10)\n",
        "trigram_rf_model = randomforest_model(n_estimators,criterion,None,10)\n",
        "\n",
        "train_acc1, test_acc1 = train_model(unigram_rf_model, X_train_unigram_seq, y_train, X_test_unigram_seq, y_test)\n",
        "train_acc2, test_acc2 = train_model(bigram_rf_model, X_train_bigram_seq,  y_train, X_test_bigram_seq,  y_test)\n",
        "train_acc3, test_acc3 = train_model(trigram_rf_model, X_train_trigram_seq, y_train, X_test_trigram_seq, y_test)\n",
        "\n",
        "accuracy_df = accuracy_df.append(pd.Series(['RandomForest: Esti = {},Cri={},max_depth={}'.format(n_estimators,criterion,max_depth), \n",
        "                                            accuracy_text.format(train_acc1, test_acc1),\n",
        "                                            accuracy_text.format(train_acc2, test_acc2),\n",
        "                                            accuracy_text.format(train_acc3, test_acc3),],\n",
        "                                           index=accuracy_df.columns), ignore_index=True)\n",
        "\n",
        "accuracy_df"
      ],
      "execution_count": 0,
      "outputs": [
        {
          "output_type": "execute_result",
          "data": {
            "text/html": [
              "<div>\n",
              "<style scoped>\n",
              "    .dataframe tbody tr th:only-of-type {\n",
              "        vertical-align: middle;\n",
              "    }\n",
              "\n",
              "    .dataframe tbody tr th {\n",
              "        vertical-align: top;\n",
              "    }\n",
              "\n",
              "    .dataframe thead th {\n",
              "        text-align: right;\n",
              "    }\n",
              "</style>\n",
              "<table border=\"1\" class=\"dataframe\">\n",
              "  <thead>\n",
              "    <tr style=\"text-align: right;\">\n",
              "      <th></th>\n",
              "      <th>Model</th>\n",
              "      <th>unigram-tfidf Accuracy</th>\n",
              "      <th>bigram-tfidf Accuracy</th>\n",
              "      <th>trigram-tfidf Accuracy</th>\n",
              "    </tr>\n",
              "  </thead>\n",
              "  <tbody>\n",
              "    <tr>\n",
              "      <th>0</th>\n",
              "      <td>Naive Bayes</td>\n",
              "      <td>| Train : 51.323 ~~ Test: 51.292 |</td>\n",
              "      <td>| Train : 50.072 ~~ Test: 50.0 |</td>\n",
              "      <td>| Train : 49.846 ~~ Test: 49.815 |</td>\n",
              "    </tr>\n",
              "    <tr>\n",
              "      <th>1</th>\n",
              "      <td>Linear-Logistic Regression</td>\n",
              "      <td>| Train : 54.398 ~~ Test: 53.506 |</td>\n",
              "      <td>| Train : 52.204 ~~ Test: 51.292 |</td>\n",
              "      <td>| Train : 51.425 ~~ Test: 51.107 |</td>\n",
              "    </tr>\n",
              "    <tr>\n",
              "      <th>2</th>\n",
              "      <td>SVM Classifier</td>\n",
              "      <td>| Train : 66.701 ~~ Test: 52.952 |</td>\n",
              "      <td>| Train : 65.737 ~~ Test: 51.292 |</td>\n",
              "      <td>| Train : 62.108 ~~ Test: 51.107 |</td>\n",
              "    </tr>\n",
              "    <tr>\n",
              "      <th>3</th>\n",
              "      <td>RandomForest: Esti = 600,Cri=gini,max_depth=100</td>\n",
              "      <td>| Train : 63.728 ~~ Test: 54.982 |</td>\n",
              "      <td>| Train : 95.14 ~~ Test: 56.273 |</td>\n",
              "      <td>| Train : 96.76 ~~ Test: 55.535 |</td>\n",
              "    </tr>\n",
              "  </tbody>\n",
              "</table>\n",
              "</div>"
            ],
            "text/plain": [
              "                                             Model  ...              trigram-tfidf Accuracy\n",
              "0                                      Naive Bayes  ...  | Train : 49.846 ~~ Test: 49.815 |\n",
              "1                       Linear-Logistic Regression  ...  | Train : 51.425 ~~ Test: 51.107 |\n",
              "2                                   SVM Classifier  ...  | Train : 62.108 ~~ Test: 51.107 |\n",
              "3  RandomForest: Esti = 600,Cri=gini,max_depth=100  ...   | Train : 96.76 ~~ Test: 55.535 |\n",
              "\n",
              "[4 rows x 4 columns]"
            ]
          },
          "metadata": {
            "tags": []
          },
          "execution_count": 38
        }
      ]
    },
    {
      "cell_type": "markdown",
      "metadata": {
        "id": "S6LQPfCWIBKR",
        "colab_type": "text"
      },
      "source": [
        "####**XGBoost Classifier :**"
      ]
    },
    {
      "cell_type": "code",
      "metadata": {
        "id": "4i3FAVwzGlvt",
        "colab_type": "code",
        "colab": {}
      },
      "source": [
        "# XGBoost on tfidf Vectors\n",
        "train_acc1, test_acc1 = train_model(xgboost.XGBClassifier(), X_train_unigram_seq, y_train, X_test_unigram_seq, y_test)\n",
        "train_acc2, test_acc2 = train_model(xgboost.XGBClassifier(), X_train_bigram_seq, y_train, X_test_bigram_seq, y_test)\n",
        "train_acc3, test_acc3 = train_model(xgboost.XGBClassifier(), X_train_trigram_seq, y_train, X_test_trigram_seq, y_test)"
      ],
      "execution_count": 0,
      "outputs": []
    },
    {
      "cell_type": "code",
      "metadata": {
        "id": "gMDShm_VRi8-",
        "colab_type": "code",
        "outputId": "7612489d-46b3-4c8a-dcb4-5917be55aa1b",
        "colab": {
          "base_uri": "https://localhost:8080/",
          "height": 204
        }
      },
      "source": [
        "accuracy_df = accuracy_df.append(pd.Series(['XGBoost', \n",
        "                                            accuracy_text.format(train_acc1, test_acc1),\n",
        "                                            accuracy_text.format(train_acc2, test_acc2),\n",
        "                                            accuracy_text.format(train_acc3, test_acc3),],\n",
        "                                           index=accuracy_df.columns), ignore_index=True)\n",
        "accuracy_df"
      ],
      "execution_count": 0,
      "outputs": [
        {
          "output_type": "execute_result",
          "data": {
            "text/html": [
              "<div>\n",
              "<style scoped>\n",
              "    .dataframe tbody tr th:only-of-type {\n",
              "        vertical-align: middle;\n",
              "    }\n",
              "\n",
              "    .dataframe tbody tr th {\n",
              "        vertical-align: top;\n",
              "    }\n",
              "\n",
              "    .dataframe thead th {\n",
              "        text-align: right;\n",
              "    }\n",
              "</style>\n",
              "<table border=\"1\" class=\"dataframe\">\n",
              "  <thead>\n",
              "    <tr style=\"text-align: right;\">\n",
              "      <th></th>\n",
              "      <th>Model</th>\n",
              "      <th>unigram-tfidf Accuracy</th>\n",
              "      <th>bigram-tfidf Accuracy</th>\n",
              "      <th>trigram-tfidf Accuracy</th>\n",
              "    </tr>\n",
              "  </thead>\n",
              "  <tbody>\n",
              "    <tr>\n",
              "      <th>0</th>\n",
              "      <td>Naive Bayes</td>\n",
              "      <td>| Train : 51.323 ~~ Test: 51.292 |</td>\n",
              "      <td>| Train : 50.072 ~~ Test: 50.0 |</td>\n",
              "      <td>| Train : 49.846 ~~ Test: 49.815 |</td>\n",
              "    </tr>\n",
              "    <tr>\n",
              "      <th>1</th>\n",
              "      <td>Linear-Logistic Regression</td>\n",
              "      <td>| Train : 54.398 ~~ Test: 53.506 |</td>\n",
              "      <td>| Train : 52.204 ~~ Test: 51.292 |</td>\n",
              "      <td>| Train : 51.425 ~~ Test: 51.107 |</td>\n",
              "    </tr>\n",
              "    <tr>\n",
              "      <th>2</th>\n",
              "      <td>SVM Classifier</td>\n",
              "      <td>| Train : 66.701 ~~ Test: 52.952 |</td>\n",
              "      <td>| Train : 65.737 ~~ Test: 51.292 |</td>\n",
              "      <td>| Train : 62.108 ~~ Test: 51.107 |</td>\n",
              "    </tr>\n",
              "    <tr>\n",
              "      <th>3</th>\n",
              "      <td>RandomForest: Esti = 600,Cri=gini,max_depth=100</td>\n",
              "      <td>| Train : 63.728 ~~ Test: 54.982 |</td>\n",
              "      <td>| Train : 95.14 ~~ Test: 56.273 |</td>\n",
              "      <td>| Train : 96.76 ~~ Test: 55.535 |</td>\n",
              "    </tr>\n",
              "    <tr>\n",
              "      <th>4</th>\n",
              "      <td>XGBoost</td>\n",
              "      <td>| Train : 60.078 ~~ Test: 54.244 |</td>\n",
              "      <td>| Train : 60.139 ~~ Test: 53.506 |</td>\n",
              "      <td>| Train : 60.365 ~~ Test: 54.059 |</td>\n",
              "    </tr>\n",
              "  </tbody>\n",
              "</table>\n",
              "</div>"
            ],
            "text/plain": [
              "                                             Model  ...              trigram-tfidf Accuracy\n",
              "0                                      Naive Bayes  ...  | Train : 49.846 ~~ Test: 49.815 |\n",
              "1                       Linear-Logistic Regression  ...  | Train : 51.425 ~~ Test: 51.107 |\n",
              "2                                   SVM Classifier  ...  | Train : 62.108 ~~ Test: 51.107 |\n",
              "3  RandomForest: Esti = 600,Cri=gini,max_depth=100  ...   | Train : 96.76 ~~ Test: 55.535 |\n",
              "4                                          XGBoost  ...  | Train : 60.365 ~~ Test: 54.059 |\n",
              "\n",
              "[5 rows x 4 columns]"
            ]
          },
          "metadata": {
            "tags": []
          },
          "execution_count": 40
        }
      ]
    },
    {
      "cell_type": "markdown",
      "metadata": {
        "id": "wozsNc_T7kZG",
        "colab_type": "text"
      },
      "source": [
        "####**KNN Classifier:**"
      ]
    },
    {
      "cell_type": "code",
      "metadata": {
        "id": "CBu6JThq7jb6",
        "colab_type": "code",
        "colab": {}
      },
      "source": [
        "# KNN Classifier on tfidf Vectors\n",
        "train_acc1, test_acc1 = train_model(neighbors.KNeighborsClassifier(n_neighbors=5, algorithm='brute'), X_train_unigram_seq, y_train, X_test_unigram_seq, y_test)\n",
        "train_acc2, test_acc2 = train_model(neighbors.KNeighborsClassifier(n_neighbors=5, algorithm='brute'), X_train_bigram_seq, y_train, X_test_bigram_seq, y_test)\n",
        "train_acc3, test_acc3 = train_model(neighbors.KNeighborsClassifier(n_neighbors=5, algorithm='brute'), X_train_trigram_seq, y_train, X_test_trigram_seq, y_test)"
      ],
      "execution_count": 0,
      "outputs": []
    },
    {
      "cell_type": "code",
      "metadata": {
        "id": "Xs4OwCxQ8iyr",
        "colab_type": "code",
        "outputId": "2c5780f3-0ebe-421b-8493-ed7cb6f0304a",
        "colab": {
          "base_uri": "https://localhost:8080/",
          "height": 235
        }
      },
      "source": [
        "accuracy_df = accuracy_df.append(pd.Series(['KNN Classifier (k=5)', \n",
        "                                            accuracy_text.format(train_acc1, test_acc1),\n",
        "                                            accuracy_text.format(train_acc2, test_acc2),\n",
        "                                            accuracy_text.format(train_acc3, test_acc3),],\n",
        "                                           index=accuracy_df.columns), ignore_index=True)\n",
        "accuracy_df"
      ],
      "execution_count": 0,
      "outputs": [
        {
          "output_type": "execute_result",
          "data": {
            "text/html": [
              "<div>\n",
              "<style scoped>\n",
              "    .dataframe tbody tr th:only-of-type {\n",
              "        vertical-align: middle;\n",
              "    }\n",
              "\n",
              "    .dataframe tbody tr th {\n",
              "        vertical-align: top;\n",
              "    }\n",
              "\n",
              "    .dataframe thead th {\n",
              "        text-align: right;\n",
              "    }\n",
              "</style>\n",
              "<table border=\"1\" class=\"dataframe\">\n",
              "  <thead>\n",
              "    <tr style=\"text-align: right;\">\n",
              "      <th></th>\n",
              "      <th>Model</th>\n",
              "      <th>unigram-tfidf Accuracy</th>\n",
              "      <th>bigram-tfidf Accuracy</th>\n",
              "      <th>trigram-tfidf Accuracy</th>\n",
              "    </tr>\n",
              "  </thead>\n",
              "  <tbody>\n",
              "    <tr>\n",
              "      <th>0</th>\n",
              "      <td>Naive Bayes</td>\n",
              "      <td>| Train : 51.323 ~~ Test: 51.292 |</td>\n",
              "      <td>| Train : 50.072 ~~ Test: 50.0 |</td>\n",
              "      <td>| Train : 49.846 ~~ Test: 49.815 |</td>\n",
              "    </tr>\n",
              "    <tr>\n",
              "      <th>1</th>\n",
              "      <td>Linear-Logistic Regression</td>\n",
              "      <td>| Train : 54.398 ~~ Test: 53.506 |</td>\n",
              "      <td>| Train : 52.204 ~~ Test: 51.292 |</td>\n",
              "      <td>| Train : 51.425 ~~ Test: 51.107 |</td>\n",
              "    </tr>\n",
              "    <tr>\n",
              "      <th>2</th>\n",
              "      <td>SVM Classifier</td>\n",
              "      <td>| Train : 66.701 ~~ Test: 52.952 |</td>\n",
              "      <td>| Train : 65.737 ~~ Test: 51.292 |</td>\n",
              "      <td>| Train : 62.108 ~~ Test: 51.107 |</td>\n",
              "    </tr>\n",
              "    <tr>\n",
              "      <th>3</th>\n",
              "      <td>RandomForest: Esti = 600,Cri=gini,max_depth=100</td>\n",
              "      <td>| Train : 63.728 ~~ Test: 54.982 |</td>\n",
              "      <td>| Train : 95.14 ~~ Test: 56.273 |</td>\n",
              "      <td>| Train : 96.76 ~~ Test: 55.535 |</td>\n",
              "    </tr>\n",
              "    <tr>\n",
              "      <th>4</th>\n",
              "      <td>XGBoost</td>\n",
              "      <td>| Train : 60.078 ~~ Test: 54.244 |</td>\n",
              "      <td>| Train : 60.139 ~~ Test: 53.506 |</td>\n",
              "      <td>| Train : 60.365 ~~ Test: 54.059 |</td>\n",
              "    </tr>\n",
              "    <tr>\n",
              "      <th>5</th>\n",
              "      <td>KNN Classifier (k=5)</td>\n",
              "      <td>| Train : 55.198 ~~ Test: 52.214 |</td>\n",
              "      <td>| Train : 52.102 ~~ Test: 50.738 |</td>\n",
              "      <td>| Train : 51.097 ~~ Test: 50.185 |</td>\n",
              "    </tr>\n",
              "  </tbody>\n",
              "</table>\n",
              "</div>"
            ],
            "text/plain": [
              "                                             Model  ...              trigram-tfidf Accuracy\n",
              "0                                      Naive Bayes  ...  | Train : 49.846 ~~ Test: 49.815 |\n",
              "1                       Linear-Logistic Regression  ...  | Train : 51.425 ~~ Test: 51.107 |\n",
              "2                                   SVM Classifier  ...  | Train : 62.108 ~~ Test: 51.107 |\n",
              "3  RandomForest: Esti = 600,Cri=gini,max_depth=100  ...   | Train : 96.76 ~~ Test: 55.535 |\n",
              "4                                          XGBoost  ...  | Train : 60.365 ~~ Test: 54.059 |\n",
              "5                             KNN Classifier (k=5)  ...  | Train : 51.097 ~~ Test: 50.185 |\n",
              "\n",
              "[6 rows x 4 columns]"
            ]
          },
          "metadata": {
            "tags": []
          },
          "execution_count": 42
        }
      ]
    },
    {
      "cell_type": "markdown",
      "metadata": {
        "id": "mhRTY7kXZiUV",
        "colab_type": "text"
      },
      "source": [
        "##**Deep Learning Models :**"
      ]
    },
    {
      "cell_type": "markdown",
      "metadata": {
        "id": "2bvNaqA0bK5o",
        "colab_type": "text"
      },
      "source": [
        "#####Pre-Requistic"
      ]
    },
    {
      "cell_type": "code",
      "metadata": {
        "id": "W8K1zHAncJfj",
        "colab_type": "code",
        "colab": {
          "base_uri": "https://localhost:8080/",
          "height": 51
        },
        "outputId": "c8d64b89-a794-439a-bfc2-88ea9ddde838"
      },
      "source": [
        "token = Tokenizer()\n",
        "#token.fit_on_texts(unigram_vocab['words'])\n",
        "token.fit_on_texts(X_train)\n",
        "word_index = token.word_index\n",
        "\n",
        "X_train_seq = token.texts_to_sequences(X_train)\n",
        "X_test_seq = token.texts_to_sequences(X_test)\n",
        "\n",
        "vocab_size = len(word_index)\n",
        "desc_max_length = cleansed_data_df['description_length'].max()\n",
        "print('Vocabulary Size : ', vocab_size)\n",
        "print('Max length of desc : ', desc_max_length)\n",
        "\n",
        "# convert text to sequence of tokens and pad them to ensure equal length vectors \n",
        "X_train_seq_pad = pad_sequences(X_train_seq, maxlen=desc_max_length)\n",
        "X_test_seq_pad = pad_sequences(X_test_seq, maxlen=desc_max_length)"
      ],
      "execution_count": 27,
      "outputs": [
        {
          "output_type": "stream",
          "text": [
            "Vocabulary Size :  3015\n",
            "Max length of desc :  2900\n"
          ],
          "name": "stdout"
        }
      ]
    },
    {
      "cell_type": "code",
      "metadata": {
        "id": "KcFh9h0QhZJU",
        "colab_type": "code",
        "colab": {
          "base_uri": "https://localhost:8080/",
          "height": 119
        },
        "outputId": "8aabd6c5-3234-443e-f0d3-c39ba72bf459"
      },
      "source": [
        "print('1st row data : ', X_train.iloc[0])\n",
        "print('1st row Seq : ', X_train_seq_pad[0])\n",
        "print('100th row data : ', X_train.iloc[100])\n",
        "print('100th row Seq : ', X_train_seq_pad[100])\n",
        "print('1000th row data : ', X_train.iloc[1000])\n",
        "print('1000th row Seq : ', X_train_seq_pad[1000])"
      ],
      "execution_count": 28,
      "outputs": [
        {
          "output_type": "stream",
          "text": [
            "1st row data :  patch installation patch installation\n",
            "1st row Seq :  [   0    0    0 ...  223 1446  223]\n",
            "100th row data :  production password reset account locked production password reset account locked\n",
            "100th row Seq :  [ 0  0  0 ... 16 17 54]\n",
            "1000th row data :  password change request password change request\n",
            "1000th row Seq :  [ 0  0  0 ...  3 40 47]\n"
          ],
          "name": "stdout"
        }
      ]
    },
    {
      "cell_type": "code",
      "metadata": {
        "id": "37qZ9QGGcdQL",
        "colab_type": "code",
        "colab": {}
      },
      "source": [
        "y_train_cate = keras.utils.to_categorical(y_train)\n",
        "y_test_cate = keras.utils.to_categorical(y_test)"
      ],
      "execution_count": 0,
      "outputs": []
    },
    {
      "cell_type": "code",
      "metadata": {
        "id": "VaWwlUpRDTXz",
        "colab_type": "code",
        "colab": {
          "base_uri": "https://localhost:8080/",
          "height": 51
        },
        "outputId": "06bacd2e-930e-49ef-9cc7-d4c3b941d159"
      },
      "source": [
        "print('Shape of y_train : ',y_train_cate.shape)\n",
        "print('Shape of y_test : ',y_test_cate.shape)"
      ],
      "execution_count": 30,
      "outputs": [
        {
          "output_type": "stream",
          "text": [
            "Shape of y_train :  (4877, 52)\n",
            "Shape of y_test :  (542, 52)\n"
          ],
          "name": "stdout"
        }
      ]
    },
    {
      "cell_type": "code",
      "metadata": {
        "id": "eQzR4x-vggKm",
        "colab_type": "code",
        "colab": {}
      },
      "source": [
        "dl_accuracy_df = pd.DataFrame(columns = ['Model' , 'Accuracy']) "
      ],
      "execution_count": 0,
      "outputs": []
    },
    {
      "cell_type": "code",
      "metadata": {
        "id": "ICSWDW7e_1es",
        "colab_type": "code",
        "colab": {}
      },
      "source": [
        "accuracy_text = 'Test : {} '"
      ],
      "execution_count": 0,
      "outputs": []
    },
    {
      "cell_type": "code",
      "metadata": {
        "id": "Bppfs9Yl1mYl",
        "colab_type": "code",
        "colab": {}
      },
      "source": [
        "stop = EarlyStopping(monitor=\"loss\", patience=10, mode=\"min\")\n",
        "reduce_lr = ReduceLROnPlateau(monitor=\"loss\", factor=0.1, patience=3, min_lr=1e-8, min_delta=0.0001, verbose=1, mode=\"min\")\n",
        "callback = [reduce_lr,stop]"
      ],
      "execution_count": 0,
      "outputs": []
    },
    {
      "cell_type": "code",
      "metadata": {
        "id": "l5ICunCy1wcr",
        "colab_type": "code",
        "colab": {}
      },
      "source": [
        "epochs = 20\n",
        "batch_size = 32\n",
        "lr = 1e-2\n",
        "Lambda = 1e-5"
      ],
      "execution_count": 0,
      "outputs": []
    },
    {
      "cell_type": "markdown",
      "metadata": {
        "id": "zb5xXWf8dxhC",
        "colab_type": "text"
      },
      "source": [
        "#####Embedding:"
      ]
    },
    {
      "cell_type": "markdown",
      "metadata": {
        "id": "HWWZlN91eyhk",
        "colab_type": "text"
      },
      "source": [
        "######Glove:"
      ]
    },
    {
      "cell_type": "code",
      "metadata": {
        "id": "fYc7wh0heYJ4",
        "colab_type": "code",
        "colab": {}
      },
      "source": [
        "GLOVE_200d_EMBEDDING_FILE = PROJECT_DIR+\"Data/glove.6B.200d.txt\""
      ],
      "execution_count": 0,
      "outputs": []
    },
    {
      "cell_type": "code",
      "metadata": {
        "id": "TtjsyR6Ee3tP",
        "colab_type": "code",
        "colab": {
          "base_uri": "https://localhost:8080/",
          "height": 34
        },
        "outputId": "94acfdb9-4d09-48b3-85cb-e72009d58764"
      },
      "source": [
        "glove_embedding_index = {}\n",
        "f = open(GLOVE_200d_EMBEDDING_FILE)\n",
        "for line in f:\n",
        "    values = line.split()\n",
        "    word = values[0]\n",
        "    coefs = np.asarray(values[1:], dtype='float32')\n",
        "    glove_embedding_index[word] = coefs\n",
        "f.close()\n",
        "len(glove_embedding_index)"
      ],
      "execution_count": 36,
      "outputs": [
        {
          "output_type": "execute_result",
          "data": {
            "text/plain": [
              "400000"
            ]
          },
          "metadata": {
            "tags": []
          },
          "execution_count": 36
        }
      ]
    },
    {
      "cell_type": "code",
      "metadata": {
        "id": "0oBGC_1We8Zb",
        "colab_type": "code",
        "colab": {
          "base_uri": "https://localhost:8080/",
          "height": 34
        },
        "outputId": "205f1aeb-ce3d-46f2-c3c6-ad92ac29aeda"
      },
      "source": [
        "embed_dim=200\n",
        "glove_embedding_matrix = np.zeros((vocab_size+1, embed_dim))\n",
        "for word, i in token.word_index.items():\n",
        "    glove_embedding_vector = glove_embedding_index.get(word)\n",
        "    if glove_embedding_vector is not None:\n",
        "        glove_embedding_matrix[i] = glove_embedding_vector\n",
        "print('Shape of GloVe Embedding matrix : ', glove_embedding_matrix.shape)"
      ],
      "execution_count": 37,
      "outputs": [
        {
          "output_type": "stream",
          "text": [
            "Shape of GloVe Embedding matrix :  (3016, 200)\n"
          ],
          "name": "stdout"
        }
      ]
    },
    {
      "cell_type": "markdown",
      "metadata": {
        "id": "cAUeAkSQfgQu",
        "colab_type": "text"
      },
      "source": [
        "######StackOverflow:"
      ]
    },
    {
      "cell_type": "code",
      "metadata": {
        "id": "DTFOd-W6flUs",
        "colab_type": "code",
        "colab": {}
      },
      "source": [
        "SO_200d_EMBEDDING_FILE = PROJECT_DIR+\"Data/SO_vectors_200.bin\""
      ],
      "execution_count": 0,
      "outputs": []
    },
    {
      "cell_type": "code",
      "metadata": {
        "id": "wmDNA9_lf32u",
        "colab_type": "code",
        "colab": {}
      },
      "source": [
        "from gensim.models.keyedvectors import KeyedVectors as kv\n",
        "so_word_vec = kv.load_word2vec_format(SO_200d_EMBEDDING_FILE, binary=True)"
      ],
      "execution_count": 0,
      "outputs": []
    },
    {
      "cell_type": "code",
      "metadata": {
        "id": "YpGDR990f7Ur",
        "colab_type": "code",
        "colab": {
          "base_uri": "https://localhost:8080/",
          "height": 34
        },
        "outputId": "6e7b9415-7ce1-4ec6-8df5-d3cd4536fe72"
      },
      "source": [
        "embed_dim=200\n",
        "so_embedding_matrix = np.zeros((vocab_size+1, embed_dim))\n",
        "for word, i in token.word_index.items():\n",
        "  if word in so_word_vec.vocab:\n",
        "    so_embedding_vector = so_word_vec[word]\n",
        "    so_embedding_matrix[i] = so_embedding_vector\n",
        "so_embedding_matrix.shape\n",
        "print('Shape of GloVe Embedding matrix : ', so_embedding_matrix.shape)"
      ],
      "execution_count": 40,
      "outputs": [
        {
          "output_type": "stream",
          "text": [
            "Shape of GloVe Embedding matrix :  (3016, 200)\n"
          ],
          "name": "stdout"
        }
      ]
    },
    {
      "cell_type": "markdown",
      "metadata": {
        "id": "aGBN3Jhxcszk",
        "colab_type": "text"
      },
      "source": [
        "####Neural Networks :"
      ]
    },
    {
      "cell_type": "markdown",
      "metadata": {
        "id": "EIQlUYDbeb5c",
        "colab_type": "text"
      },
      "source": [
        "#####Pre-requiste"
      ]
    },
    {
      "cell_type": "code",
      "metadata": {
        "id": "eXGfQ7Cfc5Hs",
        "colab_type": "code",
        "colab": {}
      },
      "source": [
        "def create_nn(input_size, output_size, embedding=False, vocab_size=None, embed_dim=None, embedding_matrix=None):\n",
        "    model = Sequential()\n",
        "    if(embedding):\n",
        "      model.add(Embedding(vocab_size, embed_dim, input_length=input_size, weights=[embedding_matrix], trainable=False))\n",
        "      #model.add(Embedding(vocab_size, embed_dim, input_length=input_size, ))\n",
        "      model.add(Flatten())\n",
        "      model.add(Dense(512,kernel_initializer='random_uniform', kernel_regularizer=regularizers.l2(Lambda)))\n",
        "    else:\n",
        "      model.add(Dense(512,input_dim=input_size, kernel_initializer='random_uniform', kernel_regularizer=regularizers.l2(Lambda)))\n",
        "    \n",
        "    model.add(BatchNormalization())\n",
        "    model.add(Activation('relu'))\n",
        "    model.add(Dropout(0.3))\n",
        "\n",
        "    model.add(Dense(256,kernel_initializer='random_uniform',kernel_regularizer=regularizers.l2(Lambda)))\n",
        "    model.add(BatchNormalization())\n",
        "    model.add(Activation('relu'))\n",
        "    model.add(Dropout(0.3))\n",
        "\n",
        "    model.add(Dense(128,kernel_initializer='random_uniform',kernel_regularizer=regularizers.l2(Lambda)))\n",
        "    model.add(BatchNormalization())\n",
        "    model.add(Activation('relu'))\n",
        "    model.add(Dropout(0.1))\n",
        "\n",
        "    model.add(Dense(64, kernel_initializer='random_uniform',kernel_regularizer=regularizers.l2(Lambda)))\n",
        "    model.add(BatchNormalization())\n",
        "    model.add(Activation('relu'))\n",
        "\n",
        "    model.add(Dense(output_size, activation='softmax'))\n",
        "    return model"
      ],
      "execution_count": 0,
      "outputs": []
    },
    {
      "cell_type": "code",
      "metadata": {
        "id": "vNnyBrRv1Zc1",
        "colab_type": "code",
        "colab": {}
      },
      "source": [
        "def train_deep_model(model, feature_train, target_train, feature_test, target_test, epochs, batch_size, lr, Lambda, callbacks):\n",
        "  model.compile(optimizer=optimizers.Adam(learning_rate=lr),\n",
        "                loss='categorical_crossentropy', metrics=['accuracy'])\n",
        "  history = model.fit(feature_train, target_train, validation_split=0.2, \n",
        "                      epochs=epochs, batch_size=batch_size, verbose=1,\n",
        "                      callbacks = callbacks)\n",
        "  eval_scores = model.evaluate(feature_test, target_test, verbose=0)\n",
        "  return round((eval_scores[1]*100),2)"
      ],
      "execution_count": 0,
      "outputs": []
    },
    {
      "cell_type": "markdown",
      "metadata": {
        "id": "1KEe8ghrbhl6",
        "colab_type": "text"
      },
      "source": [
        "#####Vanilla NN:"
      ]
    },
    {
      "cell_type": "code",
      "metadata": {
        "id": "bfL9VmlwdCIv",
        "colab_type": "code",
        "colab": {
          "base_uri": "https://localhost:8080/",
          "height": 697
        },
        "outputId": "ea67ee3a-fbcf-4b27-d1d9-1c2428da8783"
      },
      "source": [
        "vanilla_nn_model = create_nn(X_train_seq_pad.shape[1], y_train_cate.shape[1], \n",
        "                   False, vocab_size+1, embed_dim)\n",
        "vanilla_nn_model.summary()"
      ],
      "execution_count": 227,
      "outputs": [
        {
          "output_type": "stream",
          "text": [
            "Model: \"sequential_8\"\n",
            "_________________________________________________________________\n",
            "Layer (type)                 Output Shape              Param #   \n",
            "=================================================================\n",
            "dense_15 (Dense)             (None, 512)               1485312   \n",
            "_________________________________________________________________\n",
            "batch_normalization_12 (Batc (None, 512)               2048      \n",
            "_________________________________________________________________\n",
            "activation_12 (Activation)   (None, 512)               0         \n",
            "_________________________________________________________________\n",
            "dropout_9 (Dropout)          (None, 512)               0         \n",
            "_________________________________________________________________\n",
            "dense_16 (Dense)             (None, 256)               131328    \n",
            "_________________________________________________________________\n",
            "batch_normalization_13 (Batc (None, 256)               1024      \n",
            "_________________________________________________________________\n",
            "activation_13 (Activation)   (None, 256)               0         \n",
            "_________________________________________________________________\n",
            "dropout_10 (Dropout)         (None, 256)               0         \n",
            "_________________________________________________________________\n",
            "dense_17 (Dense)             (None, 128)               32896     \n",
            "_________________________________________________________________\n",
            "batch_normalization_14 (Batc (None, 128)               512       \n",
            "_________________________________________________________________\n",
            "activation_14 (Activation)   (None, 128)               0         \n",
            "_________________________________________________________________\n",
            "dropout_11 (Dropout)         (None, 128)               0         \n",
            "_________________________________________________________________\n",
            "dense_18 (Dense)             (None, 64)                8256      \n",
            "_________________________________________________________________\n",
            "batch_normalization_15 (Batc (None, 64)                256       \n",
            "_________________________________________________________________\n",
            "activation_15 (Activation)   (None, 64)                0         \n",
            "_________________________________________________________________\n",
            "dense_19 (Dense)             (None, 52)                3380      \n",
            "=================================================================\n",
            "Total params: 1,665,012\n",
            "Trainable params: 1,663,092\n",
            "Non-trainable params: 1,920\n",
            "_________________________________________________________________\n"
          ],
          "name": "stdout"
        }
      ]
    },
    {
      "cell_type": "code",
      "metadata": {
        "id": "IAJZzMNoly0P",
        "colab_type": "code",
        "colab": {
          "base_uri": "https://localhost:8080/",
          "height": 1000
        },
        "outputId": "01b488ce-4f92-4d04-9a32-dc54f3422658"
      },
      "source": [
        "test_acc = train_deep_model(vanilla_nn_model, X_train_seq_pad, y_train_cate, X_test_seq_pad, y_test_cate, \n",
        "                             epochs, batch_size, lr, Lambda, callback)"
      ],
      "execution_count": 228,
      "outputs": [
        {
          "output_type": "stream",
          "text": [
            "Epoch 1/50\n",
            "31/31 [==============================] - 1s 27ms/step - loss: 2.8376 - accuracy: 0.4304 - val_loss: 9.2343 - val_accuracy: 0.2756 - lr: 0.0100\n",
            "Epoch 2/50\n",
            "31/31 [==============================] - 1s 21ms/step - loss: 2.4912 - accuracy: 0.4796 - val_loss: 3.6304 - val_accuracy: 0.4006 - lr: 0.0100\n",
            "Epoch 3/50\n",
            "31/31 [==============================] - 1s 21ms/step - loss: 2.4511 - accuracy: 0.4853 - val_loss: 2.9140 - val_accuracy: 0.4867 - lr: 0.0100\n",
            "Epoch 4/50\n",
            "31/31 [==============================] - 1s 21ms/step - loss: 2.4401 - accuracy: 0.4883 - val_loss: 2.6365 - val_accuracy: 0.4764 - lr: 0.0100\n",
            "Epoch 5/50\n",
            "31/31 [==============================] - 1s 21ms/step - loss: 2.4110 - accuracy: 0.4917 - val_loss: 2.5712 - val_accuracy: 0.4887 - lr: 0.0100\n",
            "Epoch 6/50\n",
            "31/31 [==============================] - 1s 21ms/step - loss: 2.3838 - accuracy: 0.4901 - val_loss: 2.5308 - val_accuracy: 0.4898 - lr: 0.0100\n",
            "Epoch 7/50\n",
            "31/31 [==============================] - 1s 21ms/step - loss: 2.3608 - accuracy: 0.4937 - val_loss: 2.4931 - val_accuracy: 0.4980 - lr: 0.0100\n",
            "Epoch 8/50\n",
            "31/31 [==============================] - 1s 21ms/step - loss: 2.3480 - accuracy: 0.4930 - val_loss: 2.5073 - val_accuracy: 0.4918 - lr: 0.0100\n",
            "Epoch 9/50\n",
            "31/31 [==============================] - 1s 21ms/step - loss: 2.3323 - accuracy: 0.4953 - val_loss: 2.5006 - val_accuracy: 0.4949 - lr: 0.0100\n",
            "Epoch 10/50\n",
            "31/31 [==============================] - 1s 21ms/step - loss: 2.3300 - accuracy: 0.4947 - val_loss: 2.5433 - val_accuracy: 0.4959 - lr: 0.0100\n",
            "Epoch 11/50\n",
            "31/31 [==============================] - 1s 21ms/step - loss: 2.3131 - accuracy: 0.4999 - val_loss: 2.5043 - val_accuracy: 0.4990 - lr: 0.0100\n",
            "Epoch 12/50\n",
            "31/31 [==============================] - 1s 21ms/step - loss: 2.2941 - accuracy: 0.4978 - val_loss: 2.5530 - val_accuracy: 0.4887 - lr: 0.0100\n",
            "Epoch 13/50\n",
            "31/31 [==============================] - 1s 21ms/step - loss: 2.2900 - accuracy: 0.4971 - val_loss: 2.5772 - val_accuracy: 0.4877 - lr: 0.0100\n",
            "Epoch 14/50\n",
            "31/31 [==============================] - 1s 21ms/step - loss: 2.2624 - accuracy: 0.5029 - val_loss: 2.5873 - val_accuracy: 0.4918 - lr: 0.0100\n",
            "Epoch 15/50\n",
            "31/31 [==============================] - 1s 21ms/step - loss: 2.2570 - accuracy: 0.5029 - val_loss: 2.6013 - val_accuracy: 0.4857 - lr: 0.0100\n",
            "Epoch 16/50\n",
            "31/31 [==============================] - 1s 21ms/step - loss: 2.2422 - accuracy: 0.5045 - val_loss: 2.6387 - val_accuracy: 0.4898 - lr: 0.0100\n",
            "Epoch 17/50\n",
            "31/31 [==============================] - 1s 21ms/step - loss: 2.2482 - accuracy: 0.5083 - val_loss: 2.7307 - val_accuracy: 0.4887 - lr: 0.0100\n",
            "Epoch 18/50\n",
            "31/31 [==============================] - 1s 21ms/step - loss: 2.2130 - accuracy: 0.5104 - val_loss: 2.6350 - val_accuracy: 0.4877 - lr: 0.0100\n",
            "Epoch 19/50\n",
            "31/31 [==============================] - 1s 21ms/step - loss: 2.2010 - accuracy: 0.5142 - val_loss: 2.7041 - val_accuracy: 0.4693 - lr: 0.0100\n",
            "Epoch 20/50\n",
            "31/31 [==============================] - 1s 22ms/step - loss: 2.2048 - accuracy: 0.5106 - val_loss: 2.7325 - val_accuracy: 0.4836 - lr: 0.0100\n",
            "Epoch 21/50\n",
            "31/31 [==============================] - 1s 21ms/step - loss: 2.1893 - accuracy: 0.5183 - val_loss: 2.7000 - val_accuracy: 0.4908 - lr: 0.0100\n",
            "Epoch 22/50\n",
            "31/31 [==============================] - 1s 21ms/step - loss: 2.1718 - accuracy: 0.5150 - val_loss: 2.7161 - val_accuracy: 0.4928 - lr: 0.0100\n",
            "Epoch 23/50\n",
            "31/31 [==============================] - 1s 21ms/step - loss: 2.1675 - accuracy: 0.5188 - val_loss: 2.7635 - val_accuracy: 0.4836 - lr: 0.0100\n",
            "Epoch 24/50\n",
            "31/31 [==============================] - 1s 21ms/step - loss: 2.1617 - accuracy: 0.5242 - val_loss: 2.7422 - val_accuracy: 0.4836 - lr: 0.0100\n",
            "Epoch 25/50\n",
            "31/31 [==============================] - 1s 21ms/step - loss: 2.1407 - accuracy: 0.5255 - val_loss: 2.7982 - val_accuracy: 0.4918 - lr: 0.0100\n",
            "Epoch 26/50\n",
            "31/31 [==============================] - 1s 21ms/step - loss: 2.1352 - accuracy: 0.5268 - val_loss: 2.8646 - val_accuracy: 0.4867 - lr: 0.0100\n",
            "Epoch 27/50\n",
            "31/31 [==============================] - 1s 21ms/step - loss: 2.1368 - accuracy: 0.5273 - val_loss: 2.8524 - val_accuracy: 0.4867 - lr: 0.0100\n",
            "Epoch 28/50\n",
            "31/31 [==============================] - 1s 21ms/step - loss: 2.1038 - accuracy: 0.5265 - val_loss: 2.8882 - val_accuracy: 0.4775 - lr: 0.0100\n",
            "Epoch 29/50\n",
            "31/31 [==============================] - 1s 21ms/step - loss: 2.0967 - accuracy: 0.5306 - val_loss: 2.8892 - val_accuracy: 0.4867 - lr: 0.0100\n",
            "Epoch 30/50\n",
            "31/31 [==============================] - 1s 21ms/step - loss: 2.1047 - accuracy: 0.5350 - val_loss: 2.8561 - val_accuracy: 0.4754 - lr: 0.0100\n",
            "Epoch 31/50\n",
            "31/31 [==============================] - 1s 21ms/step - loss: 2.0832 - accuracy: 0.5324 - val_loss: 2.8454 - val_accuracy: 0.4857 - lr: 0.0100\n",
            "Epoch 32/50\n",
            "31/31 [==============================] - 1s 21ms/step - loss: 2.0675 - accuracy: 0.5419 - val_loss: 2.9257 - val_accuracy: 0.4836 - lr: 0.0100\n",
            "Epoch 33/50\n",
            "31/31 [==============================] - 1s 21ms/step - loss: 2.0621 - accuracy: 0.5314 - val_loss: 2.9371 - val_accuracy: 0.4805 - lr: 0.0100\n",
            "Epoch 34/50\n",
            "31/31 [==============================] - 1s 21ms/step - loss: 2.0450 - accuracy: 0.5463 - val_loss: 2.9810 - val_accuracy: 0.4795 - lr: 0.0100\n",
            "Epoch 35/50\n",
            "31/31 [==============================] - 1s 21ms/step - loss: 2.0620 - accuracy: 0.5373 - val_loss: 3.0075 - val_accuracy: 0.4744 - lr: 0.0100\n",
            "Epoch 36/50\n",
            "31/31 [==============================] - 1s 21ms/step - loss: 2.0339 - accuracy: 0.5406 - val_loss: 3.0187 - val_accuracy: 0.4795 - lr: 0.0100\n",
            "Epoch 37/50\n",
            "31/31 [==============================] - 1s 21ms/step - loss: 2.0302 - accuracy: 0.5465 - val_loss: 3.1020 - val_accuracy: 0.4816 - lr: 0.0100\n",
            "Epoch 38/50\n",
            "31/31 [==============================] - 1s 21ms/step - loss: 2.0278 - accuracy: 0.5432 - val_loss: 3.0504 - val_accuracy: 0.4908 - lr: 0.0100\n",
            "Epoch 39/50\n",
            "31/31 [==============================] - 1s 21ms/step - loss: 2.0130 - accuracy: 0.5478 - val_loss: 3.1294 - val_accuracy: 0.4836 - lr: 0.0100\n",
            "Epoch 40/50\n",
            "31/31 [==============================] - 1s 21ms/step - loss: 2.0124 - accuracy: 0.5468 - val_loss: 3.1622 - val_accuracy: 0.4805 - lr: 0.0100\n",
            "Epoch 41/50\n",
            "31/31 [==============================] - 1s 21ms/step - loss: 2.0232 - accuracy: 0.5501 - val_loss: 3.1842 - val_accuracy: 0.4764 - lr: 0.0100\n",
            "Epoch 42/50\n",
            "31/31 [==============================] - 1s 21ms/step - loss: 2.0004 - accuracy: 0.5509 - val_loss: 3.1160 - val_accuracy: 0.4836 - lr: 0.0100\n",
            "Epoch 43/50\n",
            "31/31 [==============================] - 1s 21ms/step - loss: 1.9979 - accuracy: 0.5542 - val_loss: 3.1348 - val_accuracy: 0.4764 - lr: 0.0100\n",
            "Epoch 44/50\n",
            "31/31 [==============================] - 1s 21ms/step - loss: 2.0102 - accuracy: 0.5522 - val_loss: 3.2849 - val_accuracy: 0.4713 - lr: 0.0100\n",
            "Epoch 45/50\n",
            "31/31 [==============================] - 1s 21ms/step - loss: 1.9832 - accuracy: 0.5593 - val_loss: 3.2138 - val_accuracy: 0.4754 - lr: 0.0100\n",
            "Epoch 46/50\n",
            "31/31 [==============================] - 1s 21ms/step - loss: 1.9813 - accuracy: 0.5578 - val_loss: 3.1838 - val_accuracy: 0.4703 - lr: 0.0100\n",
            "Epoch 47/50\n",
            "31/31 [==============================] - 1s 21ms/step - loss: 1.9809 - accuracy: 0.5622 - val_loss: 3.2198 - val_accuracy: 0.4805 - lr: 0.0100\n",
            "Epoch 48/50\n",
            "31/31 [==============================] - 1s 21ms/step - loss: 1.9753 - accuracy: 0.5614 - val_loss: 3.2222 - val_accuracy: 0.4795 - lr: 0.0100\n",
            "Epoch 49/50\n",
            "31/31 [==============================] - 1s 21ms/step - loss: 1.9687 - accuracy: 0.5660 - val_loss: 3.2706 - val_accuracy: 0.4754 - lr: 0.0100\n",
            "Epoch 50/50\n",
            "31/31 [==============================] - 1s 21ms/step - loss: 1.9350 - accuracy: 0.5724 - val_loss: 3.2956 - val_accuracy: 0.4693 - lr: 0.0100\n"
          ],
          "name": "stdout"
        }
      ]
    },
    {
      "cell_type": "code",
      "metadata": {
        "id": "7qH4ibYosbZy",
        "colab_type": "code",
        "outputId": "51c9bbc5-9ff8-430f-8067-9844f4df1c89",
        "colab": {
          "base_uri": "https://localhost:8080/",
          "height": 111
        }
      },
      "source": [
        "dl_accuracy_df = dl_accuracy_df.append(pd.Series(['Vanilla NN', accuracy_text.format(test_acc)],\n",
        "                                           index=dl_accuracy_df.columns), ignore_index=True)\n",
        "dl_accuracy_df"
      ],
      "execution_count": 230,
      "outputs": [
        {
          "output_type": "execute_result",
          "data": {
            "text/html": [
              "<div>\n",
              "<style scoped>\n",
              "    .dataframe tbody tr th:only-of-type {\n",
              "        vertical-align: middle;\n",
              "    }\n",
              "\n",
              "    .dataframe tbody tr th {\n",
              "        vertical-align: top;\n",
              "    }\n",
              "\n",
              "    .dataframe thead th {\n",
              "        text-align: right;\n",
              "    }\n",
              "</style>\n",
              "<table border=\"1\" class=\"dataframe\">\n",
              "  <thead>\n",
              "    <tr style=\"text-align: right;\">\n",
              "      <th></th>\n",
              "      <th>Model</th>\n",
              "      <th>Accuracy</th>\n",
              "    </tr>\n",
              "  </thead>\n",
              "  <tbody>\n",
              "    <tr>\n",
              "      <th>0</th>\n",
              "      <td>Simple NN</td>\n",
              "      <td>Test : 45.76</td>\n",
              "    </tr>\n",
              "    <tr>\n",
              "      <th>1</th>\n",
              "      <td>Vanilla NN</td>\n",
              "      <td>Test : 45.76</td>\n",
              "    </tr>\n",
              "  </tbody>\n",
              "</table>\n",
              "</div>"
            ],
            "text/plain": [
              "        Model       Accuracy\n",
              "0   Simple NN  Test : 45.76 \n",
              "1  Vanilla NN  Test : 45.76 "
            ]
          },
          "metadata": {
            "tags": []
          },
          "execution_count": 230
        }
      ]
    },
    {
      "cell_type": "code",
      "metadata": {
        "id": "1MKS912edQEH",
        "colab_type": "code",
        "colab": {}
      },
      "source": [
        "vanilla_nn_model.save_weights(PROJECT_DIR+\"weights/vanilla_nn_weights.h5\")\n",
        "#vanilla_nn_model.load_weights(PROJECT_DIR+\"weights/vanilla_nn_weights.h5\")"
      ],
      "execution_count": 0,
      "outputs": []
    },
    {
      "cell_type": "markdown",
      "metadata": {
        "id": "FabIOOqQiyO2",
        "colab_type": "text"
      },
      "source": [
        "#####**NN Model with Pretrained Embedding with GloVe :**"
      ]
    },
    {
      "cell_type": "code",
      "metadata": {
        "id": "bihfxvV_ru_A",
        "colab_type": "code",
        "outputId": "81c2cff4-4ee6-45c9-d787-c3da1a546325",
        "colab": {
          "base_uri": "https://localhost:8080/",
          "height": 765
        }
      },
      "source": [
        "nn_glove200_model = create_nn(X_train_seq_pad.shape[1], y_train_cate.shape[1], \n",
        "                   True, vocab_size+1, embed_dim, glove_embedding_matrix)\n",
        "\n",
        "nn_glove200_model.summary()"
      ],
      "execution_count": 242,
      "outputs": [
        {
          "output_type": "stream",
          "text": [
            "Model: \"sequential_10\"\n",
            "_________________________________________________________________\n",
            "Layer (type)                 Output Shape              Param #   \n",
            "=================================================================\n",
            "embedding_1 (Embedding)      (None, 2900, 200)         589400    \n",
            "_________________________________________________________________\n",
            "flatten_1 (Flatten)          (None, 580000)            0         \n",
            "_________________________________________________________________\n",
            "dense_25 (Dense)             (None, 512)               296960512 \n",
            "_________________________________________________________________\n",
            "batch_normalization_20 (Batc (None, 512)               2048      \n",
            "_________________________________________________________________\n",
            "activation_20 (Activation)   (None, 512)               0         \n",
            "_________________________________________________________________\n",
            "dropout_15 (Dropout)         (None, 512)               0         \n",
            "_________________________________________________________________\n",
            "dense_26 (Dense)             (None, 256)               131328    \n",
            "_________________________________________________________________\n",
            "batch_normalization_21 (Batc (None, 256)               1024      \n",
            "_________________________________________________________________\n",
            "activation_21 (Activation)   (None, 256)               0         \n",
            "_________________________________________________________________\n",
            "dropout_16 (Dropout)         (None, 256)               0         \n",
            "_________________________________________________________________\n",
            "dense_27 (Dense)             (None, 128)               32896     \n",
            "_________________________________________________________________\n",
            "batch_normalization_22 (Batc (None, 128)               512       \n",
            "_________________________________________________________________\n",
            "activation_22 (Activation)   (None, 128)               0         \n",
            "_________________________________________________________________\n",
            "dropout_17 (Dropout)         (None, 128)               0         \n",
            "_________________________________________________________________\n",
            "dense_28 (Dense)             (None, 64)                8256      \n",
            "_________________________________________________________________\n",
            "batch_normalization_23 (Batc (None, 64)                256       \n",
            "_________________________________________________________________\n",
            "activation_23 (Activation)   (None, 64)                0         \n",
            "_________________________________________________________________\n",
            "dense_29 (Dense)             (None, 52)                3380      \n",
            "=================================================================\n",
            "Total params: 297,729,612\n",
            "Trainable params: 297,138,292\n",
            "Non-trainable params: 591,320\n",
            "_________________________________________________________________\n"
          ],
          "name": "stdout"
        }
      ]
    },
    {
      "cell_type": "code",
      "metadata": {
        "id": "3FQ3VIkcuCzb",
        "colab_type": "code",
        "outputId": "76506848-33ae-4301-c31a-5a056f2b0f63",
        "colab": {
          "base_uri": "https://localhost:8080/",
          "height": 697
        }
      },
      "source": [
        "test_acc = train_deep_model(nn_glove200_model, X_train_seq_pad, y_train_cate, X_test_seq_pad, y_test_cate, \n",
        "                             epochs, batch_size, lr, Lambda, callback)"
      ],
      "execution_count": 243,
      "outputs": [
        {
          "output_type": "stream",
          "text": [
            "Epoch 1/20\n",
            "31/31 [==============================] - 62s 2s/step - loss: 3.4616 - accuracy: 0.4381 - val_loss: 6.2195 - val_accuracy: 0.4314 - lr: 0.0100\n",
            "Epoch 2/20\n",
            "31/31 [==============================] - 62s 2s/step - loss: 2.6399 - accuracy: 0.4912 - val_loss: 3.0806 - val_accuracy: 0.4877 - lr: 0.0100\n",
            "Epoch 3/20\n",
            "31/31 [==============================] - 62s 2s/step - loss: 2.4571 - accuracy: 0.4978 - val_loss: 2.8552 - val_accuracy: 0.4887 - lr: 0.0100\n",
            "Epoch 4/20\n",
            "31/31 [==============================] - 62s 2s/step - loss: 2.3515 - accuracy: 0.5096 - val_loss: 2.7122 - val_accuracy: 0.5061 - lr: 0.0100\n",
            "Epoch 5/20\n",
            "31/31 [==============================] - 63s 2s/step - loss: 2.2605 - accuracy: 0.5347 - val_loss: 2.8648 - val_accuracy: 0.5041 - lr: 0.0100\n",
            "Epoch 6/20\n",
            "31/31 [==============================] - 62s 2s/step - loss: 2.2051 - accuracy: 0.5588 - val_loss: 2.9137 - val_accuracy: 0.4980 - lr: 0.0100\n",
            "Epoch 7/20\n",
            "31/31 [==============================] - 62s 2s/step - loss: 2.0672 - accuracy: 0.6022 - val_loss: 3.0384 - val_accuracy: 0.4631 - lr: 0.0100\n",
            "Epoch 8/20\n",
            "31/31 [==============================] - 62s 2s/step - loss: 2.1258 - accuracy: 0.6293 - val_loss: 3.3337 - val_accuracy: 0.4918 - lr: 0.0100\n",
            "Epoch 9/20\n",
            "31/31 [==============================] - 62s 2s/step - loss: 1.9969 - accuracy: 0.6637 - val_loss: 3.2967 - val_accuracy: 0.4816 - lr: 0.0100\n",
            "Epoch 10/20\n",
            "31/31 [==============================] - 62s 2s/step - loss: 1.9700 - accuracy: 0.6860 - val_loss: 3.5061 - val_accuracy: 0.4826 - lr: 0.0100\n",
            "Epoch 11/20\n",
            "31/31 [==============================] - 62s 2s/step - loss: 1.9361 - accuracy: 0.7134 - val_loss: 3.5689 - val_accuracy: 0.4928 - lr: 0.0100\n",
            "Epoch 12/20\n",
            "31/31 [==============================] - 62s 2s/step - loss: 1.8381 - accuracy: 0.7349 - val_loss: 3.9401 - val_accuracy: 0.4918 - lr: 0.0100\n",
            "Epoch 13/20\n",
            "31/31 [==============================] - 62s 2s/step - loss: 1.9231 - accuracy: 0.7390 - val_loss: 4.0803 - val_accuracy: 0.5031 - lr: 0.0100\n",
            "Epoch 14/20\n",
            "31/31 [==============================] - 64s 2s/step - loss: 1.8169 - accuracy: 0.7670 - val_loss: 3.8943 - val_accuracy: 0.4898 - lr: 0.0100\n",
            "Epoch 15/20\n",
            "31/31 [==============================] - 62s 2s/step - loss: 1.7167 - accuracy: 0.7772 - val_loss: 4.1595 - val_accuracy: 0.4908 - lr: 0.0100\n",
            "Epoch 16/20\n",
            "31/31 [==============================] - 62s 2s/step - loss: 1.8036 - accuracy: 0.8011 - val_loss: 3.8892 - val_accuracy: 0.4980 - lr: 0.0100\n",
            "Epoch 17/20\n",
            "31/31 [==============================] - 62s 2s/step - loss: 1.7399 - accuracy: 0.8024 - val_loss: 4.3572 - val_accuracy: 0.4990 - lr: 0.0100\n",
            "Epoch 18/20\n",
            "31/31 [==============================] - 62s 2s/step - loss: 1.6394 - accuracy: 0.8180 - val_loss: 4.2847 - val_accuracy: 0.5061 - lr: 0.0100\n",
            "Epoch 19/20\n",
            "31/31 [==============================] - 62s 2s/step - loss: 1.7244 - accuracy: 0.8139 - val_loss: 4.0796 - val_accuracy: 0.4908 - lr: 0.0100\n",
            "Epoch 20/20\n",
            "31/31 [==============================] - 62s 2s/step - loss: 1.6391 - accuracy: 0.8341 - val_loss: 4.7994 - val_accuracy: 0.5102 - lr: 0.0100\n"
          ],
          "name": "stdout"
        }
      ]
    },
    {
      "cell_type": "code",
      "metadata": {
        "id": "iKsgTkZnsOxT",
        "colab_type": "code",
        "outputId": "dfcff331-c23c-4d3b-dc29-00386f368444",
        "colab": {
          "base_uri": "https://localhost:8080/",
          "height": 173
        }
      },
      "source": [
        "dl_accuracy_df = dl_accuracy_df.append(pd.Series(['NN-glove200-trainable-true-initiallearning', \n",
        "                                            accuracy_text.format(test_acc)],\n",
        "                                           index=dl_accuracy_df.columns), ignore_index=True)\n",
        "dl_accuracy_df"
      ],
      "execution_count": 244,
      "outputs": [
        {
          "output_type": "execute_result",
          "data": {
            "text/html": [
              "<div>\n",
              "<style scoped>\n",
              "    .dataframe tbody tr th:only-of-type {\n",
              "        vertical-align: middle;\n",
              "    }\n",
              "\n",
              "    .dataframe tbody tr th {\n",
              "        vertical-align: top;\n",
              "    }\n",
              "\n",
              "    .dataframe thead th {\n",
              "        text-align: right;\n",
              "    }\n",
              "</style>\n",
              "<table border=\"1\" class=\"dataframe\">\n",
              "  <thead>\n",
              "    <tr style=\"text-align: right;\">\n",
              "      <th></th>\n",
              "      <th>Model</th>\n",
              "      <th>Accuracy</th>\n",
              "    </tr>\n",
              "  </thead>\n",
              "  <tbody>\n",
              "    <tr>\n",
              "      <th>0</th>\n",
              "      <td>Simple NN</td>\n",
              "      <td>Test : 45.76</td>\n",
              "    </tr>\n",
              "    <tr>\n",
              "      <th>1</th>\n",
              "      <td>Vanilla NN</td>\n",
              "      <td>Test : 45.76</td>\n",
              "    </tr>\n",
              "    <tr>\n",
              "      <th>2</th>\n",
              "      <td>NN-glove200-trainable-true-initiallearning</td>\n",
              "      <td>Test : 45.76</td>\n",
              "    </tr>\n",
              "    <tr>\n",
              "      <th>3</th>\n",
              "      <td>NN-glove200-trainable-true-initiallearning</td>\n",
              "      <td>Test : 50.92</td>\n",
              "    </tr>\n",
              "  </tbody>\n",
              "</table>\n",
              "</div>"
            ],
            "text/plain": [
              "                                        Model       Accuracy\n",
              "0                                   Simple NN  Test : 45.76 \n",
              "1                                  Vanilla NN  Test : 45.76 \n",
              "2  NN-glove200-trainable-true-initiallearning  Test : 45.76 \n",
              "3  NN-glove200-trainable-true-initiallearning  Test : 50.92 "
            ]
          },
          "metadata": {
            "tags": []
          },
          "execution_count": 244
        }
      ]
    },
    {
      "cell_type": "code",
      "metadata": {
        "id": "eGupkLa-vWIB",
        "colab_type": "code",
        "colab": {}
      },
      "source": [
        "nn_glove200_model.save_weights(PROJECT_DIR+\"weights/nn_glove200_weights.h5\")\n",
        "#nn_own_embed_model.load_weights(PROJECT_DIR+\"weights/nn_own_embed_weights.h5\")"
      ],
      "execution_count": 0,
      "outputs": []
    },
    {
      "cell_type": "code",
      "metadata": {
        "id": "x6jUvyX2vyq-",
        "colab_type": "code",
        "colab": {}
      },
      "source": [
        "for layer in nn_glove200_model.layers:\n",
        "  if 'embedding' in (layer.name.lower()):\n",
        "    layer.trainable = True\n",
        "    break"
      ],
      "execution_count": 0,
      "outputs": []
    },
    {
      "cell_type": "code",
      "metadata": {
        "id": "ng4bjuy1yLoR",
        "colab_type": "code",
        "outputId": "d8e56f76-ef78-48a8-9e8f-fd9477ecf29a",
        "colab": {
          "base_uri": "https://localhost:8080/",
          "height": 765
        }
      },
      "source": [
        "nn_glove200_model.summary()"
      ],
      "execution_count": 247,
      "outputs": [
        {
          "output_type": "stream",
          "text": [
            "Model: \"sequential_10\"\n",
            "_________________________________________________________________\n",
            "Layer (type)                 Output Shape              Param #   \n",
            "=================================================================\n",
            "embedding_1 (Embedding)      (None, 2900, 200)         589400    \n",
            "_________________________________________________________________\n",
            "flatten_1 (Flatten)          (None, 580000)            0         \n",
            "_________________________________________________________________\n",
            "dense_25 (Dense)             (None, 512)               296960512 \n",
            "_________________________________________________________________\n",
            "batch_normalization_20 (Batc (None, 512)               2048      \n",
            "_________________________________________________________________\n",
            "activation_20 (Activation)   (None, 512)               0         \n",
            "_________________________________________________________________\n",
            "dropout_15 (Dropout)         (None, 512)               0         \n",
            "_________________________________________________________________\n",
            "dense_26 (Dense)             (None, 256)               131328    \n",
            "_________________________________________________________________\n",
            "batch_normalization_21 (Batc (None, 256)               1024      \n",
            "_________________________________________________________________\n",
            "activation_21 (Activation)   (None, 256)               0         \n",
            "_________________________________________________________________\n",
            "dropout_16 (Dropout)         (None, 256)               0         \n",
            "_________________________________________________________________\n",
            "dense_27 (Dense)             (None, 128)               32896     \n",
            "_________________________________________________________________\n",
            "batch_normalization_22 (Batc (None, 128)               512       \n",
            "_________________________________________________________________\n",
            "activation_22 (Activation)   (None, 128)               0         \n",
            "_________________________________________________________________\n",
            "dropout_17 (Dropout)         (None, 128)               0         \n",
            "_________________________________________________________________\n",
            "dense_28 (Dense)             (None, 64)                8256      \n",
            "_________________________________________________________________\n",
            "batch_normalization_23 (Batc (None, 64)                256       \n",
            "_________________________________________________________________\n",
            "activation_23 (Activation)   (None, 64)                0         \n",
            "_________________________________________________________________\n",
            "dense_29 (Dense)             (None, 52)                3380      \n",
            "=================================================================\n",
            "Total params: 297,729,612\n",
            "Trainable params: 297,727,692\n",
            "Non-trainable params: 1,920\n",
            "_________________________________________________________________\n"
          ],
          "name": "stdout"
        }
      ]
    },
    {
      "cell_type": "code",
      "metadata": {
        "id": "0EEQrCzpx8Mf",
        "colab_type": "code",
        "outputId": "67b929cb-feea-4178-b9fc-9a4e284bbc2c",
        "colab": {
          "base_uri": "https://localhost:8080/",
          "height": 731
        }
      },
      "source": [
        "test_acc = train_deep_model(nn_glove200_model, X_train_seq_pad, y_train_cate, X_test_seq_pad, y_test_cate, \n",
        "                                                epochs, batch_size, lr, Lambda, callback)"
      ],
      "execution_count": 248,
      "outputs": [
        {
          "output_type": "stream",
          "text": [
            "Epoch 1/20\n",
            "31/31 [==============================] - 87s 3s/step - loss: 1.5537 - accuracy: 0.8129 - val_loss: 4.4915 - val_accuracy: 0.0502 - lr: 0.0100\n",
            "Epoch 2/20\n",
            "31/31 [==============================] - 86s 3s/step - loss: 1.6009 - accuracy: 0.8239 - val_loss: 3.9679 - val_accuracy: 0.4447 - lr: 0.0100\n",
            "Epoch 3/20\n",
            "31/31 [==============================] - 85s 3s/step - loss: 1.5027 - accuracy: 0.8703 - val_loss: 4.7072 - val_accuracy: 0.5072 - lr: 0.0100\n",
            "Epoch 4/20\n",
            "31/31 [==============================] - 84s 3s/step - loss: 1.3971 - accuracy: 0.8918 - val_loss: 4.7462 - val_accuracy: 0.4652 - lr: 0.0100\n",
            "Epoch 5/20\n",
            "31/31 [==============================] - 89s 3s/step - loss: 1.2488 - accuracy: 0.9100 - val_loss: 5.4832 - val_accuracy: 0.5051 - lr: 0.0100\n",
            "Epoch 6/20\n",
            "31/31 [==============================] - 84s 3s/step - loss: 1.2470 - accuracy: 0.9154 - val_loss: 4.7271 - val_accuracy: 0.5041 - lr: 0.0100\n",
            "Epoch 7/20\n",
            "31/31 [==============================] - 85s 3s/step - loss: 1.1978 - accuracy: 0.9121 - val_loss: 5.1057 - val_accuracy: 0.5041 - lr: 0.0100\n",
            "Epoch 8/20\n",
            "31/31 [==============================] - 85s 3s/step - loss: 1.2638 - accuracy: 0.9213 - val_loss: 4.8234 - val_accuracy: 0.5072 - lr: 0.0100\n",
            "Epoch 9/20\n",
            "31/31 [==============================] - 85s 3s/step - loss: 1.1369 - accuracy: 0.9298 - val_loss: 5.4025 - val_accuracy: 0.4939 - lr: 0.0100\n",
            "Epoch 10/20\n",
            "31/31 [==============================] - 84s 3s/step - loss: 1.1586 - accuracy: 0.9318 - val_loss: 5.5115 - val_accuracy: 0.2941 - lr: 0.0100\n",
            "Epoch 11/20\n",
            "31/31 [==============================] - 84s 3s/step - loss: 1.1706 - accuracy: 0.9341 - val_loss: 5.6120 - val_accuracy: 0.5143 - lr: 0.0100\n",
            "Epoch 12/20\n",
            "31/31 [==============================] - ETA: 0s - loss: 1.2451 - accuracy: 0.9318\n",
            "Epoch 00012: ReduceLROnPlateau reducing learning rate to 0.0009999999776482583.\n",
            "31/31 [==============================] - 84s 3s/step - loss: 1.2451 - accuracy: 0.9318 - val_loss: 5.1598 - val_accuracy: 0.5072 - lr: 0.0100\n",
            "Epoch 13/20\n",
            "31/31 [==============================] - 84s 3s/step - loss: 1.2308 - accuracy: 0.9400 - val_loss: 5.3994 - val_accuracy: 0.5246 - lr: 1.0000e-03\n",
            "Epoch 14/20\n",
            "31/31 [==============================] - 84s 3s/step - loss: 1.1170 - accuracy: 0.9598 - val_loss: 5.2121 - val_accuracy: 0.5359 - lr: 1.0000e-03\n",
            "Epoch 15/20\n",
            "31/31 [==============================] - 84s 3s/step - loss: 1.0338 - accuracy: 0.9677 - val_loss: 5.1458 - val_accuracy: 0.5307 - lr: 1.0000e-03\n",
            "Epoch 16/20\n",
            "31/31 [==============================] - 85s 3s/step - loss: 0.9754 - accuracy: 0.9682 - val_loss: 5.0535 - val_accuracy: 0.5297 - lr: 1.0000e-03\n",
            "Epoch 17/20\n",
            "31/31 [==============================] - 83s 3s/step - loss: 0.9127 - accuracy: 0.9756 - val_loss: 4.9788 - val_accuracy: 0.5318 - lr: 1.0000e-03\n",
            "Epoch 18/20\n",
            "31/31 [==============================] - 84s 3s/step - loss: 0.8666 - accuracy: 0.9772 - val_loss: 5.0003 - val_accuracy: 0.5215 - lr: 1.0000e-03\n",
            "Epoch 19/20\n",
            "31/31 [==============================] - 83s 3s/step - loss: 0.8303 - accuracy: 0.9823 - val_loss: 5.1047 - val_accuracy: 0.5256 - lr: 1.0000e-03\n",
            "Epoch 20/20\n",
            "31/31 [==============================] - 84s 3s/step - loss: 0.7923 - accuracy: 0.9823 - val_loss: 5.0364 - val_accuracy: 0.5266 - lr: 1.0000e-03\n"
          ],
          "name": "stdout"
        }
      ]
    },
    {
      "cell_type": "code",
      "metadata": {
        "id": "qaFXAHrhsO4C",
        "colab_type": "code",
        "outputId": "e7f3b2fe-a6aa-486f-a051-49760d858df7",
        "colab": {
          "base_uri": "https://localhost:8080/",
          "height": 204
        }
      },
      "source": [
        "dl_accuracy_df = dl_accuracy_df.append(pd.Series(['NN-glove200-trainable-true-finetuning',\n",
        "                                            accuracy_text.format(test_acc)],\n",
        "                                           index=dl_accuracy_df.columns), ignore_index=True)\n",
        "dl_accuracy_df"
      ],
      "execution_count": 249,
      "outputs": [
        {
          "output_type": "execute_result",
          "data": {
            "text/html": [
              "<div>\n",
              "<style scoped>\n",
              "    .dataframe tbody tr th:only-of-type {\n",
              "        vertical-align: middle;\n",
              "    }\n",
              "\n",
              "    .dataframe tbody tr th {\n",
              "        vertical-align: top;\n",
              "    }\n",
              "\n",
              "    .dataframe thead th {\n",
              "        text-align: right;\n",
              "    }\n",
              "</style>\n",
              "<table border=\"1\" class=\"dataframe\">\n",
              "  <thead>\n",
              "    <tr style=\"text-align: right;\">\n",
              "      <th></th>\n",
              "      <th>Model</th>\n",
              "      <th>Accuracy</th>\n",
              "    </tr>\n",
              "  </thead>\n",
              "  <tbody>\n",
              "    <tr>\n",
              "      <th>0</th>\n",
              "      <td>Simple NN</td>\n",
              "      <td>Test : 45.76</td>\n",
              "    </tr>\n",
              "    <tr>\n",
              "      <th>1</th>\n",
              "      <td>Vanilla NN</td>\n",
              "      <td>Test : 45.76</td>\n",
              "    </tr>\n",
              "    <tr>\n",
              "      <th>2</th>\n",
              "      <td>NN-glove200-trainable-true-initiallearning</td>\n",
              "      <td>Test : 45.76</td>\n",
              "    </tr>\n",
              "    <tr>\n",
              "      <th>3</th>\n",
              "      <td>NN-glove200-trainable-true-initiallearning</td>\n",
              "      <td>Test : 50.92</td>\n",
              "    </tr>\n",
              "    <tr>\n",
              "      <th>4</th>\n",
              "      <td>NN-glove200-trainable-true-finetuning</td>\n",
              "      <td>Test : 51.29</td>\n",
              "    </tr>\n",
              "  </tbody>\n",
              "</table>\n",
              "</div>"
            ],
            "text/plain": [
              "                                        Model       Accuracy\n",
              "0                                   Simple NN  Test : 45.76 \n",
              "1                                  Vanilla NN  Test : 45.76 \n",
              "2  NN-glove200-trainable-true-initiallearning  Test : 45.76 \n",
              "3  NN-glove200-trainable-true-initiallearning  Test : 50.92 \n",
              "4       NN-glove200-trainable-true-finetuning  Test : 51.29 "
            ]
          },
          "metadata": {
            "tags": []
          },
          "execution_count": 249
        }
      ]
    },
    {
      "cell_type": "code",
      "metadata": {
        "id": "QqPjoelzvkN9",
        "colab_type": "code",
        "colab": {}
      },
      "source": [
        "nn_glove200_model.save_weights(PROJECT_DIR+\"weights/nn_glove200_finetuned_weights.h5\")\n",
        "#nn_own_embed_model.load_weights(PROJECT_DIR+\"weights/nn_own_embed_weights.h5\")"
      ],
      "execution_count": 0,
      "outputs": []
    },
    {
      "cell_type": "markdown",
      "metadata": {
        "id": "9D8iifSWv4Dh",
        "colab_type": "text"
      },
      "source": [
        "#####**NN Model with Pretrained Embedding with StackOverflow :**"
      ]
    },
    {
      "cell_type": "code",
      "metadata": {
        "id": "f3y2k154yPjc",
        "colab_type": "code",
        "outputId": "2396c302-820e-4ec9-a859-379e1c11fb65",
        "colab": {
          "base_uri": "https://localhost:8080/",
          "height": 765
        }
      },
      "source": [
        "nn_stackoverflow_200_model = create_nn(X_train_seq_pad.shape[1], y_train_cate.shape[1], \n",
        "                   True, vocab_size+1, embed_dim, so_embedding_matrix)\n",
        "\n",
        "nn_stackoverflow_200_model.summary()"
      ],
      "execution_count": 252,
      "outputs": [
        {
          "output_type": "stream",
          "text": [
            "Model: \"sequential_11\"\n",
            "_________________________________________________________________\n",
            "Layer (type)                 Output Shape              Param #   \n",
            "=================================================================\n",
            "embedding_2 (Embedding)      (None, 2900, 200)         589400    \n",
            "_________________________________________________________________\n",
            "flatten_2 (Flatten)          (None, 580000)            0         \n",
            "_________________________________________________________________\n",
            "dense_30 (Dense)             (None, 512)               296960512 \n",
            "_________________________________________________________________\n",
            "batch_normalization_24 (Batc (None, 512)               2048      \n",
            "_________________________________________________________________\n",
            "activation_24 (Activation)   (None, 512)               0         \n",
            "_________________________________________________________________\n",
            "dropout_18 (Dropout)         (None, 512)               0         \n",
            "_________________________________________________________________\n",
            "dense_31 (Dense)             (None, 256)               131328    \n",
            "_________________________________________________________________\n",
            "batch_normalization_25 (Batc (None, 256)               1024      \n",
            "_________________________________________________________________\n",
            "activation_25 (Activation)   (None, 256)               0         \n",
            "_________________________________________________________________\n",
            "dropout_19 (Dropout)         (None, 256)               0         \n",
            "_________________________________________________________________\n",
            "dense_32 (Dense)             (None, 128)               32896     \n",
            "_________________________________________________________________\n",
            "batch_normalization_26 (Batc (None, 128)               512       \n",
            "_________________________________________________________________\n",
            "activation_26 (Activation)   (None, 128)               0         \n",
            "_________________________________________________________________\n",
            "dropout_20 (Dropout)         (None, 128)               0         \n",
            "_________________________________________________________________\n",
            "dense_33 (Dense)             (None, 64)                8256      \n",
            "_________________________________________________________________\n",
            "batch_normalization_27 (Batc (None, 64)                256       \n",
            "_________________________________________________________________\n",
            "activation_27 (Activation)   (None, 64)                0         \n",
            "_________________________________________________________________\n",
            "dense_34 (Dense)             (None, 52)                3380      \n",
            "=================================================================\n",
            "Total params: 297,729,612\n",
            "Trainable params: 297,138,292\n",
            "Non-trainable params: 591,320\n",
            "_________________________________________________________________\n"
          ],
          "name": "stdout"
        }
      ]
    },
    {
      "cell_type": "code",
      "metadata": {
        "id": "VsdmitR5FJIU",
        "colab_type": "code",
        "outputId": "108e58f2-7dfe-47cf-d912-7378f2e65ada",
        "colab": {
          "base_uri": "https://localhost:8080/",
          "height": 731
        }
      },
      "source": [
        "test_acc = train_deep_model(nn_stackoverflow_200_model, X_train_seq_pad, y_train_cate, X_test_seq_pad, y_test_cate, \n",
        "                             epochs, batch_size, lr, Lambda, callback)\n"
      ],
      "execution_count": 253,
      "outputs": [
        {
          "output_type": "stream",
          "text": [
            "Epoch 1/20\n",
            "31/31 [==============================] - 63s 2s/step - loss: 3.4356 - accuracy: 0.4425 - val_loss: 5.5999 - val_accuracy: 0.4887 - lr: 0.0100\n",
            "Epoch 2/20\n",
            "31/31 [==============================] - 62s 2s/step - loss: 2.6567 - accuracy: 0.4994 - val_loss: 3.0151 - val_accuracy: 0.4652 - lr: 0.0100\n",
            "Epoch 3/20\n",
            "31/31 [==============================] - 62s 2s/step - loss: 2.3859 - accuracy: 0.5265 - val_loss: 2.8248 - val_accuracy: 0.4744 - lr: 0.0100\n",
            "Epoch 4/20\n",
            "31/31 [==============================] - 62s 2s/step - loss: 2.2699 - accuracy: 0.5460 - val_loss: 2.8156 - val_accuracy: 0.5000 - lr: 0.0100\n",
            "Epoch 5/20\n",
            "31/31 [==============================] - 62s 2s/step - loss: 2.2629 - accuracy: 0.5688 - val_loss: 3.0139 - val_accuracy: 0.4990 - lr: 0.0100\n",
            "Epoch 6/20\n",
            "31/31 [==============================] - 65s 2s/step - loss: 2.0743 - accuracy: 0.6011 - val_loss: 2.9565 - val_accuracy: 0.5154 - lr: 0.0100\n",
            "Epoch 7/20\n",
            "31/31 [==============================] - 62s 2s/step - loss: 1.9164 - accuracy: 0.6429 - val_loss: 3.1423 - val_accuracy: 0.4846 - lr: 0.0100\n",
            "Epoch 8/20\n",
            "31/31 [==============================] - 62s 2s/step - loss: 1.9394 - accuracy: 0.6634 - val_loss: 3.3822 - val_accuracy: 0.4969 - lr: 0.0100\n",
            "Epoch 9/20\n",
            "31/31 [==============================] - 62s 2s/step - loss: 1.8771 - accuracy: 0.6891 - val_loss: 3.3885 - val_accuracy: 0.5072 - lr: 0.0100\n",
            "Epoch 10/20\n",
            "31/31 [==============================] - 62s 2s/step - loss: 1.8077 - accuracy: 0.7142 - val_loss: 3.7158 - val_accuracy: 0.5000 - lr: 0.0100\n",
            "Epoch 11/20\n",
            "31/31 [==============================] - 62s 2s/step - loss: 1.7276 - accuracy: 0.7383 - val_loss: 3.6671 - val_accuracy: 0.4795 - lr: 0.0100\n",
            "Epoch 12/20\n",
            "31/31 [==============================] - 61s 2s/step - loss: 1.6237 - accuracy: 0.7624 - val_loss: 3.9046 - val_accuracy: 0.5123 - lr: 0.0100\n",
            "Epoch 13/20\n",
            "31/31 [==============================] - 62s 2s/step - loss: 1.6658 - accuracy: 0.7754 - val_loss: 4.0721 - val_accuracy: 0.4980 - lr: 0.0100\n",
            "Epoch 14/20\n",
            "31/31 [==============================] - 61s 2s/step - loss: 1.6430 - accuracy: 0.7926 - val_loss: 4.0574 - val_accuracy: 0.5174 - lr: 0.0100\n",
            "Epoch 15/20\n",
            "31/31 [==============================] - ETA: 0s - loss: 1.6245 - accuracy: 0.8088\n",
            "Epoch 00015: ReduceLROnPlateau reducing learning rate to 0.0009999999776482583.\n",
            "31/31 [==============================] - 61s 2s/step - loss: 1.6245 - accuracy: 0.8088 - val_loss: 4.4584 - val_accuracy: 0.5256 - lr: 0.0100\n",
            "Epoch 16/20\n",
            "31/31 [==============================] - 61s 2s/step - loss: 1.4763 - accuracy: 0.8362 - val_loss: 4.1921 - val_accuracy: 0.5297 - lr: 1.0000e-03\n",
            "Epoch 17/20\n",
            "31/31 [==============================] - 62s 2s/step - loss: 1.3032 - accuracy: 0.8672 - val_loss: 4.0773 - val_accuracy: 0.5205 - lr: 1.0000e-03\n",
            "Epoch 18/20\n",
            "31/31 [==============================] - 62s 2s/step - loss: 1.1839 - accuracy: 0.8887 - val_loss: 3.9822 - val_accuracy: 0.5266 - lr: 1.0000e-03\n",
            "Epoch 19/20\n",
            "31/31 [==============================] - 62s 2s/step - loss: 1.1090 - accuracy: 0.8959 - val_loss: 3.9370 - val_accuracy: 0.5236 - lr: 1.0000e-03\n",
            "Epoch 20/20\n",
            "31/31 [==============================] - 63s 2s/step - loss: 1.0356 - accuracy: 0.9008 - val_loss: 3.9330 - val_accuracy: 0.5236 - lr: 1.0000e-03\n"
          ],
          "name": "stdout"
        }
      ]
    },
    {
      "cell_type": "code",
      "metadata": {
        "id": "leBEGG_EFJOL",
        "colab_type": "code",
        "outputId": "d374cbc3-d76c-432c-81a8-ab66f7739f4d",
        "colab": {
          "base_uri": "https://localhost:8080/",
          "height": 235
        }
      },
      "source": [
        "dl_accuracy_df = dl_accuracy_df.append(pd.Series(['NN-so200-trainable-initiallearning', \n",
        "                                            accuracy_text.format(test_acc)],\n",
        "                                           index=dl_accuracy_df.columns), ignore_index=True)\n",
        "dl_accuracy_df"
      ],
      "execution_count": 254,
      "outputs": [
        {
          "output_type": "execute_result",
          "data": {
            "text/html": [
              "<div>\n",
              "<style scoped>\n",
              "    .dataframe tbody tr th:only-of-type {\n",
              "        vertical-align: middle;\n",
              "    }\n",
              "\n",
              "    .dataframe tbody tr th {\n",
              "        vertical-align: top;\n",
              "    }\n",
              "\n",
              "    .dataframe thead th {\n",
              "        text-align: right;\n",
              "    }\n",
              "</style>\n",
              "<table border=\"1\" class=\"dataframe\">\n",
              "  <thead>\n",
              "    <tr style=\"text-align: right;\">\n",
              "      <th></th>\n",
              "      <th>Model</th>\n",
              "      <th>Accuracy</th>\n",
              "    </tr>\n",
              "  </thead>\n",
              "  <tbody>\n",
              "    <tr>\n",
              "      <th>0</th>\n",
              "      <td>Simple NN</td>\n",
              "      <td>Test : 45.76</td>\n",
              "    </tr>\n",
              "    <tr>\n",
              "      <th>1</th>\n",
              "      <td>Vanilla NN</td>\n",
              "      <td>Test : 45.76</td>\n",
              "    </tr>\n",
              "    <tr>\n",
              "      <th>2</th>\n",
              "      <td>NN-glove200-trainable-true-initiallearning</td>\n",
              "      <td>Test : 45.76</td>\n",
              "    </tr>\n",
              "    <tr>\n",
              "      <th>3</th>\n",
              "      <td>NN-glove200-trainable-true-initiallearning</td>\n",
              "      <td>Test : 50.92</td>\n",
              "    </tr>\n",
              "    <tr>\n",
              "      <th>4</th>\n",
              "      <td>NN-glove200-trainable-true-finetuning</td>\n",
              "      <td>Test : 51.29</td>\n",
              "    </tr>\n",
              "    <tr>\n",
              "      <th>5</th>\n",
              "      <td>NN-so200-trainable-initiallearning</td>\n",
              "      <td>Test : 50.92</td>\n",
              "    </tr>\n",
              "  </tbody>\n",
              "</table>\n",
              "</div>"
            ],
            "text/plain": [
              "                                        Model       Accuracy\n",
              "0                                   Simple NN  Test : 45.76 \n",
              "1                                  Vanilla NN  Test : 45.76 \n",
              "2  NN-glove200-trainable-true-initiallearning  Test : 45.76 \n",
              "3  NN-glove200-trainable-true-initiallearning  Test : 50.92 \n",
              "4       NN-glove200-trainable-true-finetuning  Test : 51.29 \n",
              "5          NN-so200-trainable-initiallearning  Test : 50.92 "
            ]
          },
          "metadata": {
            "tags": []
          },
          "execution_count": 254
        }
      ]
    },
    {
      "cell_type": "code",
      "metadata": {
        "id": "tw6B31CeFJTv",
        "colab_type": "code",
        "colab": {}
      },
      "source": [
        "nn_stackoverflow_200_model.save_weights(PROJECT_DIR+\"weights/nn_so200_weights.h5\")"
      ],
      "execution_count": 0,
      "outputs": []
    },
    {
      "cell_type": "code",
      "metadata": {
        "id": "_CYHGnYdFJW1",
        "colab_type": "code",
        "outputId": "a514f4cb-b021-4498-9e5f-28d54b138114",
        "colab": {
          "base_uri": "https://localhost:8080/",
          "height": 765
        }
      },
      "source": [
        "for layer in nn_stackoverflow_200_model.layers:\n",
        "  if 'embedding' in (layer.name.lower()):\n",
        "    layer.trainable = True\n",
        "    break\n",
        "\n",
        "nn_stackoverflow_200_model.summary()\n"
      ],
      "execution_count": 256,
      "outputs": [
        {
          "output_type": "stream",
          "text": [
            "Model: \"sequential_11\"\n",
            "_________________________________________________________________\n",
            "Layer (type)                 Output Shape              Param #   \n",
            "=================================================================\n",
            "embedding_2 (Embedding)      (None, 2900, 200)         589400    \n",
            "_________________________________________________________________\n",
            "flatten_2 (Flatten)          (None, 580000)            0         \n",
            "_________________________________________________________________\n",
            "dense_30 (Dense)             (None, 512)               296960512 \n",
            "_________________________________________________________________\n",
            "batch_normalization_24 (Batc (None, 512)               2048      \n",
            "_________________________________________________________________\n",
            "activation_24 (Activation)   (None, 512)               0         \n",
            "_________________________________________________________________\n",
            "dropout_18 (Dropout)         (None, 512)               0         \n",
            "_________________________________________________________________\n",
            "dense_31 (Dense)             (None, 256)               131328    \n",
            "_________________________________________________________________\n",
            "batch_normalization_25 (Batc (None, 256)               1024      \n",
            "_________________________________________________________________\n",
            "activation_25 (Activation)   (None, 256)               0         \n",
            "_________________________________________________________________\n",
            "dropout_19 (Dropout)         (None, 256)               0         \n",
            "_________________________________________________________________\n",
            "dense_32 (Dense)             (None, 128)               32896     \n",
            "_________________________________________________________________\n",
            "batch_normalization_26 (Batc (None, 128)               512       \n",
            "_________________________________________________________________\n",
            "activation_26 (Activation)   (None, 128)               0         \n",
            "_________________________________________________________________\n",
            "dropout_20 (Dropout)         (None, 128)               0         \n",
            "_________________________________________________________________\n",
            "dense_33 (Dense)             (None, 64)                8256      \n",
            "_________________________________________________________________\n",
            "batch_normalization_27 (Batc (None, 64)                256       \n",
            "_________________________________________________________________\n",
            "activation_27 (Activation)   (None, 64)                0         \n",
            "_________________________________________________________________\n",
            "dense_34 (Dense)             (None, 52)                3380      \n",
            "=================================================================\n",
            "Total params: 297,729,612\n",
            "Trainable params: 297,727,692\n",
            "Non-trainable params: 1,920\n",
            "_________________________________________________________________\n"
          ],
          "name": "stdout"
        }
      ]
    },
    {
      "cell_type": "code",
      "metadata": {
        "id": "dsnTDXsKFJSR",
        "colab_type": "code",
        "outputId": "5edc7d75-20a3-4708-cdbf-ec823dc2d9b5",
        "colab": {
          "base_uri": "https://localhost:8080/",
          "height": 731
        }
      },
      "source": [
        "test_acc = train_deep_model(nn_stackoverflow_200_model, X_train_seq_pad, y_train_cate, X_test_seq_pad, y_test_cate, \n",
        "                                                epochs, batch_size, lr, Lambda, callback)\n"
      ],
      "execution_count": 257,
      "outputs": [
        {
          "output_type": "stream",
          "text": [
            "Epoch 1/20\n",
            "31/31 [==============================] - 88s 3s/step - loss: 1.3083 - accuracy: 0.8185 - val_loss: 5.1011 - val_accuracy: 0.5010 - lr: 0.0100\n",
            "Epoch 2/20\n",
            "31/31 [==============================] - 86s 3s/step - loss: 1.7555 - accuracy: 0.7829 - val_loss: 4.8135 - val_accuracy: 0.2777 - lr: 0.0100\n",
            "Epoch 3/20\n",
            "31/31 [==============================] - 86s 3s/step - loss: 1.6176 - accuracy: 0.8285 - val_loss: 5.1695 - val_accuracy: 0.4590 - lr: 0.0100\n",
            "Epoch 4/20\n",
            "31/31 [==============================] - ETA: 0s - loss: 1.4357 - accuracy: 0.8641\n",
            "Epoch 00004: ReduceLROnPlateau reducing learning rate to 0.0009999999776482583.\n",
            "31/31 [==============================] - 86s 3s/step - loss: 1.4357 - accuracy: 0.8641 - val_loss: 4.9326 - val_accuracy: 0.5092 - lr: 0.0100\n",
            "Epoch 5/20\n",
            "31/31 [==============================] - 86s 3s/step - loss: 1.2815 - accuracy: 0.8959 - val_loss: 4.9363 - val_accuracy: 0.5092 - lr: 1.0000e-03\n",
            "Epoch 6/20\n",
            "31/31 [==============================] - 86s 3s/step - loss: 1.1662 - accuracy: 0.9190 - val_loss: 4.9773 - val_accuracy: 0.5246 - lr: 1.0000e-03\n",
            "Epoch 7/20\n",
            "31/31 [==============================] - 87s 3s/step - loss: 1.0882 - accuracy: 0.9254 - val_loss: 4.8682 - val_accuracy: 0.5287 - lr: 1.0000e-03\n",
            "Epoch 8/20\n",
            "31/31 [==============================] - 86s 3s/step - loss: 1.0106 - accuracy: 0.9436 - val_loss: 4.4641 - val_accuracy: 0.5205 - lr: 1.0000e-03\n",
            "Epoch 9/20\n",
            "31/31 [==============================] - 86s 3s/step - loss: 0.9671 - accuracy: 0.9400 - val_loss: 4.4368 - val_accuracy: 0.5256 - lr: 1.0000e-03\n",
            "Epoch 10/20\n",
            "31/31 [==============================] - 90s 3s/step - loss: 0.9266 - accuracy: 0.9423 - val_loss: 4.2242 - val_accuracy: 0.5154 - lr: 1.0000e-03\n",
            "Epoch 11/20\n",
            "31/31 [==============================] - 86s 3s/step - loss: 0.8796 - accuracy: 0.9498 - val_loss: 4.2372 - val_accuracy: 0.5061 - lr: 1.0000e-03\n",
            "Epoch 12/20\n",
            "31/31 [==============================] - 86s 3s/step - loss: 0.8493 - accuracy: 0.9487 - val_loss: 4.3174 - val_accuracy: 0.5102 - lr: 1.0000e-03\n",
            "Epoch 13/20\n",
            "31/31 [==============================] - 86s 3s/step - loss: 0.8181 - accuracy: 0.9523 - val_loss: 4.2965 - val_accuracy: 0.5174 - lr: 1.0000e-03\n",
            "Epoch 14/20\n",
            "31/31 [==============================] - 87s 3s/step - loss: 0.7824 - accuracy: 0.9582 - val_loss: 4.3697 - val_accuracy: 0.4959 - lr: 1.0000e-03\n",
            "Epoch 15/20\n",
            "31/31 [==============================] - 86s 3s/step - loss: 0.7467 - accuracy: 0.9600 - val_loss: 4.3281 - val_accuracy: 0.4887 - lr: 1.0000e-03\n",
            "Epoch 16/20\n",
            "31/31 [==============================] - 87s 3s/step - loss: 0.7360 - accuracy: 0.9587 - val_loss: 4.3221 - val_accuracy: 0.4918 - lr: 1.0000e-03\n",
            "Epoch 17/20\n",
            "31/31 [==============================] - 86s 3s/step - loss: 0.6954 - accuracy: 0.9656 - val_loss: 4.4305 - val_accuracy: 0.4959 - lr: 1.0000e-03\n",
            "Epoch 18/20\n",
            "31/31 [==============================] - 86s 3s/step - loss: 0.6787 - accuracy: 0.9674 - val_loss: 4.4642 - val_accuracy: 0.4775 - lr: 1.0000e-03\n",
            "Epoch 19/20\n",
            "31/31 [==============================] - 86s 3s/step - loss: 0.6689 - accuracy: 0.9680 - val_loss: 4.5004 - val_accuracy: 0.4508 - lr: 1.0000e-03\n",
            "Epoch 20/20\n",
            "31/31 [==============================] - 87s 3s/step - loss: 0.6564 - accuracy: 0.9659 - val_loss: 4.8311 - val_accuracy: 0.4928 - lr: 1.0000e-03\n"
          ],
          "name": "stdout"
        }
      ]
    },
    {
      "cell_type": "code",
      "metadata": {
        "id": "VQldOw7kG-nG",
        "colab_type": "code",
        "outputId": "d57b583a-f4a8-41f3-9d3a-f1262d97b9f9",
        "colab": {
          "base_uri": "https://localhost:8080/",
          "height": 266
        }
      },
      "source": [
        "dl_accuracy_df = dl_accuracy_df.append(pd.Series(['NN-so200-trainable-true-finetuning',\n",
        "                                            accuracy_text.format(test_acc)],\n",
        "                                           index=dl_accuracy_df.columns), ignore_index=True)\n",
        "dl_accuracy_df\n"
      ],
      "execution_count": 258,
      "outputs": [
        {
          "output_type": "execute_result",
          "data": {
            "text/html": [
              "<div>\n",
              "<style scoped>\n",
              "    .dataframe tbody tr th:only-of-type {\n",
              "        vertical-align: middle;\n",
              "    }\n",
              "\n",
              "    .dataframe tbody tr th {\n",
              "        vertical-align: top;\n",
              "    }\n",
              "\n",
              "    .dataframe thead th {\n",
              "        text-align: right;\n",
              "    }\n",
              "</style>\n",
              "<table border=\"1\" class=\"dataframe\">\n",
              "  <thead>\n",
              "    <tr style=\"text-align: right;\">\n",
              "      <th></th>\n",
              "      <th>Model</th>\n",
              "      <th>Accuracy</th>\n",
              "    </tr>\n",
              "  </thead>\n",
              "  <tbody>\n",
              "    <tr>\n",
              "      <th>0</th>\n",
              "      <td>Simple NN</td>\n",
              "      <td>Test : 45.76</td>\n",
              "    </tr>\n",
              "    <tr>\n",
              "      <th>1</th>\n",
              "      <td>Vanilla NN</td>\n",
              "      <td>Test : 45.76</td>\n",
              "    </tr>\n",
              "    <tr>\n",
              "      <th>2</th>\n",
              "      <td>NN-glove200-trainable-true-initiallearning</td>\n",
              "      <td>Test : 45.76</td>\n",
              "    </tr>\n",
              "    <tr>\n",
              "      <th>3</th>\n",
              "      <td>NN-glove200-trainable-true-initiallearning</td>\n",
              "      <td>Test : 50.92</td>\n",
              "    </tr>\n",
              "    <tr>\n",
              "      <th>4</th>\n",
              "      <td>NN-glove200-trainable-true-finetuning</td>\n",
              "      <td>Test : 51.29</td>\n",
              "    </tr>\n",
              "    <tr>\n",
              "      <th>5</th>\n",
              "      <td>NN-so200-trainable-initiallearning</td>\n",
              "      <td>Test : 50.92</td>\n",
              "    </tr>\n",
              "    <tr>\n",
              "      <th>6</th>\n",
              "      <td>NN-so200-trainable-true-finetuning</td>\n",
              "      <td>Test : 48.34</td>\n",
              "    </tr>\n",
              "  </tbody>\n",
              "</table>\n",
              "</div>"
            ],
            "text/plain": [
              "                                        Model       Accuracy\n",
              "0                                   Simple NN  Test : 45.76 \n",
              "1                                  Vanilla NN  Test : 45.76 \n",
              "2  NN-glove200-trainable-true-initiallearning  Test : 45.76 \n",
              "3  NN-glove200-trainable-true-initiallearning  Test : 50.92 \n",
              "4       NN-glove200-trainable-true-finetuning  Test : 51.29 \n",
              "5          NN-so200-trainable-initiallearning  Test : 50.92 \n",
              "6          NN-so200-trainable-true-finetuning  Test : 48.34 "
            ]
          },
          "metadata": {
            "tags": []
          },
          "execution_count": 258
        }
      ]
    },
    {
      "cell_type": "code",
      "metadata": {
        "id": "xvr_9-F-G-jL",
        "colab_type": "code",
        "colab": {}
      },
      "source": [
        "nn_stackoverflow_200_model.save_weights(PROJECT_DIR+\"weights/nn_so200_finetuned_weights.h5\")\n"
      ],
      "execution_count": 0,
      "outputs": []
    },
    {
      "cell_type": "markdown",
      "metadata": {
        "id": "llZweWj2Gya-",
        "colab_type": "text"
      },
      "source": [
        "###Convolutional Neural Network"
      ]
    },
    {
      "cell_type": "code",
      "metadata": {
        "id": "4bcJ9Kp_HqWp",
        "colab_type": "code",
        "colab": {}
      },
      "source": [
        "def create_cnn(input_size, output_size, embedding=False, vocab_size=None, embed_dim=None, embedding_matrix=None):\n",
        "    model = Sequential()\n",
        "    model.add(Embedding(vocab_size, embed_dim, input_length=input_size, weights=[embedding_matrix], trainable=False))\n",
        "    #1st hidden layer\n",
        "    model.add(Conv1D(filters=64, kernel_size=3, activation='relu'))\n",
        "    model.add(MaxPooling1D(pool_size=2))\n",
        "    #2nd hidden layer\n",
        "    model.add(Conv1D(filters=128, kernel_size=3, activation='relu'))\n",
        "    model.add(MaxPooling1D(pool_size=2))\n",
        "    #3rd hidden layer\n",
        "    model.add(Conv1D(filters=256, kernel_size=3, activation='relu'))\n",
        "    model.add(MaxPooling1D(pool_size=2))\n",
        "    \n",
        "    model.add(Flatten())\n",
        "    model.add(Dense(64, kernel_initializer='random_uniform',kernel_regularizer=regularizers.l2(Lambda)))\n",
        "    model.add(BatchNormalization())\n",
        "    model.add(Activation('relu'))\n",
        "\n",
        "    model.add(Dense(output_size, activation='softmax'))\n",
        "    return model"
      ],
      "execution_count": 0,
      "outputs": []
    },
    {
      "cell_type": "markdown",
      "metadata": {
        "id": "L8Y5t1qDO5TX",
        "colab_type": "text"
      },
      "source": [
        "####Glove:"
      ]
    },
    {
      "cell_type": "code",
      "metadata": {
        "id": "K7TuIoZEM2od",
        "colab_type": "code",
        "colab": {
          "base_uri": "https://localhost:8080/",
          "height": 561
        },
        "outputId": "e807154c-5e7d-4d0f-ee2b-557085fb9832"
      },
      "source": [
        "cnn_glove_200_model = create_cnn(X_train_seq_pad.shape[1], y_train_cate.shape[1], \n",
        "                   True, vocab_size+1, embed_dim, glove_embedding_matrix)\n",
        "\n",
        "cnn_glove_200_model.summary()"
      ],
      "execution_count": 53,
      "outputs": [
        {
          "output_type": "stream",
          "text": [
            "Model: \"sequential_3\"\n",
            "_________________________________________________________________\n",
            "Layer (type)                 Output Shape              Param #   \n",
            "=================================================================\n",
            "embedding_3 (Embedding)      (None, 2900, 200)         589400    \n",
            "_________________________________________________________________\n",
            "conv1d_7 (Conv1D)            (None, 2898, 64)          38464     \n",
            "_________________________________________________________________\n",
            "max_pooling1d_6 (MaxPooling1 (None, 1449, 64)          0         \n",
            "_________________________________________________________________\n",
            "conv1d_8 (Conv1D)            (None, 1447, 128)         24704     \n",
            "_________________________________________________________________\n",
            "max_pooling1d_7 (MaxPooling1 (None, 723, 128)          0         \n",
            "_________________________________________________________________\n",
            "conv1d_9 (Conv1D)            (None, 721, 256)          98560     \n",
            "_________________________________________________________________\n",
            "max_pooling1d_8 (MaxPooling1 (None, 360, 256)          0         \n",
            "_________________________________________________________________\n",
            "flatten_2 (Flatten)          (None, 92160)             0         \n",
            "_________________________________________________________________\n",
            "dense_2 (Dense)              (None, 64)                5898304   \n",
            "_________________________________________________________________\n",
            "batch_normalization_1 (Batch (None, 64)                256       \n",
            "_________________________________________________________________\n",
            "activation_1 (Activation)    (None, 64)                0         \n",
            "_________________________________________________________________\n",
            "dense_3 (Dense)              (None, 52)                3380      \n",
            "=================================================================\n",
            "Total params: 6,653,068\n",
            "Trainable params: 6,063,540\n",
            "Non-trainable params: 589,528\n",
            "_________________________________________________________________\n"
          ],
          "name": "stdout"
        }
      ]
    },
    {
      "cell_type": "code",
      "metadata": {
        "id": "D9TMDpRYOtPd",
        "colab_type": "code",
        "colab": {
          "base_uri": "https://localhost:8080/",
          "height": 1000
        },
        "outputId": "987daca6-d087-48da-aa23-81a84dd15bed"
      },
      "source": [
        "test_acc = train_deep_model(cnn_glove_200_model, X_train_seq_pad, y_train_cate, X_test_seq_pad, y_test_cate, \n",
        "                             epochs, batch_size, lr, Lambda, callback)\n"
      ],
      "execution_count": 54,
      "outputs": [
        {
          "output_type": "stream",
          "text": [
            "Epoch 1/50\n",
            "31/31 [==============================] - 53s 2s/step - loss: 2.7697 - accuracy: 0.4524 - val_loss: 3.7932 - val_accuracy: 0.1352 - lr: 0.0100\n",
            "Epoch 2/50\n",
            "31/31 [==============================] - 52s 2s/step - loss: 2.4357 - accuracy: 0.4896 - val_loss: 3.2143 - val_accuracy: 0.4969 - lr: 0.0100\n",
            "Epoch 3/50\n",
            "31/31 [==============================] - 52s 2s/step - loss: 2.3899 - accuracy: 0.4896 - val_loss: 2.6848 - val_accuracy: 0.4990 - lr: 0.0100\n",
            "Epoch 4/50\n",
            "31/31 [==============================] - 52s 2s/step - loss: 2.3473 - accuracy: 0.4917 - val_loss: 2.5896 - val_accuracy: 0.5010 - lr: 0.0100\n",
            "Epoch 5/50\n",
            "31/31 [==============================] - 52s 2s/step - loss: 2.3272 - accuracy: 0.4935 - val_loss: 2.6168 - val_accuracy: 0.4990 - lr: 0.0100\n",
            "Epoch 6/50\n",
            "31/31 [==============================] - 52s 2s/step - loss: 2.2885 - accuracy: 0.4996 - val_loss: 2.7182 - val_accuracy: 0.4959 - lr: 0.0100\n",
            "Epoch 7/50\n",
            "31/31 [==============================] - 52s 2s/step - loss: 2.2249 - accuracy: 0.5047 - val_loss: 2.8609 - val_accuracy: 0.5051 - lr: 0.0100\n",
            "Epoch 8/50\n",
            "31/31 [==============================] - 52s 2s/step - loss: 2.1539 - accuracy: 0.5147 - val_loss: 2.7554 - val_accuracy: 0.5072 - lr: 0.0100\n",
            "Epoch 9/50\n",
            "31/31 [==============================] - 52s 2s/step - loss: 2.1031 - accuracy: 0.5206 - val_loss: 2.6343 - val_accuracy: 0.5051 - lr: 0.0100\n",
            "Epoch 10/50\n",
            "31/31 [==============================] - 55s 2s/step - loss: 2.0646 - accuracy: 0.5270 - val_loss: 2.7113 - val_accuracy: 0.4969 - lr: 0.0100\n",
            "Epoch 11/50\n",
            "31/31 [==============================] - 52s 2s/step - loss: 2.0086 - accuracy: 0.5381 - val_loss: 3.4528 - val_accuracy: 0.4641 - lr: 0.0100\n",
            "Epoch 12/50\n",
            "31/31 [==============================] - 52s 2s/step - loss: 1.9522 - accuracy: 0.5517 - val_loss: 2.7795 - val_accuracy: 0.4846 - lr: 0.0100\n",
            "Epoch 13/50\n",
            "31/31 [==============================] - 52s 2s/step - loss: 1.8908 - accuracy: 0.5627 - val_loss: 3.5359 - val_accuracy: 0.4959 - lr: 0.0100\n",
            "Epoch 14/50\n",
            "31/31 [==============================] - 52s 2s/step - loss: 1.8547 - accuracy: 0.5757 - val_loss: 4.4318 - val_accuracy: 0.4887 - lr: 0.0100\n",
            "Epoch 15/50\n",
            "31/31 [==============================] - 52s 2s/step - loss: 1.8073 - accuracy: 0.5904 - val_loss: 4.3913 - val_accuracy: 0.4980 - lr: 0.0100\n",
            "Epoch 16/50\n",
            "31/31 [==============================] - 52s 2s/step - loss: 1.7441 - accuracy: 0.6091 - val_loss: 4.4729 - val_accuracy: 0.4805 - lr: 0.0100\n",
            "Epoch 17/50\n",
            "31/31 [==============================] - 52s 2s/step - loss: 1.6721 - accuracy: 0.6239 - val_loss: 6.9293 - val_accuracy: 0.0932 - lr: 0.0100\n",
            "Epoch 18/50\n",
            "31/31 [==============================] - 52s 2s/step - loss: 1.6267 - accuracy: 0.6403 - val_loss: 4.4986 - val_accuracy: 0.1742 - lr: 0.0100\n",
            "Epoch 19/50\n",
            "31/31 [==============================] - 52s 2s/step - loss: 1.5847 - accuracy: 0.6550 - val_loss: 8.0498 - val_accuracy: 0.1055 - lr: 0.0100\n",
            "Epoch 20/50\n",
            "31/31 [==============================] - 52s 2s/step - loss: 1.5454 - accuracy: 0.6647 - val_loss: 10.5305 - val_accuracy: 0.0799 - lr: 0.0100\n",
            "Epoch 21/50\n",
            "31/31 [==============================] - 54s 2s/step - loss: 1.5085 - accuracy: 0.6801 - val_loss: 9.7232 - val_accuracy: 0.4867 - lr: 0.0100\n",
            "Epoch 22/50\n",
            "31/31 [==============================] - 52s 2s/step - loss: 1.4833 - accuracy: 0.6850 - val_loss: 9.9416 - val_accuracy: 0.4621 - lr: 0.0100\n",
            "Epoch 23/50\n",
            "31/31 [==============================] - 52s 2s/step - loss: 1.4523 - accuracy: 0.6947 - val_loss: 6.2505 - val_accuracy: 0.4570 - lr: 0.0100\n",
            "Epoch 24/50\n",
            "31/31 [==============================] - 52s 2s/step - loss: 1.4182 - accuracy: 0.7034 - val_loss: 9.4378 - val_accuracy: 0.0840 - lr: 0.0100\n",
            "Epoch 25/50\n",
            "31/31 [==============================] - 52s 2s/step - loss: 1.3808 - accuracy: 0.7126 - val_loss: 13.7608 - val_accuracy: 0.4939 - lr: 0.0100\n",
            "Epoch 26/50\n",
            "31/31 [==============================] - 52s 2s/step - loss: 1.3492 - accuracy: 0.7231 - val_loss: 10.1896 - val_accuracy: 0.4898 - lr: 0.0100\n",
            "Epoch 27/50\n",
            "31/31 [==============================] - 51s 2s/step - loss: 1.3403 - accuracy: 0.7206 - val_loss: 5.3646 - val_accuracy: 0.4723 - lr: 0.0100\n",
            "Epoch 28/50\n",
            "31/31 [==============================] - 52s 2s/step - loss: 1.3143 - accuracy: 0.7267 - val_loss: 7.2488 - val_accuracy: 0.1352 - lr: 0.0100\n",
            "Epoch 29/50\n",
            "31/31 [==============================] - 52s 2s/step - loss: 1.3035 - accuracy: 0.7324 - val_loss: 5.8226 - val_accuracy: 0.1148 - lr: 0.0100\n",
            "Epoch 30/50\n",
            "31/31 [==============================] - 52s 2s/step - loss: 1.3020 - accuracy: 0.7347 - val_loss: 4.7506 - val_accuracy: 0.4355 - lr: 0.0100\n",
            "Epoch 31/50\n",
            "31/31 [==============================] - 52s 2s/step - loss: 1.2842 - accuracy: 0.7367 - val_loss: 6.4633 - val_accuracy: 0.0973 - lr: 0.0100\n",
            "Epoch 32/50\n",
            "31/31 [==============================] - 52s 2s/step - loss: 1.2774 - accuracy: 0.7431 - val_loss: 4.8735 - val_accuracy: 0.4344 - lr: 0.0100\n",
            "Epoch 33/50\n",
            "31/31 [==============================] - 56s 2s/step - loss: 1.2507 - accuracy: 0.7467 - val_loss: 5.5702 - val_accuracy: 0.3740 - lr: 0.0100\n",
            "Epoch 34/50\n",
            "31/31 [==============================] - 53s 2s/step - loss: 1.2855 - accuracy: 0.7385 - val_loss: 9.4194 - val_accuracy: 0.0492 - lr: 0.0100\n",
            "Epoch 35/50\n",
            "31/31 [==============================] - 52s 2s/step - loss: 1.2867 - accuracy: 0.7388 - val_loss: 10.4535 - val_accuracy: 0.0656 - lr: 0.0100\n",
            "Epoch 36/50\n",
            "31/31 [==============================] - ETA: 0s - loss: 1.2692 - accuracy: 0.7460\n",
            "Epoch 00036: ReduceLROnPlateau reducing learning rate to 0.0009999999776482583.\n",
            "31/31 [==============================] - 52s 2s/step - loss: 1.2692 - accuracy: 0.7460 - val_loss: 5.9871 - val_accuracy: 0.0953 - lr: 0.0100\n",
            "Epoch 37/50\n",
            "31/31 [==============================] - 52s 2s/step - loss: 1.2143 - accuracy: 0.7567 - val_loss: 5.1187 - val_accuracy: 0.3852 - lr: 1.0000e-03\n",
            "Epoch 38/50\n",
            "31/31 [==============================] - 52s 2s/step - loss: 1.1940 - accuracy: 0.7647 - val_loss: 4.5474 - val_accuracy: 0.4119 - lr: 1.0000e-03\n",
            "Epoch 39/50\n",
            "31/31 [==============================] - 52s 2s/step - loss: 1.1866 - accuracy: 0.7644 - val_loss: 4.2445 - val_accuracy: 0.4324 - lr: 1.0000e-03\n",
            "Epoch 40/50\n",
            "31/31 [==============================] - 52s 2s/step - loss: 1.1789 - accuracy: 0.7665 - val_loss: 4.1139 - val_accuracy: 0.4375 - lr: 1.0000e-03\n",
            "Epoch 41/50\n",
            "31/31 [==============================] - 52s 2s/step - loss: 1.1776 - accuracy: 0.7657 - val_loss: 4.0891 - val_accuracy: 0.4385 - lr: 1.0000e-03\n",
            "Epoch 42/50\n",
            "31/31 [==============================] - 52s 2s/step - loss: 1.1733 - accuracy: 0.7680 - val_loss: 4.1207 - val_accuracy: 0.4395 - lr: 1.0000e-03\n",
            "Epoch 43/50\n",
            "31/31 [==============================] - 52s 2s/step - loss: 1.1719 - accuracy: 0.7660 - val_loss: 4.0996 - val_accuracy: 0.4406 - lr: 1.0000e-03\n",
            "Epoch 44/50\n",
            "31/31 [==============================] - 55s 2s/step - loss: 1.1707 - accuracy: 0.7662 - val_loss: 4.1135 - val_accuracy: 0.4426 - lr: 1.0000e-03\n",
            "Epoch 45/50\n",
            "31/31 [==============================] - 52s 2s/step - loss: 1.1661 - accuracy: 0.7683 - val_loss: 4.1069 - val_accuracy: 0.4467 - lr: 1.0000e-03\n",
            "Epoch 46/50\n",
            "31/31 [==============================] - 51s 2s/step - loss: 1.1642 - accuracy: 0.7690 - val_loss: 4.1206 - val_accuracy: 0.4477 - lr: 1.0000e-03\n",
            "Epoch 47/50\n",
            "31/31 [==============================] - 52s 2s/step - loss: 1.1662 - accuracy: 0.7675 - val_loss: 4.1509 - val_accuracy: 0.4457 - lr: 1.0000e-03\n",
            "Epoch 48/50\n",
            "31/31 [==============================] - 52s 2s/step - loss: 1.1622 - accuracy: 0.7680 - val_loss: 4.1643 - val_accuracy: 0.4477 - lr: 1.0000e-03\n",
            "Epoch 49/50\n",
            "31/31 [==============================] - 52s 2s/step - loss: 1.1599 - accuracy: 0.7683 - val_loss: 4.1986 - val_accuracy: 0.4488 - lr: 1.0000e-03\n",
            "Epoch 50/50\n",
            "31/31 [==============================] - 52s 2s/step - loss: 1.1572 - accuracy: 0.7675 - val_loss: 4.1929 - val_accuracy: 0.4518 - lr: 1.0000e-03\n"
          ],
          "name": "stdout"
        }
      ]
    },
    {
      "cell_type": "code",
      "metadata": {
        "id": "Ji2qR-4kN15c",
        "colab_type": "code",
        "colab": {
          "base_uri": "https://localhost:8080/",
          "height": 80
        },
        "outputId": "e3f151f9-014c-4b9f-8432-63ff2f55f8b7"
      },
      "source": [
        "dl_accuracy_df = dl_accuracy_df.append(pd.Series(['CNN-Glove200-trainable-initiallearning', \n",
        "                                            accuracy_text.format(test_acc)],\n",
        "                                           index=dl_accuracy_df.columns), ignore_index=True)\n",
        "dl_accuracy_df"
      ],
      "execution_count": 59,
      "outputs": [
        {
          "output_type": "execute_result",
          "data": {
            "text/html": [
              "<div>\n",
              "<style scoped>\n",
              "    .dataframe tbody tr th:only-of-type {\n",
              "        vertical-align: middle;\n",
              "    }\n",
              "\n",
              "    .dataframe tbody tr th {\n",
              "        vertical-align: top;\n",
              "    }\n",
              "\n",
              "    .dataframe thead th {\n",
              "        text-align: right;\n",
              "    }\n",
              "</style>\n",
              "<table border=\"1\" class=\"dataframe\">\n",
              "  <thead>\n",
              "    <tr style=\"text-align: right;\">\n",
              "      <th></th>\n",
              "      <th>Model</th>\n",
              "      <th>Accuracy</th>\n",
              "    </tr>\n",
              "  </thead>\n",
              "  <tbody>\n",
              "    <tr>\n",
              "      <th>0</th>\n",
              "      <td>CNN-Glove200-trainable-initiallearning</td>\n",
              "      <td>Test : 46.68</td>\n",
              "    </tr>\n",
              "  </tbody>\n",
              "</table>\n",
              "</div>"
            ],
            "text/plain": [
              "                                    Model       Accuracy\n",
              "0  CNN-Glove200-trainable-initiallearning  Test : 46.68 "
            ]
          },
          "metadata": {
            "tags": []
          },
          "execution_count": 59
        }
      ]
    },
    {
      "cell_type": "code",
      "metadata": {
        "id": "AKXVmHynO_B-",
        "colab_type": "code",
        "colab": {}
      },
      "source": [
        "cnn_glove_200_model.save_weights(PROJECT_DIR+\"weights/cnn_glove200_weights.h5\")"
      ],
      "execution_count": 0,
      "outputs": []
    },
    {
      "cell_type": "code",
      "metadata": {
        "id": "X5yQPT1PPGA1",
        "colab_type": "code",
        "colab": {
          "base_uri": "https://localhost:8080/",
          "height": 561
        },
        "outputId": "682182d9-6225-46a7-dd3f-d5f1262f71ad"
      },
      "source": [
        "for layer in cnn_glove_200_model.layers:\n",
        "  if 'embedding' in (layer.name.lower()):\n",
        "    layer.trainable = True\n",
        "    break\n",
        "\n",
        "cnn_glove_200_model.summary()\n"
      ],
      "execution_count": 61,
      "outputs": [
        {
          "output_type": "stream",
          "text": [
            "Model: \"sequential_3\"\n",
            "_________________________________________________________________\n",
            "Layer (type)                 Output Shape              Param #   \n",
            "=================================================================\n",
            "embedding_3 (Embedding)      (None, 2900, 200)         589400    \n",
            "_________________________________________________________________\n",
            "conv1d_7 (Conv1D)            (None, 2898, 64)          38464     \n",
            "_________________________________________________________________\n",
            "max_pooling1d_6 (MaxPooling1 (None, 1449, 64)          0         \n",
            "_________________________________________________________________\n",
            "conv1d_8 (Conv1D)            (None, 1447, 128)         24704     \n",
            "_________________________________________________________________\n",
            "max_pooling1d_7 (MaxPooling1 (None, 723, 128)          0         \n",
            "_________________________________________________________________\n",
            "conv1d_9 (Conv1D)            (None, 721, 256)          98560     \n",
            "_________________________________________________________________\n",
            "max_pooling1d_8 (MaxPooling1 (None, 360, 256)          0         \n",
            "_________________________________________________________________\n",
            "flatten_2 (Flatten)          (None, 92160)             0         \n",
            "_________________________________________________________________\n",
            "dense_2 (Dense)              (None, 64)                5898304   \n",
            "_________________________________________________________________\n",
            "batch_normalization_1 (Batch (None, 64)                256       \n",
            "_________________________________________________________________\n",
            "activation_1 (Activation)    (None, 64)                0         \n",
            "_________________________________________________________________\n",
            "dense_3 (Dense)              (None, 52)                3380      \n",
            "=================================================================\n",
            "Total params: 6,653,068\n",
            "Trainable params: 6,652,940\n",
            "Non-trainable params: 128\n",
            "_________________________________________________________________\n"
          ],
          "name": "stdout"
        }
      ]
    },
    {
      "cell_type": "code",
      "metadata": {
        "id": "qMecw2uLPKTl",
        "colab_type": "code",
        "colab": {
          "base_uri": "https://localhost:8080/",
          "height": 1000
        },
        "outputId": "01b1314d-182e-4176-f7bd-583496655f64"
      },
      "source": [
        "test_acc = train_deep_model(cnn_glove_200_model, X_train_seq_pad, y_train_cate, X_test_seq_pad, y_test_cate, \n",
        "                                                epochs, batch_size, lr, Lambda, callback)\n"
      ],
      "execution_count": 62,
      "outputs": [
        {
          "output_type": "stream",
          "text": [
            "Epoch 1/50\n",
            "31/31 [==============================] - 60s 2s/step - loss: 1.3129 - accuracy: 0.7296 - val_loss: 13.0563 - val_accuracy: 0.5020 - lr: 0.0100\n",
            "Epoch 2/50\n",
            "31/31 [==============================] - 60s 2s/step - loss: 1.4590 - accuracy: 0.6944 - val_loss: 12.5960 - val_accuracy: 0.4805 - lr: 0.0100\n",
            "Epoch 3/50\n",
            "31/31 [==============================] - 59s 2s/step - loss: 1.3235 - accuracy: 0.7267 - val_loss: 5.7537 - val_accuracy: 0.4662 - lr: 0.0100\n",
            "Epoch 4/50\n",
            "31/31 [==============================] - 62s 2s/step - loss: 1.2599 - accuracy: 0.7431 - val_loss: 11.3370 - val_accuracy: 0.1383 - lr: 0.0100\n",
            "Epoch 5/50\n",
            "31/31 [==============================] - 60s 2s/step - loss: 1.2222 - accuracy: 0.7524 - val_loss: 7.6528 - val_accuracy: 0.1537 - lr: 0.0100\n",
            "Epoch 6/50\n",
            "31/31 [==============================] - 60s 2s/step - loss: 1.2026 - accuracy: 0.7613 - val_loss: 5.0474 - val_accuracy: 0.1475 - lr: 0.0100\n",
            "Epoch 7/50\n",
            "31/31 [==============================] - 60s 2s/step - loss: 1.1849 - accuracy: 0.7588 - val_loss: 5.0118 - val_accuracy: 0.4355 - lr: 0.0100\n",
            "Epoch 8/50\n",
            "31/31 [==============================] - 60s 2s/step - loss: 1.1868 - accuracy: 0.7631 - val_loss: 4.8363 - val_accuracy: 0.4365 - lr: 0.0100\n",
            "Epoch 9/50\n",
            "31/31 [==============================] - 59s 2s/step - loss: 1.1905 - accuracy: 0.7598 - val_loss: 4.7417 - val_accuracy: 0.4283 - lr: 0.0100\n",
            "Epoch 10/50\n",
            "31/31 [==============================] - 60s 2s/step - loss: 1.1733 - accuracy: 0.7634 - val_loss: 4.3029 - val_accuracy: 0.4201 - lr: 0.0100\n",
            "Epoch 11/50\n",
            "31/31 [==============================] - 60s 2s/step - loss: 1.1753 - accuracy: 0.7654 - val_loss: 6.5437 - val_accuracy: 0.4969 - lr: 0.0100\n",
            "Epoch 12/50\n",
            "31/31 [==============================] - 60s 2s/step - loss: 1.1668 - accuracy: 0.7637 - val_loss: 4.4768 - val_accuracy: 0.4580 - lr: 0.0100\n",
            "Epoch 13/50\n",
            "31/31 [==============================] - 60s 2s/step - loss: 1.1800 - accuracy: 0.7631 - val_loss: 4.6350 - val_accuracy: 0.4662 - lr: 0.0100\n",
            "Epoch 14/50\n",
            "31/31 [==============================] - 63s 2s/step - loss: 1.2150 - accuracy: 0.7526 - val_loss: 5.6841 - val_accuracy: 0.3986 - lr: 0.0100\n",
            "Epoch 15/50\n",
            "31/31 [==============================] - ETA: 0s - loss: 1.2433 - accuracy: 0.7460\n",
            "Epoch 00015: ReduceLROnPlateau reducing learning rate to 0.0009999999776482583.\n",
            "31/31 [==============================] - 60s 2s/step - loss: 1.2433 - accuracy: 0.7460 - val_loss: 9.9188 - val_accuracy: 0.4990 - lr: 0.0100\n",
            "Epoch 16/50\n",
            "31/31 [==============================] - 59s 2s/step - loss: 1.1878 - accuracy: 0.7613 - val_loss: 6.4660 - val_accuracy: 0.4928 - lr: 1.0000e-03\n",
            "Epoch 17/50\n",
            "31/31 [==============================] - 59s 2s/step - loss: 1.1563 - accuracy: 0.7672 - val_loss: 4.8870 - val_accuracy: 0.4785 - lr: 1.0000e-03\n",
            "Epoch 18/50\n",
            "31/31 [==============================] - 59s 2s/step - loss: 1.1478 - accuracy: 0.7703 - val_loss: 4.2627 - val_accuracy: 0.4652 - lr: 1.0000e-03\n",
            "Epoch 19/50\n",
            "31/31 [==============================] - 59s 2s/step - loss: 1.1397 - accuracy: 0.7708 - val_loss: 4.0728 - val_accuracy: 0.4580 - lr: 1.0000e-03\n",
            "Epoch 20/50\n",
            "31/31 [==============================] - 59s 2s/step - loss: 1.1391 - accuracy: 0.7708 - val_loss: 4.0263 - val_accuracy: 0.4559 - lr: 1.0000e-03\n",
            "Epoch 21/50\n",
            "31/31 [==============================] - 59s 2s/step - loss: 1.1414 - accuracy: 0.7706 - val_loss: 4.0195 - val_accuracy: 0.4498 - lr: 1.0000e-03\n",
            "Epoch 22/50\n",
            "31/31 [==============================] - 59s 2s/step - loss: 1.1342 - accuracy: 0.7708 - val_loss: 4.0366 - val_accuracy: 0.4477 - lr: 1.0000e-03\n",
            "Epoch 23/50\n",
            "31/31 [==============================] - 59s 2s/step - loss: 1.1352 - accuracy: 0.7708 - val_loss: 4.0442 - val_accuracy: 0.4447 - lr: 1.0000e-03\n",
            "Epoch 24/50\n",
            "31/31 [==============================] - 62s 2s/step - loss: 1.1369 - accuracy: 0.7695 - val_loss: 4.0715 - val_accuracy: 0.4406 - lr: 1.0000e-03\n",
            "Epoch 25/50\n",
            "31/31 [==============================] - ETA: 0s - loss: 1.1360 - accuracy: 0.7698\n",
            "Epoch 00025: ReduceLROnPlateau reducing learning rate to 9.999999310821295e-05.\n",
            "31/31 [==============================] - 59s 2s/step - loss: 1.1360 - accuracy: 0.7698 - val_loss: 4.0693 - val_accuracy: 0.4416 - lr: 1.0000e-03\n",
            "Epoch 26/50\n",
            "31/31 [==============================] - 59s 2s/step - loss: 1.1332 - accuracy: 0.7708 - val_loss: 4.0821 - val_accuracy: 0.4416 - lr: 1.0000e-04\n",
            "Epoch 27/50\n",
            "31/31 [==============================] - 59s 2s/step - loss: 1.1315 - accuracy: 0.7719 - val_loss: 4.0918 - val_accuracy: 0.4416 - lr: 1.0000e-04\n",
            "Epoch 28/50\n",
            "31/31 [==============================] - 59s 2s/step - loss: 1.1309 - accuracy: 0.7708 - val_loss: 4.1013 - val_accuracy: 0.4406 - lr: 1.0000e-04\n",
            "Epoch 29/50\n",
            "31/31 [==============================] - 60s 2s/step - loss: 1.1310 - accuracy: 0.7713 - val_loss: 4.1088 - val_accuracy: 0.4406 - lr: 1.0000e-04\n",
            "Epoch 30/50\n",
            "31/31 [==============================] - 59s 2s/step - loss: 1.1302 - accuracy: 0.7724 - val_loss: 4.1128 - val_accuracy: 0.4416 - lr: 1.0000e-04\n",
            "Epoch 31/50\n",
            "31/31 [==============================] - 59s 2s/step - loss: 1.1313 - accuracy: 0.7713 - val_loss: 4.1141 - val_accuracy: 0.4416 - lr: 1.0000e-04\n",
            "Epoch 32/50\n",
            "31/31 [==============================] - 60s 2s/step - loss: 1.1316 - accuracy: 0.7724 - val_loss: 4.1155 - val_accuracy: 0.4416 - lr: 1.0000e-04\n",
            "Epoch 33/50\n",
            "31/31 [==============================] - ETA: 0s - loss: 1.1337 - accuracy: 0.7706\n",
            "Epoch 00033: ReduceLROnPlateau reducing learning rate to 9.999999019782991e-06.\n",
            "31/31 [==============================] - 60s 2s/step - loss: 1.1337 - accuracy: 0.7706 - val_loss: 4.1152 - val_accuracy: 0.4436 - lr: 1.0000e-04\n",
            "Epoch 34/50\n",
            "31/31 [==============================] - 64s 2s/step - loss: 1.1307 - accuracy: 0.7706 - val_loss: 4.1198 - val_accuracy: 0.4436 - lr: 1.0000e-05\n",
            "Epoch 35/50\n",
            "31/31 [==============================] - 60s 2s/step - loss: 1.1291 - accuracy: 0.7711 - val_loss: 4.1243 - val_accuracy: 0.4447 - lr: 1.0000e-05\n",
            "Epoch 36/50\n",
            "31/31 [==============================] - 60s 2s/step - loss: 1.1302 - accuracy: 0.7706 - val_loss: 4.1260 - val_accuracy: 0.4436 - lr: 1.0000e-05\n",
            "Epoch 37/50\n",
            "31/31 [==============================] - 60s 2s/step - loss: 1.1319 - accuracy: 0.7716 - val_loss: 4.1245 - val_accuracy: 0.4447 - lr: 1.0000e-05\n",
            "Epoch 38/50\n",
            "31/31 [==============================] - ETA: 0s - loss: 1.1313 - accuracy: 0.7713\n",
            "Epoch 00038: ReduceLROnPlateau reducing learning rate to 9.99999883788405e-07.\n",
            "31/31 [==============================] - 60s 2s/step - loss: 1.1313 - accuracy: 0.7713 - val_loss: 4.1269 - val_accuracy: 0.4447 - lr: 1.0000e-05\n",
            "Epoch 39/50\n",
            "31/31 [==============================] - 60s 2s/step - loss: 1.1353 - accuracy: 0.7726 - val_loss: 4.1252 - val_accuracy: 0.4447 - lr: 1.0000e-06\n",
            "Epoch 40/50\n",
            "31/31 [==============================] - 60s 2s/step - loss: 1.1323 - accuracy: 0.7701 - val_loss: 4.1265 - val_accuracy: 0.4447 - lr: 1.0000e-06\n",
            "Epoch 41/50\n",
            "31/31 [==============================] - ETA: 0s - loss: 1.1324 - accuracy: 0.7711\n",
            "Epoch 00041: ReduceLROnPlateau reducing learning rate to 9.99999883788405e-08.\n",
            "31/31 [==============================] - 60s 2s/step - loss: 1.1324 - accuracy: 0.7711 - val_loss: 4.1232 - val_accuracy: 0.4447 - lr: 1.0000e-06\n",
            "Epoch 42/50\n",
            "31/31 [==============================] - 59s 2s/step - loss: 1.1302 - accuracy: 0.7713 - val_loss: 4.1236 - val_accuracy: 0.4447 - lr: 1.0000e-07\n",
            "Epoch 43/50\n",
            "31/31 [==============================] - 59s 2s/step - loss: 1.1296 - accuracy: 0.7706 - val_loss: 4.1214 - val_accuracy: 0.4447 - lr: 1.0000e-07\n",
            "Epoch 44/50\n",
            "31/31 [==============================] - ETA: 0s - loss: 1.1323 - accuracy: 0.7708\n",
            "Epoch 00044: ReduceLROnPlateau reducing learning rate to 1e-08.\n",
            "31/31 [==============================] - 64s 2s/step - loss: 1.1323 - accuracy: 0.7708 - val_loss: 4.1218 - val_accuracy: 0.4447 - lr: 1.0000e-07\n",
            "Epoch 45/50\n",
            "31/31 [==============================] - 60s 2s/step - loss: 1.1321 - accuracy: 0.7695 - val_loss: 4.1211 - val_accuracy: 0.4447 - lr: 1.0000e-08\n"
          ],
          "name": "stdout"
        }
      ]
    },
    {
      "cell_type": "code",
      "metadata": {
        "id": "Y3x8WcDtPKXi",
        "colab_type": "code",
        "colab": {
          "base_uri": "https://localhost:8080/",
          "height": 111
        },
        "outputId": "0b89938a-ba0b-4b48-99f3-ece72617686c"
      },
      "source": [
        "dl_accuracy_df = dl_accuracy_df.append(pd.Series(['CNN-Glove200-trainable-true-finetuning',\n",
        "                                            accuracy_text.format(test_acc)],\n",
        "                                           index=dl_accuracy_df.columns), ignore_index=True)\n",
        "dl_accuracy_df\n"
      ],
      "execution_count": 63,
      "outputs": [
        {
          "output_type": "execute_result",
          "data": {
            "text/html": [
              "<div>\n",
              "<style scoped>\n",
              "    .dataframe tbody tr th:only-of-type {\n",
              "        vertical-align: middle;\n",
              "    }\n",
              "\n",
              "    .dataframe tbody tr th {\n",
              "        vertical-align: top;\n",
              "    }\n",
              "\n",
              "    .dataframe thead th {\n",
              "        text-align: right;\n",
              "    }\n",
              "</style>\n",
              "<table border=\"1\" class=\"dataframe\">\n",
              "  <thead>\n",
              "    <tr style=\"text-align: right;\">\n",
              "      <th></th>\n",
              "      <th>Model</th>\n",
              "      <th>Accuracy</th>\n",
              "    </tr>\n",
              "  </thead>\n",
              "  <tbody>\n",
              "    <tr>\n",
              "      <th>0</th>\n",
              "      <td>CNN-Glove200-trainable-initiallearning</td>\n",
              "      <td>Test : 46.68</td>\n",
              "    </tr>\n",
              "    <tr>\n",
              "      <th>1</th>\n",
              "      <td>CNN-Glove200-trainable-true-finetuning</td>\n",
              "      <td>Test : 46.31</td>\n",
              "    </tr>\n",
              "  </tbody>\n",
              "</table>\n",
              "</div>"
            ],
            "text/plain": [
              "                                    Model       Accuracy\n",
              "0  CNN-Glove200-trainable-initiallearning  Test : 46.68 \n",
              "1  CNN-Glove200-trainable-true-finetuning  Test : 46.31 "
            ]
          },
          "metadata": {
            "tags": []
          },
          "execution_count": 63
        }
      ]
    },
    {
      "cell_type": "code",
      "metadata": {
        "id": "7_dSWiSLPTa2",
        "colab_type": "code",
        "colab": {}
      },
      "source": [
        "cnn_glove_200_model.save_weights(PROJECT_DIR+\"weights/cnn_glove200_finetuned_weights.h5\")"
      ],
      "execution_count": 0,
      "outputs": []
    },
    {
      "cell_type": "markdown",
      "metadata": {
        "id": "8_XXd1XPO8Z9",
        "colab_type": "text"
      },
      "source": [
        "####Stackoverflow:"
      ]
    },
    {
      "cell_type": "code",
      "metadata": {
        "id": "MJzFqfjiMy-3",
        "colab_type": "code",
        "outputId": "aed4762c-dc5c-458b-b6e2-f99c51178871",
        "colab": {
          "base_uri": "https://localhost:8080/",
          "height": 561
        }
      },
      "source": [
        "cnn_stackoverflow_200_model = create_cnn(X_train_seq_pad.shape[1], y_train_cate.shape[1], \n",
        "                   True, vocab_size+1, embed_dim, so_embedding_matrix)\n",
        "\n",
        "cnn_stackoverflow_200_model.summary()"
      ],
      "execution_count": 65,
      "outputs": [
        {
          "output_type": "stream",
          "text": [
            "Model: \"sequential_4\"\n",
            "_________________________________________________________________\n",
            "Layer (type)                 Output Shape              Param #   \n",
            "=================================================================\n",
            "embedding_4 (Embedding)      (None, 2900, 200)         589400    \n",
            "_________________________________________________________________\n",
            "conv1d_10 (Conv1D)           (None, 2898, 64)          38464     \n",
            "_________________________________________________________________\n",
            "max_pooling1d_9 (MaxPooling1 (None, 1449, 64)          0         \n",
            "_________________________________________________________________\n",
            "conv1d_11 (Conv1D)           (None, 1447, 128)         24704     \n",
            "_________________________________________________________________\n",
            "max_pooling1d_10 (MaxPooling (None, 723, 128)          0         \n",
            "_________________________________________________________________\n",
            "conv1d_12 (Conv1D)           (None, 721, 256)          98560     \n",
            "_________________________________________________________________\n",
            "max_pooling1d_11 (MaxPooling (None, 360, 256)          0         \n",
            "_________________________________________________________________\n",
            "flatten_3 (Flatten)          (None, 92160)             0         \n",
            "_________________________________________________________________\n",
            "dense_4 (Dense)              (None, 64)                5898304   \n",
            "_________________________________________________________________\n",
            "batch_normalization_2 (Batch (None, 64)                256       \n",
            "_________________________________________________________________\n",
            "activation_2 (Activation)    (None, 64)                0         \n",
            "_________________________________________________________________\n",
            "dense_5 (Dense)              (None, 52)                3380      \n",
            "=================================================================\n",
            "Total params: 6,653,068\n",
            "Trainable params: 6,063,540\n",
            "Non-trainable params: 589,528\n",
            "_________________________________________________________________\n"
          ],
          "name": "stdout"
        }
      ]
    },
    {
      "cell_type": "code",
      "metadata": {
        "id": "-D9JNRGnN18p",
        "colab_type": "code",
        "outputId": "ea397c02-85fd-4484-a7cf-595e7e1ced01",
        "colab": {
          "base_uri": "https://localhost:8080/",
          "height": 1000
        }
      },
      "source": [
        "test_acc = train_deep_model(cnn_stackoverflow_200_model, X_train_seq_pad, y_train_cate, X_test_seq_pad, y_test_cate, \n",
        "                             epochs, batch_size, lr, Lambda, callback)\n"
      ],
      "execution_count": 66,
      "outputs": [
        {
          "output_type": "stream",
          "text": [
            "Epoch 1/50\n",
            "31/31 [==============================] - 52s 2s/step - loss: 2.8170 - accuracy: 0.4366 - val_loss: 3.3295 - val_accuracy: 0.4918 - lr: 0.0100\n",
            "Epoch 2/50\n",
            "31/31 [==============================] - 51s 2s/step - loss: 2.4653 - accuracy: 0.4883 - val_loss: 2.8042 - val_accuracy: 0.5010 - lr: 0.0100\n",
            "Epoch 3/50\n",
            "31/31 [==============================] - 51s 2s/step - loss: 2.4079 - accuracy: 0.4901 - val_loss: 2.6365 - val_accuracy: 0.5000 - lr: 0.0100\n",
            "Epoch 4/50\n",
            "31/31 [==============================] - 52s 2s/step - loss: 2.3765 - accuracy: 0.4930 - val_loss: 2.5612 - val_accuracy: 0.5010 - lr: 0.0100\n",
            "Epoch 5/50\n",
            "31/31 [==============================] - 52s 2s/step - loss: 2.3320 - accuracy: 0.4940 - val_loss: 2.4853 - val_accuracy: 0.5010 - lr: 0.0100\n",
            "Epoch 6/50\n",
            "31/31 [==============================] - 52s 2s/step - loss: 2.2978 - accuracy: 0.4950 - val_loss: 2.5010 - val_accuracy: 0.4969 - lr: 0.0100\n",
            "Epoch 7/50\n",
            "31/31 [==============================] - 52s 2s/step - loss: 2.2614 - accuracy: 0.5027 - val_loss: 2.4590 - val_accuracy: 0.5010 - lr: 0.0100\n",
            "Epoch 8/50\n",
            "31/31 [==============================] - 52s 2s/step - loss: 2.1980 - accuracy: 0.5129 - val_loss: 2.5149 - val_accuracy: 0.4969 - lr: 0.0100\n",
            "Epoch 9/50\n",
            "31/31 [==============================] - 52s 2s/step - loss: 2.1442 - accuracy: 0.5163 - val_loss: 2.4971 - val_accuracy: 0.5051 - lr: 0.0100\n",
            "Epoch 10/50\n",
            "31/31 [==============================] - 55s 2s/step - loss: 2.0882 - accuracy: 0.5224 - val_loss: 2.9086 - val_accuracy: 0.4457 - lr: 0.0100\n",
            "Epoch 11/50\n",
            "31/31 [==============================] - 52s 2s/step - loss: 2.0250 - accuracy: 0.5335 - val_loss: 2.7033 - val_accuracy: 0.4928 - lr: 0.0100\n",
            "Epoch 12/50\n",
            "31/31 [==============================] - 52s 2s/step - loss: 2.0117 - accuracy: 0.5378 - val_loss: 3.1808 - val_accuracy: 0.4529 - lr: 0.0100\n",
            "Epoch 13/50\n",
            "31/31 [==============================] - 52s 2s/step - loss: 1.9456 - accuracy: 0.5486 - val_loss: 3.4594 - val_accuracy: 0.4795 - lr: 0.0100\n",
            "Epoch 14/50\n",
            "31/31 [==============================] - 51s 2s/step - loss: 1.8781 - accuracy: 0.5688 - val_loss: 3.3985 - val_accuracy: 0.4795 - lr: 0.0100\n",
            "Epoch 15/50\n",
            "31/31 [==============================] - 52s 2s/step - loss: 1.8179 - accuracy: 0.5842 - val_loss: 3.0885 - val_accuracy: 0.4898 - lr: 0.0100\n",
            "Epoch 16/50\n",
            "31/31 [==============================] - 52s 2s/step - loss: 1.7528 - accuracy: 0.5991 - val_loss: 6.0750 - val_accuracy: 0.1086 - lr: 0.0100\n",
            "Epoch 17/50\n",
            "31/31 [==============================] - 52s 2s/step - loss: 1.7164 - accuracy: 0.6145 - val_loss: 5.3813 - val_accuracy: 0.1814 - lr: 0.0100\n",
            "Epoch 18/50\n",
            "31/31 [==============================] - 52s 2s/step - loss: 1.6604 - accuracy: 0.6327 - val_loss: 3.9231 - val_accuracy: 0.4877 - lr: 0.0100\n",
            "Epoch 19/50\n",
            "31/31 [==============================] - 51s 2s/step - loss: 1.6038 - accuracy: 0.6480 - val_loss: 4.3544 - val_accuracy: 0.5000 - lr: 0.0100\n",
            "Epoch 20/50\n",
            "31/31 [==============================] - 51s 2s/step - loss: 1.5563 - accuracy: 0.6583 - val_loss: 4.5504 - val_accuracy: 0.1322 - lr: 0.0100\n",
            "Epoch 21/50\n",
            "31/31 [==============================] - 52s 2s/step - loss: 1.4810 - accuracy: 0.6837 - val_loss: 3.6647 - val_accuracy: 0.4764 - lr: 0.0100\n",
            "Epoch 22/50\n",
            "31/31 [==============================] - 55s 2s/step - loss: 1.4695 - accuracy: 0.6865 - val_loss: 4.1862 - val_accuracy: 0.1588 - lr: 0.0100\n",
            "Epoch 23/50\n",
            "31/31 [==============================] - 51s 2s/step - loss: 1.4244 - accuracy: 0.6996 - val_loss: 5.9766 - val_accuracy: 0.1240 - lr: 0.0100\n",
            "Epoch 24/50\n",
            "31/31 [==============================] - 52s 2s/step - loss: 1.3879 - accuracy: 0.7093 - val_loss: 5.5250 - val_accuracy: 0.1127 - lr: 0.0100\n",
            "Epoch 25/50\n",
            "31/31 [==============================] - 52s 2s/step - loss: 1.3510 - accuracy: 0.7224 - val_loss: 9.0709 - val_accuracy: 0.4980 - lr: 0.0100\n",
            "Epoch 26/50\n",
            "31/31 [==============================] - 52s 2s/step - loss: 1.3208 - accuracy: 0.7257 - val_loss: 4.9659 - val_accuracy: 0.4723 - lr: 0.0100\n",
            "Epoch 27/50\n",
            "31/31 [==============================] - 52s 2s/step - loss: 1.3291 - accuracy: 0.7260 - val_loss: 16.2861 - val_accuracy: 0.0348 - lr: 0.0100\n",
            "Epoch 28/50\n",
            "31/31 [==============================] - 52s 2s/step - loss: 1.3224 - accuracy: 0.7296 - val_loss: 8.4204 - val_accuracy: 0.0850 - lr: 0.0100\n",
            "Epoch 29/50\n",
            "31/31 [==============================] - ETA: 0s - loss: 1.3225 - accuracy: 0.7280\n",
            "Epoch 00029: ReduceLROnPlateau reducing learning rate to 0.0009999999776482583.\n",
            "31/31 [==============================] - 52s 2s/step - loss: 1.3225 - accuracy: 0.7280 - val_loss: 7.1177 - val_accuracy: 0.1096 - lr: 0.0100\n",
            "Epoch 30/50\n",
            "31/31 [==============================] - 52s 2s/step - loss: 1.2592 - accuracy: 0.7444 - val_loss: 4.9059 - val_accuracy: 0.1516 - lr: 1.0000e-03\n",
            "Epoch 31/50\n",
            "31/31 [==============================] - 52s 2s/step - loss: 1.2261 - accuracy: 0.7562 - val_loss: 4.1727 - val_accuracy: 0.4365 - lr: 1.0000e-03\n",
            "Epoch 32/50\n",
            "31/31 [==============================] - 52s 2s/step - loss: 1.2073 - accuracy: 0.7613 - val_loss: 3.9299 - val_accuracy: 0.4426 - lr: 1.0000e-03\n",
            "Epoch 33/50\n",
            "31/31 [==============================] - 55s 2s/step - loss: 1.2045 - accuracy: 0.7626 - val_loss: 3.8208 - val_accuracy: 0.4488 - lr: 1.0000e-03\n",
            "Epoch 34/50\n",
            "31/31 [==============================] - 52s 2s/step - loss: 1.1956 - accuracy: 0.7644 - val_loss: 3.7868 - val_accuracy: 0.4488 - lr: 1.0000e-03\n",
            "Epoch 35/50\n",
            "31/31 [==============================] - 52s 2s/step - loss: 1.1892 - accuracy: 0.7639 - val_loss: 3.7959 - val_accuracy: 0.4508 - lr: 1.0000e-03\n",
            "Epoch 36/50\n",
            "31/31 [==============================] - 52s 2s/step - loss: 1.1912 - accuracy: 0.7654 - val_loss: 3.7763 - val_accuracy: 0.4549 - lr: 1.0000e-03\n",
            "Epoch 37/50\n",
            "31/31 [==============================] - 52s 2s/step - loss: 1.1850 - accuracy: 0.7652 - val_loss: 3.8013 - val_accuracy: 0.4488 - lr: 1.0000e-03\n",
            "Epoch 38/50\n",
            "31/31 [==============================] - 52s 2s/step - loss: 1.1853 - accuracy: 0.7654 - val_loss: 3.8778 - val_accuracy: 0.4447 - lr: 1.0000e-03\n",
            "Epoch 39/50\n",
            "31/31 [==============================] - 52s 2s/step - loss: 1.1861 - accuracy: 0.7639 - val_loss: 3.8627 - val_accuracy: 0.4508 - lr: 1.0000e-03\n",
            "Epoch 40/50\n",
            "31/31 [==============================] - 52s 2s/step - loss: 1.1829 - accuracy: 0.7660 - val_loss: 3.9087 - val_accuracy: 0.4488 - lr: 1.0000e-03\n",
            "Epoch 41/50\n",
            "31/31 [==============================] - 52s 2s/step - loss: 1.1758 - accuracy: 0.7675 - val_loss: 3.9565 - val_accuracy: 0.4447 - lr: 1.0000e-03\n",
            "Epoch 42/50\n",
            "31/31 [==============================] - 52s 2s/step - loss: 1.1739 - accuracy: 0.7672 - val_loss: 3.9383 - val_accuracy: 0.4498 - lr: 1.0000e-03\n",
            "Epoch 43/50\n",
            "31/31 [==============================] - 52s 2s/step - loss: 1.1710 - accuracy: 0.7670 - val_loss: 4.0047 - val_accuracy: 0.4477 - lr: 1.0000e-03\n",
            "Epoch 44/50\n",
            "31/31 [==============================] - 52s 2s/step - loss: 1.1699 - accuracy: 0.7667 - val_loss: 4.0420 - val_accuracy: 0.4529 - lr: 1.0000e-03\n",
            "Epoch 45/50\n",
            "31/31 [==============================] - 55s 2s/step - loss: 1.1672 - accuracy: 0.7680 - val_loss: 4.0640 - val_accuracy: 0.4549 - lr: 1.0000e-03\n",
            "Epoch 46/50\n",
            "31/31 [==============================] - 52s 2s/step - loss: 1.1690 - accuracy: 0.7675 - val_loss: 4.1182 - val_accuracy: 0.4559 - lr: 1.0000e-03\n",
            "Epoch 47/50\n",
            "31/31 [==============================] - 52s 2s/step - loss: 1.1663 - accuracy: 0.7670 - val_loss: 4.0397 - val_accuracy: 0.4508 - lr: 1.0000e-03\n",
            "Epoch 48/50\n",
            "31/31 [==============================] - 52s 2s/step - loss: 1.1649 - accuracy: 0.7688 - val_loss: 4.0078 - val_accuracy: 0.4549 - lr: 1.0000e-03\n",
            "Epoch 49/50\n",
            "31/31 [==============================] - 52s 2s/step - loss: 1.1632 - accuracy: 0.7662 - val_loss: 4.1514 - val_accuracy: 0.4611 - lr: 1.0000e-03\n",
            "Epoch 50/50\n",
            "31/31 [==============================] - 52s 2s/step - loss: 1.1597 - accuracy: 0.7678 - val_loss: 4.1411 - val_accuracy: 0.4570 - lr: 1.0000e-03\n"
          ],
          "name": "stdout"
        }
      ]
    },
    {
      "cell_type": "code",
      "metadata": {
        "id": "O2NPbKIjN2C2",
        "colab_type": "code",
        "outputId": "c389ed7e-1090-4e99-d3d9-e9e63125519a",
        "colab": {
          "base_uri": "https://localhost:8080/",
          "height": 142
        }
      },
      "source": [
        "dl_accuracy_df = dl_accuracy_df.append(pd.Series(['CNN-SO200-trainable-initiallearning', \n",
        "                                            accuracy_text.format(test_acc)],\n",
        "                                           index=dl_accuracy_df.columns), ignore_index=True)\n",
        "dl_accuracy_df"
      ],
      "execution_count": 67,
      "outputs": [
        {
          "output_type": "execute_result",
          "data": {
            "text/html": [
              "<div>\n",
              "<style scoped>\n",
              "    .dataframe tbody tr th:only-of-type {\n",
              "        vertical-align: middle;\n",
              "    }\n",
              "\n",
              "    .dataframe tbody tr th {\n",
              "        vertical-align: top;\n",
              "    }\n",
              "\n",
              "    .dataframe thead th {\n",
              "        text-align: right;\n",
              "    }\n",
              "</style>\n",
              "<table border=\"1\" class=\"dataframe\">\n",
              "  <thead>\n",
              "    <tr style=\"text-align: right;\">\n",
              "      <th></th>\n",
              "      <th>Model</th>\n",
              "      <th>Accuracy</th>\n",
              "    </tr>\n",
              "  </thead>\n",
              "  <tbody>\n",
              "    <tr>\n",
              "      <th>0</th>\n",
              "      <td>CNN-Glove200-trainable-initiallearning</td>\n",
              "      <td>Test : 46.68</td>\n",
              "    </tr>\n",
              "    <tr>\n",
              "      <th>1</th>\n",
              "      <td>CNN-Glove200-trainable-true-finetuning</td>\n",
              "      <td>Test : 46.31</td>\n",
              "    </tr>\n",
              "    <tr>\n",
              "      <th>2</th>\n",
              "      <td>CNN-SO200-trainable-initiallearning</td>\n",
              "      <td>Test : 45.57</td>\n",
              "    </tr>\n",
              "  </tbody>\n",
              "</table>\n",
              "</div>"
            ],
            "text/plain": [
              "                                    Model       Accuracy\n",
              "0  CNN-Glove200-trainable-initiallearning  Test : 46.68 \n",
              "1  CNN-Glove200-trainable-true-finetuning  Test : 46.31 \n",
              "2     CNN-SO200-trainable-initiallearning  Test : 45.57 "
            ]
          },
          "metadata": {
            "tags": []
          },
          "execution_count": 67
        }
      ]
    },
    {
      "cell_type": "code",
      "metadata": {
        "id": "zhPMunTqN2H_",
        "colab_type": "code",
        "colab": {}
      },
      "source": [
        "cnn_stackoverflow_200_model.save_weights(PROJECT_DIR+\"weights/cnn_so200_weights.h5\")"
      ],
      "execution_count": 0,
      "outputs": []
    },
    {
      "cell_type": "code",
      "metadata": {
        "id": "E7HXsPSeP4Jb",
        "colab_type": "code",
        "outputId": "5913d9f4-0ba4-44ef-f098-c188074c5b7d",
        "colab": {
          "base_uri": "https://localhost:8080/",
          "height": 561
        }
      },
      "source": [
        "for layer in cnn_stackoverflow_200_model.layers:\n",
        "  if 'embedding' in (layer.name.lower()):\n",
        "    layer.trainable = True\n",
        "    break\n",
        "\n",
        "cnn_stackoverflow_200_model.summary()\n"
      ],
      "execution_count": 69,
      "outputs": [
        {
          "output_type": "stream",
          "text": [
            "Model: \"sequential_4\"\n",
            "_________________________________________________________________\n",
            "Layer (type)                 Output Shape              Param #   \n",
            "=================================================================\n",
            "embedding_4 (Embedding)      (None, 2900, 200)         589400    \n",
            "_________________________________________________________________\n",
            "conv1d_10 (Conv1D)           (None, 2898, 64)          38464     \n",
            "_________________________________________________________________\n",
            "max_pooling1d_9 (MaxPooling1 (None, 1449, 64)          0         \n",
            "_________________________________________________________________\n",
            "conv1d_11 (Conv1D)           (None, 1447, 128)         24704     \n",
            "_________________________________________________________________\n",
            "max_pooling1d_10 (MaxPooling (None, 723, 128)          0         \n",
            "_________________________________________________________________\n",
            "conv1d_12 (Conv1D)           (None, 721, 256)          98560     \n",
            "_________________________________________________________________\n",
            "max_pooling1d_11 (MaxPooling (None, 360, 256)          0         \n",
            "_________________________________________________________________\n",
            "flatten_3 (Flatten)          (None, 92160)             0         \n",
            "_________________________________________________________________\n",
            "dense_4 (Dense)              (None, 64)                5898304   \n",
            "_________________________________________________________________\n",
            "batch_normalization_2 (Batch (None, 64)                256       \n",
            "_________________________________________________________________\n",
            "activation_2 (Activation)    (None, 64)                0         \n",
            "_________________________________________________________________\n",
            "dense_5 (Dense)              (None, 52)                3380      \n",
            "=================================================================\n",
            "Total params: 6,653,068\n",
            "Trainable params: 6,652,940\n",
            "Non-trainable params: 128\n",
            "_________________________________________________________________\n"
          ],
          "name": "stdout"
        }
      ]
    },
    {
      "cell_type": "code",
      "metadata": {
        "id": "bd66uruPN2Aa",
        "colab_type": "code",
        "outputId": "967d23cf-2f3e-49b2-a061-5b6e609d7db7",
        "colab": {
          "base_uri": "https://localhost:8080/",
          "height": 1000
        }
      },
      "source": [
        "test_acc = train_deep_model(cnn_stackoverflow_200_model, X_train_seq_pad, y_train_cate, X_test_seq_pad, y_test_cate, \n",
        "                                                epochs, batch_size, lr, Lambda, callback)\n"
      ],
      "execution_count": 70,
      "outputs": [
        {
          "output_type": "stream",
          "text": [
            "Epoch 1/50\n",
            "31/31 [==============================] - 60s 2s/step - loss: 1.2868 - accuracy: 0.7406 - val_loss: 8.2965 - val_accuracy: 0.4375 - lr: 0.0100\n",
            "Epoch 2/50\n",
            "31/31 [==============================] - 60s 2s/step - loss: 1.2852 - accuracy: 0.7319 - val_loss: 11.0030 - val_accuracy: 0.1465 - lr: 0.0100\n",
            "Epoch 3/50\n",
            "31/31 [==============================] - 59s 2s/step - loss: 1.2476 - accuracy: 0.7467 - val_loss: 8.9344 - val_accuracy: 0.1199 - lr: 0.0100\n",
            "Epoch 4/50\n",
            "31/31 [==============================] - 59s 2s/step - loss: 1.2381 - accuracy: 0.7496 - val_loss: 11.1649 - val_accuracy: 0.4857 - lr: 0.0100\n",
            "Epoch 5/50\n",
            "31/31 [==============================] - 62s 2s/step - loss: 1.2639 - accuracy: 0.7439 - val_loss: 7.6527 - val_accuracy: 0.4488 - lr: 0.0100\n",
            "Epoch 6/50\n",
            "31/31 [==============================] - 60s 2s/step - loss: 1.2246 - accuracy: 0.7537 - val_loss: 5.2341 - val_accuracy: 0.4436 - lr: 0.0100\n",
            "Epoch 7/50\n",
            "31/31 [==============================] - 60s 2s/step - loss: 1.2035 - accuracy: 0.7593 - val_loss: 5.2945 - val_accuracy: 0.4631 - lr: 0.0100\n",
            "Epoch 8/50\n",
            "31/31 [==============================] - 60s 2s/step - loss: 1.1938 - accuracy: 0.7588 - val_loss: 12.3493 - val_accuracy: 0.4467 - lr: 0.0100\n",
            "Epoch 9/50\n",
            "31/31 [==============================] - 60s 2s/step - loss: 1.1936 - accuracy: 0.7608 - val_loss: 5.2394 - val_accuracy: 0.4723 - lr: 0.0100\n",
            "Epoch 10/50\n",
            "31/31 [==============================] - 60s 2s/step - loss: 1.2004 - accuracy: 0.7575 - val_loss: 7.9015 - val_accuracy: 0.1291 - lr: 0.0100\n",
            "Epoch 11/50\n",
            "31/31 [==============================] - 60s 2s/step - loss: 1.2009 - accuracy: 0.7588 - val_loss: 6.1651 - val_accuracy: 0.1619 - lr: 0.0100\n",
            "Epoch 12/50\n",
            "31/31 [==============================] - 60s 2s/step - loss: 1.1909 - accuracy: 0.7611 - val_loss: 4.3550 - val_accuracy: 0.4631 - lr: 0.0100\n",
            "Epoch 13/50\n",
            "31/31 [==============================] - 59s 2s/step - loss: 1.1996 - accuracy: 0.7580 - val_loss: 5.5618 - val_accuracy: 0.1967 - lr: 0.0100\n",
            "Epoch 14/50\n",
            "31/31 [==============================] - 59s 2s/step - loss: 1.1973 - accuracy: 0.7603 - val_loss: 6.1394 - val_accuracy: 0.1650 - lr: 0.0100\n",
            "Epoch 15/50\n",
            "31/31 [==============================] - ETA: 0s - loss: 1.1916 - accuracy: 0.7590\n",
            "Epoch 00015: ReduceLROnPlateau reducing learning rate to 0.0009999999776482583.\n",
            "31/31 [==============================] - 62s 2s/step - loss: 1.1916 - accuracy: 0.7590 - val_loss: 4.7963 - val_accuracy: 0.4406 - lr: 0.0100\n",
            "Epoch 16/50\n",
            "31/31 [==============================] - 60s 2s/step - loss: 1.1548 - accuracy: 0.7683 - val_loss: 4.4295 - val_accuracy: 0.4518 - lr: 1.0000e-03\n",
            "Epoch 17/50\n",
            "31/31 [==============================] - 60s 2s/step - loss: 1.1458 - accuracy: 0.7695 - val_loss: 4.3031 - val_accuracy: 0.4559 - lr: 1.0000e-03\n",
            "Epoch 18/50\n",
            "31/31 [==============================] - 60s 2s/step - loss: 1.1430 - accuracy: 0.7698 - val_loss: 4.2816 - val_accuracy: 0.4570 - lr: 1.0000e-03\n",
            "Epoch 19/50\n",
            "31/31 [==============================] - 59s 2s/step - loss: 1.1377 - accuracy: 0.7719 - val_loss: 4.2754 - val_accuracy: 0.4631 - lr: 1.0000e-03\n",
            "Epoch 20/50\n",
            "31/31 [==============================] - 59s 2s/step - loss: 1.1355 - accuracy: 0.7713 - val_loss: 4.2411 - val_accuracy: 0.4641 - lr: 1.0000e-03\n",
            "Epoch 21/50\n",
            "31/31 [==============================] - 60s 2s/step - loss: 1.1353 - accuracy: 0.7706 - val_loss: 4.2531 - val_accuracy: 0.4631 - lr: 1.0000e-03\n",
            "Epoch 22/50\n",
            "31/31 [==============================] - 59s 2s/step - loss: 1.1341 - accuracy: 0.7711 - val_loss: 4.2673 - val_accuracy: 0.4662 - lr: 1.0000e-03\n",
            "Epoch 23/50\n",
            "31/31 [==============================] - 59s 2s/step - loss: 1.1327 - accuracy: 0.7716 - val_loss: 4.2777 - val_accuracy: 0.4672 - lr: 1.0000e-03\n",
            "Epoch 24/50\n",
            "31/31 [==============================] - 59s 2s/step - loss: 1.1325 - accuracy: 0.7721 - val_loss: 4.3032 - val_accuracy: 0.4672 - lr: 1.0000e-03\n",
            "Epoch 25/50\n",
            "31/31 [==============================] - 62s 2s/step - loss: 1.1351 - accuracy: 0.7698 - val_loss: 4.3207 - val_accuracy: 0.4682 - lr: 1.0000e-03\n",
            "Epoch 26/50\n",
            "31/31 [==============================] - 59s 2s/step - loss: 1.1315 - accuracy: 0.7701 - val_loss: 4.3061 - val_accuracy: 0.4672 - lr: 1.0000e-03\n",
            "Epoch 27/50\n",
            "31/31 [==============================] - 60s 2s/step - loss: 1.1298 - accuracy: 0.7708 - val_loss: 4.3385 - val_accuracy: 0.4693 - lr: 1.0000e-03\n",
            "Epoch 28/50\n",
            "31/31 [==============================] - 59s 2s/step - loss: 1.1315 - accuracy: 0.7724 - val_loss: 4.3745 - val_accuracy: 0.4682 - lr: 1.0000e-03\n",
            "Epoch 29/50\n",
            "31/31 [==============================] - 60s 2s/step - loss: 1.1292 - accuracy: 0.7724 - val_loss: 4.3713 - val_accuracy: 0.4703 - lr: 1.0000e-03\n",
            "Epoch 30/50\n",
            "31/31 [==============================] - 59s 2s/step - loss: 1.1299 - accuracy: 0.7708 - val_loss: 4.3294 - val_accuracy: 0.4652 - lr: 1.0000e-03\n",
            "Epoch 31/50\n",
            "31/31 [==============================] - 59s 2s/step - loss: 1.1279 - accuracy: 0.7703 - val_loss: 4.3423 - val_accuracy: 0.4682 - lr: 1.0000e-03\n",
            "Epoch 32/50\n",
            "31/31 [==============================] - 60s 2s/step - loss: 1.1277 - accuracy: 0.7716 - val_loss: 4.3379 - val_accuracy: 0.4703 - lr: 1.0000e-03\n",
            "Epoch 33/50\n",
            "31/31 [==============================] - 59s 2s/step - loss: 1.1289 - accuracy: 0.7701 - val_loss: 4.3621 - val_accuracy: 0.4672 - lr: 1.0000e-03\n",
            "Epoch 34/50\n",
            "31/31 [==============================] - 60s 2s/step - loss: 1.1287 - accuracy: 0.7706 - val_loss: 4.3767 - val_accuracy: 0.4703 - lr: 1.0000e-03\n",
            "Epoch 35/50\n",
            "31/31 [==============================] - 62s 2s/step - loss: 1.1265 - accuracy: 0.7708 - val_loss: 4.3776 - val_accuracy: 0.4672 - lr: 1.0000e-03\n",
            "Epoch 36/50\n",
            "31/31 [==============================] - 60s 2s/step - loss: 1.1269 - accuracy: 0.7706 - val_loss: 4.3786 - val_accuracy: 0.4652 - lr: 1.0000e-03\n",
            "Epoch 37/50\n",
            "31/31 [==============================] - 60s 2s/step - loss: 1.1252 - accuracy: 0.7719 - val_loss: 4.3746 - val_accuracy: 0.4662 - lr: 1.0000e-03\n",
            "Epoch 38/50\n",
            "31/31 [==============================] - 59s 2s/step - loss: 1.1261 - accuracy: 0.7695 - val_loss: 4.3770 - val_accuracy: 0.4682 - lr: 1.0000e-03\n",
            "Epoch 39/50\n",
            "31/31 [==============================] - 59s 2s/step - loss: 1.1259 - accuracy: 0.7706 - val_loss: 4.3834 - val_accuracy: 0.4703 - lr: 1.0000e-03\n",
            "Epoch 40/50\n",
            "31/31 [==============================] - 59s 2s/step - loss: 1.1239 - accuracy: 0.7716 - val_loss: 4.4323 - val_accuracy: 0.4682 - lr: 1.0000e-03\n",
            "Epoch 41/50\n",
            "31/31 [==============================] - 60s 2s/step - loss: 1.1257 - accuracy: 0.7701 - val_loss: 4.3731 - val_accuracy: 0.4682 - lr: 1.0000e-03\n",
            "Epoch 42/50\n",
            "31/31 [==============================] - 60s 2s/step - loss: 1.1236 - accuracy: 0.7711 - val_loss: 4.3741 - val_accuracy: 0.4672 - lr: 1.0000e-03\n",
            "Epoch 43/50\n",
            "31/31 [==============================] - 59s 2s/step - loss: 1.1255 - accuracy: 0.7711 - val_loss: 4.3447 - val_accuracy: 0.4641 - lr: 1.0000e-03\n",
            "Epoch 44/50\n",
            "31/31 [==============================] - 60s 2s/step - loss: 1.1243 - accuracy: 0.7716 - val_loss: 4.3807 - val_accuracy: 0.4672 - lr: 1.0000e-03\n",
            "Epoch 45/50\n",
            "31/31 [==============================] - ETA: 0s - loss: 1.1235 - accuracy: 0.7698\n",
            "Epoch 00045: ReduceLROnPlateau reducing learning rate to 9.999999310821295e-05.\n",
            "31/31 [==============================] - 63s 2s/step - loss: 1.1235 - accuracy: 0.7698 - val_loss: 4.3810 - val_accuracy: 0.4672 - lr: 1.0000e-03\n",
            "Epoch 46/50\n",
            "31/31 [==============================] - 60s 2s/step - loss: 1.1204 - accuracy: 0.7713 - val_loss: 4.3877 - val_accuracy: 0.4662 - lr: 1.0000e-04\n",
            "Epoch 47/50\n",
            "31/31 [==============================] - 60s 2s/step - loss: 1.1213 - accuracy: 0.7721 - val_loss: 4.3958 - val_accuracy: 0.4652 - lr: 1.0000e-04\n",
            "Epoch 48/50\n",
            "31/31 [==============================] - 59s 2s/step - loss: 1.1179 - accuracy: 0.7713 - val_loss: 4.4015 - val_accuracy: 0.4641 - lr: 1.0000e-04\n",
            "Epoch 49/50\n",
            "31/31 [==============================] - 60s 2s/step - loss: 1.1166 - accuracy: 0.7721 - val_loss: 4.4047 - val_accuracy: 0.4641 - lr: 1.0000e-04\n",
            "Epoch 50/50\n",
            "31/31 [==============================] - 59s 2s/step - loss: 1.1215 - accuracy: 0.7711 - val_loss: 4.4020 - val_accuracy: 0.4641 - lr: 1.0000e-04\n"
          ],
          "name": "stdout"
        }
      ]
    },
    {
      "cell_type": "code",
      "metadata": {
        "id": "KnEKu_iYP8gY",
        "colab_type": "code",
        "outputId": "ee015d07-a774-41b3-e057-2a4e72a187d9",
        "colab": {
          "base_uri": "https://localhost:8080/",
          "height": 173
        }
      },
      "source": [
        "dl_accuracy_df = dl_accuracy_df.append(pd.Series(['CNN-SO200-trainable-true-finetuning',\n",
        "                                            accuracy_text.format(test_acc)],\n",
        "                                           index=dl_accuracy_df.columns), ignore_index=True)\n",
        "dl_accuracy_df\n"
      ],
      "execution_count": 71,
      "outputs": [
        {
          "output_type": "execute_result",
          "data": {
            "text/html": [
              "<div>\n",
              "<style scoped>\n",
              "    .dataframe tbody tr th:only-of-type {\n",
              "        vertical-align: middle;\n",
              "    }\n",
              "\n",
              "    .dataframe tbody tr th {\n",
              "        vertical-align: top;\n",
              "    }\n",
              "\n",
              "    .dataframe thead th {\n",
              "        text-align: right;\n",
              "    }\n",
              "</style>\n",
              "<table border=\"1\" class=\"dataframe\">\n",
              "  <thead>\n",
              "    <tr style=\"text-align: right;\">\n",
              "      <th></th>\n",
              "      <th>Model</th>\n",
              "      <th>Accuracy</th>\n",
              "    </tr>\n",
              "  </thead>\n",
              "  <tbody>\n",
              "    <tr>\n",
              "      <th>0</th>\n",
              "      <td>CNN-Glove200-trainable-initiallearning</td>\n",
              "      <td>Test : 46.68</td>\n",
              "    </tr>\n",
              "    <tr>\n",
              "      <th>1</th>\n",
              "      <td>CNN-Glove200-trainable-true-finetuning</td>\n",
              "      <td>Test : 46.31</td>\n",
              "    </tr>\n",
              "    <tr>\n",
              "      <th>2</th>\n",
              "      <td>CNN-SO200-trainable-initiallearning</td>\n",
              "      <td>Test : 45.57</td>\n",
              "    </tr>\n",
              "    <tr>\n",
              "      <th>3</th>\n",
              "      <td>CNN-SO200-trainable-true-finetuning</td>\n",
              "      <td>Test : 47.05</td>\n",
              "    </tr>\n",
              "  </tbody>\n",
              "</table>\n",
              "</div>"
            ],
            "text/plain": [
              "                                    Model       Accuracy\n",
              "0  CNN-Glove200-trainable-initiallearning  Test : 46.68 \n",
              "1  CNN-Glove200-trainable-true-finetuning  Test : 46.31 \n",
              "2     CNN-SO200-trainable-initiallearning  Test : 45.57 \n",
              "3     CNN-SO200-trainable-true-finetuning  Test : 47.05 "
            ]
          },
          "metadata": {
            "tags": []
          },
          "execution_count": 71
        }
      ]
    },
    {
      "cell_type": "code",
      "metadata": {
        "id": "Q5b5FM3vP-iB",
        "colab_type": "code",
        "colab": {}
      },
      "source": [
        "cnn_stackoverflow_200_model.save_weights(PROJECT_DIR+\"weights/cnn_so200_finetuned_weights.h5\")"
      ],
      "execution_count": 0,
      "outputs": []
    },
    {
      "cell_type": "markdown",
      "metadata": {
        "id": "vJpZmxhKiiBc",
        "colab_type": "text"
      },
      "source": [
        "####CNN - MultiChannel"
      ]
    },
    {
      "cell_type": "code",
      "metadata": {
        "id": "OEEl5K-f8MUT",
        "colab_type": "code",
        "colab": {}
      },
      "source": [
        "def create_multi_channel_cnn(input_size, output_size, embedding=False, vocab_size=None, embed_dim=None, embedding_matrix=None):\n",
        "\n",
        "    #channel 1\n",
        "    inputs1 = Input(shape=(input_size,))\n",
        "    embedding1 = Embedding(vocab_size, embed_dim, weights=[embedding_matrix], trainable=False)(inputs1)\n",
        "    conv1_1 = Conv1D(filters=64, kernel_size=2, activation='relu')(embedding1)\n",
        "    pool1_1 = MaxPooling1D(pool_size=2)(conv1_1)\n",
        "    conv1_2 = Conv1D(filters=128, kernel_size=4, activation='relu')(pool1_1)\n",
        "    pool1_2 = MaxPooling1D(pool_size=2)(conv1_2)\n",
        "    conv1_3 = Conv1D(filters=256, kernel_size=4, activation='relu')(pool1_2)\n",
        "    pool1_3 = MaxPooling1D(pool_size=2)(conv1_3)\n",
        "    flat1 = Flatten()(pool1_3)\n",
        "\n",
        "    #channel 2\n",
        "    inputs2 = Input(shape=(input_size,))\n",
        "    embedding2 = Embedding(vocab_size, embed_dim, weights=[embedding_matrix], trainable=False)(inputs2)\n",
        "    conv2_1 = Conv1D(filters=64, kernel_size=3, activation='relu')(embedding2)\n",
        "    pool2_1 = MaxPooling1D(pool_size=2)(conv2_1)\n",
        "    conv2_2 = Conv1D(filters=128, kernel_size=3, activation='relu')(pool2_1)\n",
        "    pool2_2 = MaxPooling1D(pool_size=2)(conv2_2)\n",
        "    conv2_3 = Conv1D(filters=256, kernel_size=3, activation='relu')(pool2_2)\n",
        "    pool2_3 = MaxPooling1D(pool_size=2)(conv2_3)\n",
        "    flat2 = Flatten()(pool2_3)\n",
        "\n",
        "    #channel 3\n",
        "    inputs3 = Input(shape=(input_size,))\n",
        "    embedding3 = Embedding(vocab_size, embed_dim, weights=[embedding_matrix], trainable=False)(inputs3)\n",
        "    conv3_1 = Conv1D(filters=64, kernel_size=4, activation='relu')(embedding3)\n",
        "    pool3_1 = MaxPooling1D(pool_size=2)(conv3_1)\n",
        "    conv3_2 = Conv1D(filters=64, kernel_size=4, activation='relu')(pool3_1)\n",
        "    pool3_2 = MaxPooling1D(pool_size=2)(conv3_2)\n",
        "    conv3_3 = Conv1D(filters=64, kernel_size=4, activation='relu')(pool3_2)\n",
        "    pool3_3 = MaxPooling1D(pool_size=2)(conv3_3)\n",
        "    flat3 = Flatten()(pool3_3)\n",
        "\n",
        "    #join input channels\n",
        "    channel_layers = Concatenate([flat1, flat2, flat3])\n",
        "\n",
        "    mid_dense1 = Dense(64, kernel_initializer='random_uniform',kernel_regularizer=regularizers.l2(Lambda))(channel_layers)\n",
        "    mid_norm1 = BatchNormalization()(mid_dense1)\n",
        "    mid_actv1 = Activation('relu')(mid_norm1)\n",
        "\n",
        "    output = Dense(output_size, activation='softmax')(mid_actv1)\n",
        "    model = models.Model(inputs=[inputs1, inputs2, inputs3], outputs=output)\n",
        "    return model"
      ],
      "execution_count": 0,
      "outputs": []
    },
    {
      "cell_type": "code",
      "metadata": {
        "id": "sNvMTgJSs-KL",
        "colab_type": "code",
        "colab": {}
      },
      "source": [
        "def train_deep_multichannel_model(model, feature_train, target_train, feature_test, target_test, epochs, batch_size, lr, Lambda, callbacks):\n",
        "  model.compile(optimizer=optimizers.Adam(learning_rate=lr),\n",
        "                loss='categorical_crossentropy', metrics=['accuracy'])\n",
        "  history = model.fit([feature_train,feature_train,feature_train], target_train, validation_split=0.2, \n",
        "                      epochs=epochs, batch_size=batch_size, verbose=1,\n",
        "                      callbacks = callbacks)\n",
        "  #predict = model.predict_classes(feature_validate)\n",
        "  eval_scores = model.evaluate([feature_test,feature_test,feature_test], target_test, verbose=0)\n",
        "  return round((eval_scores[1]*100),2)"
      ],
      "execution_count": 0,
      "outputs": []
    },
    {
      "cell_type": "markdown",
      "metadata": {
        "id": "KJzP0ibKsYyG",
        "colab_type": "text"
      },
      "source": [
        "#####Glove"
      ]
    },
    {
      "cell_type": "code",
      "metadata": {
        "id": "gnRpdGXksbi0",
        "colab_type": "code",
        "colab": {
          "base_uri": "https://localhost:8080/",
          "height": 358
        },
        "outputId": "8ba9974c-b9ec-4e27-abe9-4690d4380a0a"
      },
      "source": [
        "cnn_multi_channel_glove200_model = create_multi_channel_cnn(X_train_seq_pad.shape[1], y_train_cate.shape[1], \n",
        "                   True, vocab_size+1, embed_dim, glove_embedding_matrix)\n",
        "\n",
        "cnn_multi_channel_glove200_model.summary()"
      ],
      "execution_count": 91,
      "outputs": [
        {
          "output_type": "error",
          "ename": "AttributeError",
          "evalue": "ignored",
          "traceback": [
            "\u001b[0;31m---------------------------------------------------------------------------\u001b[0m",
            "\u001b[0;31mAttributeError\u001b[0m                            Traceback (most recent call last)",
            "\u001b[0;32m<ipython-input-91-4cf998dd0c89>\u001b[0m in \u001b[0;36m<module>\u001b[0;34m()\u001b[0m\n\u001b[1;32m      1\u001b[0m cnn_multi_channel_glove200_model = create_multi_channel_cnn(X_train_seq_pad.shape[1], y_train_cate.shape[1], \n\u001b[0;32m----> 2\u001b[0;31m                    True, vocab_size+1, embed_dim, glove_embedding_matrix)\n\u001b[0m\u001b[1;32m      3\u001b[0m \u001b[0;34m\u001b[0m\u001b[0m\n\u001b[1;32m      4\u001b[0m \u001b[0mcnn_multi_channel_glove200_model\u001b[0m\u001b[0;34m.\u001b[0m\u001b[0msummary\u001b[0m\u001b[0;34m(\u001b[0m\u001b[0;34m)\u001b[0m\u001b[0;34m\u001b[0m\u001b[0;34m\u001b[0m\u001b[0m\n",
            "\u001b[0;32m<ipython-input-89-c85fa05124ca>\u001b[0m in \u001b[0;36mcreate_multi_channel_cnn\u001b[0;34m(input_size, output_size, embedding, vocab_size, embed_dim, embedding_matrix)\u001b[0m\n\u001b[1;32m     37\u001b[0m     \u001b[0mchannel_layers\u001b[0m \u001b[0;34m=\u001b[0m \u001b[0mConcatenate\u001b[0m\u001b[0;34m(\u001b[0m\u001b[0;34m[\u001b[0m\u001b[0mflat1\u001b[0m\u001b[0;34m,\u001b[0m \u001b[0mflat2\u001b[0m\u001b[0;34m,\u001b[0m \u001b[0mflat3\u001b[0m\u001b[0;34m]\u001b[0m\u001b[0;34m)\u001b[0m\u001b[0;34m\u001b[0m\u001b[0;34m\u001b[0m\u001b[0m\n\u001b[1;32m     38\u001b[0m \u001b[0;34m\u001b[0m\u001b[0m\n\u001b[0;32m---> 39\u001b[0;31m     \u001b[0mmid_dense1\u001b[0m \u001b[0;34m=\u001b[0m \u001b[0mDense\u001b[0m\u001b[0;34m(\u001b[0m\u001b[0;36m64\u001b[0m\u001b[0;34m,\u001b[0m \u001b[0mkernel_initializer\u001b[0m\u001b[0;34m=\u001b[0m\u001b[0;34m'random_uniform'\u001b[0m\u001b[0;34m,\u001b[0m\u001b[0mkernel_regularizer\u001b[0m\u001b[0;34m=\u001b[0m\u001b[0mregularizers\u001b[0m\u001b[0;34m.\u001b[0m\u001b[0ml2\u001b[0m\u001b[0;34m(\u001b[0m\u001b[0mLambda\u001b[0m\u001b[0;34m)\u001b[0m\u001b[0;34m)\u001b[0m\u001b[0;34m(\u001b[0m\u001b[0mchannel_layers\u001b[0m\u001b[0;34m)\u001b[0m\u001b[0;34m\u001b[0m\u001b[0;34m\u001b[0m\u001b[0m\n\u001b[0m\u001b[1;32m     40\u001b[0m     \u001b[0mmid_norm1\u001b[0m \u001b[0;34m=\u001b[0m \u001b[0mBatchNormalization\u001b[0m\u001b[0;34m(\u001b[0m\u001b[0;34m)\u001b[0m\u001b[0;34m(\u001b[0m\u001b[0mmid_dense1\u001b[0m\u001b[0;34m)\u001b[0m\u001b[0;34m\u001b[0m\u001b[0;34m\u001b[0m\u001b[0m\n\u001b[1;32m     41\u001b[0m     \u001b[0mmid_actv1\u001b[0m \u001b[0;34m=\u001b[0m \u001b[0mActivation\u001b[0m\u001b[0;34m(\u001b[0m\u001b[0;34m'relu'\u001b[0m\u001b[0;34m)\u001b[0m\u001b[0;34m(\u001b[0m\u001b[0mmid_norm1\u001b[0m\u001b[0;34m)\u001b[0m\u001b[0;34m\u001b[0m\u001b[0;34m\u001b[0m\u001b[0m\n",
            "\u001b[0;32m/usr/local/lib/python3.6/dist-packages/tensorflow/python/keras/engine/base_layer.py\u001b[0m in \u001b[0;36m__call__\u001b[0;34m(self, *args, **kwargs)\u001b[0m\n\u001b[1;32m    962\u001b[0m         \u001b[0;31m# Eager execution on data tensors.\u001b[0m\u001b[0;34m\u001b[0m\u001b[0;34m\u001b[0m\u001b[0;34m\u001b[0m\u001b[0m\n\u001b[1;32m    963\u001b[0m         \u001b[0;32mwith\u001b[0m \u001b[0mbackend\u001b[0m\u001b[0;34m.\u001b[0m\u001b[0mname_scope\u001b[0m\u001b[0;34m(\u001b[0m\u001b[0mself\u001b[0m\u001b[0;34m.\u001b[0m\u001b[0m_name_scope\u001b[0m\u001b[0;34m(\u001b[0m\u001b[0;34m)\u001b[0m\u001b[0;34m)\u001b[0m\u001b[0;34m:\u001b[0m\u001b[0;34m\u001b[0m\u001b[0;34m\u001b[0m\u001b[0m\n\u001b[0;32m--> 964\u001b[0;31m           \u001b[0mself\u001b[0m\u001b[0;34m.\u001b[0m\u001b[0m_maybe_build\u001b[0m\u001b[0;34m(\u001b[0m\u001b[0minputs\u001b[0m\u001b[0;34m)\u001b[0m\u001b[0;34m\u001b[0m\u001b[0;34m\u001b[0m\u001b[0m\n\u001b[0m\u001b[1;32m    965\u001b[0m           \u001b[0mcast_inputs\u001b[0m \u001b[0;34m=\u001b[0m \u001b[0mself\u001b[0m\u001b[0;34m.\u001b[0m\u001b[0m_maybe_cast_inputs\u001b[0m\u001b[0;34m(\u001b[0m\u001b[0minputs\u001b[0m\u001b[0;34m)\u001b[0m\u001b[0;34m\u001b[0m\u001b[0;34m\u001b[0m\u001b[0m\n\u001b[1;32m    966\u001b[0m           with base_layer_utils.autocast_context_manager(\n",
            "\u001b[0;32m/usr/local/lib/python3.6/dist-packages/tensorflow/python/keras/engine/base_layer.py\u001b[0m in \u001b[0;36m_maybe_build\u001b[0;34m(self, inputs)\u001b[0m\n\u001b[1;32m   2396\u001b[0m     \u001b[0;32mif\u001b[0m \u001b[0;32mnot\u001b[0m \u001b[0mself\u001b[0m\u001b[0;34m.\u001b[0m\u001b[0mbuilt\u001b[0m\u001b[0;34m:\u001b[0m\u001b[0;34m\u001b[0m\u001b[0;34m\u001b[0m\u001b[0m\n\u001b[1;32m   2397\u001b[0m       input_spec.assert_input_compatibility(\n\u001b[0;32m-> 2398\u001b[0;31m           self.input_spec, inputs, self.name)\n\u001b[0m\u001b[1;32m   2399\u001b[0m       \u001b[0minput_list\u001b[0m \u001b[0;34m=\u001b[0m \u001b[0mnest\u001b[0m\u001b[0;34m.\u001b[0m\u001b[0mflatten\u001b[0m\u001b[0;34m(\u001b[0m\u001b[0minputs\u001b[0m\u001b[0;34m)\u001b[0m\u001b[0;34m\u001b[0m\u001b[0;34m\u001b[0m\u001b[0m\n\u001b[1;32m   2400\u001b[0m       \u001b[0;32mif\u001b[0m \u001b[0minput_list\u001b[0m \u001b[0;32mand\u001b[0m \u001b[0mself\u001b[0m\u001b[0;34m.\u001b[0m\u001b[0m_dtype_policy\u001b[0m\u001b[0;34m.\u001b[0m\u001b[0mcompute_dtype\u001b[0m \u001b[0;32mis\u001b[0m \u001b[0;32mNone\u001b[0m\u001b[0;34m:\u001b[0m\u001b[0;34m\u001b[0m\u001b[0;34m\u001b[0m\u001b[0m\n",
            "\u001b[0;32m/usr/local/lib/python3.6/dist-packages/tensorflow/python/keras/engine/input_spec.py\u001b[0m in \u001b[0;36massert_input_compatibility\u001b[0;34m(input_spec, inputs, layer_name)\u001b[0m\n\u001b[1;32m    164\u001b[0m         \u001b[0mspec\u001b[0m\u001b[0;34m.\u001b[0m\u001b[0mmin_ndim\u001b[0m \u001b[0;32mis\u001b[0m \u001b[0;32mnot\u001b[0m \u001b[0;32mNone\u001b[0m \u001b[0;32mor\u001b[0m\u001b[0;34m\u001b[0m\u001b[0;34m\u001b[0m\u001b[0m\n\u001b[1;32m    165\u001b[0m         spec.max_ndim is not None):\n\u001b[0;32m--> 166\u001b[0;31m       \u001b[0;32mif\u001b[0m \u001b[0mx\u001b[0m\u001b[0;34m.\u001b[0m\u001b[0mshape\u001b[0m\u001b[0;34m.\u001b[0m\u001b[0mndims\u001b[0m \u001b[0;32mis\u001b[0m \u001b[0;32mNone\u001b[0m\u001b[0;34m:\u001b[0m\u001b[0;34m\u001b[0m\u001b[0;34m\u001b[0m\u001b[0m\n\u001b[0m\u001b[1;32m    167\u001b[0m         raise ValueError('Input ' + str(input_index) + ' of layer ' +\n\u001b[1;32m    168\u001b[0m                          \u001b[0mlayer_name\u001b[0m \u001b[0;34m+\u001b[0m \u001b[0;34m' is incompatible with the layer: '\u001b[0m\u001b[0;34m\u001b[0m\u001b[0;34m\u001b[0m\u001b[0m\n",
            "\u001b[0;31mAttributeError\u001b[0m: 'Concatenate' object has no attribute 'shape'"
          ]
        }
      ]
    },
    {
      "cell_type": "code",
      "metadata": {
        "id": "off6AzmHsoBu",
        "colab_type": "code",
        "colab": {}
      },
      "source": [
        "plot_model(cnn_multi_channel_glove200_model, show_shapes=True, to_file='multichannel.png')"
      ],
      "execution_count": 0,
      "outputs": []
    },
    {
      "cell_type": "code",
      "metadata": {
        "id": "AANTmcKztYYm",
        "colab_type": "code",
        "colab": {}
      },
      "source": [
        "test_acc = train_deep_multichannel_model(cnn_multi_channel_glove200_model, X_train_seq_pad, y_train_cate, X_test_seq_pad, y_test_cate, \n",
        "                             epochs, batch_size, lr, Lambda, callback)"
      ],
      "execution_count": 0,
      "outputs": []
    },
    {
      "cell_type": "code",
      "metadata": {
        "id": "J_piX9ootYcS",
        "colab_type": "code",
        "colab": {}
      },
      "source": [
        "\n",
        "dl_accuracy_df = dl_accuracy_df.append(pd.Series(['CNN-MultiChannel-glove200-trainable-initiallearning', \n",
        "                                            accuracy_text.format(test_acc)],\n",
        "                                           index=dl_accuracy_df.columns), ignore_index=True)\n",
        "dl_accuracy_df"
      ],
      "execution_count": 0,
      "outputs": []
    },
    {
      "cell_type": "code",
      "metadata": {
        "id": "YpD0_L0etdyj",
        "colab_type": "code",
        "colab": {}
      },
      "source": [
        "cnn_multi_channel_glove200_model.save_weights(PROJECT_DIR+\"weights/cnn_glove200_weights.h5\")"
      ],
      "execution_count": 0,
      "outputs": []
    },
    {
      "cell_type": "code",
      "metadata": {
        "id": "PQvR0hUnthQ-",
        "colab_type": "code",
        "colab": {}
      },
      "source": [
        "for layer in cnn_multi_channel_glove200_model.layers:\n",
        "  if 'embedding' in (layer.name.lower()):\n",
        "    layer.trainable = True\n",
        "    break\n"
      ],
      "execution_count": 0,
      "outputs": []
    },
    {
      "cell_type": "code",
      "metadata": {
        "id": "wzxde-IJthU3",
        "colab_type": "code",
        "colab": {}
      },
      "source": [
        "test_acc = train_deep_multichannel_model(cnn_multi_channel_glove200_model, X_train_seq_pad, y_train_cate, X_test_seq_pad, y_test_cate, \n",
        "                                                epochs, batch_size, lr, Lambda, callback)\n"
      ],
      "execution_count": 0,
      "outputs": []
    },
    {
      "cell_type": "code",
      "metadata": {
        "id": "1gS4ZCsXtYer",
        "colab_type": "code",
        "colab": {}
      },
      "source": [
        "dl_accuracy_df = dl_accuracy_df.append(pd.Series(['CNN-MultiChannel-glove200-trainable-true-finetuning',\n",
        "                                            accuracy_text.format(test_acc)],\n",
        "                                           index=dl_accuracy_df.columns), ignore_index=True)\n",
        "dl_accuracy_df"
      ],
      "execution_count": 0,
      "outputs": []
    },
    {
      "cell_type": "code",
      "metadata": {
        "id": "Tz6SoZSgtrXo",
        "colab_type": "code",
        "colab": {}
      },
      "source": [
        "cnn_multi_channel_so200_model.save_weights(PROJECT_DIR+\"weights/cnn_multichannel_glove200_finetuned_weights.h5\")"
      ],
      "execution_count": 0,
      "outputs": []
    },
    {
      "cell_type": "markdown",
      "metadata": {
        "id": "6m5DvqYisV_A",
        "colab_type": "text"
      },
      "source": [
        "#####Stackoverflow"
      ]
    },
    {
      "cell_type": "code",
      "metadata": {
        "id": "28P70jMYjvIA",
        "colab_type": "code",
        "colab": {}
      },
      "source": [
        "cnn_multi_channel_so200_model = create_multi_channel_cnn(X_train_seq_pad.shape[1], y_train_cate.shape[1], \n",
        "                   True, vocab_size+1, embed_dim, so_embedding_matrix)\n",
        "\n",
        "cnn_multi_channel_so200_model.summary()"
      ],
      "execution_count": 0,
      "outputs": []
    },
    {
      "cell_type": "code",
      "metadata": {
        "id": "Af9kbVPCjwBP",
        "colab_type": "code",
        "colab": {}
      },
      "source": [
        "plot_model(cnn_multi_channel_so200_model, show_shapes=True, to_file='multichannel.png')"
      ],
      "execution_count": 0,
      "outputs": []
    },
    {
      "cell_type": "code",
      "metadata": {
        "id": "d9gHsND3l9Cn",
        "colab_type": "code",
        "colab": {}
      },
      "source": [
        "test_acc = train_deep_multichannel_model(cnn_multi_channel_so200_model, X_train_seq_pad, y_train_cate, X_test_seq_pad, y_test_cate, \n",
        "                             epochs, batch_size, lr, Lambda, callback)"
      ],
      "execution_count": 0,
      "outputs": []
    },
    {
      "cell_type": "code",
      "metadata": {
        "id": "YpnvCNeol-P3",
        "colab_type": "code",
        "colab": {}
      },
      "source": [
        "dl_accuracy_df = dl_accuracy_df.append(pd.Series(['CNN-MultiChannel-SO200-trainable-initiallearning', \n",
        "                                            accuracy_text.format(test_acc)],\n",
        "                                           index=dl_accuracy_df.columns), ignore_index=True)\n",
        "dl_accuracy_df"
      ],
      "execution_count": 0,
      "outputs": []
    },
    {
      "cell_type": "code",
      "metadata": {
        "id": "haK1bnuVl-US",
        "colab_type": "code",
        "colab": {}
      },
      "source": [
        "cnn_multi_channel_so200_model.save_weights(PROJECT_DIR+\"weights/cnn_so200_weights.h5\")"
      ],
      "execution_count": 0,
      "outputs": []
    },
    {
      "cell_type": "code",
      "metadata": {
        "id": "uS3ySvirmG4-",
        "colab_type": "code",
        "colab": {}
      },
      "source": [
        "for layer in cnn_multi_channel_so200_model.layers:\n",
        "  if 'embedding' in (layer.name.lower()):\n",
        "    layer.trainable = True\n",
        "    break"
      ],
      "execution_count": 0,
      "outputs": []
    },
    {
      "cell_type": "code",
      "metadata": {
        "id": "Ksf2lVfjmG_W",
        "colab_type": "code",
        "colab": {}
      },
      "source": [
        "test_acc = train_deep_multichannel_model(cnn_multi_channel_so200_model, X_train_seq_pad, y_train_cate, X_test_seq_pad, y_test_cate, \n",
        "                                                epochs, batch_size, lr, Lambda, callback)\n"
      ],
      "execution_count": 0,
      "outputs": []
    },
    {
      "cell_type": "code",
      "metadata": {
        "id": "QCpIPm6GmHDO",
        "colab_type": "code",
        "colab": {}
      },
      "source": [
        "dl_accuracy_df = dl_accuracy_df.append(pd.Series(['CNN-MultiChannel-SO200-trainable-true-finetuning',\n",
        "                                            accuracy_text.format(test_acc)],\n",
        "                                           index=dl_accuracy_df.columns), ignore_index=True)\n",
        "dl_accuracy_df\n"
      ],
      "execution_count": 0,
      "outputs": []
    },
    {
      "cell_type": "code",
      "metadata": {
        "id": "wdu2TODBmG8H",
        "colab_type": "code",
        "colab": {}
      },
      "source": [
        "cnn_multi_channel_so200_model.save_weights(PROJECT_DIR+\"weights/cnn_multichannel_so200_finetuned_weights.h5\")"
      ],
      "execution_count": 0,
      "outputs": []
    },
    {
      "cell_type": "markdown",
      "metadata": {
        "id": "GF7UxjiLQVou",
        "colab_type": "text"
      },
      "source": [
        "###Recurrent Neural Network"
      ]
    },
    {
      "cell_type": "markdown",
      "metadata": {
        "id": "Cqz35n3Tpxtn",
        "colab_type": "text"
      },
      "source": [
        "####RNN - Vanilla"
      ]
    },
    {
      "cell_type": "code",
      "metadata": {
        "id": "aOws4_1G0-Ia",
        "colab_type": "code",
        "colab": {}
      },
      "source": [
        "def create_rnn(input_size, output_size, embedding=False, vocab_size=None, embed_dim=None, embedding_matrix=None):\n",
        "    model = Sequential()\n",
        "    \n",
        "    model.add(Embedding(vocab_size, embed_dim, input_length=input_size, weights=[embedding_matrix], trainable=False))\n",
        "    \n",
        "    model.add(SimpleRNN(200,return_sequences=True))\n",
        "    model.add(SimpleRNN(100,return_sequences=False))\n",
        "\n",
        "    model.add(Dense(64, kernel_initializer='random_uniform',kernel_regularizer=regularizers.l2(Lambda)))\n",
        "    model.add(BatchNormalization())\n",
        "    model.add(Activation('relu'))\n",
        "\n",
        "    model.add(Dense(output_size, activation='softmax'))\n",
        "    return model"
      ],
      "execution_count": 0,
      "outputs": []
    },
    {
      "cell_type": "markdown",
      "metadata": {
        "id": "SUuLcWne1qCM",
        "colab_type": "text"
      },
      "source": [
        "#####Glove:"
      ]
    },
    {
      "cell_type": "code",
      "metadata": {
        "id": "SeEs5nTT1sd6",
        "colab_type": "code",
        "colab": {
          "base_uri": "https://localhost:8080/",
          "height": 391
        },
        "outputId": "ec3249e6-30c6-485a-d6a0-2feb62153de9"
      },
      "source": [
        "rnn_glove_200_model = create_rnn(X_train_seq_pad.shape[1], y_train_cate.shape[1], \n",
        "                   True, vocab_size+1, embed_dim, glove_embedding_matrix)\n",
        "\n",
        "rnn_glove_200_model.summary()"
      ],
      "execution_count": 47,
      "outputs": [
        {
          "output_type": "stream",
          "text": [
            "Model: \"sequential_1\"\n",
            "_________________________________________________________________\n",
            "Layer (type)                 Output Shape              Param #   \n",
            "=================================================================\n",
            "embedding_1 (Embedding)      (None, 2900, 200)         603200    \n",
            "_________________________________________________________________\n",
            "simple_rnn (SimpleRNN)       (None, 2900, 200)         80200     \n",
            "_________________________________________________________________\n",
            "simple_rnn_1 (SimpleRNN)     (None, 100)               30100     \n",
            "_________________________________________________________________\n",
            "dense_2 (Dense)              (None, 64)                6464      \n",
            "_________________________________________________________________\n",
            "batch_normalization_1 (Batch (None, 64)                256       \n",
            "_________________________________________________________________\n",
            "activation_1 (Activation)    (None, 64)                0         \n",
            "_________________________________________________________________\n",
            "dense_3 (Dense)              (None, 52)                3380      \n",
            "=================================================================\n",
            "Total params: 723,600\n",
            "Trainable params: 120,272\n",
            "Non-trainable params: 603,328\n",
            "_________________________________________________________________\n"
          ],
          "name": "stdout"
        }
      ]
    },
    {
      "cell_type": "code",
      "metadata": {
        "id": "FwHGKv-l3LZ1",
        "colab_type": "code",
        "colab": {
          "base_uri": "https://localhost:8080/",
          "height": 51
        },
        "outputId": "2f3e0d7a-30a5-4783-fe45-0d5aa2e93a1b"
      },
      "source": [
        "test_acc = train_deep_model(rnn_glove_200_model, X_train_seq_pad, y_train_cate, X_test_seq_pad, y_test_cate, \n",
        "                             epochs, batch_size, lr, Lambda, callback)\n"
      ],
      "execution_count": 0,
      "outputs": [
        {
          "output_type": "stream",
          "text": [
            "Epoch 1/20\n",
            " 69/122 [===============>..............] - ETA: 2:18 - loss: 3.0687 - accuracy: 0.4144"
          ],
          "name": "stdout"
        }
      ]
    },
    {
      "cell_type": "code",
      "metadata": {
        "id": "sro1TezS3LpH",
        "colab_type": "code",
        "colab": {
          "base_uri": "https://localhost:8080/",
          "height": 204
        },
        "outputId": "1d102f81-a130-4264-a127-64785b1a4e57"
      },
      "source": [
        "dl_accuracy_df = dl_accuracy_df.append(pd.Series(['RNN-Glove-200-trainable-initiallearning', \n",
        "                                            accuracy_text.format(test_acc)],\n",
        "                                           index=dl_accuracy_df.columns), ignore_index=True)\n",
        "dl_accuracy_df"
      ],
      "execution_count": 104,
      "outputs": [
        {
          "output_type": "execute_result",
          "data": {
            "text/html": [
              "<div>\n",
              "<style scoped>\n",
              "    .dataframe tbody tr th:only-of-type {\n",
              "        vertical-align: middle;\n",
              "    }\n",
              "\n",
              "    .dataframe tbody tr th {\n",
              "        vertical-align: top;\n",
              "    }\n",
              "\n",
              "    .dataframe thead th {\n",
              "        text-align: right;\n",
              "    }\n",
              "</style>\n",
              "<table border=\"1\" class=\"dataframe\">\n",
              "  <thead>\n",
              "    <tr style=\"text-align: right;\">\n",
              "      <th></th>\n",
              "      <th>Model</th>\n",
              "      <th>Accuracy</th>\n",
              "    </tr>\n",
              "  </thead>\n",
              "  <tbody>\n",
              "    <tr>\n",
              "      <th>0</th>\n",
              "      <td>CNN-Glove200-trainable-initiallearning</td>\n",
              "      <td>Test : 46.68</td>\n",
              "    </tr>\n",
              "    <tr>\n",
              "      <th>1</th>\n",
              "      <td>CNN-Glove200-trainable-true-finetuning</td>\n",
              "      <td>Test : 46.31</td>\n",
              "    </tr>\n",
              "    <tr>\n",
              "      <th>2</th>\n",
              "      <td>CNN-SO200-trainable-initiallearning</td>\n",
              "      <td>Test : 45.57</td>\n",
              "    </tr>\n",
              "    <tr>\n",
              "      <th>3</th>\n",
              "      <td>CNN-SO200-trainable-true-finetuning</td>\n",
              "      <td>Test : 47.05</td>\n",
              "    </tr>\n",
              "    <tr>\n",
              "      <th>4</th>\n",
              "      <td>RNN-Glove-200-trainable-initiallearning</td>\n",
              "      <td>Test : 48.34</td>\n",
              "    </tr>\n",
              "  </tbody>\n",
              "</table>\n",
              "</div>"
            ],
            "text/plain": [
              "                                     Model       Accuracy\n",
              "0   CNN-Glove200-trainable-initiallearning  Test : 46.68 \n",
              "1   CNN-Glove200-trainable-true-finetuning  Test : 46.31 \n",
              "2      CNN-SO200-trainable-initiallearning  Test : 45.57 \n",
              "3      CNN-SO200-trainable-true-finetuning  Test : 47.05 \n",
              "4  RNN-Glove-200-trainable-initiallearning  Test : 48.34 "
            ]
          },
          "metadata": {
            "tags": []
          },
          "execution_count": 104
        }
      ]
    },
    {
      "cell_type": "code",
      "metadata": {
        "id": "iYiyz5Cc3TlE",
        "colab_type": "code",
        "colab": {}
      },
      "source": [
        "rnn_glove_200_model.save_weights(PROJECT_DIR+\"weights/rnn_glove_200_weights.h5\")"
      ],
      "execution_count": 0,
      "outputs": []
    },
    {
      "cell_type": "code",
      "metadata": {
        "id": "0qseLjjj3do-",
        "colab_type": "code",
        "colab": {}
      },
      "source": [
        "for layer in rnn_glove_200_model.layers:\n",
        "  if 'embedding' in (layer.name.lower()):\n",
        "    layer.trainable = True\n",
        "    break\n"
      ],
      "execution_count": 0,
      "outputs": []
    },
    {
      "cell_type": "code",
      "metadata": {
        "id": "ugA9Wv_v3dsW",
        "colab_type": "code",
        "colab": {
          "base_uri": "https://localhost:8080/",
          "height": 833
        },
        "outputId": "e91710f9-8395-476d-a43e-4269a60d7df2"
      },
      "source": [
        "test_acc = train_deep_model(rnn_glove_200_model, X_train_seq_pad, y_train_cate, X_test_seq_pad, y_test_cate, \n",
        "                                                epochs, batch_size, lr, Lambda, callback)\n"
      ],
      "execution_count": 109,
      "outputs": [
        {
          "output_type": "stream",
          "text": [
            "Epoch 1/20\n",
            "31/31 [==============================] - 194s 6s/step - loss: 2.5706 - accuracy: 0.4819 - val_loss: 6.3716 - val_accuracy: 0.0471 - lr: 0.0100\n",
            "Epoch 2/20\n",
            "31/31 [==============================] - 195s 6s/step - loss: 2.5166 - accuracy: 0.4863 - val_loss: 5.3921 - val_accuracy: 0.4898 - lr: 0.0100\n",
            "Epoch 3/20\n",
            "31/31 [==============================] - 197s 6s/step - loss: 2.5182 - accuracy: 0.4819 - val_loss: 5.0947 - val_accuracy: 0.4898 - lr: 0.0100\n",
            "Epoch 4/20\n",
            "31/31 [==============================] - 195s 6s/step - loss: 2.5294 - accuracy: 0.4822 - val_loss: 6.2196 - val_accuracy: 0.0277 - lr: 0.0100\n",
            "Epoch 5/20\n",
            "31/31 [==============================] - ETA: 0s - loss: 2.5192 - accuracy: 0.4822\n",
            "Epoch 00005: ReduceLROnPlateau reducing learning rate to 0.0009999999776482583.\n",
            "31/31 [==============================] - 198s 6s/step - loss: 2.5192 - accuracy: 0.4822 - val_loss: 7.3822 - val_accuracy: 0.4898 - lr: 0.0100\n",
            "Epoch 6/20\n",
            "31/31 [==============================] - 199s 6s/step - loss: 2.4181 - accuracy: 0.4935 - val_loss: 5.9601 - val_accuracy: 0.4898 - lr: 1.0000e-03\n",
            "Epoch 7/20\n",
            "31/31 [==============================] - 196s 6s/step - loss: 2.3674 - accuracy: 0.4924 - val_loss: 4.8029 - val_accuracy: 0.5051 - lr: 1.0000e-03\n",
            "Epoch 8/20\n",
            "31/31 [==============================] - 197s 6s/step - loss: 2.3095 - accuracy: 0.4947 - val_loss: 4.2172 - val_accuracy: 0.5031 - lr: 1.0000e-03\n",
            "Epoch 9/20\n",
            "31/31 [==============================] - 197s 6s/step - loss: 2.2582 - accuracy: 0.4942 - val_loss: 3.7056 - val_accuracy: 0.5020 - lr: 1.0000e-03\n",
            "Epoch 10/20\n",
            "31/31 [==============================] - 196s 6s/step - loss: 2.2073 - accuracy: 0.4958 - val_loss: 2.9585 - val_accuracy: 0.4980 - lr: 1.0000e-03\n",
            "Epoch 11/20\n",
            "31/31 [==============================] - 197s 6s/step - loss: 2.1654 - accuracy: 0.4973 - val_loss: 2.8460 - val_accuracy: 0.5031 - lr: 1.0000e-03\n",
            "Epoch 12/20\n",
            "31/31 [==============================] - 197s 6s/step - loss: 2.2500 - accuracy: 0.4945 - val_loss: 80.1000 - val_accuracy: 0.0277 - lr: 1.0000e-03\n",
            "Epoch 13/20\n",
            "31/31 [==============================] - 198s 6s/step - loss: 2.3682 - accuracy: 0.4847 - val_loss: 57.8670 - val_accuracy: 0.0277 - lr: 1.0000e-03\n",
            "Epoch 14/20\n",
            "31/31 [==============================] - ETA: 0s - loss: 2.3068 - accuracy: 0.4899\n",
            "Epoch 00014: ReduceLROnPlateau reducing learning rate to 9.999999310821295e-05.\n",
            "31/31 [==============================] - 196s 6s/step - loss: 2.3068 - accuracy: 0.4899 - val_loss: 38.8465 - val_accuracy: 0.0277 - lr: 1.0000e-03\n",
            "Epoch 15/20\n",
            "31/31 [==============================] - 197s 6s/step - loss: 2.2536 - accuracy: 0.4881 - val_loss: 27.9248 - val_accuracy: 0.0277 - lr: 1.0000e-04\n",
            "Epoch 16/20\n",
            "31/31 [==============================] - 195s 6s/step - loss: 2.2413 - accuracy: 0.4909 - val_loss: 20.0285 - val_accuracy: 0.0277 - lr: 1.0000e-04\n",
            "Epoch 17/20\n",
            "31/31 [==============================] - ETA: 0s - loss: 2.2280 - accuracy: 0.4909\n",
            "Epoch 00017: ReduceLROnPlateau reducing learning rate to 9.999999019782991e-06.\n",
            "31/31 [==============================] - 196s 6s/step - loss: 2.2280 - accuracy: 0.4909 - val_loss: 14.3216 - val_accuracy: 0.0287 - lr: 1.0000e-04\n",
            "Epoch 18/20\n",
            "31/31 [==============================] - 198s 6s/step - loss: 2.2213 - accuracy: 0.4914 - val_loss: 10.1516 - val_accuracy: 0.0307 - lr: 1.0000e-05\n",
            "Epoch 19/20\n",
            "31/31 [==============================] - 196s 6s/step - loss: 2.2232 - accuracy: 0.4912 - val_loss: 7.1346 - val_accuracy: 0.0318 - lr: 1.0000e-05\n",
            "Epoch 20/20\n",
            "31/31 [==============================] - ETA: 0s - loss: 2.2235 - accuracy: 0.4924\n",
            "Epoch 00020: ReduceLROnPlateau reducing learning rate to 9.99999883788405e-07.\n",
            "31/31 [==============================] - 196s 6s/step - loss: 2.2235 - accuracy: 0.4924 - val_loss: 5.0585 - val_accuracy: 0.0861 - lr: 1.0000e-05\n"
          ],
          "name": "stdout"
        }
      ]
    },
    {
      "cell_type": "code",
      "metadata": {
        "id": "U_tApzGl3dy0",
        "colab_type": "code",
        "colab": {
          "base_uri": "https://localhost:8080/",
          "height": 235
        },
        "outputId": "f125131a-c96a-4856-d8b1-1a8b992f46d7"
      },
      "source": [
        "dl_accuracy_df = dl_accuracy_df.append(pd.Series(['RNN-Glove200-trainable-true-finetuning',\n",
        "                                            accuracy_text.format(test_acc)],\n",
        "                                           index=dl_accuracy_df.columns), ignore_index=True)\n",
        "dl_accuracy_df\n"
      ],
      "execution_count": 110,
      "outputs": [
        {
          "output_type": "execute_result",
          "data": {
            "text/html": [
              "<div>\n",
              "<style scoped>\n",
              "    .dataframe tbody tr th:only-of-type {\n",
              "        vertical-align: middle;\n",
              "    }\n",
              "\n",
              "    .dataframe tbody tr th {\n",
              "        vertical-align: top;\n",
              "    }\n",
              "\n",
              "    .dataframe thead th {\n",
              "        text-align: right;\n",
              "    }\n",
              "</style>\n",
              "<table border=\"1\" class=\"dataframe\">\n",
              "  <thead>\n",
              "    <tr style=\"text-align: right;\">\n",
              "      <th></th>\n",
              "      <th>Model</th>\n",
              "      <th>Accuracy</th>\n",
              "    </tr>\n",
              "  </thead>\n",
              "  <tbody>\n",
              "    <tr>\n",
              "      <th>0</th>\n",
              "      <td>CNN-Glove200-trainable-initiallearning</td>\n",
              "      <td>Test : 46.68</td>\n",
              "    </tr>\n",
              "    <tr>\n",
              "      <th>1</th>\n",
              "      <td>CNN-Glove200-trainable-true-finetuning</td>\n",
              "      <td>Test : 46.31</td>\n",
              "    </tr>\n",
              "    <tr>\n",
              "      <th>2</th>\n",
              "      <td>CNN-SO200-trainable-initiallearning</td>\n",
              "      <td>Test : 45.57</td>\n",
              "    </tr>\n",
              "    <tr>\n",
              "      <th>3</th>\n",
              "      <td>CNN-SO200-trainable-true-finetuning</td>\n",
              "      <td>Test : 47.05</td>\n",
              "    </tr>\n",
              "    <tr>\n",
              "      <th>4</th>\n",
              "      <td>RNN-Glove-200-trainable-initiallearning</td>\n",
              "      <td>Test : 48.34</td>\n",
              "    </tr>\n",
              "    <tr>\n",
              "      <th>5</th>\n",
              "      <td>RNN-Glove200-trainable-true-finetuning</td>\n",
              "      <td>Test : 9.96</td>\n",
              "    </tr>\n",
              "  </tbody>\n",
              "</table>\n",
              "</div>"
            ],
            "text/plain": [
              "                                     Model       Accuracy\n",
              "0   CNN-Glove200-trainable-initiallearning  Test : 46.68 \n",
              "1   CNN-Glove200-trainable-true-finetuning  Test : 46.31 \n",
              "2      CNN-SO200-trainable-initiallearning  Test : 45.57 \n",
              "3      CNN-SO200-trainable-true-finetuning  Test : 47.05 \n",
              "4  RNN-Glove-200-trainable-initiallearning  Test : 48.34 \n",
              "5   RNN-Glove200-trainable-true-finetuning   Test : 9.96 "
            ]
          },
          "metadata": {
            "tags": []
          },
          "execution_count": 110
        }
      ]
    },
    {
      "cell_type": "code",
      "metadata": {
        "id": "kB6Y01xj3d37",
        "colab_type": "code",
        "colab": {}
      },
      "source": [
        "rnn_glove_200_model.save_weights(PROJECT_DIR+\"weights/rnn_ownembed_200_finetuned_weights.h5\")"
      ],
      "execution_count": 0,
      "outputs": []
    },
    {
      "cell_type": "markdown",
      "metadata": {
        "id": "9XAqxfwQ1N9g",
        "colab_type": "text"
      },
      "source": [
        "#####Stackoverflow:"
      ]
    },
    {
      "cell_type": "code",
      "metadata": {
        "id": "5Io0K3T41R5b",
        "colab_type": "code",
        "colab": {
          "base_uri": "https://localhost:8080/",
          "height": 391
        },
        "outputId": "8e588ca0-a4b8-471a-9062-f090d297c4ff"
      },
      "source": [
        "rnn_so_200_model = create_rnn(X_train_seq_pad.shape[1], y_train_cate.shape[1], \n",
        "                   True, vocab_size+1, embed_dim, so_embedding_matrix)\n",
        "\n",
        "rnn_so_200_model.summary()"
      ],
      "execution_count": 112,
      "outputs": [
        {
          "output_type": "stream",
          "text": [
            "Model: \"sequential_8\"\n",
            "_________________________________________________________________\n",
            "Layer (type)                 Output Shape              Param #   \n",
            "=================================================================\n",
            "embedding_16 (Embedding)     (None, 2900, 200)         589400    \n",
            "_________________________________________________________________\n",
            "simple_rnn_2 (SimpleRNN)     (None, 2900, 200)         80200     \n",
            "_________________________________________________________________\n",
            "simple_rnn_3 (SimpleRNN)     (None, 100)               30100     \n",
            "_________________________________________________________________\n",
            "dense_9 (Dense)              (None, 64)                6464      \n",
            "_________________________________________________________________\n",
            "batch_normalization_4 (Batch (None, 64)                256       \n",
            "_________________________________________________________________\n",
            "activation_4 (Activation)    (None, 64)                0         \n",
            "_________________________________________________________________\n",
            "dense_10 (Dense)             (None, 52)                3380      \n",
            "=================================================================\n",
            "Total params: 709,800\n",
            "Trainable params: 120,272\n",
            "Non-trainable params: 589,528\n",
            "_________________________________________________________________\n"
          ],
          "name": "stdout"
        }
      ]
    },
    {
      "cell_type": "code",
      "metadata": {
        "id": "1u8h30aMzbj6",
        "colab_type": "code",
        "colab": {
          "base_uri": "https://localhost:8080/",
          "height": 697
        },
        "outputId": "d2ebd403-1c15-47d2-d85f-0ed3c1686a98"
      },
      "source": [
        "test_acc = train_deep_model(rnn_so_200_model, X_train_seq_pad, y_train_cate, X_test_seq_pad, y_test_cate, \n",
        "                             epochs, batch_size, lr, Lambda, callback)\n"
      ],
      "execution_count": 113,
      "outputs": [
        {
          "output_type": "stream",
          "text": [
            "Epoch 1/20\n",
            "31/31 [==============================] - 171s 6s/step - loss: 2.6370 - accuracy: 0.4358 - val_loss: 2.9974 - val_accuracy: 0.4918 - lr: 0.0100\n",
            "Epoch 2/20\n",
            "31/31 [==============================] - 170s 5s/step - loss: 2.1934 - accuracy: 0.4991 - val_loss: 2.8046 - val_accuracy: 0.4980 - lr: 0.0100\n",
            "Epoch 3/20\n",
            "31/31 [==============================] - 170s 5s/step - loss: 2.0292 - accuracy: 0.5183 - val_loss: 2.4731 - val_accuracy: 0.5000 - lr: 0.0100\n",
            "Epoch 4/20\n",
            "31/31 [==============================] - 172s 6s/step - loss: 1.9606 - accuracy: 0.5191 - val_loss: 2.6605 - val_accuracy: 0.5102 - lr: 0.0100\n",
            "Epoch 5/20\n",
            "31/31 [==============================] - 168s 5s/step - loss: 1.8872 - accuracy: 0.5309 - val_loss: 2.6539 - val_accuracy: 0.5174 - lr: 0.0100\n",
            "Epoch 6/20\n",
            "31/31 [==============================] - 168s 5s/step - loss: 1.8821 - accuracy: 0.5235 - val_loss: 2.4592 - val_accuracy: 0.5082 - lr: 0.0100\n",
            "Epoch 7/20\n",
            "31/31 [==============================] - 171s 6s/step - loss: 1.7443 - accuracy: 0.5422 - val_loss: 2.6538 - val_accuracy: 0.5102 - lr: 0.0100\n",
            "Epoch 8/20\n",
            "31/31 [==============================] - 171s 6s/step - loss: 1.6946 - accuracy: 0.5517 - val_loss: 2.5901 - val_accuracy: 0.5010 - lr: 0.0100\n",
            "Epoch 9/20\n",
            "31/31 [==============================] - 170s 5s/step - loss: 1.6304 - accuracy: 0.5660 - val_loss: 2.9387 - val_accuracy: 0.5133 - lr: 0.0100\n",
            "Epoch 10/20\n",
            "31/31 [==============================] - 169s 5s/step - loss: 1.6082 - accuracy: 0.5627 - val_loss: 2.6879 - val_accuracy: 0.5000 - lr: 0.0100\n",
            "Epoch 11/20\n",
            "31/31 [==============================] - 171s 6s/step - loss: 1.5419 - accuracy: 0.5796 - val_loss: 2.6743 - val_accuracy: 0.4611 - lr: 0.0100\n",
            "Epoch 12/20\n",
            "31/31 [==============================] - 169s 5s/step - loss: 1.5494 - accuracy: 0.5901 - val_loss: 2.7204 - val_accuracy: 0.4682 - lr: 0.0100\n",
            "Epoch 13/20\n",
            "31/31 [==============================] - 169s 5s/step - loss: 1.5131 - accuracy: 0.5852 - val_loss: 2.7594 - val_accuracy: 0.4908 - lr: 0.0100\n",
            "Epoch 14/20\n",
            "31/31 [==============================] - 169s 5s/step - loss: 1.4671 - accuracy: 0.5888 - val_loss: 2.8975 - val_accuracy: 0.4846 - lr: 0.0100\n",
            "Epoch 15/20\n",
            "31/31 [==============================] - 170s 5s/step - loss: 1.5002 - accuracy: 0.5783 - val_loss: 2.7796 - val_accuracy: 0.4764 - lr: 0.0100\n",
            "Epoch 16/20\n",
            "31/31 [==============================] - 169s 5s/step - loss: 1.4750 - accuracy: 0.5868 - val_loss: 2.8095 - val_accuracy: 0.4508 - lr: 0.0100\n",
            "Epoch 17/20\n",
            "31/31 [==============================] - 169s 5s/step - loss: 1.4545 - accuracy: 0.5822 - val_loss: 2.9128 - val_accuracy: 0.4621 - lr: 0.0100\n",
            "Epoch 18/20\n",
            "31/31 [==============================] - 170s 5s/step - loss: 1.4425 - accuracy: 0.5965 - val_loss: 2.8913 - val_accuracy: 0.4898 - lr: 0.0100\n",
            "Epoch 19/20\n",
            "31/31 [==============================] - 169s 5s/step - loss: 1.4062 - accuracy: 0.6060 - val_loss: 2.9958 - val_accuracy: 0.5082 - lr: 0.0100\n",
            "Epoch 20/20\n",
            "31/31 [==============================] - 169s 5s/step - loss: 1.4577 - accuracy: 0.5870 - val_loss: 2.8752 - val_accuracy: 0.4846 - lr: 0.0100\n"
          ],
          "name": "stdout"
        }
      ]
    },
    {
      "cell_type": "code",
      "metadata": {
        "id": "oVvzsf_-zbm7",
        "colab_type": "code",
        "colab": {
          "base_uri": "https://localhost:8080/",
          "height": 266
        },
        "outputId": "50569807-44f9-4cd6-e72e-bbaaa68301fe"
      },
      "source": [
        "dl_accuracy_df = dl_accuracy_df.append(pd.Series(['RNN-SO-200-trainable-initiallearning', \n",
        "                                            accuracy_text.format(test_acc)],\n",
        "                                           index=dl_accuracy_df.columns), ignore_index=True)\n",
        "dl_accuracy_df"
      ],
      "execution_count": 114,
      "outputs": [
        {
          "output_type": "execute_result",
          "data": {
            "text/html": [
              "<div>\n",
              "<style scoped>\n",
              "    .dataframe tbody tr th:only-of-type {\n",
              "        vertical-align: middle;\n",
              "    }\n",
              "\n",
              "    .dataframe tbody tr th {\n",
              "        vertical-align: top;\n",
              "    }\n",
              "\n",
              "    .dataframe thead th {\n",
              "        text-align: right;\n",
              "    }\n",
              "</style>\n",
              "<table border=\"1\" class=\"dataframe\">\n",
              "  <thead>\n",
              "    <tr style=\"text-align: right;\">\n",
              "      <th></th>\n",
              "      <th>Model</th>\n",
              "      <th>Accuracy</th>\n",
              "    </tr>\n",
              "  </thead>\n",
              "  <tbody>\n",
              "    <tr>\n",
              "      <th>0</th>\n",
              "      <td>CNN-Glove200-trainable-initiallearning</td>\n",
              "      <td>Test : 46.68</td>\n",
              "    </tr>\n",
              "    <tr>\n",
              "      <th>1</th>\n",
              "      <td>CNN-Glove200-trainable-true-finetuning</td>\n",
              "      <td>Test : 46.31</td>\n",
              "    </tr>\n",
              "    <tr>\n",
              "      <th>2</th>\n",
              "      <td>CNN-SO200-trainable-initiallearning</td>\n",
              "      <td>Test : 45.57</td>\n",
              "    </tr>\n",
              "    <tr>\n",
              "      <th>3</th>\n",
              "      <td>CNN-SO200-trainable-true-finetuning</td>\n",
              "      <td>Test : 47.05</td>\n",
              "    </tr>\n",
              "    <tr>\n",
              "      <th>4</th>\n",
              "      <td>RNN-Glove-200-trainable-initiallearning</td>\n",
              "      <td>Test : 48.34</td>\n",
              "    </tr>\n",
              "    <tr>\n",
              "      <th>5</th>\n",
              "      <td>RNN-Glove200-trainable-true-finetuning</td>\n",
              "      <td>Test : 9.96</td>\n",
              "    </tr>\n",
              "    <tr>\n",
              "      <th>6</th>\n",
              "      <td>RNN-SO-200-trainable-initiallearning</td>\n",
              "      <td>Test : 47.23</td>\n",
              "    </tr>\n",
              "  </tbody>\n",
              "</table>\n",
              "</div>"
            ],
            "text/plain": [
              "                                     Model       Accuracy\n",
              "0   CNN-Glove200-trainable-initiallearning  Test : 46.68 \n",
              "1   CNN-Glove200-trainable-true-finetuning  Test : 46.31 \n",
              "2      CNN-SO200-trainable-initiallearning  Test : 45.57 \n",
              "3      CNN-SO200-trainable-true-finetuning  Test : 47.05 \n",
              "4  RNN-Glove-200-trainable-initiallearning  Test : 48.34 \n",
              "5   RNN-Glove200-trainable-true-finetuning   Test : 9.96 \n",
              "6     RNN-SO-200-trainable-initiallearning  Test : 47.23 "
            ]
          },
          "metadata": {
            "tags": []
          },
          "execution_count": 114
        }
      ]
    },
    {
      "cell_type": "code",
      "metadata": {
        "id": "0CC71mWdzbsk",
        "colab_type": "code",
        "colab": {}
      },
      "source": [
        "rnn_so_200_model.save_weights(PROJECT_DIR+\"weights/rnn_so_200_weights.h5\")"
      ],
      "execution_count": 0,
      "outputs": []
    },
    {
      "cell_type": "code",
      "metadata": {
        "id": "nSgLDBTczhxe",
        "colab_type": "code",
        "colab": {}
      },
      "source": [
        "for layer in rnn_so_200_model.layers:\n",
        "  if 'embedding' in (layer.name.lower()):\n",
        "    layer.trainable = True\n",
        "    break\n"
      ],
      "execution_count": 0,
      "outputs": []
    },
    {
      "cell_type": "code",
      "metadata": {
        "id": "LF5ZBsd6zh0x",
        "colab_type": "code",
        "colab": {
          "base_uri": "https://localhost:8080/",
          "height": 731
        },
        "outputId": "6e030d64-a0cd-4033-9e3a-605c17d511b3"
      },
      "source": [
        "test_acc = train_deep_model(rnn_so_200_model, X_train_seq_pad, y_train_cate, X_test_seq_pad, y_test_cate, \n",
        "                                                epochs, batch_size, lr, Lambda, callback)\n"
      ],
      "execution_count": 117,
      "outputs": [
        {
          "output_type": "stream",
          "text": [
            "Epoch 1/20\n",
            "31/31 [==============================] - 197s 6s/step - loss: 1.5415 - accuracy: 0.5658 - val_loss: 2.8704 - val_accuracy: 0.4836 - lr: 0.0100\n",
            "Epoch 2/20\n",
            "31/31 [==============================] - 198s 6s/step - loss: 1.4194 - accuracy: 0.5991 - val_loss: 3.0340 - val_accuracy: 0.5082 - lr: 0.0100\n",
            "Epoch 3/20\n",
            "31/31 [==============================] - 195s 6s/step - loss: 1.2341 - accuracy: 0.6365 - val_loss: 2.9086 - val_accuracy: 0.4805 - lr: 0.0100\n",
            "Epoch 4/20\n",
            "31/31 [==============================] - 197s 6s/step - loss: 1.1346 - accuracy: 0.6621 - val_loss: 3.0251 - val_accuracy: 0.4846 - lr: 0.0100\n",
            "Epoch 5/20\n",
            "31/31 [==============================] - 195s 6s/step - loss: 1.1469 - accuracy: 0.6491 - val_loss: 3.0612 - val_accuracy: 0.4785 - lr: 0.0100\n",
            "Epoch 6/20\n",
            "31/31 [==============================] - 196s 6s/step - loss: 1.1556 - accuracy: 0.6639 - val_loss: 3.4235 - val_accuracy: 0.4262 - lr: 0.0100\n",
            "Epoch 7/20\n",
            "31/31 [==============================] - ETA: 0s - loss: 1.3300 - accuracy: 0.6260\n",
            "Epoch 00007: ReduceLROnPlateau reducing learning rate to 0.0009999999776482583.\n",
            "31/31 [==============================] - 198s 6s/step - loss: 1.3300 - accuracy: 0.6260 - val_loss: 3.1054 - val_accuracy: 0.4498 - lr: 0.0100\n",
            "Epoch 8/20\n",
            "31/31 [==============================] - 195s 6s/step - loss: 0.9768 - accuracy: 0.7075 - val_loss: 3.0375 - val_accuracy: 0.4529 - lr: 1.0000e-03\n",
            "Epoch 9/20\n",
            "31/31 [==============================] - 195s 6s/step - loss: 0.7878 - accuracy: 0.7780 - val_loss: 3.0225 - val_accuracy: 0.4570 - lr: 1.0000e-03\n",
            "Epoch 10/20\n",
            "31/31 [==============================] - 195s 6s/step - loss: 0.6592 - accuracy: 0.8241 - val_loss: 3.0301 - val_accuracy: 0.4600 - lr: 1.0000e-03\n",
            "Epoch 11/20\n",
            "31/31 [==============================] - 197s 6s/step - loss: 0.5745 - accuracy: 0.8506 - val_loss: 3.0527 - val_accuracy: 0.4621 - lr: 1.0000e-03\n",
            "Epoch 12/20\n",
            "31/31 [==============================] - 196s 6s/step - loss: 0.5158 - accuracy: 0.8716 - val_loss: 3.0840 - val_accuracy: 0.4631 - lr: 1.0000e-03\n",
            "Epoch 13/20\n",
            "31/31 [==============================] - 196s 6s/step - loss: 0.4691 - accuracy: 0.8859 - val_loss: 3.1046 - val_accuracy: 0.4631 - lr: 1.0000e-03\n",
            "Epoch 14/20\n",
            "31/31 [==============================] - 198s 6s/step - loss: 0.4223 - accuracy: 0.9041 - val_loss: 3.1357 - val_accuracy: 0.4559 - lr: 1.0000e-03\n",
            "Epoch 15/20\n",
            "31/31 [==============================] - 195s 6s/step - loss: 0.3789 - accuracy: 0.9205 - val_loss: 3.1759 - val_accuracy: 0.4580 - lr: 1.0000e-03\n",
            "Epoch 16/20\n",
            "31/31 [==============================] - 196s 6s/step - loss: 0.3486 - accuracy: 0.9259 - val_loss: 3.2136 - val_accuracy: 0.4559 - lr: 1.0000e-03\n",
            "Epoch 17/20\n",
            "31/31 [==============================] - 197s 6s/step - loss: 0.3198 - accuracy: 0.9321 - val_loss: 3.2623 - val_accuracy: 0.4559 - lr: 1.0000e-03\n",
            "Epoch 18/20\n",
            "31/31 [==============================] - 195s 6s/step - loss: 0.2905 - accuracy: 0.9410 - val_loss: 3.3045 - val_accuracy: 0.4539 - lr: 1.0000e-03\n",
            "Epoch 19/20\n",
            "31/31 [==============================] - 195s 6s/step - loss: 0.2739 - accuracy: 0.9469 - val_loss: 3.3382 - val_accuracy: 0.4477 - lr: 1.0000e-03\n",
            "Epoch 20/20\n",
            "31/31 [==============================] - 199s 6s/step - loss: 0.2537 - accuracy: 0.9536 - val_loss: 3.3822 - val_accuracy: 0.4518 - lr: 1.0000e-03\n"
          ],
          "name": "stdout"
        }
      ]
    },
    {
      "cell_type": "code",
      "metadata": {
        "id": "VxfdA0BxzbrA",
        "colab_type": "code",
        "colab": {
          "base_uri": "https://localhost:8080/",
          "height": 297
        },
        "outputId": "970b7380-837b-4005-8273-dbbdf9a02e17"
      },
      "source": [
        "dl_accuracy_df = dl_accuracy_df.append(pd.Series(['RNN-SO-200-trainable-true-finetuning',\n",
        "                                            accuracy_text.format(test_acc)],\n",
        "                                           index=dl_accuracy_df.columns), ignore_index=True)\n",
        "dl_accuracy_df\n"
      ],
      "execution_count": 118,
      "outputs": [
        {
          "output_type": "execute_result",
          "data": {
            "text/html": [
              "<div>\n",
              "<style scoped>\n",
              "    .dataframe tbody tr th:only-of-type {\n",
              "        vertical-align: middle;\n",
              "    }\n",
              "\n",
              "    .dataframe tbody tr th {\n",
              "        vertical-align: top;\n",
              "    }\n",
              "\n",
              "    .dataframe thead th {\n",
              "        text-align: right;\n",
              "    }\n",
              "</style>\n",
              "<table border=\"1\" class=\"dataframe\">\n",
              "  <thead>\n",
              "    <tr style=\"text-align: right;\">\n",
              "      <th></th>\n",
              "      <th>Model</th>\n",
              "      <th>Accuracy</th>\n",
              "    </tr>\n",
              "  </thead>\n",
              "  <tbody>\n",
              "    <tr>\n",
              "      <th>0</th>\n",
              "      <td>CNN-Glove200-trainable-initiallearning</td>\n",
              "      <td>Test : 46.68</td>\n",
              "    </tr>\n",
              "    <tr>\n",
              "      <th>1</th>\n",
              "      <td>CNN-Glove200-trainable-true-finetuning</td>\n",
              "      <td>Test : 46.31</td>\n",
              "    </tr>\n",
              "    <tr>\n",
              "      <th>2</th>\n",
              "      <td>CNN-SO200-trainable-initiallearning</td>\n",
              "      <td>Test : 45.57</td>\n",
              "    </tr>\n",
              "    <tr>\n",
              "      <th>3</th>\n",
              "      <td>CNN-SO200-trainable-true-finetuning</td>\n",
              "      <td>Test : 47.05</td>\n",
              "    </tr>\n",
              "    <tr>\n",
              "      <th>4</th>\n",
              "      <td>RNN-Glove-200-trainable-initiallearning</td>\n",
              "      <td>Test : 48.34</td>\n",
              "    </tr>\n",
              "    <tr>\n",
              "      <th>5</th>\n",
              "      <td>RNN-Glove200-trainable-true-finetuning</td>\n",
              "      <td>Test : 9.96</td>\n",
              "    </tr>\n",
              "    <tr>\n",
              "      <th>6</th>\n",
              "      <td>RNN-SO-200-trainable-initiallearning</td>\n",
              "      <td>Test : 47.23</td>\n",
              "    </tr>\n",
              "    <tr>\n",
              "      <th>7</th>\n",
              "      <td>RNN-SO-200-trainable-true-finetuning</td>\n",
              "      <td>Test : 44.65</td>\n",
              "    </tr>\n",
              "  </tbody>\n",
              "</table>\n",
              "</div>"
            ],
            "text/plain": [
              "                                     Model       Accuracy\n",
              "0   CNN-Glove200-trainable-initiallearning  Test : 46.68 \n",
              "1   CNN-Glove200-trainable-true-finetuning  Test : 46.31 \n",
              "2      CNN-SO200-trainable-initiallearning  Test : 45.57 \n",
              "3      CNN-SO200-trainable-true-finetuning  Test : 47.05 \n",
              "4  RNN-Glove-200-trainable-initiallearning  Test : 48.34 \n",
              "5   RNN-Glove200-trainable-true-finetuning   Test : 9.96 \n",
              "6     RNN-SO-200-trainable-initiallearning  Test : 47.23 \n",
              "7     RNN-SO-200-trainable-true-finetuning  Test : 44.65 "
            ]
          },
          "metadata": {
            "tags": []
          },
          "execution_count": 118
        }
      ]
    },
    {
      "cell_type": "code",
      "metadata": {
        "id": "vHkSTHuvz2XS",
        "colab_type": "code",
        "colab": {}
      },
      "source": [
        "rnn_so_200_model.save_weights(PROJECT_DIR+\"weights/rnn_SO_200_finetuned_weights.h5\")"
      ],
      "execution_count": 0,
      "outputs": []
    },
    {
      "cell_type": "markdown",
      "metadata": {
        "id": "PSVvNVjh0YoK",
        "colab_type": "text"
      },
      "source": [
        "####RNN - LSTM"
      ]
    },
    {
      "cell_type": "code",
      "metadata": {
        "id": "gridD_mi81xc",
        "colab_type": "code",
        "colab": {}
      },
      "source": [
        "def create_lstm(input_size, output_size, embedding=False, vocab_size=None, embed_dim=None, embedding_matrix=None):\n",
        "    model = Sequential()\n",
        "    model.add(Embedding(vocab_size, embed_dim, input_length=input_size, weights=[embedding_matrix], trainable=False))\n",
        "    model.add(SpatialDropout1D(0.2))\n",
        "\n",
        "    model.add(LSTM(200, return_sequences=True, dropout=0.2, recurrent_dropout=0.2))\n",
        "    model.add(LSTM(100, return_sequences=False, dropout=0.2, recurrent_dropout=0.2))\n",
        "\n",
        "    model.add(Dense(64, kernel_initializer='random_uniform',kernel_regularizer=regularizers.l2(Lambda)))\n",
        "    model.add(BatchNormalization())\n",
        "    model.add(Activation('relu'))\n",
        "\n",
        "    model.add(Dense(output_size, activation='softmax'))\n",
        "    return model"
      ],
      "execution_count": 0,
      "outputs": []
    },
    {
      "cell_type": "markdown",
      "metadata": {
        "id": "7LsEWuHa0WE6",
        "colab_type": "text"
      },
      "source": [
        "#####Glove"
      ]
    },
    {
      "cell_type": "code",
      "metadata": {
        "id": "yyWgbXhbXJrt",
        "colab_type": "code",
        "colab": {
          "base_uri": "https://localhost:8080/",
          "height": 425
        },
        "outputId": "f5e2026a-4d04-4127-932b-1ec34c86e7c4"
      },
      "source": [
        "lstm_glove_200_model = create_lstm(X_train_seq_pad.shape[1], y_train_cate.shape[1], \n",
        "                   True, vocab_size+1, embed_dim, glove_embedding_matrix)\n",
        "\n",
        "lstm_glove_200_model.summary()"
      ],
      "execution_count": 42,
      "outputs": [
        {
          "output_type": "stream",
          "text": [
            "Model: \"sequential\"\n",
            "_________________________________________________________________\n",
            "Layer (type)                 Output Shape              Param #   \n",
            "=================================================================\n",
            "embedding (Embedding)        (None, 2900, 200)         603200    \n",
            "_________________________________________________________________\n",
            "spatial_dropout1d (SpatialDr (None, 2900, 200)         0         \n",
            "_________________________________________________________________\n",
            "lstm (LSTM)                  (None, 2900, 200)         320800    \n",
            "_________________________________________________________________\n",
            "lstm_1 (LSTM)                (None, 100)               120400    \n",
            "_________________________________________________________________\n",
            "dense (Dense)                (None, 64)                6464      \n",
            "_________________________________________________________________\n",
            "batch_normalization (BatchNo (None, 64)                256       \n",
            "_________________________________________________________________\n",
            "activation (Activation)      (None, 64)                0         \n",
            "_________________________________________________________________\n",
            "dense_1 (Dense)              (None, 52)                3380      \n",
            "=================================================================\n",
            "Total params: 1,054,500\n",
            "Trainable params: 451,172\n",
            "Non-trainable params: 603,328\n",
            "_________________________________________________________________\n"
          ],
          "name": "stdout"
        }
      ]
    },
    {
      "cell_type": "code",
      "metadata": {
        "colab_type": "code",
        "id": "u4Q3bZC-0rRj",
        "colab": {
          "base_uri": "https://localhost:8080/",
          "height": 181
        },
        "outputId": "b617186b-4647-469f-9829-f2911a1ef800"
      },
      "source": [
        "test_acc = train_deep_model(lstm_glove_200_model, X_train_seq_pad, y_train_cate, X_test_seq_pad, y_test_cate, \n",
        "                             epochs, batch_size, lr, Lambda, callback)\n"
      ],
      "execution_count": 43,
      "outputs": [
        {
          "output_type": "error",
          "ename": "NameError",
          "evalue": "ignored",
          "traceback": [
            "\u001b[0;31m---------------------------------------------------------------------------\u001b[0m",
            "\u001b[0;31mNameError\u001b[0m                                 Traceback (most recent call last)",
            "\u001b[0;32m<ipython-input-43-2e346c5da05c>\u001b[0m in \u001b[0;36m<module>\u001b[0;34m()\u001b[0m\n\u001b[0;32m----> 1\u001b[0;31m test_acc = train_deep_model(lstm_glove_200_model, X_train_seq_pad, y_train_cate, X_test_seq_pad, y_test_cate, \n\u001b[0m\u001b[1;32m      2\u001b[0m                              epochs, batch_size, lr, Lambda, callback)\n",
            "\u001b[0;31mNameError\u001b[0m: name 'train_deep_model' is not defined"
          ]
        }
      ]
    },
    {
      "cell_type": "code",
      "metadata": {
        "id": "dUZSu2hf0oUR",
        "colab_type": "code",
        "colab": {}
      },
      "source": [
        "dl_accuracy_df = dl_accuracy_df.append(pd.Series(['LSTM-Glove-200-trainable-initiallearning', \n",
        "                                            accuracy_text.format(test_acc)],\n",
        "                                           index=dl_accuracy_df.columns), ignore_index=True)\n",
        "dl_accuracy_df"
      ],
      "execution_count": 0,
      "outputs": []
    },
    {
      "cell_type": "code",
      "metadata": {
        "id": "OAN9iB4G0oX8",
        "colab_type": "code",
        "colab": {}
      },
      "source": [
        "lstm_glove_200_model.save_weights(PROJECT_DIR+\"weights/lstm_glove_200_weights.h5\")"
      ],
      "execution_count": 0,
      "outputs": []
    },
    {
      "cell_type": "code",
      "metadata": {
        "id": "IXPxQ2dHPDHX",
        "colab_type": "code",
        "colab": {}
      },
      "source": [
        "for layer in lstm_glove_200_model.layers:\n",
        "  if 'embedding' in (layer.name.lower()):\n",
        "    layer.trainable = True\n",
        "    break\n"
      ],
      "execution_count": 0,
      "outputs": []
    },
    {
      "cell_type": "code",
      "metadata": {
        "id": "W7VPlZZx1CNM",
        "colab_type": "code",
        "colab": {}
      },
      "source": [
        "test_acc = train_deep_model(lstm_glove_200_model, X_train_seq_pad, y_train_cate, X_test_seq_pad, y_test_cate, \n",
        "                                                epochs, batch_size, lr, Lambda, callback)\n"
      ],
      "execution_count": 0,
      "outputs": []
    },
    {
      "cell_type": "code",
      "metadata": {
        "id": "5nT6sEue1CQw",
        "colab_type": "code",
        "colab": {}
      },
      "source": [
        "dl_accuracy_df = dl_accuracy_df.append(pd.Series(['LSTM-Glove-200-trainable-initiallearning', \n",
        "                                            accuracy_text.format(test_acc)],\n",
        "                                           index=dl_accuracy_df.columns), ignore_index=True)\n",
        "dl_accuracy_df"
      ],
      "execution_count": 0,
      "outputs": []
    },
    {
      "cell_type": "code",
      "metadata": {
        "id": "igAvzbGQ1GNw",
        "colab_type": "code",
        "colab": {}
      },
      "source": [
        "lstm_glove_200_model.save_weights(PROJECT_DIR+\"weights/lstm_glove_200_finetuned_weights.h5\")"
      ],
      "execution_count": 0,
      "outputs": []
    },
    {
      "cell_type": "markdown",
      "metadata": {
        "id": "zhFkGeZ1-bDL",
        "colab_type": "text"
      },
      "source": [
        "#####Stackoverflow"
      ]
    },
    {
      "cell_type": "code",
      "metadata": {
        "id": "AiwEGCy50f1F",
        "colab_type": "code",
        "colab": {}
      },
      "source": [
        "lstm_so_200_model = create_lstm(X_train_seq_pad.shape[1], y_train_cate.shape[1], \n",
        "                   True, vocab_size+1, embed_dim, so_embedding_matrix)\n",
        "\n",
        "lstm_so_200_model.summary()"
      ],
      "execution_count": 0,
      "outputs": []
    },
    {
      "cell_type": "code",
      "metadata": {
        "id": "FA_GER0J1gK-",
        "colab_type": "code",
        "colab": {}
      },
      "source": [
        "test_acc = train_deep_model(lstm_so_200_model, X_train_seq_pad, y_train_cate, X_test_seq_pad, y_test_cate, \n",
        "                             epochs, batch_size, lr, Lambda, callback)\n"
      ],
      "execution_count": 0,
      "outputs": []
    },
    {
      "cell_type": "code",
      "metadata": {
        "id": "y9Ak_XzR1gN6",
        "colab_type": "code",
        "colab": {}
      },
      "source": [
        "dl_accuracy_df = dl_accuracy_df.append(pd.Series(['LSTM-SO-200-trainable-initiallearning', \n",
        "                                            accuracy_text.format(test_acc)],\n",
        "                                           index=dl_accuracy_df.columns), ignore_index=True)\n",
        "dl_accuracy_df"
      ],
      "execution_count": 0,
      "outputs": []
    },
    {
      "cell_type": "code",
      "metadata": {
        "id": "cL6eHva51gYG",
        "colab_type": "code",
        "colab": {}
      },
      "source": [
        "lstm_so_200_model.save_weights(PROJECT_DIR+\"weights/lstm_so_200_weights.h5\")"
      ],
      "execution_count": 0,
      "outputs": []
    },
    {
      "cell_type": "code",
      "metadata": {
        "id": "1d06Wr-O1gUk",
        "colab_type": "code",
        "colab": {}
      },
      "source": [
        "for layer in lstm_so_200_model.layers:\n",
        "  if 'embedding' in (layer.name.lower()):\n",
        "    layer.trainable = True\n",
        "    break\n"
      ],
      "execution_count": 0,
      "outputs": []
    },
    {
      "cell_type": "code",
      "metadata": {
        "id": "5Wuvr-Y91gSD",
        "colab_type": "code",
        "colab": {}
      },
      "source": [
        "test_acc = train_deep_model(lstm_so_200_model, X_train_seq_pad, y_train_cate, X_test_seq_pad, y_test_cate, \n",
        "                                                epochs, batch_size, lr, Lambda, callback)\n"
      ],
      "execution_count": 0,
      "outputs": []
    },
    {
      "cell_type": "code",
      "metadata": {
        "id": "-210rpLY1rts",
        "colab_type": "code",
        "colab": {}
      },
      "source": [
        "dl_accuracy_df = dl_accuracy_df.append(pd.Series(['LSTM-SO-200-trainable-initiallearning', \n",
        "                                            accuracy_text.format(test_acc)],\n",
        "                                           index=dl_accuracy_df.columns), ignore_index=True)\n",
        "dl_accuracy_df"
      ],
      "execution_count": 0,
      "outputs": []
    },
    {
      "cell_type": "code",
      "metadata": {
        "id": "7etBA3si1rxK",
        "colab_type": "code",
        "colab": {}
      },
      "source": [
        "lstm_so_200_model.save_weights(PROJECT_DIR+\"weights/lstm_so_200_finetuned_weights.h5\")"
      ],
      "execution_count": 0,
      "outputs": []
    },
    {
      "cell_type": "markdown",
      "metadata": {
        "id": "VWBGjeir-cZR",
        "colab_type": "text"
      },
      "source": [
        "####RNN- BiLSTM"
      ]
    },
    {
      "cell_type": "code",
      "metadata": {
        "id": "pvfNWCn-_mbl",
        "colab_type": "code",
        "colab": {}
      },
      "source": [
        "def create_bi_lstm(input_size, output_size, embedding=False, vocab_size=None, embed_dim=None, embedding_matrix=None):\n",
        "    model = Sequential()\n",
        "    model.add(Embedding(vocab_size, embed_dim, input_length=input_size, weights=[embedding_matrix], trainable=False))\n",
        "\n",
        "    model.add(Bidirectional(LSTM(128, return_sequences=True, recurrent_dropout=0.1, dropout=0.1))),\n",
        "    model.add(Bidirectional(LSTM(64, return_sequences=False, recurrent_dropout=0.1, dropout=0.1))),\n",
        "\n",
        "    model.add(Dense(64, kernel_initializer='random_uniform',kernel_regularizer=regularizers.l2(Lambda)))\n",
        "    model.add(BatchNormalization())\n",
        "    model.add(Activation('relu'))\n",
        "\n",
        "    model.add(Dense(output_size, activation='softmax'))\n",
        "    return model\n"
      ],
      "execution_count": 0,
      "outputs": []
    },
    {
      "cell_type": "markdown",
      "metadata": {
        "id": "yex4l0Gt4lv8",
        "colab_type": "text"
      },
      "source": [
        "#####Glove"
      ]
    },
    {
      "cell_type": "code",
      "metadata": {
        "colab_type": "code",
        "id": "CcHpUOol4zgY",
        "colab": {}
      },
      "source": [
        "bi_lstm_glove_200_model = create_bi_lstm(X_train_seq_pad.shape[1], y_train_cate.shape[1], \n",
        "                   True, vocab_size+1, embed_dim, glove_embedding_matrix)\n",
        "\n",
        "bi_lstm_glove_200_model.summary()"
      ],
      "execution_count": 0,
      "outputs": []
    },
    {
      "cell_type": "code",
      "metadata": {
        "colab_type": "code",
        "id": "mwYEryfA4zga",
        "colab": {}
      },
      "source": [
        "test_acc = train_deep_model(bi_lstm_glove_200_model, X_train_seq_pad, y_train_cate, X_test_seq_pad, y_test_cate, \n",
        "                             epochs, batch_size, lr, Lambda, callback)\n"
      ],
      "execution_count": 0,
      "outputs": []
    },
    {
      "cell_type": "code",
      "metadata": {
        "colab_type": "code",
        "id": "_A-DEl3o4zgc",
        "colab": {}
      },
      "source": [
        "dl_accuracy_df = dl_accuracy_df.append(pd.Series(['Bi-LSTM-Glove-200-trainable-initiallearning', \n",
        "                                            accuracy_text.format(test_acc)],\n",
        "                                           index=dl_accuracy_df.columns), ignore_index=True)\n",
        "dl_accuracy_df"
      ],
      "execution_count": 0,
      "outputs": []
    },
    {
      "cell_type": "code",
      "metadata": {
        "colab_type": "code",
        "id": "KapksXEV4zgd",
        "colab": {}
      },
      "source": [
        "bi_lstm_glove_200_model.save_weights(PROJECT_DIR+\"weights/bi_lstm_glove_200_weights.h5\")"
      ],
      "execution_count": 0,
      "outputs": []
    },
    {
      "cell_type": "code",
      "metadata": {
        "colab_type": "code",
        "id": "9qfaigbB4zge",
        "colab": {}
      },
      "source": [
        "for layer in bi_lstm_glove_200_model.layers:\n",
        "  if 'embedding' in (layer.name.lower()):\n",
        "    layer.trainable = True\n",
        "    break\n"
      ],
      "execution_count": 0,
      "outputs": []
    },
    {
      "cell_type": "code",
      "metadata": {
        "colab_type": "code",
        "id": "mSdfAh0n4zgg",
        "colab": {}
      },
      "source": [
        "test_acc = train_deep_model(bi_lstm_glove_200_model, X_train_seq_pad, y_train_cate, X_test_seq_pad, y_test_cate, \n",
        "                                                epochs, batch_size, lr, Lambda, callback)\n"
      ],
      "execution_count": 0,
      "outputs": []
    },
    {
      "cell_type": "code",
      "metadata": {
        "colab_type": "code",
        "id": "hGHqlqfe4zgi",
        "colab": {}
      },
      "source": [
        "dl_accuracy_df = dl_accuracy_df.append(pd.Series(['Bi-LSTM-Glove-200-trainable-initiallearning', \n",
        "                                            accuracy_text.format(test_acc)],\n",
        "                                           index=dl_accuracy_df.columns), ignore_index=True)\n",
        "dl_accuracy_df"
      ],
      "execution_count": 0,
      "outputs": []
    },
    {
      "cell_type": "code",
      "metadata": {
        "colab_type": "code",
        "id": "Lfx0OR4b4zgk",
        "colab": {}
      },
      "source": [
        "bi_lstm_glove_200_model.save_weights(PROJECT_DIR+\"weights/bi_lstm_glove_200_finetuned_weights.h5\")"
      ],
      "execution_count": 0,
      "outputs": []
    },
    {
      "cell_type": "markdown",
      "metadata": {
        "id": "JCI4JiUx4lzk",
        "colab_type": "text"
      },
      "source": [
        "#####Stackoverflow"
      ]
    },
    {
      "cell_type": "code",
      "metadata": {
        "colab_type": "code",
        "id": "7oMTsIRM5X1O",
        "colab": {}
      },
      "source": [
        "bi_lstm_so_200_model = create_bi_lstm(X_train_seq_pad.shape[1], y_train_cate.shape[1], \n",
        "                   True, vocab_size+1, embed_dim, so_embedding_matrix)\n",
        "\n",
        "bi_lstm_so_200_model.summary()"
      ],
      "execution_count": 0,
      "outputs": []
    },
    {
      "cell_type": "code",
      "metadata": {
        "colab_type": "code",
        "id": "4Qj4wxDr5X1S",
        "colab": {}
      },
      "source": [
        "test_acc = train_deep_model(bi_lstm_so_200_model, X_train_seq_pad, y_train_cate, X_test_seq_pad, y_test_cate, \n",
        "                             epochs, batch_size, lr, Lambda, callback)\n"
      ],
      "execution_count": 0,
      "outputs": []
    },
    {
      "cell_type": "code",
      "metadata": {
        "colab_type": "code",
        "id": "NlUirXpx5X1U",
        "colab": {}
      },
      "source": [
        "dl_accuracy_df = dl_accuracy_df.append(pd.Series(['Bi-LSTM-SO-200-trainable-initiallearning', \n",
        "                                            accuracy_text.format(test_acc)],\n",
        "                                           index=dl_accuracy_df.columns), ignore_index=True)\n",
        "dl_accuracy_df"
      ],
      "execution_count": 0,
      "outputs": []
    },
    {
      "cell_type": "code",
      "metadata": {
        "colab_type": "code",
        "id": "UqS4J-bc5X1V",
        "colab": {}
      },
      "source": [
        "bi_lstm_so_200_model.save_weights(PROJECT_DIR+\"weights/bi_lstm_so_200_weights.h5\")"
      ],
      "execution_count": 0,
      "outputs": []
    },
    {
      "cell_type": "code",
      "metadata": {
        "colab_type": "code",
        "id": "FwGRf55-5X1Y",
        "colab": {}
      },
      "source": [
        "for layer in lstm_so_200_model.layers:\n",
        "  if 'embedding' in (layer.name.lower()):\n",
        "    layer.trainable = True\n",
        "    break\n"
      ],
      "execution_count": 0,
      "outputs": []
    },
    {
      "cell_type": "code",
      "metadata": {
        "colab_type": "code",
        "id": "jEwrt-nW5X1Z",
        "colab": {}
      },
      "source": [
        "test_acc = train_deep_model(bi_lstm_so_200_model, X_train_seq_pad, y_train_cate, X_test_seq_pad, y_test_cate, \n",
        "                                                epochs, batch_size, lr, Lambda, callback)\n"
      ],
      "execution_count": 0,
      "outputs": []
    },
    {
      "cell_type": "code",
      "metadata": {
        "colab_type": "code",
        "id": "dgKcWETi5X1b",
        "colab": {}
      },
      "source": [
        "dl_accuracy_df = dl_accuracy_df.append(pd.Series(['Bi-LSTM-SO-200-trainable-initiallearning', \n",
        "                                            accuracy_text.format(test_acc)],\n",
        "                                           index=dl_accuracy_df.columns), ignore_index=True)\n",
        "dl_accuracy_df"
      ],
      "execution_count": 0,
      "outputs": []
    },
    {
      "cell_type": "code",
      "metadata": {
        "colab_type": "code",
        "id": "gMmtrJGN5X1d",
        "colab": {}
      },
      "source": [
        "bi_lstm_so_200_model.save_weights(PROJECT_DIR+\"weights/bi_lstm_so_200_finetuned_weights.h5\")"
      ],
      "execution_count": 0,
      "outputs": []
    },
    {
      "cell_type": "markdown",
      "metadata": {
        "id": "9KBDRB0UwBcI",
        "colab_type": "text"
      },
      "source": [
        "####RNN - GRU"
      ]
    },
    {
      "cell_type": "code",
      "metadata": {
        "colab_type": "code",
        "id": "PUWBplnY5veI",
        "colab": {}
      },
      "source": [
        "def create_rnn_gru(input_size, output_size, embedding=False, vocab_size=None, embed_dim=None, embedding_matrix=None):\n",
        "    model = Sequential()\n",
        "    model.add(Embedding(vocab_size, embed_dim, input_length=input_size, weights=[embedding_matrix], trainable=False))\n",
        "\n",
        "    model.add(GRU(200, return_sequences=True, recurrent_dropout=0.1, dropout=0.1)),\n",
        "    model.add(GRU(200, return_sequences=False, recurrent_dropout=0.1, dropout=0.1)),\n",
        "\n",
        "    model.add(Dense(64, kernel_initializer='random_uniform',kernel_regularizer=regularizers.l2(Lambda)))\n",
        "    model.add(BatchNormalization())\n",
        "    model.add(Activation('relu'))\n",
        "\n",
        "    model.add(Dense(output_size, activation='softmax'))\n",
        "    return model\n"
      ],
      "execution_count": 0,
      "outputs": []
    },
    {
      "cell_type": "markdown",
      "metadata": {
        "colab_type": "text",
        "id": "CzKBp3lG6GWU"
      },
      "source": [
        "#####Glove"
      ]
    },
    {
      "cell_type": "code",
      "metadata": {
        "colab_type": "code",
        "id": "8RPeMbX36GWV",
        "colab": {}
      },
      "source": [
        "rnn_gru_glove_200_model = create_rnn_gru(X_train_seq_pad.shape[1], y_train_cate.shape[1], \n",
        "                   True, vocab_size+1, embed_dim, glove_embedding_matrix)\n",
        "\n",
        "rnn_gru_glove_200_model.summary()"
      ],
      "execution_count": 0,
      "outputs": []
    },
    {
      "cell_type": "code",
      "metadata": {
        "colab_type": "code",
        "id": "fpAtAyXC6GWZ",
        "colab": {}
      },
      "source": [
        "test_acc = train_deep_model(rnn_gru_glove_200_model, X_train_seq_pad, y_train_cate, X_test_seq_pad, y_test_cate, \n",
        "                             epochs, batch_size, lr, Lambda, callback)\n"
      ],
      "execution_count": 0,
      "outputs": []
    },
    {
      "cell_type": "code",
      "metadata": {
        "colab_type": "code",
        "id": "kLl5bgQY6GWc",
        "colab": {}
      },
      "source": [
        "dl_accuracy_df = dl_accuracy_df.append(pd.Series(['RNN-GRU-Glove-200-trainable-initiallearning', \n",
        "                                            accuracy_text.format(test_acc)],\n",
        "                                           index=dl_accuracy_df.columns), ignore_index=True)\n",
        "dl_accuracy_df"
      ],
      "execution_count": 0,
      "outputs": []
    },
    {
      "cell_type": "code",
      "metadata": {
        "colab_type": "code",
        "id": "YZoFG5Ec6GWf",
        "colab": {}
      },
      "source": [
        "rnn_gru_glove_200_model.save_weights(PROJECT_DIR+\"weights/rnn_gru_glove_200_weights.h5\")"
      ],
      "execution_count": 0,
      "outputs": []
    },
    {
      "cell_type": "code",
      "metadata": {
        "colab_type": "code",
        "id": "3N6gi8Bj6GWi",
        "colab": {}
      },
      "source": [
        "for layer in rnn_gru_glove_200_model.layers:\n",
        "  if 'embedding' in (layer.name.lower()):\n",
        "    layer.trainable = True\n",
        "    break\n"
      ],
      "execution_count": 0,
      "outputs": []
    },
    {
      "cell_type": "code",
      "metadata": {
        "colab_type": "code",
        "id": "Gc25yQ706GWl",
        "colab": {}
      },
      "source": [
        "test_acc = train_deep_model(rnn_gru_glove_200_model, X_train_seq_pad, y_train_cate, X_test_seq_pad, y_test_cate, \n",
        "                                                epochs, batch_size, lr, Lambda, callback)\n"
      ],
      "execution_count": 0,
      "outputs": []
    },
    {
      "cell_type": "code",
      "metadata": {
        "colab_type": "code",
        "id": "KVU-yy4T6GWm",
        "colab": {}
      },
      "source": [
        "dl_accuracy_df = dl_accuracy_df.append(pd.Series(['RNN-GRU-Glove-200-trainable-initiallearning', \n",
        "                                            accuracy_text.format(test_acc)],\n",
        "                                           index=dl_accuracy_df.columns), ignore_index=True)\n",
        "dl_accuracy_df"
      ],
      "execution_count": 0,
      "outputs": []
    },
    {
      "cell_type": "code",
      "metadata": {
        "colab_type": "code",
        "id": "bBP3uXu86GWn",
        "colab": {}
      },
      "source": [
        "rnn_gru_glove_200_model.save_weights(PROJECT_DIR+\"weights/rnn_gru_glove_200_finetuned_weights.h5\")"
      ],
      "execution_count": 0,
      "outputs": []
    },
    {
      "cell_type": "markdown",
      "metadata": {
        "colab_type": "text",
        "id": "EhDc2vHm6GWr"
      },
      "source": [
        "#####Stackoverflow"
      ]
    },
    {
      "cell_type": "code",
      "metadata": {
        "colab_type": "code",
        "id": "tb6xGsEI6GWr",
        "colab": {}
      },
      "source": [
        "rnn_gru_so_200_model = create_rnn_gru(X_train_seq_pad.shape[1], y_train_cate.shape[1], \n",
        "                   True, vocab_size+1, embed_dim, so_embedding_matrix)\n",
        "\n",
        "rnn_gru_so_200_model.summary()"
      ],
      "execution_count": 0,
      "outputs": []
    },
    {
      "cell_type": "code",
      "metadata": {
        "colab_type": "code",
        "id": "1xtIjtp96GWt",
        "colab": {}
      },
      "source": [
        "test_acc = train_deep_model(bi_lstm_so_200_model, X_train_seq_pad, y_train_cate, X_test_seq_pad, y_test_cate, \n",
        "                             epochs, batch_size, lr, Lambda, callback)\n"
      ],
      "execution_count": 0,
      "outputs": []
    },
    {
      "cell_type": "code",
      "metadata": {
        "colab_type": "code",
        "id": "92p1dpBZ6GWu",
        "colab": {}
      },
      "source": [
        "dl_accuracy_df = dl_accuracy_df.append(pd.Series(['RNN-GRU-SO-200-trainable-initiallearning', \n",
        "                                            accuracy_text.format(test_acc)],\n",
        "                                           index=dl_accuracy_df.columns), ignore_index=True)\n",
        "dl_accuracy_df"
      ],
      "execution_count": 0,
      "outputs": []
    },
    {
      "cell_type": "code",
      "metadata": {
        "colab_type": "code",
        "id": "n2ID9FTS6GWw",
        "colab": {}
      },
      "source": [
        "rnn_gru_so_200_model.save_weights(PROJECT_DIR+\"weights/rnn_gru_so_200_weights.h5\")"
      ],
      "execution_count": 0,
      "outputs": []
    },
    {
      "cell_type": "code",
      "metadata": {
        "colab_type": "code",
        "id": "Prumg_w36GWx",
        "colab": {}
      },
      "source": [
        "for layer in rnn_gru_so_200_model.layers:\n",
        "  if 'embedding' in (layer.name.lower()):\n",
        "    layer.trainable = True\n",
        "    break\n"
      ],
      "execution_count": 0,
      "outputs": []
    },
    {
      "cell_type": "code",
      "metadata": {
        "colab_type": "code",
        "id": "-36B3rqh6GWz",
        "colab": {}
      },
      "source": [
        "test_acc = train_deep_model(rnn_gru_so_200_model, X_train_seq_pad, y_train_cate, X_test_seq_pad, y_test_cate, \n",
        "                                                epochs, batch_size, lr, Lambda, callback)\n"
      ],
      "execution_count": 0,
      "outputs": []
    },
    {
      "cell_type": "code",
      "metadata": {
        "colab_type": "code",
        "id": "37eqyH-p6GW0",
        "colab": {}
      },
      "source": [
        "dl_accuracy_df = dl_accuracy_df.append(pd.Series(['RNN-GRU-SO-200-trainable-initiallearning', \n",
        "                                            accuracy_text.format(test_acc)],\n",
        "                                           index=dl_accuracy_df.columns), ignore_index=True)\n",
        "dl_accuracy_df"
      ],
      "execution_count": 0,
      "outputs": []
    },
    {
      "cell_type": "code",
      "metadata": {
        "colab_type": "code",
        "id": "_LD2i_dZ6GW2",
        "colab": {}
      },
      "source": [
        "rnn_gru_so_200_model.save_weights(PROJECT_DIR+\"weights/rnn_gru_so_200_finetuned_weights.h5\")"
      ],
      "execution_count": 0,
      "outputs": []
    }
  ]
}