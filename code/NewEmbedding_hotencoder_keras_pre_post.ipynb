{
  "nbformat": 4,
  "nbformat_minor": 0,
  "metadata": {
    "colab": {
      "name": "NewEmbedding_hotencoder.ipynb",
      "provenance": [],
      "collapsed_sections": []
    },
    "kernelspec": {
      "name": "python3",
      "display_name": "Python 3"
    }
  },
  "cells": [
    {
      "cell_type": "code",
      "metadata": {
        "id": "aQNehRykEju9",
        "colab_type": "code",
        "colab": {}
      },
      "source": [
        "#!!pip uninstall tensorflow\n",
        "#!pip install tensorflow==2.1.0\n"
      ],
      "execution_count": 0,
      "outputs": []
    },
    {
      "cell_type": "code",
      "metadata": {
        "id": "KTEsLA0vF0TE",
        "colab_type": "code",
        "outputId": "018b93d9-5453-4cb8-f2d5-b409fe7a9ba8",
        "colab": {
          "base_uri": "https://localhost:8080/",
          "height": 126
        }
      },
      "source": [
        "from google.colab import drive\n",
        "drive.mount('/content/drive/')"
      ],
      "execution_count": 3,
      "outputs": [
        {
          "output_type": "stream",
          "text": [
            "Go to this URL in a browser: https://accounts.google.com/o/oauth2/auth?client_id=947318989803-6bn6qk8qdgf4n4g3pfee6491hc0brc4i.apps.googleusercontent.com&redirect_uri=urn%3aietf%3awg%3aoauth%3a2.0%3aoob&response_type=code&scope=email%20https%3a%2f%2fwww.googleapis.com%2fauth%2fdocs.test%20https%3a%2f%2fwww.googleapis.com%2fauth%2fdrive%20https%3a%2f%2fwww.googleapis.com%2fauth%2fdrive.photos.readonly%20https%3a%2f%2fwww.googleapis.com%2fauth%2fpeopleapi.readonly\n",
            "\n",
            "Enter your authorization code:\n",
            "··········\n",
            "Mounted at /content/drive/\n"
          ],
          "name": "stdout"
        }
      ]
    },
    {
      "cell_type": "code",
      "metadata": {
        "id": "Hogv62O1F2tM",
        "colab_type": "code",
        "colab": {}
      },
      "source": [
        "PROJECT_DIR = \"/content/drive/My Drive/Colab Notebooks/cleansed_data.csv\"\n",
        "DATA_FILE_NAME = 'My Drive/Colab Notebooks/input.xlsx'\n",
        "CLEANSED_FILE_DIR = '/My Drive/Colab Notebooks/'"
      ],
      "execution_count": 0,
      "outputs": []
    },
    {
      "cell_type": "code",
      "metadata": {
        "id": "3Uv4c072H8ok",
        "colab_type": "code",
        "colab": {}
      },
      "source": [
        "import pandas as pd\n",
        "import numpy as np\n",
        "import matplotlib.pyplot as plt\n",
        "import seaborn as sns\n",
        "import string\n",
        "from sklearn.preprocessing import LabelEncoder\n",
        "from sklearn.preprocessing import OneHotEncoder\n",
        "from sklearn.model_selection import train_test_split\n",
        "from sklearn.feature_extraction.text import CountVectorizer,TfidfVectorizer\n",
        "\n",
        "\n",
        "import warnings\n",
        "warnings.filterwarnings('ignore')"
      ],
      "execution_count": 0,
      "outputs": []
    },
    {
      "cell_type": "code",
      "metadata": {
        "id": "Crcb7k6-IGbL",
        "colab_type": "code",
        "colab": {}
      },
      "source": [
        "import keras\n",
        "from tensorflow.keras import backend as K\n",
        "from tensorflow.keras.preprocessing.text import Tokenizer\n",
        "from tensorflow.keras.preprocessing.sequence import pad_sequences\n",
        "from tensorflow.keras.layers import Dense, LSTM, Dropout, Embedding , Activation, Bidirectional, Flatten, BatchNormalization\n",
        "from tensorflow.keras.models import Model, Sequential\n",
        "from tensorflow.keras.optimizers import Adam\n",
        "from tensorflow.keras.callbacks import ModelCheckpoint, EarlyStopping\n"
      ],
      "execution_count": 0,
      "outputs": []
    },
    {
      "cell_type": "code",
      "metadata": {
        "id": "aQpKMRAcIZo6",
        "colab_type": "code",
        "colab": {}
      },
      "source": [
        "def load_doc(filename):\n",
        "  if(filename.endswith('.xlsx')):\n",
        "    data_df = pd.read_excel(filename, lines=True)\n",
        "  elif(filename.endswith('.csv')):\n",
        "    data_df = pd.read_csv(filename, keep_default_na = False)\n",
        "  return data_df"
      ],
      "execution_count": 0,
      "outputs": []
    },
    {
      "cell_type": "code",
      "metadata": {
        "id": "2CoyNMVRIdYk",
        "colab_type": "code",
        "colab": {}
      },
      "source": [
        "def encode_target(target):\n",
        "  le = LabelEncoder()\n",
        "  return le.fit_transform(target), le\n",
        "\n",
        "def decode_prediction(pred, encoder):\n",
        "  return encoder.inverse_transform(pred)"
      ],
      "execution_count": 0,
      "outputs": []
    },
    {
      "cell_type": "code",
      "metadata": {
        "id": "uPbVspqMIiu4",
        "colab_type": "code",
        "outputId": "c9792a73-40ff-4551-9b35-c52179d4560e",
        "colab": {
          "base_uri": "https://localhost:8080/",
          "height": 35
        }
      },
      "source": [
        "cleansed_data_df = load_doc(\"/content/drive/My Drive/Colab Notebooks/cleansed_data.csv\")\n",
        "print('shape of Data : ', cleansed_data_df.shape)"
      ],
      "execution_count": 9,
      "outputs": [
        {
          "output_type": "stream",
          "text": [
            "shape of Data :  (5419, 5)\n"
          ],
          "name": "stdout"
        }
      ]
    },
    {
      "cell_type": "code",
      "metadata": {
        "id": "cPtAl6Q5Izji",
        "colab_type": "code",
        "outputId": "98fd2b5f-68aa-45d1-f723-c84c5cff7040",
        "colab": {
          "base_uri": "https://localhost:8080/",
          "height": 170
        }
      },
      "source": [
        "cleansed_data_df.describe()"
      ],
      "execution_count": 10,
      "outputs": [
        {
          "output_type": "execute_result",
          "data": {
            "text/html": [
              "<div>\n",
              "<style scoped>\n",
              "    .dataframe tbody tr th:only-of-type {\n",
              "        vertical-align: middle;\n",
              "    }\n",
              "\n",
              "    .dataframe tbody tr th {\n",
              "        vertical-align: top;\n",
              "    }\n",
              "\n",
              "    .dataframe thead th {\n",
              "        text-align: right;\n",
              "    }\n",
              "</style>\n",
              "<table border=\"1\" class=\"dataframe\">\n",
              "  <thead>\n",
              "    <tr style=\"text-align: right;\">\n",
              "      <th></th>\n",
              "      <th>short_description</th>\n",
              "      <th>description</th>\n",
              "      <th>combined_desc</th>\n",
              "      <th>caller</th>\n",
              "      <th>assignment_group</th>\n",
              "    </tr>\n",
              "  </thead>\n",
              "  <tbody>\n",
              "    <tr>\n",
              "      <th>count</th>\n",
              "      <td>5419</td>\n",
              "      <td>5419</td>\n",
              "      <td>5419</td>\n",
              "      <td>5419</td>\n",
              "      <td>5419</td>\n",
              "    </tr>\n",
              "    <tr>\n",
              "      <th>unique</th>\n",
              "      <td>3976</td>\n",
              "      <td>5419</td>\n",
              "      <td>5419</td>\n",
              "      <td>2351</td>\n",
              "      <td>52</td>\n",
              "    </tr>\n",
              "    <tr>\n",
              "      <th>top</th>\n",
              "      <td></td>\n",
              "      <td>kabel</td>\n",
              "      <td>half gone applied half gone applied</td>\n",
              "      <td>rbozivdq gmlhrtvp</td>\n",
              "      <td>GRP_0</td>\n",
              "    </tr>\n",
              "    <tr>\n",
              "      <th>freq</th>\n",
              "      <td>306</td>\n",
              "      <td>1</td>\n",
              "      <td>1</td>\n",
              "      <td>46</td>\n",
              "      <td>2619</td>\n",
              "    </tr>\n",
              "  </tbody>\n",
              "</table>\n",
              "</div>"
            ],
            "text/plain": [
              "       short_description description  ...             caller assignment_group\n",
              "count               5419        5419  ...               5419             5419\n",
              "unique              3976        5419  ...               2351               52\n",
              "top                            kabel  ...  rbozivdq gmlhrtvp            GRP_0\n",
              "freq                 306           1  ...                 46             2619\n",
              "\n",
              "[4 rows x 5 columns]"
            ]
          },
          "metadata": {
            "tags": []
          },
          "execution_count": 10
        }
      ]
    },
    {
      "cell_type": "code",
      "metadata": {
        "id": "M5rlps6XI6sC",
        "colab_type": "code",
        "outputId": "6ef8d1f7-2215-4a90-b5d0-d429289a9493",
        "colab": {
          "base_uri": "https://localhost:8080/",
          "height": 200
        }
      },
      "source": [
        "cleansed_data_df.head()"
      ],
      "execution_count": 11,
      "outputs": [
        {
          "output_type": "execute_result",
          "data": {
            "text/html": [
              "<div>\n",
              "<style scoped>\n",
              "    .dataframe tbody tr th:only-of-type {\n",
              "        vertical-align: middle;\n",
              "    }\n",
              "\n",
              "    .dataframe tbody tr th {\n",
              "        vertical-align: top;\n",
              "    }\n",
              "\n",
              "    .dataframe thead th {\n",
              "        text-align: right;\n",
              "    }\n",
              "</style>\n",
              "<table border=\"1\" class=\"dataframe\">\n",
              "  <thead>\n",
              "    <tr style=\"text-align: right;\">\n",
              "      <th></th>\n",
              "      <th>short_description</th>\n",
              "      <th>description</th>\n",
              "      <th>combined_desc</th>\n",
              "      <th>caller</th>\n",
              "      <th>assignment_group</th>\n",
              "    </tr>\n",
              "  </thead>\n",
              "  <tbody>\n",
              "    <tr>\n",
              "      <th>0</th>\n",
              "      <td>login issue</td>\n",
              "      <td>user manager checked user ad reset password ad...</td>\n",
              "      <td>login issue user manager checked user ad reset...</td>\n",
              "      <td>spxjnwir pjlcoqds</td>\n",
              "      <td>GRP_0</td>\n",
              "    </tr>\n",
              "    <tr>\n",
              "      <th>1</th>\n",
              "      <td>outlook</td>\n",
              "      <td>received team not outlook calendar somebody ad...</td>\n",
              "      <td>outlook received team not outlook calendar som...</td>\n",
              "      <td>hmjdrvpb komuaywn</td>\n",
              "      <td>GRP_0</td>\n",
              "    </tr>\n",
              "    <tr>\n",
              "      <th>2</th>\n",
              "      <td>cant log</td>\n",
              "      <td>received cannot log</td>\n",
              "      <td>cant log received cannot log</td>\n",
              "      <td>eylqgodm ybqkwiam</td>\n",
              "      <td>GRP_0</td>\n",
              "    </tr>\n",
              "    <tr>\n",
              "      <th>3</th>\n",
              "      <td>unable access page</td>\n",
              "      <td>unable access page</td>\n",
              "      <td>unable access page unable access page</td>\n",
              "      <td>xbkucsvz gcpydteq</td>\n",
              "      <td>GRP_0</td>\n",
              "    </tr>\n",
              "    <tr>\n",
              "      <th>4</th>\n",
              "      <td>error</td>\n",
              "      <td>error</td>\n",
              "      <td>error error</td>\n",
              "      <td>owlgqjme qhcozdfx</td>\n",
              "      <td>GRP_0</td>\n",
              "    </tr>\n",
              "  </tbody>\n",
              "</table>\n",
              "</div>"
            ],
            "text/plain": [
              "    short_description  ... assignment_group\n",
              "0         login issue  ...            GRP_0\n",
              "1             outlook  ...            GRP_0\n",
              "2            cant log  ...            GRP_0\n",
              "3  unable access page  ...            GRP_0\n",
              "4               error  ...            GRP_0\n",
              "\n",
              "[5 rows x 5 columns]"
            ]
          },
          "metadata": {
            "tags": []
          },
          "execution_count": 11
        }
      ]
    },
    {
      "cell_type": "code",
      "metadata": {
        "id": "ol7yVaf6JKYZ",
        "colab_type": "code",
        "colab": {}
      },
      "source": [
        "labelencoder = LabelEncoder()\n",
        "cleansed_data_df['assignment_group'] = labelencoder.fit_transform(cleansed_data_df['assignment_group'])"
      ],
      "execution_count": 0,
      "outputs": []
    },
    {
      "cell_type": "code",
      "metadata": {
        "id": "-GS9RJGiJUyp",
        "colab_type": "code",
        "outputId": "644dcac8-02c1-4b1a-f117-185135542264",
        "colab": {
          "base_uri": "https://localhost:8080/",
          "height": 411
        }
      },
      "source": [
        "cleansed_data_df"
      ],
      "execution_count": 13,
      "outputs": [
        {
          "output_type": "execute_result",
          "data": {
            "text/html": [
              "<div>\n",
              "<style scoped>\n",
              "    .dataframe tbody tr th:only-of-type {\n",
              "        vertical-align: middle;\n",
              "    }\n",
              "\n",
              "    .dataframe tbody tr th {\n",
              "        vertical-align: top;\n",
              "    }\n",
              "\n",
              "    .dataframe thead th {\n",
              "        text-align: right;\n",
              "    }\n",
              "</style>\n",
              "<table border=\"1\" class=\"dataframe\">\n",
              "  <thead>\n",
              "    <tr style=\"text-align: right;\">\n",
              "      <th></th>\n",
              "      <th>short_description</th>\n",
              "      <th>description</th>\n",
              "      <th>combined_desc</th>\n",
              "      <th>caller</th>\n",
              "      <th>assignment_group</th>\n",
              "    </tr>\n",
              "  </thead>\n",
              "  <tbody>\n",
              "    <tr>\n",
              "      <th>0</th>\n",
              "      <td>login issue</td>\n",
              "      <td>user manager checked user ad reset password ad...</td>\n",
              "      <td>login issue user manager checked user ad reset...</td>\n",
              "      <td>spxjnwir pjlcoqds</td>\n",
              "      <td>0</td>\n",
              "    </tr>\n",
              "    <tr>\n",
              "      <th>1</th>\n",
              "      <td>outlook</td>\n",
              "      <td>received team not outlook calendar somebody ad...</td>\n",
              "      <td>outlook received team not outlook calendar som...</td>\n",
              "      <td>hmjdrvpb komuaywn</td>\n",
              "      <td>0</td>\n",
              "    </tr>\n",
              "    <tr>\n",
              "      <th>2</th>\n",
              "      <td>cant log</td>\n",
              "      <td>received cannot log</td>\n",
              "      <td>cant log received cannot log</td>\n",
              "      <td>eylqgodm ybqkwiam</td>\n",
              "      <td>0</td>\n",
              "    </tr>\n",
              "    <tr>\n",
              "      <th>3</th>\n",
              "      <td>unable access page</td>\n",
              "      <td>unable access page</td>\n",
              "      <td>unable access page unable access page</td>\n",
              "      <td>xbkucsvz gcpydteq</td>\n",
              "      <td>0</td>\n",
              "    </tr>\n",
              "    <tr>\n",
              "      <th>4</th>\n",
              "      <td>error</td>\n",
              "      <td>error</td>\n",
              "      <td>error error</td>\n",
              "      <td>owlgqjme qhcozdfx</td>\n",
              "      <td>0</td>\n",
              "    </tr>\n",
              "    <tr>\n",
              "      <th>...</th>\n",
              "      <td>...</td>\n",
              "      <td>...</td>\n",
              "      <td>...</td>\n",
              "      <td>...</td>\n",
              "      <td>...</td>\n",
              "    </tr>\n",
              "    <tr>\n",
              "      <th>5414</th>\n",
              "      <td>option not</td>\n",
              "      <td>option not</td>\n",
              "      <td>option not option not</td>\n",
              "      <td>tmopbken ibzougsd</td>\n",
              "      <td>0</td>\n",
              "    </tr>\n",
              "    <tr>\n",
              "      <th>5415</th>\n",
              "      <td>fi two added</td>\n",
              "      <td>sorry another two need added copy problem erro...</td>\n",
              "      <td>fi two added sorry another two need added copy...</td>\n",
              "      <td>ipwjorsc uboapexr</td>\n",
              "      <td>2</td>\n",
              "    </tr>\n",
              "    <tr>\n",
              "      <th>5416</th>\n",
              "      <td>tablet needs due multiple</td>\n",
              "      <td>tablet needs due multiple</td>\n",
              "      <td>tablet needs due multiple tablet needs due mul...</td>\n",
              "      <td>cpmaidhj elbaqmtp</td>\n",
              "      <td>22</td>\n",
              "    </tr>\n",
              "    <tr>\n",
              "      <th>5417</th>\n",
              "      <td>not coming mail</td>\n",
              "      <td>received good afternoon not sent mail advise</td>\n",
              "      <td>not coming mail received good afternoon not se...</td>\n",
              "      <td>avglmrts vhqmtiua</td>\n",
              "      <td>21</td>\n",
              "    </tr>\n",
              "    <tr>\n",
              "      <th>5418</th>\n",
              "      <td>machine</td>\n",
              "      <td>unable access machine finish drawers adjustmen...</td>\n",
              "      <td>machine unable access machine finish drawers a...</td>\n",
              "      <td>ufawcgob aowhxjky</td>\n",
              "      <td>46</td>\n",
              "    </tr>\n",
              "  </tbody>\n",
              "</table>\n",
              "<p>5419 rows × 5 columns</p>\n",
              "</div>"
            ],
            "text/plain": [
              "              short_description  ... assignment_group\n",
              "0                   login issue  ...                0\n",
              "1                       outlook  ...                0\n",
              "2                      cant log  ...                0\n",
              "3            unable access page  ...                0\n",
              "4                         error  ...                0\n",
              "...                         ...  ...              ...\n",
              "5414                 option not  ...                0\n",
              "5415               fi two added  ...                2\n",
              "5416  tablet needs due multiple  ...               22\n",
              "5417            not coming mail  ...               21\n",
              "5418                    machine  ...               46\n",
              "\n",
              "[5419 rows x 5 columns]"
            ]
          },
          "metadata": {
            "tags": []
          },
          "execution_count": 13
        }
      ]
    },
    {
      "cell_type": "code",
      "metadata": {
        "id": "sgctIXGgX5Xe",
        "colab_type": "code",
        "colab": {}
      },
      "source": [
        "cleansed_data = cleansed_data_df"
      ],
      "execution_count": 0,
      "outputs": []
    },
    {
      "cell_type": "code",
      "metadata": {
        "id": "trqdBJKYSi_S",
        "colab_type": "code",
        "outputId": "e5b9d716-967a-40ab-b2b1-21bf8796f6ab",
        "colab": {
          "base_uri": "https://localhost:8080/",
          "height": 141
        }
      },
      "source": [
        "oneHotencoder = OneHotEncoder()\n",
        "\n",
        "#reshape the 1-D country array to 2-D as fit_transform expects 2-D and finally fit the object \n",
        "X = oneHotencoder.fit_transform(cleansed_data['assignment_group'].values.reshape(-1,1)).toarray()\n",
        "print(X)\n",
        "#print(cleansed_data.shape[1])\n",
        "#To add this back into the original dataframe \n",
        "#dfOneHot = pd.DataFrame(X, columns = [\"assignment_group_\"+str(int(i)) for i in range(cleansed_data.shape[1])]) \n",
        "#df = pd.concat([cleansed_data, dfOneHot], axis=1)\n",
        "#droping the country column \n",
        "#df= df.drop(['assignment_group'], axis=1) \n",
        "#printing to verify \n",
        "#print(df.head())\n"
      ],
      "execution_count": 15,
      "outputs": [
        {
          "output_type": "stream",
          "text": [
            "[[1. 0. 0. ... 0. 0. 0.]\n",
            " [1. 0. 0. ... 0. 0. 0.]\n",
            " [1. 0. 0. ... 0. 0. 0.]\n",
            " ...\n",
            " [0. 0. 0. ... 0. 0. 0.]\n",
            " [0. 0. 0. ... 0. 0. 0.]\n",
            " [0. 0. 0. ... 0. 0. 0.]]\n"
          ],
          "name": "stdout"
        }
      ]
    },
    {
      "cell_type": "code",
      "metadata": {
        "id": "CUzmj81Cb4KZ",
        "colab_type": "code",
        "colab": {}
      },
      "source": [
        "from keras.layers.embeddings import Embedding\n",
        "\n",
        "from sklearn.model_selection import train_test_split\n",
        "\n",
        "# Split the data\n",
        "x_train_keras, x_valid_keras, y_train_keras, y_valid_keras = train_test_split(cleansed_data_df['combined_desc'], X, test_size=0.2, shuffle= True)\n"
      ],
      "execution_count": 0,
      "outputs": []
    },
    {
      "cell_type": "code",
      "metadata": {
        "id": "gwOPVAHOiAEd",
        "colab_type": "code",
        "colab": {
          "base_uri": "https://localhost:8080/",
          "height": 52
        },
        "outputId": "b7f42bd8-eb4b-4e46-aa74-5b97b12e78dc"
      },
      "source": [
        "from keras.preprocessing.text import Tokenizer\n",
        "from keras.preprocessing.sequence import pad_sequences\n",
        "from keras.utils import to_categorical\n",
        "\n",
        "y_train_cate = to_categorical(y_train_keras)\n",
        "y_test_cate = to_categorical(y_valid_keras)\n",
        "print(y_train_cate.shape)\n",
        "\n",
        "x_train_keras = x_train_keras.astype(str)\n",
        "x_valid_keras = x_valid_keras.astype(str)\n",
        "\n",
        "#Tokenize the sentences\n",
        "tokenizer = Tokenizer(num_words=10000,char_level=False)\n",
        "\n",
        "#preparing vocabulary\n",
        "tokenizer.fit_on_texts(list(x_train_keras))\n",
        "\n",
        "#converting text into integer sequences\n",
        "x_tr_seq_keras  = tokenizer.texts_to_sequences(x_train_keras) \n",
        "x_val_seq_keras = tokenizer.texts_to_sequences(x_valid_keras)\n",
        "\n",
        "#padding to prepare sequences of same length\n",
        "x_tr_seq_keras  = pad_sequences(x_tr_seq_keras, maxlen=100,padding='post')\n",
        "x_val_seq_keras = pad_sequences(x_val_seq_keras, maxlen=100,padding='post')\n",
        "\n",
        "size_of_vocabulary=len(tokenizer.word_index) + 1 #+1 for padding\n",
        "print(size_of_vocabulary)"
      ],
      "execution_count": 17,
      "outputs": [
        {
          "output_type": "stream",
          "text": [
            "(4335, 52, 2)\n",
            "2872\n"
          ],
          "name": "stdout"
        }
      ]
    },
    {
      "cell_type": "code",
      "metadata": {
        "id": "xpnIQjGKisOB",
        "colab_type": "code",
        "colab": {
          "base_uri": "https://localhost:8080/",
          "height": 479
        },
        "outputId": "d3824b88-bc0c-4630-d52d-15408b6a910f"
      },
      "source": [
        "print(x_train_keras[24])\n",
        "print(x_tr_seq_keras[24])\n",
        "print(x_train_keras[52])\n",
        "print(x_tr_seq_keras[52])\n",
        "print(x_tr_seq_keras[24])\n",
        "print(x_tr_seq_keras[25])"
      ],
      "execution_count": 18,
      "outputs": [
        {
          "output_type": "stream",
          "text": [
            "password reset password reset\n",
            "[148   5 858   5 126 405  11   9 248 109   0   0   0   0   0   0   0   0\n",
            "   0   0   0   0   0   0   0   0   0   0   0   0   0   0   0   0   0   0\n",
            "   0   0   0   0   0   0   0   0   0   0   0   0   0   0   0   0   0   0\n",
            "   0   0   0   0   0   0   0   0   0   0   0   0   0   0   0   0   0   0\n",
            "   0   0   0   0   0   0   0   0   0   0   0   0   0   0   0   0   0   0\n",
            "   0   0   0   0   0   0   0   0   0   0]\n",
            "outlook received\n",
            "[159 227   6 159 227   6   0   0   0   0   0   0   0   0   0   0   0   0\n",
            "   0   0   0   0   0   0   0   0   0   0   0   0   0   0   0   0   0   0\n",
            "   0   0   0   0   0   0   0   0   0   0   0   0   0   0   0   0   0   0\n",
            "   0   0   0   0   0   0   0   0   0   0   0   0   0   0   0   0   0   0\n",
            "   0   0   0   0   0   0   0   0   0   0   0   0   0   0   0   0   0   0\n",
            "   0   0   0   0   0   0   0   0   0   0]\n",
            "[148   5 858   5 126 405  11   9 248 109   0   0   0   0   0   0   0   0\n",
            "   0   0   0   0   0   0   0   0   0   0   0   0   0   0   0   0   0   0\n",
            "   0   0   0   0   0   0   0   0   0   0   0   0   0   0   0   0   0   0\n",
            "   0   0   0   0   0   0   0   0   0   0   0   0   0   0   0   0   0   0\n",
            "   0   0   0   0   0   0   0   0   0   0   0   0   0   0   0   0   0   0\n",
            "   0   0   0   0   0   0   0   0   0   0]\n",
            "[374   0   0   0   0   0   0   0   0   0   0   0   0   0   0   0   0   0\n",
            "   0   0   0   0   0   0   0   0   0   0   0   0   0   0   0   0   0   0\n",
            "   0   0   0   0   0   0   0   0   0   0   0   0   0   0   0   0   0   0\n",
            "   0   0   0   0   0   0   0   0   0   0   0   0   0   0   0   0   0   0\n",
            "   0   0   0   0   0   0   0   0   0   0   0   0   0   0   0   0   0   0\n",
            "   0   0   0   0   0   0   0   0   0   0]\n"
          ],
          "name": "stdout"
        }
      ]
    },
    {
      "cell_type": "code",
      "metadata": {
        "id": "qihg8vN3dN9X",
        "colab_type": "code",
        "colab": {
          "base_uri": "https://localhost:8080/",
          "height": 355
        },
        "outputId": "74ad29ac-127a-4eb7-d447-2c1feeb7bc7d"
      },
      "source": [
        "#from keras.layers.embeddings import Embedding\n",
        "#from keras.optimizers import Adam\n",
        "\n",
        "\n",
        "model=Sequential()\n",
        "#embedding layer\n",
        "model.add(Embedding(size_of_vocabulary,100,input_length=100,trainable=True)) \n",
        "\n",
        "#lstm layer\n",
        "model.add(Bidirectional(LSTM(128,return_sequences=True,dropout=0.2)))\n",
        "\n",
        "#Global Maxpooling\n",
        "model.add(Flatten())\n",
        "\n",
        "#Dense Layer\n",
        "#model.add(Dense(256,activation='relu'))  \n",
        "model.add(Dense(128,activation='relu'))  \n",
        "model.add(Dense(52,activation='softmax'))  \n",
        "\n",
        "#Add loss function, metrics, optimizer\n",
        "model.compile(optimizer=Adam(lr=0.001, beta_1=0.9, beta_2=0.999, epsilon=1e-15, decay=0.0), loss='categorical_crossentropy',metrics=[\"acc\"]) \n",
        "\n",
        "#Adding callbacks\n",
        "#es = EarlyStopping(monitor='val_loss', mode='min', verbose=1,patience=3)  \n",
        "es = EarlyStopping(monitor='val_loss', min_delta=0.00001, patience=15, verbose=1, mode='auto', baseline=None, restore_best_weights=False)  \n",
        "\n",
        "mc=ModelCheckpoint('best_model.h5', monitor='val_acc', mode='max', save_best_only=True,verbose=1)  \n",
        "\n",
        "#Print summary of model\n",
        "print(model.summary())"
      ],
      "execution_count": 41,
      "outputs": [
        {
          "output_type": "stream",
          "text": [
            "Model: \"sequential_11\"\n",
            "_________________________________________________________________\n",
            "Layer (type)                 Output Shape              Param #   \n",
            "=================================================================\n",
            "embedding_5 (Embedding)      (None, 100, 100)          287200    \n",
            "_________________________________________________________________\n",
            "bidirectional_5 (Bidirection (None, 100, 256)          234496    \n",
            "_________________________________________________________________\n",
            "flatten_5 (Flatten)          (None, 25600)             0         \n",
            "_________________________________________________________________\n",
            "dense_10 (Dense)             (None, 128)               3276928   \n",
            "_________________________________________________________________\n",
            "dense_11 (Dense)             (None, 52)                6708      \n",
            "=================================================================\n",
            "Total params: 3,805,332\n",
            "Trainable params: 3,805,332\n",
            "Non-trainable params: 0\n",
            "_________________________________________________________________\n",
            "None\n"
          ],
          "name": "stdout"
        }
      ]
    },
    {
      "cell_type": "code",
      "metadata": {
        "id": "Gw3a_koWeA4o",
        "colab_type": "code",
        "colab": {
          "base_uri": "https://localhost:8080/",
          "height": 1000
        },
        "outputId": "37300cbf-a019-41ef-e426-89a43035f235"
      },
      "source": [
        "model.fit(x_tr_seq_keras,y_train_keras,batch_size=32,epochs=100,validation_data=(x_val_seq_keras,y_valid_keras),verbose=1,callbacks=[es,mc])\n",
        "#model.fit(x_tr_seq_fast,y_train_fast,batch_size=32,epochs=10,validation_data=(x_val_seq_fast,y_valid_fast),verbose=1,callbacks=[es,mc])"
      ],
      "execution_count": 42,
      "outputs": [
        {
          "output_type": "stream",
          "text": [
            "Epoch 1/100\n",
            "136/136 [==============================] - ETA: 0s - loss: 2.4157 - acc: 0.4960\n",
            "Epoch 00001: val_acc improved from -inf to 0.48339, saving model to best_model.h5\n",
            "136/136 [==============================] - 36s 266ms/step - loss: 2.4157 - acc: 0.4960 - val_loss: 2.3297 - val_acc: 0.4834\n",
            "Epoch 2/100\n",
            "136/136 [==============================] - ETA: 0s - loss: 1.9713 - acc: 0.5412\n",
            "Epoch 00002: val_acc improved from 0.48339 to 0.50830, saving model to best_model.h5\n",
            "136/136 [==============================] - 40s 294ms/step - loss: 1.9713 - acc: 0.5412 - val_loss: 2.1687 - val_acc: 0.5083\n",
            "Epoch 3/100\n",
            "136/136 [==============================] - ETA: 0s - loss: 1.5999 - acc: 0.5991\n",
            "Epoch 00003: val_acc improved from 0.50830 to 0.52214, saving model to best_model.h5\n",
            "136/136 [==============================] - 36s 262ms/step - loss: 1.5999 - acc: 0.5991 - val_loss: 2.0375 - val_acc: 0.5221\n",
            "Epoch 4/100\n",
            "136/136 [==============================] - ETA: 0s - loss: 1.2820 - acc: 0.6713\n",
            "Epoch 00004: val_acc did not improve from 0.52214\n",
            "136/136 [==============================] - 35s 261ms/step - loss: 1.2820 - acc: 0.6713 - val_loss: 2.1183 - val_acc: 0.5166\n",
            "Epoch 5/100\n",
            "136/136 [==============================] - ETA: 0s - loss: 0.9887 - acc: 0.7375\n",
            "Epoch 00005: val_acc did not improve from 0.52214\n",
            "136/136 [==============================] - 36s 261ms/step - loss: 0.9887 - acc: 0.7375 - val_loss: 2.2623 - val_acc: 0.5046\n",
            "Epoch 6/100\n",
            "136/136 [==============================] - ETA: 0s - loss: 0.7755 - acc: 0.7917\n",
            "Epoch 00006: val_acc did not improve from 0.52214\n",
            "136/136 [==============================] - 35s 261ms/step - loss: 0.7755 - acc: 0.7917 - val_loss: 2.4354 - val_acc: 0.5203\n",
            "Epoch 7/100\n",
            "136/136 [==============================] - ETA: 0s - loss: 0.6032 - acc: 0.8311\n",
            "Epoch 00007: val_acc did not improve from 0.52214\n",
            "136/136 [==============================] - 35s 260ms/step - loss: 0.6032 - acc: 0.8311 - val_loss: 2.7238 - val_acc: 0.5185\n",
            "Epoch 8/100\n",
            "136/136 [==============================] - ETA: 0s - loss: 0.4821 - acc: 0.8676\n",
            "Epoch 00008: val_acc did not improve from 0.52214\n",
            "136/136 [==============================] - 35s 261ms/step - loss: 0.4821 - acc: 0.8676 - val_loss: 2.9650 - val_acc: 0.5120\n",
            "Epoch 9/100\n",
            "136/136 [==============================] - ETA: 0s - loss: 0.3872 - acc: 0.8879\n",
            "Epoch 00009: val_acc did not improve from 0.52214\n",
            "136/136 [==============================] - 36s 261ms/step - loss: 0.3872 - acc: 0.8879 - val_loss: 3.4132 - val_acc: 0.4963\n",
            "Epoch 10/100\n",
            "136/136 [==============================] - ETA: 0s - loss: 0.3082 - acc: 0.9114\n",
            "Epoch 00010: val_acc did not improve from 0.52214\n",
            "136/136 [==============================] - 36s 263ms/step - loss: 0.3082 - acc: 0.9114 - val_loss: 3.7910 - val_acc: 0.5138\n",
            "Epoch 11/100\n",
            "136/136 [==============================] - ETA: 0s - loss: 0.2531 - acc: 0.9269\n",
            "Epoch 00011: val_acc did not improve from 0.52214\n",
            "136/136 [==============================] - 35s 261ms/step - loss: 0.2531 - acc: 0.9269 - val_loss: 3.9339 - val_acc: 0.5083\n",
            "Epoch 12/100\n",
            "136/136 [==============================] - ETA: 0s - loss: 0.2199 - acc: 0.9389\n",
            "Epoch 00012: val_acc did not improve from 0.52214\n",
            "136/136 [==============================] - 35s 261ms/step - loss: 0.2199 - acc: 0.9389 - val_loss: 4.0262 - val_acc: 0.5055\n",
            "Epoch 13/100\n",
            "136/136 [==============================] - ETA: 0s - loss: 0.1744 - acc: 0.9497\n",
            "Epoch 00013: val_acc did not improve from 0.52214\n",
            "136/136 [==============================] - 36s 261ms/step - loss: 0.1744 - acc: 0.9497 - val_loss: 4.4578 - val_acc: 0.5074\n",
            "Epoch 14/100\n",
            "136/136 [==============================] - ETA: 0s - loss: 0.1523 - acc: 0.9578\n",
            "Epoch 00014: val_acc did not improve from 0.52214\n",
            "136/136 [==============================] - 35s 261ms/step - loss: 0.1523 - acc: 0.9578 - val_loss: 4.5440 - val_acc: 0.5046\n",
            "Epoch 15/100\n",
            "136/136 [==============================] - ETA: 0s - loss: 0.1477 - acc: 0.9532\n",
            "Epoch 00015: val_acc did not improve from 0.52214\n",
            "136/136 [==============================] - 36s 262ms/step - loss: 0.1477 - acc: 0.9532 - val_loss: 4.8083 - val_acc: 0.4806\n",
            "Epoch 16/100\n",
            "136/136 [==============================] - ETA: 0s - loss: 0.1219 - acc: 0.9642\n",
            "Epoch 00016: val_acc did not improve from 0.52214\n",
            "136/136 [==============================] - 36s 263ms/step - loss: 0.1219 - acc: 0.9642 - val_loss: 4.8634 - val_acc: 0.5018\n",
            "Epoch 17/100\n",
            "136/136 [==============================] - ETA: 0s - loss: 0.1053 - acc: 0.9693\n",
            "Epoch 00017: val_acc did not improve from 0.52214\n",
            "136/136 [==============================] - 36s 263ms/step - loss: 0.1053 - acc: 0.9693 - val_loss: 5.0970 - val_acc: 0.4954\n",
            "Epoch 18/100\n",
            "136/136 [==============================] - ETA: 0s - loss: 0.0800 - acc: 0.9785\n",
            "Epoch 00018: val_acc did not improve from 0.52214\n",
            "136/136 [==============================] - 36s 262ms/step - loss: 0.0800 - acc: 0.9785 - val_loss: 5.3232 - val_acc: 0.4963\n",
            "Epoch 00018: early stopping\n"
          ],
          "name": "stdout"
        },
        {
          "output_type": "execute_result",
          "data": {
            "text/plain": [
              "<tensorflow.python.keras.callbacks.History at 0x7f3c3d03f630>"
            ]
          },
          "metadata": {
            "tags": []
          },
          "execution_count": 42
        }
      ]
    },
    {
      "cell_type": "code",
      "metadata": {
        "id": "R7ZT0bdsxLna",
        "colab_type": "code",
        "colab": {
          "base_uri": "https://localhost:8080/",
          "height": 52
        },
        "outputId": "efaeeeb0-47a9-4fcc-ae4a-5a05e6789166"
      },
      "source": [
        "#loading best model\n",
        "from tensorflow.keras.models import load_model\n",
        "model = load_model('best_model.h5')\n",
        "\n",
        "#evaluation \n",
        "_,val_acc = model.evaluate(x_val_seq_keras,y_valid_keras, batch_size=100)\n",
        "print(val_acc)"
      ],
      "execution_count": 44,
      "outputs": [
        {
          "output_type": "stream",
          "text": [
            "11/11 [==============================] - 2s 158ms/step - loss: 2.0375 - acc: 0.5221\n",
            "0.5221402049064636\n"
          ],
          "name": "stdout"
        }
      ]
    },
    {
      "cell_type": "markdown",
      "metadata": {
        "id": "QHXt6PeuVtOy",
        "colab_type": "text"
      },
      "source": [
        ""
      ]
    },
    {
      "cell_type": "code",
      "metadata": {
        "id": "_fnYqywn5s4N",
        "colab_type": "code",
        "colab": {
          "base_uri": "https://localhost:8080/",
          "height": 52
        },
        "outputId": "9cf36d8c-516e-48ff-a2d6-aefb2432a446"
      },
      "source": [
        "from keras.preprocessing.text import Tokenizer\n",
        "from keras.preprocessing.sequence import pad_sequences\n",
        "from keras.utils import to_categorical\n",
        "\n",
        "y_train_cate = to_categorical(y_train_keras)\n",
        "y_test_cate = to_categorical(y_valid_keras)\n",
        "print(y_train_cate.shape)\n",
        "\n",
        "x_train_keras = x_train_keras.astype(str)\n",
        "x_valid_keras = x_valid_keras.astype(str)\n",
        "\n",
        "#Tokenize the sentences\n",
        "tokenizer = Tokenizer(num_words=10000,char_level=False)\n",
        "\n",
        "#preparing vocabulary\n",
        "tokenizer.fit_on_texts(list(x_train_keras))\n",
        "\n",
        "#converting text into integer sequences\n",
        "x_tr_seq_keras  = tokenizer.texts_to_sequences(x_train_keras) \n",
        "x_val_seq_keras = tokenizer.texts_to_sequences(x_valid_keras)\n",
        "\n",
        "#padding to prepare sequences of same length\n",
        "x_tr_seq_keras_pre  = pad_sequences(x_tr_seq_keras, maxlen=100)\n",
        "x_val_seq_keras_pre = pad_sequences(x_val_seq_keras, maxlen=100)\n",
        "\n",
        "size_of_vocabulary=len(tokenizer.word_index) + 1 #+1 for padding\n",
        "print(size_of_vocabulary)"
      ],
      "execution_count": 50,
      "outputs": [
        {
          "output_type": "stream",
          "text": [
            "(4335, 52, 2)\n",
            "2872\n"
          ],
          "name": "stdout"
        }
      ]
    },
    {
      "cell_type": "code",
      "metadata": {
        "id": "CsF40AfN_LEV",
        "colab_type": "code",
        "colab": {
          "base_uri": "https://localhost:8080/",
          "height": 479
        },
        "outputId": "61276c16-59af-4660-eb8e-89f749792832"
      },
      "source": [
        "print(x_train_keras[24])\n",
        "print(x_tr_seq_keras_pre[24])\n",
        "print(x_train_keras[52])\n",
        "print(x_tr_seq_keras_pre[52])\n",
        "print(x_tr_seq_keras_pre[24])\n",
        "print(x_tr_seq_keras_pre[25])"
      ],
      "execution_count": 51,
      "outputs": [
        {
          "output_type": "stream",
          "text": [
            "password reset password reset\n",
            "[  0   0   0   0   0   0   0   0   0   0   0   0   0   0   0   0   0   0\n",
            "   0   0   0   0   0   0   0   0   0   0   0   0   0   0   0   0   0   0\n",
            "   0   0   0   0   0   0   0   0   0   0   0   0   0   0   0   0   0   0\n",
            "   0   0   0   0   0   0   0   0   0   0   0   0   0   0   0   0   0   0\n",
            "   0   0   0   0   0   0   0   0   0   0   0   0   0   0   0   0   0   0\n",
            " 148   5 858   5 126 405  11   9 248 109]\n",
            "outlook received\n",
            "[  0   0   0   0   0   0   0   0   0   0   0   0   0   0   0   0   0   0\n",
            "   0   0   0   0   0   0   0   0   0   0   0   0   0   0   0   0   0   0\n",
            "   0   0   0   0   0   0   0   0   0   0   0   0   0   0   0   0   0   0\n",
            "   0   0   0   0   0   0   0   0   0   0   0   0   0   0   0   0   0   0\n",
            "   0   0   0   0   0   0   0   0   0   0   0   0   0   0   0   0   0   0\n",
            "   0   0   0   0 159 227   6 159 227   6]\n",
            "[  0   0   0   0   0   0   0   0   0   0   0   0   0   0   0   0   0   0\n",
            "   0   0   0   0   0   0   0   0   0   0   0   0   0   0   0   0   0   0\n",
            "   0   0   0   0   0   0   0   0   0   0   0   0   0   0   0   0   0   0\n",
            "   0   0   0   0   0   0   0   0   0   0   0   0   0   0   0   0   0   0\n",
            "   0   0   0   0   0   0   0   0   0   0   0   0   0   0   0   0   0   0\n",
            " 148   5 858   5 126 405  11   9 248 109]\n",
            "[  0   0   0   0   0   0   0   0   0   0   0   0   0   0   0   0   0   0\n",
            "   0   0   0   0   0   0   0   0   0   0   0   0   0   0   0   0   0   0\n",
            "   0   0   0   0   0   0   0   0   0   0   0   0   0   0   0   0   0   0\n",
            "   0   0   0   0   0   0   0   0   0   0   0   0   0   0   0   0   0   0\n",
            "   0   0   0   0   0   0   0   0   0   0   0   0   0   0   0   0   0   0\n",
            "   0   0   0   0   0   0   0   0   0 374]\n"
          ],
          "name": "stdout"
        }
      ]
    },
    {
      "cell_type": "code",
      "metadata": {
        "id": "_K9KHvkbOu1b",
        "colab_type": "code",
        "colab": {
          "base_uri": "https://localhost:8080/",
          "height": 355
        },
        "outputId": "01ab30f1-90e7-48b9-f1f4-1920a5036ee9"
      },
      "source": [
        "#from keras.layers.embeddings import Embedding\n",
        "#from keras.optimizers import Adam\n",
        "\n",
        "\n",
        "model=Sequential()\n",
        "#embedding layer\n",
        "model.add(Embedding(size_of_vocabulary,100,input_length=100,trainable=True)) \n",
        "\n",
        "#lstm layer\n",
        "model.add(Bidirectional(LSTM(128,return_sequences=True,dropout=0.2)))\n",
        "\n",
        "#Global Maxpooling\n",
        "model.add(Flatten())\n",
        "\n",
        "#Dense Layer\n",
        "#model.add(Dense(256,activation='relu'))  \n",
        "model.add(Dense(128,activation='relu'))  \n",
        "model.add(Dense(52,activation='softmax'))  \n",
        "\n",
        "#Add loss function, metrics, optimizer\n",
        "model.compile(optimizer=Adam(lr=0.001, beta_1=0.9, beta_2=0.999, epsilon=1e-15, decay=0.0), loss='categorical_crossentropy',metrics=[\"acc\"]) \n",
        "\n",
        "#Adding callbacks\n",
        "#es = EarlyStopping(monitor='val_loss', mode='min', verbose=1,patience=3)  \n",
        "es = EarlyStopping(monitor='val_loss', min_delta=0.00001, patience=15, verbose=1, mode='auto', baseline=None, restore_best_weights=False)  \n",
        "\n",
        "mc=ModelCheckpoint('best_model.h5', monitor='val_acc', mode='max', save_best_only=True,verbose=1)  \n",
        "\n",
        "#Print summary of model\n",
        "print(model.summary())"
      ],
      "execution_count": 52,
      "outputs": [
        {
          "output_type": "stream",
          "text": [
            "Model: \"sequential_12\"\n",
            "_________________________________________________________________\n",
            "Layer (type)                 Output Shape              Param #   \n",
            "=================================================================\n",
            "embedding_6 (Embedding)      (None, 100, 100)          287200    \n",
            "_________________________________________________________________\n",
            "bidirectional_6 (Bidirection (None, 100, 256)          234496    \n",
            "_________________________________________________________________\n",
            "flatten_6 (Flatten)          (None, 25600)             0         \n",
            "_________________________________________________________________\n",
            "dense_12 (Dense)             (None, 128)               3276928   \n",
            "_________________________________________________________________\n",
            "dense_13 (Dense)             (None, 52)                6708      \n",
            "=================================================================\n",
            "Total params: 3,805,332\n",
            "Trainable params: 3,805,332\n",
            "Non-trainable params: 0\n",
            "_________________________________________________________________\n",
            "None\n"
          ],
          "name": "stdout"
        }
      ]
    },
    {
      "cell_type": "code",
      "metadata": {
        "id": "vONejLPVPASs",
        "colab_type": "code",
        "colab": {
          "base_uri": "https://localhost:8080/",
          "height": 746
        },
        "outputId": "5abb98a1-040a-42c7-d80e-815953dd8d59"
      },
      "source": [
        "model.fit(x_tr_seq_keras_pre,y_train_keras,batch_size=32,epochs=10,validation_data=(x_val_seq_keras_pre,y_valid_keras),verbose=1,callbacks=[es,mc])"
      ],
      "execution_count": 55,
      "outputs": [
        {
          "output_type": "stream",
          "text": [
            "Epoch 1/10\n",
            "136/136 [==============================] - ETA: 0s - loss: 0.7309 - acc: 0.8030\n",
            "Epoch 00001: val_acc improved from 0.52583 to 0.53321, saving model to best_model.h5\n",
            "136/136 [==============================] - 36s 264ms/step - loss: 0.7309 - acc: 0.8030 - val_loss: 2.6639 - val_acc: 0.5332\n",
            "Epoch 2/10\n",
            "136/136 [==============================] - ETA: 0s - loss: 0.5690 - acc: 0.8464\n",
            "Epoch 00002: val_acc did not improve from 0.53321\n",
            "136/136 [==============================] - 36s 264ms/step - loss: 0.5690 - acc: 0.8464 - val_loss: 2.7841 - val_acc: 0.5212\n",
            "Epoch 3/10\n",
            "136/136 [==============================] - ETA: 0s - loss: 0.4614 - acc: 0.8764\n",
            "Epoch 00003: val_acc did not improve from 0.53321\n",
            "136/136 [==============================] - 36s 263ms/step - loss: 0.4614 - acc: 0.8764 - val_loss: 3.0761 - val_acc: 0.5129\n",
            "Epoch 4/10\n",
            "136/136 [==============================] - ETA: 0s - loss: 0.3692 - acc: 0.9020\n",
            "Epoch 00004: val_acc did not improve from 0.53321\n",
            "136/136 [==============================] - 36s 264ms/step - loss: 0.3692 - acc: 0.9020 - val_loss: 3.5155 - val_acc: 0.5148\n",
            "Epoch 5/10\n",
            "136/136 [==============================] - ETA: 0s - loss: 0.3103 - acc: 0.9181\n",
            "Epoch 00005: val_acc did not improve from 0.53321\n",
            "136/136 [==============================] - 36s 264ms/step - loss: 0.3103 - acc: 0.9181 - val_loss: 3.5345 - val_acc: 0.5000\n",
            "Epoch 6/10\n",
            "136/136 [==============================] - ETA: 0s - loss: 0.2779 - acc: 0.9195\n",
            "Epoch 00006: val_acc did not improve from 0.53321\n",
            "136/136 [==============================] - 36s 264ms/step - loss: 0.2779 - acc: 0.9195 - val_loss: 3.8036 - val_acc: 0.5129\n",
            "Epoch 7/10\n",
            "136/136 [==============================] - ETA: 0s - loss: 0.2366 - acc: 0.9343\n",
            "Epoch 00007: val_acc did not improve from 0.53321\n",
            "136/136 [==============================] - 36s 264ms/step - loss: 0.2366 - acc: 0.9343 - val_loss: 3.9110 - val_acc: 0.5055\n",
            "Epoch 8/10\n",
            "136/136 [==============================] - ETA: 0s - loss: 0.1988 - acc: 0.9442\n",
            "Epoch 00008: val_acc did not improve from 0.53321\n",
            "136/136 [==============================] - 36s 264ms/step - loss: 0.1988 - acc: 0.9442 - val_loss: 4.2077 - val_acc: 0.5101\n",
            "Epoch 9/10\n",
            "136/136 [==============================] - ETA: 0s - loss: 0.1577 - acc: 0.9539\n",
            "Epoch 00009: val_acc did not improve from 0.53321\n",
            "136/136 [==============================] - 36s 265ms/step - loss: 0.1577 - acc: 0.9539 - val_loss: 4.4064 - val_acc: 0.5074\n",
            "Epoch 10/10\n",
            "136/136 [==============================] - ETA: 0s - loss: 0.1325 - acc: 0.9633\n",
            "Epoch 00010: val_acc did not improve from 0.53321\n",
            "136/136 [==============================] - 36s 265ms/step - loss: 0.1325 - acc: 0.9633 - val_loss: 4.5083 - val_acc: 0.5055\n"
          ],
          "name": "stdout"
        },
        {
          "output_type": "execute_result",
          "data": {
            "text/plain": [
              "<tensorflow.python.keras.callbacks.History at 0x7f3c3ed69358>"
            ]
          },
          "metadata": {
            "tags": []
          },
          "execution_count": 55
        }
      ]
    },
    {
      "cell_type": "code",
      "metadata": {
        "id": "sxvQW3R_PmhE",
        "colab_type": "code",
        "colab": {
          "base_uri": "https://localhost:8080/",
          "height": 52
        },
        "outputId": "247691de-6c18-43d4-d4aa-c69236d235de"
      },
      "source": [
        "#loading best model\n",
        "from tensorflow.keras.models import load_model\n",
        "model = load_model('best_model.h5')\n",
        "\n",
        "#evaluation \n",
        "_,val_acc = model.evaluate(x_val_seq_keras_pre,y_valid_keras, batch_size=100)\n",
        "print(val_acc)"
      ],
      "execution_count": 57,
      "outputs": [
        {
          "output_type": "stream",
          "text": [
            "11/11 [==============================] - 2s 157ms/step - loss: 2.6639 - acc: 0.5332\n",
            "0.5332103371620178\n"
          ],
          "name": "stdout"
        }
      ]
    }
  ]
}