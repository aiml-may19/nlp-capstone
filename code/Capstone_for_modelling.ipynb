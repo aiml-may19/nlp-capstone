{
  "nbformat": 4,
  "nbformat_minor": 0,
  "metadata": {
    "colab": {
      "name": "Capstone_for_modelling.ipynb",
      "provenance": [],
      "collapsed_sections": [],
      "machine_shape": "hm"
    },
    "kernelspec": {
      "name": "python3",
      "display_name": "Python 3"
    }
  },
  "cells": [
    {
      "cell_type": "code",
      "metadata": {
        "id": "rd5sjw4GVJnR",
        "colab_type": "code",
        "outputId": "42180e8f-8e35-4a3f-e480-c638748458cf",
        "colab": {
          "base_uri": "https://localhost:8080/",
          "height": 34
        }
      },
      "source": [
        "from google.colab import drive\n",
        "drive.mount('/content/drive/')"
      ],
      "execution_count": 14,
      "outputs": [
        {
          "output_type": "stream",
          "text": [
            "Drive already mounted at /content/drive/; to attempt to forcibly remount, call drive.mount(\"/content/drive/\", force_remount=True).\n"
          ],
          "name": "stdout"
        }
      ]
    },
    {
      "cell_type": "code",
      "metadata": {
        "id": "UwJALxC5VUxq",
        "colab_type": "code",
        "colab": {}
      },
      "source": [
        "PROJECT_DIR = \"/content/drive/My Drive/MachineLearning/Capstone/\"\n",
        "DATA_FILE_NAME = 'Data/Input Data Synthetic.xlsx'\n",
        "CLEANSED_FILE_DIR = 'Data/processed/'"
      ],
      "execution_count": 0,
      "outputs": []
    },
    {
      "cell_type": "code",
      "metadata": {
        "id": "NdN0mEzuVgR4",
        "colab_type": "code",
        "colab": {}
      },
      "source": [
        "#import basic libraies\n",
        "import pandas as pd\n",
        "import numpy as np\n",
        "import matplotlib.pyplot as plt\n",
        "import seaborn as sns\n",
        "import string\n",
        "import nltk\n",
        "\n",
        "import warnings\n",
        "warnings.filterwarnings('ignore')"
      ],
      "execution_count": 0,
      "outputs": []
    },
    {
      "cell_type": "code",
      "metadata": {
        "id": "AlyS7sYfVkag",
        "colab_type": "code",
        "colab": {}
      },
      "source": [
        "import keras\n",
        "from tensorflow.keras import backend as K\n",
        "from tensorflow.keras.preprocessing.text import Tokenizer\n",
        "from tensorflow.keras.preprocessing.sequence import pad_sequences\n",
        "from tensorflow.keras.layers import Dense, LSTM, Embedding, Dropout, Activation, Bidirectional, Flatten\n",
        "from tensorflow.keras.models import Model, Sequential\n",
        "\n",
        "from sklearn.preprocessing import LabelEncoder\n",
        "from sklearn.model_selection import train_test_split\n",
        "from sklearn.feature_extraction.text import CountVectorizer,TfidfVectorizer"
      ],
      "execution_count": 0,
      "outputs": []
    },
    {
      "cell_type": "code",
      "metadata": {
        "id": "Pel-5HyFV6AL",
        "colab_type": "code",
        "colab": {}
      },
      "source": [
        "def load_doc(filename):\n",
        "  if(filename.endswith('.xlsx')):\n",
        "    data_df = pd.read_excel(filename, lines=True)\n",
        "  elif(filename.endswith('.csv')):\n",
        "    data_df = pd.read_csv(filename, keep_default_na = False)\n",
        "  return data_df"
      ],
      "execution_count": 0,
      "outputs": []
    },
    {
      "cell_type": "code",
      "metadata": {
        "id": "DfpAjSjDcB6n",
        "colab_type": "code",
        "colab": {}
      },
      "source": [
        "def encode_target(target):\n",
        "  le = LabelEncoder()\n",
        "  return le.fit_transform(target), le\n",
        "\n",
        "def decode_prediction(pred, encoder):\n",
        "  return encoder.inverse_transform(pred) "
      ],
      "execution_count": 0,
      "outputs": []
    },
    {
      "cell_type": "code",
      "metadata": {
        "id": "xynMp03sVlv6",
        "colab_type": "code",
        "outputId": "d41c0a02-8451-4d19-e67f-f52488e28ceb",
        "colab": {
          "base_uri": "https://localhost:8080/",
          "height": 34
        }
      },
      "source": [
        "cleansed_data_df = load_doc(PROJECT_DIR+CLEANSED_FILE_DIR+'cleansed_data.csv')\n",
        "print('shape of Data : ', cleansed_data_df.shape)"
      ],
      "execution_count": 20,
      "outputs": [
        {
          "output_type": "stream",
          "text": [
            "shape of Data :  (8500, 5)\n"
          ],
          "name": "stdout"
        }
      ]
    },
    {
      "cell_type": "code",
      "metadata": {
        "id": "bjRgMN4Bd9Eq",
        "colab_type": "code",
        "outputId": "321b6da1-1caf-46f7-d3be-3d3379896600",
        "colab": {
          "base_uri": "https://localhost:8080/",
          "height": 173
        }
      },
      "source": [
        "cleansed_data_df.describe()"
      ],
      "execution_count": 21,
      "outputs": [
        {
          "output_type": "execute_result",
          "data": {
            "text/html": [
              "<div>\n",
              "<style scoped>\n",
              "    .dataframe tbody tr th:only-of-type {\n",
              "        vertical-align: middle;\n",
              "    }\n",
              "\n",
              "    .dataframe tbody tr th {\n",
              "        vertical-align: top;\n",
              "    }\n",
              "\n",
              "    .dataframe thead th {\n",
              "        text-align: right;\n",
              "    }\n",
              "</style>\n",
              "<table border=\"1\" class=\"dataframe\">\n",
              "  <thead>\n",
              "    <tr style=\"text-align: right;\">\n",
              "      <th></th>\n",
              "      <th>short_description</th>\n",
              "      <th>description</th>\n",
              "      <th>combined_desc</th>\n",
              "      <th>caller</th>\n",
              "      <th>assignment_group</th>\n",
              "    </tr>\n",
              "  </thead>\n",
              "  <tbody>\n",
              "    <tr>\n",
              "      <th>count</th>\n",
              "      <td>8500</td>\n",
              "      <td>8500</td>\n",
              "      <td>8500</td>\n",
              "      <td>8500</td>\n",
              "      <td>8500</td>\n",
              "    </tr>\n",
              "    <tr>\n",
              "      <th>unique</th>\n",
              "      <td>7482</td>\n",
              "      <td>6061</td>\n",
              "      <td>7812</td>\n",
              "      <td>2950</td>\n",
              "      <td>56</td>\n",
              "    </tr>\n",
              "    <tr>\n",
              "      <th>top</th>\n",
              "      <td>password reset</td>\n",
              "      <td>received job job_scheduler</td>\n",
              "      <td>windows password reset password reset</td>\n",
              "      <td>bpctwhsn kzqsbmtp</td>\n",
              "      <td>GRP_0</td>\n",
              "    </tr>\n",
              "    <tr>\n",
              "      <th>freq</th>\n",
              "      <td>38</td>\n",
              "      <td>252</td>\n",
              "      <td>29</td>\n",
              "      <td>810</td>\n",
              "      <td>3976</td>\n",
              "    </tr>\n",
              "  </tbody>\n",
              "</table>\n",
              "</div>"
            ],
            "text/plain": [
              "       short_description  ... assignment_group\n",
              "count               8500  ...             8500\n",
              "unique              7482  ...               56\n",
              "top       password reset  ...            GRP_0\n",
              "freq                  38  ...             3976\n",
              "\n",
              "[4 rows x 5 columns]"
            ]
          },
          "metadata": {
            "tags": []
          },
          "execution_count": 21
        }
      ]
    },
    {
      "cell_type": "code",
      "metadata": {
        "id": "u29Z3KeNZUZx",
        "colab_type": "code",
        "outputId": "d2a915a2-fd63-4f7e-bee7-3321d81de43d",
        "colab": {
          "base_uri": "https://localhost:8080/",
          "height": 986
        }
      },
      "source": [
        "cleansed_data_df['assignment_group'].value_counts()"
      ],
      "execution_count": 22,
      "outputs": [
        {
          "output_type": "execute_result",
          "data": {
            "text/plain": [
              "GRP_0         3976\n",
              "GRP_8          661\n",
              "GRP_24         289\n",
              "GRP_12         257\n",
              "GRP_9          252\n",
              "GRP_2          241\n",
              "GRP_19         215\n",
              "GRP_3          200\n",
              "GRP_6          184\n",
              "GRP_13         145\n",
              "GRP_10         140\n",
              "GRP_5          129\n",
              "GRP_14         118\n",
              "GRP_25         116\n",
              "GRP_33         107\n",
              "GRP_4          100\n",
              "GRP_29          97\n",
              "GRP_18          88\n",
              "GRP_16          85\n",
              "GRP_17          81\n",
              "GRP_31          69\n",
              "GRP_7           68\n",
              "GRP_34          62\n",
              "GRP_26          56\n",
              "GRP_40          45\n",
              "GRP_COMMON      44\n",
              "GRP_28          44\n",
              "GRP_41          40\n",
              "GRP_15          39\n",
              "GRP_30          39\n",
              "GRP_42          37\n",
              "GRP_20          36\n",
              "GRP_45          35\n",
              "GRP_1           31\n",
              "GRP_22          31\n",
              "GRP_11          30\n",
              "GRP_21          29\n",
              "GRP_47          27\n",
              "GRP_48          25\n",
              "GRP_23          25\n",
              "GRP_62          25\n",
              "GRP_60          20\n",
              "GRP_39          19\n",
              "GRP_27          18\n",
              "GRP_37          16\n",
              "GRP_44          15\n",
              "GRP_36          15\n",
              "GRP_50          14\n",
              "GRP_53          11\n",
              "GRP_65          11\n",
              "GRP_52           9\n",
              "GRP_55           8\n",
              "GRP_51           8\n",
              "GRP_49           6\n",
              "GRP_46           6\n",
              "GRP_59           6\n",
              "Name: assignment_group, dtype: int64"
            ]
          },
          "metadata": {
            "tags": []
          },
          "execution_count": 22
        }
      ]
    },
    {
      "cell_type": "code",
      "metadata": {
        "id": "-EbgDRKWjZXe",
        "colab_type": "code",
        "outputId": "03a3b3ab-45c2-42d3-f3b5-9369f527cfcd",
        "colab": {
          "base_uri": "https://localhost:8080/",
          "height": 105
        }
      },
      "source": [
        "cleansed_data_df['description_length'] = cleansed_data_df['description'].str.len()\n",
        "desc_max_length = cleansed_data_df['description_length'].max()\n",
        "maxlen_desc_idx = cleansed_data_df['description_length'].idxmax()\n",
        "print(desc_max_length)\n",
        "print(maxlen_desc_idx)\n",
        "print('Desc with max length ({}) at index {}:\\n {}'.format(desc_max_length,maxlen_desc_idx,cleansed_data_df['description'].loc[maxlen_desc_idx]))"
      ],
      "execution_count": 23,
      "outputs": [
        {
          "output_type": "stream",
          "text": [
            "3190\n",
            "3965\n",
            "Desc with max length (3190) at index 3965:\n",
            " source system android user unknown location unknown status field user no event log incident overview seeing company device generating server response sinkhole set probable infected asset traffic not blocked port port android device host likely infected return traffic android likely visit domain give false information order prevent use domain address resolution sinkhole traffic possible indicator infected computer reaching controller taken law enforcement research organization part mitigation effort traffic sinkhole activity administrator may curious particular domain browse signature repeated sinkhole however clear indication infection incident via high priority ticket per default would like us handle differently future see handling let us know either corresponding us via ticket ticket back soc calling us ticket sinkhole domain explicit notification via medium priority ticket no phone call auto resolve sinkhole domain directly portal no explicit notification available portal sincerely soc technical domain system hierarchical naming system resource connected private network primary purpose various information domain assigned primarily used domain purpose service network domain system responsibility domain authoritative domain authoritative assigned responsible may delegate authority domain system also technical functionality service protocol detailed specification data data communication used part protocol suite give incorrect information order prevent use domain address resolution client resolve address hole domain sinkhole non address address except real address client connection target host method easily found sinkhole another method used command control taken law enforcement part mitigation effort traffic sinkhole activity administrator may curious particular domain browse signature repeated sinkhole clear indication infection sort may seem somewhat benign certainly include information leakage extent although sinkhole unlikely use personally identifiable information may capture communication may become public knowledge company x infected may lead damage additionally feeding may impede access certain like sending finally may connect multiple controller even though may may not leading possibility remote code execution information leakage malicious event data related event id event summary server response sinkhole set probable infected asset occurrence count event count host connection information source source port source destination destination android destination port destination mac address connection incoming protocol status code device information device device company log time action not blocked vendor score vendor priority vendor version event information sherlock rule id inspector event id ontology id event type id agent id event detail server response sinkhole set probable infected asset classification none priority action accept impact flag impact blocked label sensor id event id time sport proto id win security correlation data android via relay lease duration renew ascii packet ascii ascii e hex packet hex f p l j u tempo server date mon type text h connection close set cook ie us location help invest us go p us b hex e\n"
          ],
          "name": "stdout"
        }
      ]
    },
    {
      "cell_type": "markdown",
      "metadata": {
        "id": "aHkycW10Y6Vk",
        "colab_type": "text"
      },
      "source": [
        "**Train & Test Data:**"
      ]
    },
    {
      "cell_type": "code",
      "metadata": {
        "id": "1kA4Zjw7ax8t",
        "colab_type": "code",
        "colab": {}
      },
      "source": [
        "X = cleansed_data_df['description']\n",
        "y = cleansed_data_df.assignment_group\n",
        "y, le = encode_target(y)"
      ],
      "execution_count": 0,
      "outputs": []
    },
    {
      "cell_type": "code",
      "metadata": {
        "id": "5YN3cAm-Y5ph",
        "colab_type": "code",
        "colab": {}
      },
      "source": [
        "X_train, X_test, y_train, y_test = train_test_split(X,y, test_size = 0.1, stratify=y, random_state = 10)"
      ],
      "execution_count": 0,
      "outputs": []
    },
    {
      "cell_type": "code",
      "metadata": {
        "id": "xcSvOejhjVcE",
        "colab_type": "code",
        "colab": {}
      },
      "source": [
        "max_features = 10000\n",
        "maxlen = cleansed_data_df['description_length'].max()\n",
        "embedding_size = 200"
      ],
      "execution_count": 0,
      "outputs": []
    },
    {
      "cell_type": "code",
      "metadata": {
        "id": "Xj25EBrB6Tmh",
        "colab_type": "code",
        "colab": {}
      },
      "source": [
        "unigram_tokenizer = TfidfVectorizer(ngram_range=(1,1), max_features = max_features).fit(X_train)"
      ],
      "execution_count": 0,
      "outputs": []
    },
    {
      "cell_type": "code",
      "metadata": {
        "id": "BscIjdgQ7o5H",
        "colab_type": "code",
        "outputId": "150c0a0d-d58e-449b-c674-5a9f1c632941",
        "colab": {
          "base_uri": "https://localhost:8080/",
          "height": 34
        }
      },
      "source": [
        "print('Vocabulary size :', len(unigram_tokenizer.get_feature_names()))"
      ],
      "execution_count": 29,
      "outputs": [
        {
          "output_type": "stream",
          "text": [
            "Vocabulary size : 4018\n"
          ],
          "name": "stdout"
        }
      ]
    },
    {
      "cell_type": "code",
      "metadata": {
        "id": "7ekMApadnWf8",
        "colab_type": "code",
        "colab": {
          "base_uri": "https://localhost:8080/",
          "height": 34
        },
        "outputId": "50f34186-d0dd-4da5-94e2-14032cf5a763"
      },
      "source": [
        "X_train_seq = unigram_tokenizer.fit_transform(X_train)\n",
        "print('Shape of X_train : ', X_train_seq.shape)"
      ],
      "execution_count": 35,
      "outputs": [
        {
          "output_type": "stream",
          "text": [
            "Shape of X_train :  (7650, 4018)\n"
          ],
          "name": "stdout"
        }
      ]
    },
    {
      "cell_type": "code",
      "metadata": {
        "id": "kuhG1xSorIac",
        "colab_type": "code",
        "colab": {}
      },
      "source": [
        "#this X_train_seq can be used as input to the model"
      ],
      "execution_count": 0,
      "outputs": []
    },
    {
      "cell_type": "code",
      "metadata": {
        "id": "IWEPlEwWoUi6",
        "colab_type": "code",
        "colab": {}
      },
      "source": [
        "#X_train_seq_pad = pad_sequences(X_train_seq, maxlen = 3190)"
      ],
      "execution_count": 0,
      "outputs": []
    },
    {
      "cell_type": "code",
      "metadata": {
        "id": "X7j5hSTsuwnS",
        "colab_type": "code",
        "colab": {}
      },
      "source": [
        ""
      ],
      "execution_count": 0,
      "outputs": []
    }
  ]
}