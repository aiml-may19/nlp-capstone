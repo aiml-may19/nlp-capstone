{
  "nbformat": 4,
  "nbformat_minor": 0,
  "metadata": {
    "colab": {
      "name": "Capstone_input_sequence.ipynb",
      "provenance": [],
      "collapsed_sections": [],
      "machine_shape": "hm"
    },
    "kernelspec": {
      "name": "python3",
      "display_name": "Python 3"
    }
  },
  "cells": [
    {
      "cell_type": "code",
      "metadata": {
        "id": "vCFfYLD4i1oD",
        "colab_type": "code",
        "colab": {}
      },
      "source": [
        "#!!pip uninstall tensorflow\n",
        "#!pip install tensorflow==2.1.0"
      ],
      "execution_count": 0,
      "outputs": []
    },
    {
      "cell_type": "code",
      "metadata": {
        "id": "rd5sjw4GVJnR",
        "colab_type": "code",
        "outputId": "463483c5-4624-4baf-8d6b-bb211fadea92",
        "colab": {
          "base_uri": "https://localhost:8080/",
          "height": 34
        }
      },
      "source": [
        "from google.colab import drive\n",
        "drive.mount('/content/drive/')"
      ],
      "execution_count": 0,
      "outputs": [
        {
          "output_type": "stream",
          "text": [
            "Drive already mounted at /content/drive/; to attempt to forcibly remount, call drive.mount(\"/content/drive/\", force_remount=True).\n"
          ],
          "name": "stdout"
        }
      ]
    },
    {
      "cell_type": "code",
      "metadata": {
        "id": "UwJALxC5VUxq",
        "colab_type": "code",
        "colab": {}
      },
      "source": [
        "PROJECT_DIR = \"/content/drive/My Drive/MachineLearning/Capstone/\"\n",
        "DATA_FILE_NAME = 'Data/Input Data Synthetic.xlsx'\n",
        "CLEANSED_FILE_DIR = 'Data/processed/'"
      ],
      "execution_count": 0,
      "outputs": []
    },
    {
      "cell_type": "code",
      "metadata": {
        "id": "NdN0mEzuVgR4",
        "colab_type": "code",
        "colab": {}
      },
      "source": [
        "#import basic libraies\n",
        "import pandas as pd\n",
        "import numpy as np\n",
        "import matplotlib.pyplot as plt\n",
        "import seaborn as sns\n",
        "import string\n",
        "import nltk\n",
        "from sklearn.preprocessing import LabelEncoder\n",
        "#nltk.download('stopwords')\n",
        "\n",
        "import warnings\n",
        "warnings.filterwarnings('ignore')"
      ],
      "execution_count": 0,
      "outputs": []
    },
    {
      "cell_type": "code",
      "metadata": {
        "id": "AlyS7sYfVkag",
        "colab_type": "code",
        "colab": {}
      },
      "source": [
        "import keras\n",
        "from tensorflow.keras import backend as K\n",
        "from tensorflow.keras.preprocessing.text import Tokenizer\n",
        "from tensorflow.keras.preprocessing.sequence import pad_sequences\n",
        "from tensorflow.keras.layers import Dense, LSTM, Embedding, Dropout, Activation, Bidirectional, Flatten\n",
        "from tensorflow.keras.models import Model, Sequential\n",
        "\n",
        "from sklearn.preprocessing import LabelEncoder\n",
        "from sklearn.model_selection import train_test_split\n",
        "from sklearn.feature_extraction.text import CountVectorizer,TfidfVectorizer"
      ],
      "execution_count": 0,
      "outputs": []
    },
    {
      "cell_type": "code",
      "metadata": {
        "id": "Pel-5HyFV6AL",
        "colab_type": "code",
        "colab": {}
      },
      "source": [
        "def load_doc(filename):\n",
        "  if(filename.endswith('.xlsx')):\n",
        "    data_df = pd.read_excel(filename, lines=True)\n",
        "  elif(filename.endswith('.csv')):\n",
        "    data_df = pd.read_csv(filename, keep_default_na = False)\n",
        "  return data_df"
      ],
      "execution_count": 0,
      "outputs": []
    },
    {
      "cell_type": "code",
      "metadata": {
        "id": "DfpAjSjDcB6n",
        "colab_type": "code",
        "colab": {}
      },
      "source": [
        "def encode_target(target):\n",
        "  le = LabelEncoder()\n",
        "  return le.fit_transform(target), le\n",
        "\n",
        "def decode_prediction(pred, encoder):\n",
        "  return encoder.inverse_transform(pred) "
      ],
      "execution_count": 0,
      "outputs": []
    },
    {
      "cell_type": "code",
      "metadata": {
        "id": "xynMp03sVlv6",
        "colab_type": "code",
        "outputId": "5e2c64c0-43af-4625-d195-35c57a3b6e88",
        "colab": {
          "base_uri": "https://localhost:8080/",
          "height": 34
        }
      },
      "source": [
        "cleansed_data_df = load_doc(PROJECT_DIR+CLEANSED_FILE_DIR+'cleansed_data.csv')\n",
        "print('shape of Data : ', cleansed_data_df.shape)"
      ],
      "execution_count": 0,
      "outputs": [
        {
          "output_type": "stream",
          "text": [
            "shape of Data :  (5691, 5)\n"
          ],
          "name": "stdout"
        }
      ]
    },
    {
      "cell_type": "code",
      "metadata": {
        "id": "bjRgMN4Bd9Eq",
        "colab_type": "code",
        "outputId": "d051b075-8555-42f9-86d5-218d58f102ec",
        "colab": {
          "base_uri": "https://localhost:8080/",
          "height": 173
        }
      },
      "source": [
        "cleansed_data_df.describe()"
      ],
      "execution_count": 0,
      "outputs": [
        {
          "output_type": "execute_result",
          "data": {
            "text/html": [
              "<div>\n",
              "<style scoped>\n",
              "    .dataframe tbody tr th:only-of-type {\n",
              "        vertical-align: middle;\n",
              "    }\n",
              "\n",
              "    .dataframe tbody tr th {\n",
              "        vertical-align: top;\n",
              "    }\n",
              "\n",
              "    .dataframe thead th {\n",
              "        text-align: right;\n",
              "    }\n",
              "</style>\n",
              "<table border=\"1\" class=\"dataframe\">\n",
              "  <thead>\n",
              "    <tr style=\"text-align: right;\">\n",
              "      <th></th>\n",
              "      <th>short_description</th>\n",
              "      <th>description</th>\n",
              "      <th>combined_desc</th>\n",
              "      <th>caller</th>\n",
              "      <th>assignment_group</th>\n",
              "    </tr>\n",
              "  </thead>\n",
              "  <tbody>\n",
              "    <tr>\n",
              "      <th>count</th>\n",
              "      <td>5691</td>\n",
              "      <td>5691</td>\n",
              "      <td>5691</td>\n",
              "      <td>5691</td>\n",
              "      <td>5691</td>\n",
              "    </tr>\n",
              "    <tr>\n",
              "      <th>unique</th>\n",
              "      <td>4292</td>\n",
              "      <td>5691</td>\n",
              "      <td>5691</td>\n",
              "      <td>2356</td>\n",
              "      <td>52</td>\n",
              "    </tr>\n",
              "    <tr>\n",
              "      <th>top</th>\n",
              "      <td></td>\n",
              "      <td>language browser explorer customer number tele...</td>\n",
              "      <td>access cannot access go need access support tr...</td>\n",
              "      <td>bpctwhsn kzqsbmtp</td>\n",
              "      <td>GRP_0</td>\n",
              "    </tr>\n",
              "    <tr>\n",
              "      <th>freq</th>\n",
              "      <td>297</td>\n",
              "      <td>1</td>\n",
              "      <td>1</td>\n",
              "      <td>208</td>\n",
              "      <td>2630</td>\n",
              "    </tr>\n",
              "  </tbody>\n",
              "</table>\n",
              "</div>"
            ],
            "text/plain": [
              "       short_description  ... assignment_group\n",
              "count               5691  ...             5691\n",
              "unique              4292  ...               52\n",
              "top                       ...            GRP_0\n",
              "freq                 297  ...             2630\n",
              "\n",
              "[4 rows x 5 columns]"
            ]
          },
          "metadata": {
            "tags": []
          },
          "execution_count": 166
        }
      ]
    },
    {
      "cell_type": "code",
      "metadata": {
        "id": "_YlfOD-S45Fc",
        "colab_type": "code",
        "outputId": "e74b7a1d-d713-4b1a-f326-a7e2fca2cbd1",
        "colab": {
          "base_uri": "https://localhost:8080/",
          "height": 204
        }
      },
      "source": [
        "cleansed_data_df.head()"
      ],
      "execution_count": 0,
      "outputs": [
        {
          "output_type": "execute_result",
          "data": {
            "text/html": [
              "<div>\n",
              "<style scoped>\n",
              "    .dataframe tbody tr th:only-of-type {\n",
              "        vertical-align: middle;\n",
              "    }\n",
              "\n",
              "    .dataframe tbody tr th {\n",
              "        vertical-align: top;\n",
              "    }\n",
              "\n",
              "    .dataframe thead th {\n",
              "        text-align: right;\n",
              "    }\n",
              "</style>\n",
              "<table border=\"1\" class=\"dataframe\">\n",
              "  <thead>\n",
              "    <tr style=\"text-align: right;\">\n",
              "      <th></th>\n",
              "      <th>short_description</th>\n",
              "      <th>description</th>\n",
              "      <th>combined_desc</th>\n",
              "      <th>caller</th>\n",
              "      <th>assignment_group</th>\n",
              "    </tr>\n",
              "  </thead>\n",
              "  <tbody>\n",
              "    <tr>\n",
              "      <th>0</th>\n",
              "      <td>login issue</td>\n",
              "      <td>user employee manager checked user ad reset pa...</td>\n",
              "      <td>login issue user employee manager checked user...</td>\n",
              "      <td>spxjnwir pjlcoqds</td>\n",
              "      <td>GRP_0</td>\n",
              "    </tr>\n",
              "    <tr>\n",
              "      <th>1</th>\n",
              "      <td>outlook</td>\n",
              "      <td>received team not outlook calendar somebody ad...</td>\n",
              "      <td>outlook received team not outlook calendar som...</td>\n",
              "      <td>hmjdrvpb komuaywn</td>\n",
              "      <td>GRP_0</td>\n",
              "    </tr>\n",
              "    <tr>\n",
              "      <th>2</th>\n",
              "      <td>cant log</td>\n",
              "      <td>received cannot log</td>\n",
              "      <td>cant log received cannot log</td>\n",
              "      <td>eylqgodm ybqkwiam</td>\n",
              "      <td>GRP_0</td>\n",
              "    </tr>\n",
              "    <tr>\n",
              "      <th>3</th>\n",
              "      <td>unable access page</td>\n",
              "      <td>unable access page</td>\n",
              "      <td>unable access page unable access page</td>\n",
              "      <td>xbkucsvz gcpydteq</td>\n",
              "      <td>GRP_0</td>\n",
              "    </tr>\n",
              "    <tr>\n",
              "      <th>4</th>\n",
              "      <td>error</td>\n",
              "      <td>error</td>\n",
              "      <td>error error</td>\n",
              "      <td>owlgqjme qhcozdfx</td>\n",
              "      <td>GRP_0</td>\n",
              "    </tr>\n",
              "  </tbody>\n",
              "</table>\n",
              "</div>"
            ],
            "text/plain": [
              "    short_description  ... assignment_group\n",
              "0         login issue  ...            GRP_0\n",
              "1             outlook  ...            GRP_0\n",
              "2            cant log  ...            GRP_0\n",
              "3  unable access page  ...            GRP_0\n",
              "4               error  ...            GRP_0\n",
              "\n",
              "[5 rows x 5 columns]"
            ]
          },
          "metadata": {
            "tags": []
          },
          "execution_count": 167
        }
      ]
    },
    {
      "cell_type": "code",
      "metadata": {
        "id": "u29Z3KeNZUZx",
        "colab_type": "code",
        "outputId": "0c9ae045-08c2-4629-8e55-2d9e736836cc",
        "colab": {
          "base_uri": "https://localhost:8080/",
          "height": 918
        }
      },
      "source": [
        "cleansed_data_df['assignment_group'].value_counts()"
      ],
      "execution_count": 0,
      "outputs": [
        {
          "output_type": "execute_result",
          "data": {
            "text/plain": [
              "GRP_0         2630\n",
              "GRP_2          218\n",
              "GRP_8          208\n",
              "GRP_12         205\n",
              "GRP_19         195\n",
              "GRP_3          190\n",
              "GRP_13         137\n",
              "GRP_9          127\n",
              "GRP_6          119\n",
              "GRP_14         111\n",
              "GRP_25         104\n",
              "GRP_29          94\n",
              "GRP_4           84\n",
              "GRP_18          84\n",
              "GRP_16          83\n",
              "GRP_10          83\n",
              "GRP_24          83\n",
              "GRP_33          72\n",
              "GRP_7           65\n",
              "GRP_26          54\n",
              "GRP_COMMON      52\n",
              "GRP_34          51\n",
              "GRP_40          45\n",
              "GRP_5           41\n",
              "GRP_28          41\n",
              "GRP_41          39\n",
              "GRP_15          38\n",
              "GRP_20          36\n",
              "GRP_31          32\n",
              "GRP_22          31\n",
              "GRP_11          30\n",
              "GRP_45          28\n",
              "GRP_21          28\n",
              "GRP_42          27\n",
              "GRP_23          24\n",
              "GRP_62          22\n",
              "GRP_47          20\n",
              "GRP_1           19\n",
              "GRP_37          16\n",
              "GRP_27          15\n",
              "GRP_50          13\n",
              "GRP_44          13\n",
              "GRP_39          12\n",
              "GRP_36          11\n",
              "GRP_65          10\n",
              "GRP_53           9\n",
              "GRP_52           9\n",
              "GRP_55           8\n",
              "GRP_51           7\n",
              "GRP_46           6\n",
              "GRP_30           6\n",
              "GRP_59           6\n",
              "Name: assignment_group, dtype: int64"
            ]
          },
          "metadata": {
            "tags": []
          },
          "execution_count": 168
        }
      ]
    },
    {
      "cell_type": "code",
      "metadata": {
        "id": "-EbgDRKWjZXe",
        "colab_type": "code",
        "outputId": "c10f450d-6aec-44af-9aad-e262d0c7cf6f",
        "colab": {
          "base_uri": "https://localhost:8080/",
          "height": 71
        }
      },
      "source": [
        "cleansed_data_df['description_length'] = cleansed_data_df['description'].str.len()\n",
        "desc_max_length = cleansed_data_df['description_length'].max()\n",
        "maxlen_desc_idx = cleansed_data_df['description_length'].idxmax()\n",
        "print('Desc with max length ({}) at index {}:\\n{}'.format(desc_max_length,maxlen_desc_idx,cleansed_data_df['description'].loc[maxlen_desc_idx]))"
      ],
      "execution_count": 0,
      "outputs": [
        {
          "output_type": "stream",
          "text": [
            "Desc with max length (3139) at index 2788:\n",
            "source system android user unknown location unknown status field user no event log incident overview seeing company device generating server response sinkhole set probable infected asset traffic not blocked port port android device host likely infected return traffic android likely visit domain give false information order prevent use domain address resolution sinkhole traffic possible indicator infected computer reaching controller taken law enforcement research organization part mitigation effort traffic sinkhole activity administrator may curious particular domain browse signature repeated sinkhole however clear indication infection incident via high priority ticket per default would like us handle differently future see handling let us know either corresponding us via ticket ticket back soc calling us ticket sinkhole domain explicit notification via medium priority ticket no phone call auto resolve sinkhole domain directly portal no explicit notification available portal sincerely soc technical domain system hierarchical naming system resource connected private network primary purpose various information domain assigned primarily used domain purpose service network domain system responsibility domain authoritative domain authoritative assigned responsible may delegate authority domain system also technical functionality service protocol detailed specification data data communication used part protocol suite give incorrect information order prevent use domain address resolution client resolve address hole domain sinkhole non address address except real address client connection target host method easily found sinkhole another method used command control taken law enforcement part mitigation effort traffic sinkhole activity administrator may curious particular domain browse signature repeated sinkhole clear indication infection sort may seem somewhat benign certainly include information leakage extent although sinkhole unlikely use personally identifiable information may capture communication may become public knowledge company infected may lead damage additionally feeding may impede access certain like sending finally may connect multiple controller even though may may not leading possibility remote code execution information leakage malicious event data related event id event summary server response sinkhole set probable infected asset occurrence count event count host connection information source source port source destination destination android destination port destination mac address connection incoming protocol status code device information device device company log time action not blocked vendor score vendor priority vendor version event information sherlock rule id inspector event id ontology id event type id agent id event detail server response sinkhole set probable infected asset classification none priority action accept impact blocked label sensor id event id time sport proto id win security android via relay lease duration renew ascii packet ascii ascii hex packet hex tempo server date mon type text connection close set cook ie us location help invest us go us hex\n"
          ],
          "name": "stdout"
        }
      ]
    },
    {
      "cell_type": "markdown",
      "metadata": {
        "id": "aHkycW10Y6Vk",
        "colab_type": "text"
      },
      "source": [
        "**Train & Test Data:**"
      ]
    },
    {
      "cell_type": "code",
      "metadata": {
        "id": "1kA4Zjw7ax8t",
        "colab_type": "code",
        "colab": {}
      },
      "source": [
        "X = cleansed_data_df['description']\n",
        "y = cleansed_data_df.assignment_group\n",
        "y, le = encode_target(y)"
      ],
      "execution_count": 0,
      "outputs": []
    },
    {
      "cell_type": "code",
      "metadata": {
        "id": "5YN3cAm-Y5ph",
        "colab_type": "code",
        "colab": {}
      },
      "source": [
        "X_train, X_test, y_train, y_test = train_test_split(X,y, test_size = 0.1, stratify=y, random_state = 10)"
      ],
      "execution_count": 0,
      "outputs": []
    },
    {
      "cell_type": "code",
      "metadata": {
        "id": "lKtmXnwv84NI",
        "colab_type": "code",
        "outputId": "c6e161d1-4898-4066-8c0b-209ee24f568c",
        "colab": {
          "base_uri": "https://localhost:8080/",
          "height": 119
        }
      },
      "source": [
        "X_train.head()"
      ],
      "execution_count": 0,
      "outputs": [
        {
          "output_type": "execute_result",
          "data": {
            "text/plain": [
              "4878               catalogue not working unable order see\n",
              "2434    one workman whose user id not able login ess u...\n",
              "1028      error message trying log order user id attached\n",
              "3226                                  outlook not loading\n",
              "5499    language browser explorer customer number tele...\n",
              "Name: description, dtype: object"
            ]
          },
          "metadata": {
            "tags": []
          },
          "execution_count": 172
        }
      ]
    },
    {
      "cell_type": "code",
      "metadata": {
        "id": "0M-4t5Pb6PyZ",
        "colab_type": "code",
        "outputId": "99585041-e895-4e0f-e5ed-d98f3685b119",
        "colab": {
          "base_uri": "https://localhost:8080/",
          "height": 85
        }
      },
      "source": [
        "print('Shape of X_train : ',X_train.shape)\n",
        "print('Shape of X_test : ',X_test.shape)\n",
        "print('Shape of y_train : ',y_train.shape)\n",
        "print('Shape of y_test : ',y_test.shape)"
      ],
      "execution_count": 0,
      "outputs": [
        {
          "output_type": "stream",
          "text": [
            "Shape of X_train :  (5121,)\n",
            "Shape of X_test :  (570,)\n",
            "Shape of y_train :  (5121,)\n",
            "Shape of y_test :  (570,)\n"
          ],
          "name": "stdout"
        }
      ]
    },
    {
      "cell_type": "code",
      "metadata": {
        "id": "U018Gc6WULbN",
        "colab_type": "code",
        "colab": {}
      },
      "source": [
        "#pd.DataFrame(data = y_test.assignment_group.value_counts())"
      ],
      "execution_count": 0,
      "outputs": []
    },
    {
      "cell_type": "code",
      "metadata": {
        "id": "xcSvOejhjVcE",
        "colab_type": "code",
        "colab": {}
      },
      "source": [
        "max_features = 10000\n",
        "maxlen = cleansed_data_df['description_length'].max()\n",
        "embedding_size = 200"
      ],
      "execution_count": 0,
      "outputs": []
    },
    {
      "cell_type": "markdown",
      "metadata": {
        "id": "QKbcHMgfFCra",
        "colab_type": "text"
      },
      "source": [
        "**TF-IDF Vectors as features :**"
      ]
    },
    {
      "cell_type": "code",
      "metadata": {
        "id": "Xj25EBrB6Tmh",
        "colab_type": "code",
        "outputId": "64d409d4-0b85-4f31-9cae-d087e52ae666",
        "colab": {
          "base_uri": "https://localhost:8080/",
          "height": 68
        }
      },
      "source": [
        "unigram_tokenizer = TfidfVectorizer(ngram_range=(1,1), max_features = max_features).fit(X)\n",
        "X_train_unigram_seq = unigram_tokenizer.transform(X_train)\n",
        "X_test_unigram_seq = unigram_tokenizer.transform(X_test)\n",
        "print('Vocabulary size of unigram :', len(unigram_tokenizer.get_feature_names()))\n",
        "\n",
        "bigram_tokenizer = TfidfVectorizer(ngram_range=(1,2), max_features = max_features).fit(X)\n",
        "X_train_bigram_seq = bigram_tokenizer.transform(X_train)\n",
        "X_test_bigram_seq = bigram_tokenizer.transform(X_test)\n",
        "print('Vocabulary size of bigram :', len(bigram_tokenizer.get_feature_names()))\n",
        "\n",
        "trigram_tokenizer = TfidfVectorizer(ngram_range=(1,3), max_features = max_features).fit(X)\n",
        "X_train_trigram_seq = trigram_tokenizer.transform(X_train)\n",
        "X_test_trigram_seq = trigram_tokenizer.transform(X_test)\n",
        "print('Vocabulary size of trigram :', len(trigram_tokenizer.get_feature_names()))"
      ],
      "execution_count": 0,
      "outputs": [
        {
          "output_type": "stream",
          "text": [
            "Vocabulary size of unigram : 3357\n",
            "Vocabulary size of bigram : 10000\n",
            "Vocabulary size of trigram : 10000\n"
          ],
          "name": "stdout"
        }
      ]
    },
    {
      "cell_type": "code",
      "metadata": {
        "id": "sM8N-PFx6r4d",
        "colab_type": "code",
        "outputId": "02a66f13-aa99-43d3-abfe-7baa6f310ccd",
        "colab": {
          "base_uri": "https://localhost:8080/",
          "height": 119
        }
      },
      "source": [
        "print('Shape of X_train_unigram_seq : ',X_train_unigram_seq.shape)\n",
        "print('Shape of X_test_unigram_seq : ',X_test_unigram_seq.shape)\n",
        "print('Shape of X_train_bigram_seq : ',X_train_bigram_seq.shape)\n",
        "print('Shape of X_test_bigram_seq : ',X_test_bigram_seq.shape)\n",
        "print('Shape of X_train_trigram_seq : ',X_train_trigram_seq.shape)\n",
        "print('Shape of X_test_trigram_seq : ',X_test_trigram_seq.shape)"
      ],
      "execution_count": 0,
      "outputs": [
        {
          "output_type": "stream",
          "text": [
            "Shape of X_train_unigram_seq :  (5121, 3357)\n",
            "Shape of X_test_unigram_seq :  (570, 3357)\n",
            "Shape of X_train_bigram_seq :  (5121, 10000)\n",
            "Shape of X_test_bigram_seq :  (570, 10000)\n",
            "Shape of X_train_trigram_seq :  (5121, 10000)\n",
            "Shape of X_test_trigram_seq :  (570, 10000)\n"
          ],
          "name": "stdout"
        }
      ]
    },
    {
      "cell_type": "code",
      "metadata": {
        "id": "IWEPlEwWoUi6",
        "colab_type": "code",
        "colab": {}
      },
      "source": [
        "#X_train_unigram_seq_pad = pad_sequences(X_train_seq, maxlen = 4164)\n",
        "#X_test_unigram_seq_pad = pad_sequences(X_train_seq, maxlen = 4164)"
      ],
      "execution_count": 0,
      "outputs": []
    },
    {
      "cell_type": "code",
      "metadata": {
        "id": "HMqZjvBjsQrq",
        "colab_type": "code",
        "colab": {}
      },
      "source": [
        "#above sequences can be used for modeling"
      ],
      "execution_count": 0,
      "outputs": []
    }
  ]
}